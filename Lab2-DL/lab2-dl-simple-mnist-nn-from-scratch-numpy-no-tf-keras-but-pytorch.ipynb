{
 "cells": [
  {
   "cell_type": "markdown",
   "metadata": {
    "papermill": {
     "duration": 0.012295,
     "end_time": "2020-11-24T15:33:44.585418",
     "exception": false,
     "start_time": "2020-11-24T15:33:44.573123",
     "status": "completed"
    },
    "tags": []
   },
   "source": [
    "Version 2024-01-17, Arvid Lundervold\n",
    "\n",
    "\n",
    "\n",
    "\n",
    "[![Google Colab](https://colab.research.google.com/assets/colab-badge.svg)](https://colab.research.google.com/github/MMIV-ML/ELMED219/blob/main/Lab2-DL/lab2-dl-simple-mnist-nn-from-scratch-numpy-no-tf-keras-but-pytorch.ipynb)\n",
    "\n",
    "\n",
    "# Lab 2 Deep Learning - Simple MNIST NN from scratch (+ PyTorch)\n",
    "\n",
    "In this notebook (modified from [Samson Zhang](https://github.com/wwsalmon): [[link](https://www.kaggle.com/code/wwsalmon/simple-mnist-nn-from-scratch-numpy-no-tf-keras/notebook)]), a simple two-layer neural network is implemented and trained on the MNIST digit \n",
    "recognizer dataset [[link](https://www.kaggle.com/competitions/digit-recognizer/data?select=train.csv)].<br> It's meant to be an instructional example, through which one can understand the underlying math of neural networks better.\n",
    "\n",
    "( A video by Samson Zhang explaining all the math and showing the progress as he coded the network is here: https://youtu.be/w8yWXqWQYmU )\n",
    "\n",
    "See also https://github.com/udacity/deep-learning-v2-pytorch/blob/master/convolutional-neural-networks/mnist-mlp/mnist_mlp_solution_with_validation.ipynb from Udacity's _Deep Learning (PyTorch) [Nanodegree](https://www.udacity.com/course/deep-learning-nanodegree--nd101) program_ <br>(and these [[link1](https://github.com/udacity/deep-learning-v2-pytorch/blob/master/intro-to-pytorch/Part%201%20-%20Tensors%20in%20PyTorch%20(Solution).ipynb)]  [[link2](https://github.com/udacity/deep-learning-v2-pytorch/blob/master/intro-to-pytorch/Part%203%20-%20Training%20Neural%20Networks%20(Solution).ipynb)] for a PyTorch and Training neural networks intro)."
   ]
  },
  {
   "cell_type": "markdown",
   "metadata": {},
   "source": [
    "<img src=\"assets/MNIST-fig.png\" width=720>"
   ]
  },
  {
   "cell_type": "markdown",
   "metadata": {},
   "source": [
    "## A classification task: $y \\approx f(\\mathbf{X}, \\theta)$\n",
    "\n",
    "\n",
    "where $\\mathbf{X}$ is the input data, $\\theta$ are the parameters of the model, and $y$ is the output."
   ]
  },
  {
   "cell_type": "code",
   "execution_count": 1,
   "metadata": {},
   "outputs": [],
   "source": [
    "# Choices for the display of locally downloaded videos or stills      \n",
    "DISPLAY_VIDEO = False"
   ]
  },
  {
   "cell_type": "code",
   "execution_count": 2,
   "metadata": {},
   "outputs": [],
   "source": [
    "# You might need to install the following libraries: torch \n",
    "\n",
    "# !pip install torch"
   ]
  },
  {
   "cell_type": "markdown",
   "metadata": {},
   "source": [
    "### Check if running on Colab"
   ]
  },
  {
   "cell_type": "code",
   "execution_count": 3,
   "metadata": {},
   "outputs": [
    {
     "name": "stdout",
     "output_type": "stream",
     "text": [
      "Not running in Google Colab.\n"
     ]
    }
   ],
   "source": [
    "# This is a quick check of whether the notebook is currently running on Google Colaboratory\n",
    "# as that makes some difference for the code below.\n",
    "# We'll do this in every notebook of the course.\n",
    "\n",
    "try:\n",
    "    import google.colab\n",
    "    # If this statement executes without error, you're in a Colab environment.\n",
    "    is_colab = True\n",
    "    print(\"Running in Google Colab.\")\n",
    "except ImportError:\n",
    "    # An ImportError means you're not in a Colab environment.\n",
    "    is_colab = False\n",
    "    print(\"Not running in Google Colab.\")"
   ]
  },
  {
   "cell_type": "markdown",
   "metadata": {},
   "source": [
    "To download the folders from GitHub while running on Google Colab, you can use the `!git clone` command in a code cell to clone the entire repository, and then use `!mv` command to move the required folders to the current directory. This code first check if the notebook is running on Colab, and if so, it clones the repository and moves (overwrites) the required folders `assets` and `data` to the current directory, and then detees the cloned repository to clean up the space.\n"
   ]
  },
  {
   "cell_type": "code",
   "execution_count": 4,
   "metadata": {},
   "outputs": [],
   "source": [
    "if is_colab:\n",
    "    # If we're in Colab, we probably need to clone the repository.\n",
    "    import os\n",
    "    CLONE = True    \n",
    "    if os.path.exists('./assets'):\n",
    "        print(\"./assets' exists.\")\n",
    "        CLONE = False\n",
    "    if os.path.exists('./data'):\n",
    "        print(\"'./data' exists.\")\n",
    "        CLONE = False\n",
    "    if not CLONE:\n",
    "        print(\"Nothing to do.\")\n",
    "    else:\n",
    "        print(\"Cloning the ELMED219 repository...\")\n",
    "        !git clone https://github.com/MMIV-ML/ELMED219.git\n",
    "        !mv ELMED219/Lab2-DL/assets ./\n",
    "        !mv ELMED219/Lab2-DL/data ./\n",
    "        !rm -rf ELMED219"
   ]
  },
  {
   "cell_type": "markdown",
   "metadata": {},
   "source": [
    "### Check if GPU is available"
   ]
  },
  {
   "cell_type": "code",
   "execution_count": 5,
   "metadata": {},
   "outputs": [
    {
     "name": "stdout",
     "output_type": "stream",
     "text": [
      "Using GPU for PyTorch\n",
      "Device name is 'Quadro RTX 6000'.\n",
      "pytorch version: 2.1.2+cu121\n"
     ]
    }
   ],
   "source": [
    "# Check if GPU is available and if so, use it for PyTorch\n",
    "# (This code is based on the PyTorch documentation at\n",
    "# https://pytorch.org/docs/stable/notes/cuda.html)\n",
    "import torch\n",
    "if torch.cuda.is_available():\n",
    "    device = torch.device(\"cuda\")\n",
    "    print(\"Using GPU for PyTorch\")\n",
    "    print(\"Device name is '{0}'.\".format(torch.cuda.get_device_name(device)))  \n",
    "else:\n",
    "    device = torch.device(\"cpu\")\n",
    "    print(\"Using CPU for PyTorch\")  \n",
    "\n",
    "print(f'pytorch version: {torch.__version__}')"
   ]
  },
  {
   "cell_type": "markdown",
   "metadata": {},
   "source": [
    "### Display an instructive video on \"What-is-backpropagation-really-doing\" (or not)\n",
    "\n",
    "- Link (if internet access): https://youtu.be/Ilg3gGewQ5U"
   ]
  },
  {
   "cell_type": "code",
   "execution_count": 6,
   "metadata": {},
   "outputs": [
    {
     "data": {
      "image/png": "[encoded data removed]",
      "text/plain": [
       "<Figure size 720x387.692 with 1 Axes>"
      ]
     },
     "metadata": {},
     "output_type": "display_data"
    }
   ],
   "source": [
    "import os\n",
    "from IPython.display import Video\n",
    "import matplotlib.pyplot as plt\n",
    "import matplotlib.image as mpimg\n",
    "\n",
    "# https://www.youtube.com/watch?v=Ilg3gGewQ5U&list=PPSV \n",
    "\n",
    "# Create a YouTube video instance\n",
    "#video = YouTubeVideo(\"Ilg3gGewQ5U\")\n",
    "# Display the video in the notebook (requires an internet connection)\n",
    "#display(video)\n",
    "\n",
    "\n",
    "if DISPLAY_VIDEO:\n",
    "  # Path to your local video file in the assets folder\n",
    "  video_path = \"assets/What-is-backpropagation-really-doing.mp4\"  # Downloaded from YouTube using 4K Video Downloader+.app\n",
    "\n",
    "  # Create a Video instance and display it\n",
    "  display(Video(video_path, embed=True, width=720, height=480))  # You can adjust the width and height\n",
    "else:\n",
    "  # Load the image\n",
    "  img = mpimg.imread('assets/What-is-backpropagation-really-doing-training-in-progess.png')\n",
    "\n",
    "  # Set the figure size to achieve a width of 720 pixels\n",
    "  dpi = plt.rcParams['figure.dpi']\n",
    "  fig_width = 720 / dpi\n",
    "\n",
    "  # Create a figure with the desired size\n",
    "  plt.figure(figsize=(fig_width, fig_width * (img.shape[0] / img.shape[1])))\n",
    "\n",
    "  # Display the image\n",
    "  plt.imshow(img)\n",
    "  plt.axis('off')  # Turn off axis numbers and labels\n",
    "  plt.show()   \n",
    "  "
   ]
  },
  {
   "cell_type": "code",
   "execution_count": 7,
   "metadata": {},
   "outputs": [
    {
     "name": "stdout",
     "output_type": "stream",
     "text": [
      "The size of the file \"data/train.csv\" is 76775041 bytes (73 Mb).\n"
     ]
    }
   ],
   "source": [
    "file_path = 'data/train.csv'\n",
    "file_size = os.path.getsize(file_path)\n",
    "\n",
    "print(f'The size of the file \"{file_path}\" is {file_size} bytes ({int(file_size/(1024**2))} Mb).')\n",
    "# !ls -alh data/train.csv"
   ]
  },
  {
   "cell_type": "markdown",
   "metadata": {},
   "source": [
    "<img src=\"assets/MNIST-data-matrix.png\" width=720>"
   ]
  },
  {
   "cell_type": "code",
   "execution_count": 8,
   "metadata": {
    "_cell_guid": "b1076dfc-b9ad-4769-8c92-a6c4dae69d19",
    "_uuid": "8f2839f25d086af736a60e9eeb907d3b93b6e0e5",
    "execution": {
     "iopub.execute_input": "2020-11-24T15:33:44.617819Z",
     "iopub.status.busy": "2020-11-24T15:33:44.616734Z",
     "iopub.status.idle": "2020-11-24T15:33:48.545917Z",
     "shell.execute_reply": "2020-11-24T15:33:48.545192Z"
    },
    "papermill": {
     "duration": 3.947576,
     "end_time": "2020-11-24T15:33:48.546057",
     "exception": false,
     "start_time": "2020-11-24T15:33:44.598481",
     "status": "completed"
    },
    "tags": []
   },
   "outputs": [
    {
     "name": "stdout",
     "output_type": "stream",
     "text": [
      "# Instances: 42000 ; Columns: label, pixel0, ..., pixel783 ; Pixel values: min=0, max=255\n"
     ]
    }
   ],
   "source": [
    "import numpy as np\n",
    "import pandas as pd\n",
    "from matplotlib import pyplot as plt\n",
    "\n",
    "# Load data obtained from https://www.kaggle.com/competitions/digit-recognizer/data?select=train.csv\n",
    "data = pd.read_csv('data/train.csv')\n",
    "print(f'# Instances: {len(data)} ; Columns: {data.columns[0]}, {data.columns[1]}, ..., {data.columns[-1]} ; Pixel values: min={data.min().min()}, max={data.max().max()}')\n"
   ]
  },
  {
   "cell_type": "markdown",
   "metadata": {},
   "source": [
    "This Python code is importing necessary libraries and loading a dataset from a CSV file. Here's a breakdown of what each line does:\n",
    "\n",
    "1. `import numpy as np`: This line imports the numpy library, which provides support for large, multi-dimensional arrays and matrices, along with a large collection of mathematical functions to operate on these arrays.\n",
    "\n",
    "2. `import pandas as pd`: This line imports the pandas library, which provides data structures and data analysis tools for Python.\n",
    "\n",
    "3. `from matplotlib import pyplot as plt`: This line imports the pyplot module from the matplotlib library, which provides a MATLAB-like plotting framework.\n",
    "\n",
    "5. `data = pd.read_csv('data/train.csv')`: This line reads the CSV file located at 'data/train.csv' into a pandas DataFrame. The DataFrame is a two-dimensional labeled data structure with columns of potentially different types. It is generally the most commonly used pandas object.\n",
    "\n",
    "6. `print(f'Columns: {data.columns[0]}, {data.columns[1]}, ..., {data.columns[-1]} ; Pixel values: min={data.min().min()}, max={data.max().max()}')`: This line prints the first two and the last column names of the DataFrame, as well as the minimum and maximum pixel values in the DataFrame. This is useful to quickly check the structure of the DataFrame and the range of pixel values it contains.\n"
   ]
  },
  {
   "cell_type": "code",
   "execution_count": 9,
   "metadata": {
    "execution": {
     "iopub.execute_input": "2020-11-24T15:33:48.577955Z",
     "iopub.status.busy": "2020-11-24T15:33:48.576778Z",
     "iopub.status.idle": "2020-11-24T15:33:49.353469Z",
     "shell.execute_reply": "2020-11-24T15:33:49.352724Z"
    },
    "papermill": {
     "duration": 0.795759,
     "end_time": "2020-11-24T15:33:49.353603",
     "exception": false,
     "start_time": "2020-11-24T15:33:48.557844",
     "status": "completed"
    },
    "tags": []
   },
   "outputs": [],
   "source": [
    "data = np.array(data)\n",
    "m, n = data.shape\n",
    "np.random.shuffle(data) # shuffle before splitting into test and training sets\n",
    "\n",
    "data_test = data[0:1000].T  # 1000 instances for the test set (2.38% of total)\n",
    "y_test = data_test[0]\n",
    "X_test = data_test[1:n]\n",
    "X_test = X_test / 255.\n",
    "\n",
    "data_train = data[1000:m].T\n",
    "y_train = data_train[0]\n",
    "X_train = data_train[1:n]\n",
    "X_train = X_train / 255.\n",
    "_,m_train = X_train.shape"
   ]
  },
  {
   "cell_type": "markdown",
   "metadata": {},
   "source": [
    "This Python code is part of a script for preparing a dataset for a machine learning task, specifically for training a neural network. Here's a breakdown of what each line does:\n",
    "\n",
    "1. `data = np.array(data)`: This line converts the `data` into a numpy array. Numpy arrays are more efficient and provide more functionality for numerical operations than regular Python lists.\n",
    "\n",
    "2. `m, n = data.shape`: This line gets the shape of the data array. `m` is the number of rows (samples) and `n` is the number of columns (features).\n",
    "\n",
    "3. `np.random.shuffle(data)`: This line shuffles the rows of the data array. This is done to ensure that the training and test sets are random and representative of the overall distribution.\n",
    "\n",
    "4. `data_test = data[0:1000].T`: This line selects the first 1000 samples from the shuffled data array and transposes it for the test set.\n",
    "\n",
    "5. `y_test = data_test[0]`: This line selects the first row of the development set as the target values (`y_test`).\n",
    "\n",
    "6. `X_test = data_test[1:n]`: This line selects the rest of the rows as the input features (`X_test`) for the test set.\n",
    "\n",
    "7. `X_test = X_test / 255.`: This line normalizes the input features of the test set by dividing each feature by 255. This is a common practice when working with image data, which is typically represented as 8-bit integers ranging from 0 to 255.\n",
    "\n",
    "8-12. The lines of code for `data_train`, `y_train`, and `X_train` do the same thing as the lines of code for `data_test`, `y_test`, and `X_test`, but for the training set instead of the test set.\n",
    "\n",
    "13. `_,m_train = X_train.shape`: This line gets the shape of the training set. The underscore `_` is a common convention in Python for a variable that is being deliberately ignored. Here, it's used to ignore the number of features, since only the number of training samples `m_train` is needed."
   ]
  },
  {
   "cell_type": "code",
   "execution_count": 10,
   "metadata": {
    "execution": {
     "iopub.execute_input": "2020-11-24T15:33:49.385574Z",
     "iopub.status.busy": "2020-11-24T15:33:49.384483Z",
     "iopub.status.idle": "2020-11-24T15:33:49.388342Z",
     "shell.execute_reply": "2020-11-24T15:33:49.388923Z"
    },
    "papermill": {
     "duration": 0.023743,
     "end_time": "2020-11-24T15:33:49.389054",
     "exception": false,
     "start_time": "2020-11-24T15:33:49.365311",
     "status": "completed"
    },
    "tags": []
   },
   "outputs": [
    {
     "name": "stdout",
     "output_type": "stream",
     "text": [
      "X_train.shape = (784, 41000), y_train.shape = (41000,), m_train = 41000, Y_train labels: [4 9 0 ... 2 5 5]\n"
     ]
    }
   ],
   "source": [
    "print(f'X_train.shape = {X_train.shape}, y_train.shape = {y_train.shape}, m_train = {m_train}, Y_train labels: {y_train}')"
   ]
  },
  {
   "cell_type": "markdown",
   "metadata": {
    "papermill": {
     "duration": 0.011724,
     "end_time": "2020-11-24T15:33:49.413261",
     "exception": false,
     "start_time": "2020-11-24T15:33:49.401537",
     "status": "completed"
    },
    "tags": []
   },
   "source": [
    "Our NN will have a simple two-layer architecture. Input layer $a^{[0]}$ will have 784 units corresponding to the 784 pixels in each 28x28 input image. A hidden layer $a^{[1]}$ will have 10 units with ReLU activation, and finally our output layer $a^{[2]}$ will have 10 units corresponding to the ten digit classes with softmax activation.\n",
    "\n",
    "**Forward propagation**\n",
    "\n",
    "$$Z^{[1]} = W^{[1]} X + b^{[1]}$$\n",
    "$$A^{[1]} = g_{\\text{ReLU}}(Z^{[1]}))$$\n",
    "$$Z^{[2]} = W^{[2]} A^{[1]} + b^{[2]}$$\n",
    "$$A^{[2]} = g_{\\text{softmax}}(Z^{[2]})$$\n",
    "\n",
    "**Backward propagation**\n",
    "\n",
    "$$dZ^{[2]} = A^{[2]} - Y$$\n",
    "$$dW^{[2]} = \\frac{1}{m} dZ^{[2]} A^{[1]T}$$\n",
    "$$dB^{[2]} = \\frac{1}{m} \\Sigma {dZ^{[2]}}$$\n",
    "$$dZ^{[1]} = W^{[2]T} dZ^{[2]} .* g^{[1]\\prime} (z^{[1]})$$\n",
    "$$dW^{[1]} = \\frac{1}{m} dZ^{[1]} A^{[0]T}$$\n",
    "$$dB^{[1]} = \\frac{1}{m} \\Sigma {dZ^{[1]}}$$\n",
    "\n",
    "**Parameter updates**\n",
    "\n",
    "$$W^{[2]} := W^{[2]} - \\alpha dW^{[2]}$$\n",
    "$$b^{[2]} := b^{[2]} - \\alpha db^{[2]}$$\n",
    "$$W^{[1]} := W^{[1]} - \\alpha dW^{[1]}$$\n",
    "$$b^{[1]} := b^{[1]} - \\alpha db^{[1]}$$\n",
    "\n",
    "**Vars and shapes**\n",
    "\n",
    "Forward prop\n",
    "\n",
    "- $A^{[0]} = X$: 784 x m\n",
    "- $Z^{[1]} \\sim A^{[1]}$: 10 x m\n",
    "- $W^{[1]}$: 10 x 784 (as $W^{[1]} A^{[0]} \\sim Z^{[1]}$)\n",
    "- $B^{[1]}$: 10 x 1\n",
    "- $Z^{[2]} \\sim A^{[2]}$: 10 x m\n",
    "- $W^{[1]}$: 10 x 10 (as $W^{[2]} A^{[1]} \\sim Z^{[2]}$)\n",
    "- $B^{[2]}$: 10 x 1\n",
    "\n",
    "Backprop\n",
    "\n",
    "- $dZ^{[2]}$: 10 x m ($~A^{[2]}$)\n",
    "- $dW^{[2]}$: 10 x 10\n",
    "- $dB^{[2]}$: 10 x 1\n",
    "- $dZ^{[1]}$: 10 x m ($~A^{[1]}$)\n",
    "- $dW^{[1]}$: 10 x 10\n",
    "- $dB^{[1]}$: 10 x 1"
   ]
  },
  {
   "cell_type": "markdown",
   "metadata": {},
   "source": [
    "The provided mathematical framework describes the operation of a neural network (NN) with two layers, designed for image classification. Here's an explanation of each part:\n",
    "\n",
    "### Neural Network Architecture\n",
    "1. **Input Layer ($a^{[0]}$)**: Represents each pixel in a 28x28 input image, totaling 784 units. These units serve as the initial input data for the network.\n",
    "2. **Hidden Layer ($a^{[1]}$)**: Consists of 10 units using the ReLU (Rectified Linear Unit) activation function. ReLU is chosen for its ability to handle non-linearity and for being computationally efficient.\n",
    "3. **Output Layer ($a^{[2]}$)**: Comprises 10 units corresponding to the ten digit classes (0-9). It uses the softmax activation function, which is suitable for multi-class classification tasks.\n",
    "\n",
    "### Forward Propagation\n",
    "This process involves calculating the output from the network for a given input.\n",
    "1. **Calculation of $Z^{[1]}$**: Multiplies the weights $W^{[1]}$ with the input $X$ and adds the bias $b^{[1]}$.\n",
    "2. **Activation with ReLU ($A^{[1]}$)**: Applies the ReLU activation function to $Z^{[1]}$.\n",
    "3. **Calculation of $Z^{[2]}$**: Similar to $Z^{[1]}$, but using the output of the first layer ($A^{[1]}$) as input.\n",
    "4. **Activation with Softmax ($A^{[2]}$)**: Applies the softmax activation to $Z^{[2]}$, resulting in the final output of the network.\n",
    "\n",
    "### Backward Propagation\n",
    "This process involves adjusting the network's weights and biases based on the error in its output.\n",
    "1. **Calculation of $dZ^{[2]}$**: The difference between the network's output ($A^{[2]}$) and the true labels ($Y$).\n",
    "2. **Calculation of $dW^{[2]}$ and $dB^{[2]}$**: Computes the gradients of the weights and biases for the second layer.\n",
    "3. **Calculation of $dZ^{[1]}$**: Calculates the gradient of the loss with respect to $Z^{[1]}$, considering the derivative of the ReLU function.\n",
    "4. **Calculation of $dW^{[1]}$ and $dB^{[1]}$**: Similar to the second layer, but for the first layer.\n",
    "\n",
    "### Parameter Updates\n",
    "This step updates the weights and biases using the gradients calculated in backpropagation, scaled by a learning rate ($\\alpha$).\n",
    "\n",
    "### Variables and Shapes\n",
    "- For each layer and parameter, the shape is defined to ensure proper matrix operations. For instance, $W^{[1]}$ is a 10x784 matrix, allowing it to be multiplied with the $ 784 \\times m$ input $X$.\n",
    "\n",
    "Understanding these components and their interplay is crucial for grasping how neural networks learn from data and make predictions. This network, in particular, is structured to process image data and classify it into one of several categories, a common task in machine learning."
   ]
  },
  {
   "cell_type": "code",
   "execution_count": 11,
   "metadata": {
    "execution": {
     "iopub.execute_input": "2020-11-24T15:33:49.458553Z",
     "iopub.status.busy": "2020-11-24T15:33:49.457534Z",
     "iopub.status.idle": "2020-11-24T15:33:49.460243Z",
     "shell.execute_reply": "2020-11-24T15:33:49.460754Z"
    },
    "papermill": {
     "duration": 0.035762,
     "end_time": "2020-11-24T15:33:49.460906",
     "exception": false,
     "start_time": "2020-11-24T15:33:49.425144",
     "status": "completed"
    },
    "tags": []
   },
   "outputs": [],
   "source": [
    "def init_params():\n",
    "    W1 = np.random.rand(10, 784) - 0.5\n",
    "    b1 = np.random.rand(10, 1) - 0.5\n",
    "    W2 = np.random.rand(10, 10) - 0.5\n",
    "    b2 = np.random.rand(10, 1) - 0.5\n",
    "    return W1, b1, W2, b2\n",
    "\n",
    "def ReLU(Z):\n",
    "    return np.maximum(Z, 0)\n",
    "\n",
    "def softmax(Z):\n",
    "    A = np.exp(Z) / sum(np.exp(Z))\n",
    "    return A\n",
    "    \n",
    "def forward_prop(W1, b1, W2, b2, X):\n",
    "    Z1 = W1.dot(X) + b1\n",
    "    A1 = ReLU(Z1)\n",
    "    Z2 = W2.dot(A1) + b2\n",
    "    A2 = softmax(Z2)\n",
    "    return Z1, A1, Z2, A2\n",
    "\n",
    "def ReLU_deriv(Z):\n",
    "    return Z > 0\n",
    "\n",
    "def one_hot(y):\n",
    "    one_hot_y = np.zeros((y.size, y.max() + 1))\n",
    "    one_hot_y[np.arange(y.size), y] = 1\n",
    "    one_hot_y = one_hot_y.T\n",
    "    return one_hot_y\n",
    "\n",
    "def backward_prop(Z1, A1, Z2, A2, W1, W2, X, y):\n",
    "    one_hot_y = one_hot(y)\n",
    "    dZ2 = A2 - one_hot_y\n",
    "    dW2 = 1 / m * dZ2.dot(A1.T)\n",
    "    db2 = 1 / m * np.sum(dZ2)\n",
    "    dZ1 = W2.T.dot(dZ2) * ReLU_deriv(Z1)\n",
    "    dW1 = 1 / m * dZ1.dot(X.T)\n",
    "    db1 = 1 / m * np.sum(dZ1)\n",
    "    return dW1, db1, dW2, db2\n",
    "\n",
    "def update_params(W1, b1, W2, b2, dW1, db1, dW2, db2, alpha):\n",
    "    W1 = W1 - alpha * dW1\n",
    "    b1 = b1 - alpha * db1    \n",
    "    W2 = W2 - alpha * dW2  \n",
    "    b2 = b2 - alpha * db2    \n",
    "    return W1, b1, W2, b2"
   ]
  },
  {
   "cell_type": "markdown",
   "metadata": {},
   "source": [
    "This Python code is implementing a simple neural network from scratch using numpy. Here's a breakdown of what each function does:\n",
    "\n",
    "1. `init_params()`: This function initializes the weights `W1` and `W2` and biases `b1` and `b2` for a two-layer neural network. The weights are initialized as random numbers between -0.5 and 0.5.\n",
    "\n",
    "2. `ReLU(Z)`: This function applies the Rectified Linear Unit (ReLU) activation function to the input `Z`. The ReLU function returns `Z` when `Z > 0` and `0` otherwise.\n",
    "\n",
    "3. `softmax(Z)`: This function applies the softmax activation function to the input `Z`. The softmax function is often used in the output layer of a neural network for multi-class classification problems. It transforms the input into a probability distribution over the classes.\n",
    "\n",
    "4. `forward_prop(W1, b1, W2, b2, X)`: This function performs forward propagation through the network. It calculates the linear and activation outputs `Z1`, `A1`, `Z2`, `A2` for each layer.\n",
    "\n",
    "5. `ReLU_deriv(Z)`: This function calculates the derivative of the ReLU function. This is used during backpropagation to calculate the gradients.\n",
    "\n",
    "6. `one_hot(y)`: This function converts the labels `y` into a one-hot encoded format. One-hot encoding is a representation method that converts the categorical data into a format that works better with classification and regression algorithms.\n",
    "\n",
    "7. `backward_prop(Z1, A1, Z2, A2, W1, W2, X, y)`: This function performs backward propagation through the network. It calculates the gradients of the loss function with respect to the weights and biases.\n",
    "\n",
    "8. `update_params(W1, b1, W2, b2, dW1, db1, dW2, db2, alpha)`: This function updates the weights and biases using the gradients calculated during backpropagation and the learning rate `alpha`.\n"
   ]
  },
  {
   "cell_type": "markdown",
   "metadata": {},
   "source": [
    "The `backward_prop` function is implementing the backpropagation algorithm for a two-layer neural network. The backpropagation algorithm is used in training neural networks, and it involves calculating the gradient of the loss function with respect to the weights of the network.\n",
    "\n",
    "Here's a breakdown of the function:\n",
    "\n",
    "- `one_hot_y = one_hot(y)`: This line is converting the labels `y` into a one-hot encoded format.\n",
    "\n",
    "- `dZ2 = A2 - one_hot_y`: This line is calculating the derivative of the loss function with respect to the pre-activation output of the second layer. This is done by subtracting the one-hot encoded true labels from the softmax outputs of the model. This suggests that the model is using the cross-entropy loss, as the derivative of the cross-entropy loss with respect to the pre-softmax activations is the difference between the model's predictions and the true labels.\n",
    "\n",
    "- `dW2 = 1 / m * dZ2.dot(A1.T)`: This line is calculating the derivative of the loss function with respect to the weights of the second layer.\n",
    "\n",
    "- `db2 = 1 / m * np.sum(dZ2)`: This line is calculating the derivative of the loss function with respect to the biases of the second layer.\n",
    "\n",
    "- `dZ1 = W2.T.dot(dZ2) * ReLU_deriv(Z1)`: This line is calculating the derivative of the loss function with respect to the pre-activation output of the first layer.\n",
    "\n",
    "- `dW1 = 1 / m * dZ1.dot(X.T)`: This line is calculating the derivative of the loss function with respect to the weights of the first layer.\n",
    "\n",
    "- `db1 = 1 / m * np.sum(dZ1)`: This line is calculating the derivative of the loss function with respect to the biases of the first layer.\n",
    "\n",
    "The function then returns the gradients `dW1`, `db1`, `dW2`, and `db2`, which can be used to update the weights and biases of the network during the gradient descent optimization process."
   ]
  },
  {
   "cell_type": "markdown",
   "metadata": {},
   "source": [
    "**Spelling these Python funtions into mathematics, using LaTeX, we have:**"
   ]
  },
  {
   "cell_type": "markdown",
   "metadata": {},
   "source": [
    "1. `init_params`:\n",
    "\n",
    "This function initializes the parameters of the simple 2-layer neural network. The parameters are matrices `W1`, `W2` and vectors `b1`, `b2`. Generally, the dimensions of these matrices and vectors depend on the dimensions of the input data and the architecture of the neural network.\n",
    "\n",
    "   In our case, $W1$ is a matrix of shape $10 \\times 784$, $b1$ is a vector of shape $10 \\times 1$, $W2$ is a matrix of shape $10 \\times 10$, and $b2$ is a vector of shape $10 \\times 1$.<br>\n",
    "\n",
    "   The `np.random.rand(m, n)` function in NumPy generates an array of shape $m \\times n$ filled with random samples from a uniform distribution over $[0, 1)$. \n",
    "\n",
    "   In mathematical terms, if $X$ is a matrix generated by `np.random.rand(m, n)`, then each element $X[i, j]$ (where $0 \\leq i < m$ and $0 \\leq j < n$) is a random variable that follows a **uniform distribution**. This can be written as:\n",
    "   $X[i, j] \\sim U(0, 1)$, where $U(0, 1)$ denotes the [uniform distribution](https://en.wikipedia.org/wiki/Continuous_uniform_distribution) over the interval $[0, 1)$. \n",
    "   It's important to note that the elements of $X$ are _independently and identically distributed_ (**i.i.d.**), which means that the value of any particular element does not affect the values of the other elements, and all elements follow the same distribution. In our code, we have:\n",
    "\n",
    "   - (i)  `W1 = np.random.rand(10, 784) - 0.5`: This line initializes the weight matrix `W1` for the first layer of the neural network. The dimensions of `W1` are `(10, 784)`, which means that the first layer has 784 input neurons (for the 784 pixels of a 28x28 image in the MNIST dataset) and 10 output neurons. The weights are initialized with random values between -0.5 and 0.5.\n",
    "\n",
    "   - (ii) `b1 = np.random.rand(10, 1) - 0.5`: This line initializes the bias vector `b1` for the first layer of the neural network. The dimension of `b1` is `(10, 1)`, which means that there is one bias term for each of the 10 output neurons of the first layer. The biases are initialized with random values between -0.5 and 0.5.\n",
    "\n",
    "   - (iii) `W2 = np.random.rand(10, 10) - 0.5`: This line initializes the weight matrix `W2` for the second layer of the neural network. The dimensions of `W2` are `(10, 10)`, which means that the second layer has 10 input neurons (the same as the number of output neurons of the first layer) and 10 output neurons (for the 10 classes of the MNIST dataset). The weights are initialized with random values between -0.5 and 0.5.\n",
    "\n",
    "   - (iv) `b2 = np.random.rand(10, 1) - 0.5`: This line initializes the bias vector `b2` for the second layer of the neural network. The dimension of `b2` is `(10, 1)`, which means that there is one bias term for each of the 10 output neurons of the second layer. The biases are initialized with random values between -0.5 and 0.5.\n",
    "\n",
    "   - (v) `return W1, b1, W2, b2`: This line returns the initialized parameters. These parameters will be used in the forward and backward propagation steps of the neural network.\n",
    "\n",
    "2. `ReLU(Z)`:\n",
    "\n",
    "This function applies the **Rectified Linear Unit** (ReLU) activation function element-wise to the input matrix `Z`. The [ReLU function](https://en.wikipedia.org/wiki/Rectifier_(neural_networks)) is defined as:\n",
    "\n",
    "   $ReLU(z) = max(0, z)$\n",
    "\n",
    "3. `softmax(Z)`:\n",
    "\n",
    "This function applies the **softmax function** to the input matrix `Z`. The [softmax function](https://en.wikipedia.org/wiki/Softmax_function) is used to normalize the output of a network to a probability distribution over predicted output classes. It is defined as:\n",
    "\n",
    "   $softmax(z_i) = \\frac{e^{z_i}}{\\sum_{j=1}^{K} e^{z_j}}$\n",
    "\n",
    "4. `forward_prop(W1, b1, W2, b2, X)`:\n",
    "\n",
    "This function performs forward propagation through the network. It calculates the intermediate matrices `Z1`, `A1`, `Z2`, `A2` using the input data `X` and the parameters of the network `W1`, `b1`, `W2`, `b2`. The calculations are as follows:<br>\n",
    "\n",
    "   (i) $Z1 = W1 \\cdot X + b1$ <br>\n",
    "\n",
    "   (ii) $A1 = ReLU(Z1)$ <br>\n",
    "\n",
    "   (iii) $Z2 = W2 \\cdot A1 + b2$ <br>\n",
    "\n",
    "   (iv) $A2 = softmax(Z2)$\n",
    "\n",
    "5. `ReLU_deriv(Z)`:\n",
    "\n",
    "This function calculates the derivative of the ReLU function. The derivative is 1 for positive input and 0 for non-positive input:\n",
    "\n",
    "   $ReLU'(z) = \n",
    "   \\begin{cases} \n",
    "   1 & \\text{if } z > 0 \\\\\n",
    "   0 & \\text{otherwise}\n",
    "   \\end{cases}$\n",
    "\n",
    "6. `one_hot(y)`:\n",
    "\n",
    "This function converts the input vector `y` of class labels into a [one-hot](https://en.wikipedia.org/wiki/One-hot) encoded matrix. Each row of the matrix corresponds to a class label, and each column corresponds to a data point. If the class label of a data point is `i`, then the `i`-th row and the column corresponding to the data point will be 1, and all other elements in the column will be 0.\n",
    "\n",
    "7. `backward_prop(Z1, A1, Z2, A2, W1, W2, X, y)`:\n",
    "\n",
    "This function performs backward propagation through the network. It calculates the [gradients](https://en.wikipedia.org/wiki/Gradient) of the loss function with respect to the parameters of the network `W1`, `b1`, `W2`, `b2`. The calculations are as follows:\n",
    "\n",
    "   (i) $dZ2 = A2 - one\\_hot(y)$ <br>\n",
    "\n",
    "   (ii) $dW2 = \\frac{1}{m} dZ2 \\cdot A1^T$ <br>\n",
    "\n",
    "   (iii) $db2 = \\frac{1}{m} \\sum dZ2$ <br>\n",
    "\n",
    "   (iv) $dZ1 = W2^T \\cdot dZ2 * ReLU\\_deriv(Z1)$ <br>\n",
    "\n",
    "   (v) $dW1 = \\frac{1}{m} dZ1 \\cdot X^T$ <br>\n",
    "   \n",
    "   (vi) $db1 = \\frac{1}{m} \\sum dZ1$ <br>\n",
    "\n",
    "   where $m$ is the number of data points in the input matrix `X`.\n",
    "\n",
    "8. `update_params(W1, b1, W2, b2, dW1, db1, dW2, db2, alpha)`:\n",
    "\n",
    "This function updates the parameters of the network using the calculated gradients and the [**learning rate**](https://en.wikipedia.org/wiki/Learning_rate) `alpha`. The updates are as follows:\n",
    "\n",
    "   (i) $W1 := W1 - \\alpha * dW1$ <br>\n",
    "\n",
    "   (ii) $b1 := b1 - \\alpha * db1$ <br>\n",
    "\n",
    "   (iii) $W2 := W2 - \\alpha * dW2$ <br>\n",
    "   \n",
    "   (iv) $b2 := b2 - \\alpha * db2$ <br>\n",
    "   \n",
    "   where $\\alpha$ is the learning rate."
   ]
  },
  {
   "cell_type": "code",
   "execution_count": 12,
   "metadata": {},
   "outputs": [],
   "source": [
    "def get_predictions(A2):\n",
    "    return np.argmax(A2, 0)"
   ]
  },
  {
   "cell_type": "code",
   "execution_count": 13,
   "metadata": {},
   "outputs": [],
   "source": [
    "def get_accuracy(predictions, y):\n",
    "    print(predictions, y)\n",
    "    return np.round(np.sum(predictions == y) / y.size, 3)"
   ]
  },
  {
   "cell_type": "code",
   "execution_count": 14,
   "metadata": {
    "execution": {
     "iopub.execute_input": "2020-11-24T15:33:49.496820Z",
     "iopub.status.busy": "2020-11-24T15:33:49.493109Z",
     "iopub.status.idle": "2020-11-24T15:33:49.499268Z",
     "shell.execute_reply": "2020-11-24T15:33:49.499782Z"
    },
    "papermill": {
     "duration": 0.026744,
     "end_time": "2020-11-24T15:33:49.499906",
     "exception": false,
     "start_time": "2020-11-24T15:33:49.473162",
     "status": "completed"
    },
    "tags": []
   },
   "outputs": [],
   "source": [
    "def gradient_descent(X, y, alpha, iterations):\n",
    "    W1, b1, W2, b2 = init_params()\n",
    "    for i in range(iterations):\n",
    "        Z1, A1, Z2, A2 = forward_prop(W1, b1, W2, b2, X)\n",
    "        dW1, db1, dW2, db2 = backward_prop(Z1, A1, Z2, A2, W1, W2, X, y)\n",
    "        W1, b1, W2, b2 = update_params(W1, b1, W2, b2, dW1, db1, dW2, db2, alpha)\n",
    "        if i % 25 == 0:\n",
    "            print(f'\\nIteration: {i}/{iterations}')\n",
    "            predictions = get_predictions(A2)\n",
    "            print(f'Accuracy: {get_accuracy(predictions, y)}')\n",
    "    return W1, b1, W2, b2, get_accuracy(predictions, y)"
   ]
  },
  {
   "cell_type": "markdown",
   "metadata": {},
   "source": [
    "This Python code defines several functions that are used to train a simple neural network and evaluate its performance. Here's a breakdown of what each function does:\n",
    "\n",
    "1. `get_predictions(A2)`: This function takes the output of the last layer of the neural network (`A2`) and returns the indices of the maximum values along axis 0 (which usually represents different samples). In the context of a classification task, this means it's returning the classes with the highest predicted probabilities.\n",
    "\n",
    "2. `get_accuracy(predictions, y)`: This function calculates the **accuracy** of the predictions. It first prints the predictions and the true labels `y`, then it calculates the accuracy as the proportion of predictions that exactly match the true labels (rounded to 3 decimals). The `==` operator performs element-wise comparison and returns a boolean array, which is then summed and divided by the total number of labels to get the proportion of correct predictions.\n",
    "\n",
    "3. `gradient_descent(X, y, alpha, iterations)`: This function implements the gradient descent algorithm for optimizing the neural network's parameters. It first initializes the parameters (`W1`, `b1`, `W2`, `b2`), then it enters a loop that runs for a specified number of iterations. In each iteration, it performs forward propagation to calculate the network's output, performs backward propagation to calculate the gradients of the loss with respect to the parameters, and then updates the parameters using these gradients. Every 25 iterations, it prints the current iteration number and the accuracy of the network's predictions on the data.\n"
   ]
  },
  {
   "cell_type": "markdown",
   "metadata": {},
   "source": [
    "The Python function, `gradient_descent`, is implementing the [**gradient descent optimization algorithm**](https://en.wikipedia.org/wiki/Gradient_descent) for a simple 2-layer neural network. In more details, it's performing the following steps:<br><br>\n",
    "\n",
    "1. `W1, b1, W2, b2 = init_params()`:<br> This line initializes the parameters of the neural network. The `init_params` function returns the weight matrices `W1` and `W2` and the bias vectors `b1` and `b2`.<br><br>\n",
    "\n",
    "2. `for i in range(iterations):`:<br> This line starts a loop that will run for a specified number of iterations. Each iteration represents a complete pass (forward and backward) through the neural network.<br><br>\n",
    "\n",
    "3. `Z1, A1, Z2, A2 = forward_prop(W1, b1, W2, b2, X)`:<br> This line performs forward propagation through the network. The `forward_prop` function takes the current parameters and the input data `X`, and returns the intermediate matrices `Z1`, `A1`, `Z2`, `A2`.<br><br>\n",
    "\n",
    "4. `dW1, db1, dW2, db2 = backward_prop(Z1, A1, Z2, A2, W1, W2, X, y)`:<br> This line performs backward propagation through the network. The `backward_prop` function takes the intermediate matrices, the current parameters, the input data `X`, and the true labels `y`, and **returns the gradients of the loss function with respect to the parameters**.<br><br>\n",
    "\n",
    "5. `W1, b1, W2, b2 = update_params(W1, b1, W2, b2, dW1, db1, dW2, db2, alpha)`:<br> This line updates the parameters of the network using the calculated gradients and the learning rate `alpha`.<br><br>\n",
    "\n",
    "6. `if i % 25 == 0:`: This line checks if the current iteration is a multiple of 25. If it is, the code inside the if statement is executed.<br><br>\n",
    "\n",
    "7. `print(f'\\nIteration: {i}/{iterations}')`: This line prints the current iteration number and the total number of iterations.<br><br>\n",
    "\n",
    "8. `predictions = get_predictions(A2)`: This line generates predictions for the input data `X` using the current parameters. The `get_predictions` function takes the output of the last layer of the network `A2` and returns the predicted labels.<br><br>\n",
    "\n",
    "9. `print(f'Accuracy: {get_accuracy(predictions, y)}')`: This line calculates the accuracy of the predictions and prints it. The `get_accuracy` function takes the predicted labels and the true labels `y`, and returns the accuracy.<br><br>\n",
    "\n",
    "10. `return W1, b1, W2, b2, get_accuracy(predictions, y)`: After all iterations are complete, this line returns the final parameters and the final accuracy."
   ]
  },
  {
   "cell_type": "markdown",
   "metadata": {},
   "source": [
    "The following Python code is running the `gradient_descent` function to train a simple neural network on a training dataset (`X_train`, `Y_train`). Here's a breakdown of what each line does:\n",
    "\n",
    "1. `%%time`: This is a magic command in Jupyter Notebook that times the execution of the specific cell. It will output the time taken to run the cell once it completes.\n",
    "\n",
    "2. `W1, b1, W2, b2, accuracy = gradient_descent(X_train, y_train, alpha=0.10, iterations=500)`: This line is calling the `gradient_descent` function with the training data, a learning rate $\\alpha$ of `0.10`, and `500` iterations. The function returns the optimized weights and biases (`W1`, `b1`, `W2`, `b2`) and `accuracy` of the neural network after training. These parameters can then be used to make predictions on new data."
   ]
  },
  {
   "cell_type": "markdown",
   "metadata": {},
   "source": [
    "### NOTE 1: Training the neural network using **batch** gradient descent"
   ]
  },
  {
   "cell_type": "markdown",
   "metadata": {},
   "source": [
    "Batch processing in the context of training a neural network involves updating the model's parameters using a subset of the training data (a batch) at a time, rather than the entire dataset at once. This can make the training process more efficient, especially for large datasets.\n",
    "\n",
    "Here's how you can modify the `gradient_descent` function to implement batch processing:\n",
    "\n"
   ]
  },
  {
   "cell_type": "code",
   "execution_count": 15,
   "metadata": {},
   "outputs": [],
   "source": [
    "def gradient_descent_batch(X, y, alpha, iterations, batch_size):\n",
    "    W1, b1, W2, b2 = init_params()\n",
    "    m = X.shape[1]  # number of examples in the dataset\n",
    "    for i in range(iterations):\n",
    "        for j in range(0, m, batch_size):  # loop over the dataset in batches\n",
    "            X_batch = X[:, j:j+batch_size]\n",
    "            y_batch = y[:, j:j+batch_size]\n",
    "            Z1, A1, Z2, A2 = forward_prop(W1, b1, W2, b2, X_batch)\n",
    "            dW1, db1, dW2, db2 = backward_prop(Z1, A1, Z2, A2, W1, W2, X_batch, y_batch)\n",
    "            W1, b1, W2, b2 = update_params(W1, b1, W2, b2, dW1, db1, dW2, db2, alpha)\n",
    "        if i % 25 == 0:\n",
    "            print(f'\\nIteration: {i}/{iterations}')\n",
    "            predictions = get_predictions(A2)\n",
    "            print(f'Accuracy: {get_accuracy(predictions, y_batch)}')\n",
    "    return W1, b1, W2, b2, get_accuracy(predictions, y)"
   ]
  },
  {
   "cell_type": "markdown",
   "metadata": {},
   "source": [
    "\n",
    "\n",
    "In this modified function, the outer loop over `iterations` remains the same, but an inner loop over batches of the dataset has been added. For each batch, forward propagation, backward propagation, and the parameter update step are performed just on the batch. The accuracy is also calculated for each batch. The final accuracy is calculated on the entire dataset. \n",
    "\n",
    "The `batch_size` parameter controls the size of the batches. A smaller `batch_size` will result in more updates per iteration and can lead to a more accurate model, but it can also increase the computational cost. A larger `batch_size` will result in fewer updates per iteration and can be more computationally efficient, but it might result in a less accurate model. The optimal `batch_size` often depends on the specific problem and dataset, and it may require some experimentation to find."
   ]
  },
  {
   "cell_type": "markdown",
   "metadata": {},
   "source": [
    "### NOTE 2: Training the neural network using **stochastic** gradient descent"
   ]
  },
  {
   "cell_type": "markdown",
   "metadata": {},
   "source": [
    "[**Stochastic Gradient Descent**](https://en.wikipedia.org/wiki/Stochastic_gradient_descent) (SGD) is a variant of the gradient descent algorithm that performs the update step for each individual training example, rather than for an entire batch of examples. This can make SGD faster than batch gradient descent, especially for large datasets, but the trade-off is that the updates can be more noisy, leading to less stable convergence.\n",
    "\n",
    "Here's how you can modify the `gradient_descent_batch` function to implement SGD:\n",
    "\n"
   ]
  },
  {
   "cell_type": "code",
   "execution_count": 16,
   "metadata": {},
   "outputs": [],
   "source": [
    "def stochastic_gradient_descent(X, y, alpha, iterations):\n",
    "    W1, b1, W2, b2 = init_params()\n",
    "    m = X.shape[1]  # number of examples in the dataset\n",
    "    for i in range(iterations):\n",
    "        for j in range(m):  # loop over the dataset one example at a time\n",
    "            X_sample = X[:, j:j+1]\n",
    "            y_sample = y[:, j:j+1]\n",
    "            Z1, A1, Z2, A2 = forward_prop(W1, b1, W2, b2, X_sample)\n",
    "            dW1, db1, dW2, db2 = backward_prop(Z1, A1, Z2, A2, W1, W2, X_sample, y_sample)\n",
    "            W1, b1, W2, b2 = update_params(W1, b1, W2, b2, dW1, db1, dW2, db2, alpha)\n",
    "        if i % 25 == 0:\n",
    "            print(f'\\nIteration: {i}/{iterations}')\n",
    "            predictions = get_predictions(A2)\n",
    "            print(f'Accuracy: {get_accuracy(predictions, y_sample)}')\n",
    "    return W1, b1, W2, b2, get_accuracy(predictions, y)"
   ]
  },
  {
   "cell_type": "markdown",
   "metadata": {},
   "source": [
    "\n",
    "\n",
    "In this modified function, the outer loop over `iterations` remains the same, but the inner loop now iterates over individual examples in the dataset. For each example, forward propagation, backward propagation, and the parameter update step are performed just on that example. The accuracy is also calculated for each example. The final accuracy is calculated on the entire dataset. \n",
    "\n",
    "Note that SGD can be more computationally intensive than batch gradient descent, especially for large datasets, because it requires performing the forward and backward propagation steps for each individual example. However, it can also converge faster because it makes more frequent updates to the parameters."
   ]
  },
  {
   "cell_type": "markdown",
   "metadata": {},
   "source": [
    "### NOTE 3: Training the neural network using **mini-batch** gradient descent"
   ]
  },
  {
   "cell_type": "markdown",
   "metadata": {},
   "source": [
    "Mini-batch gradient descent is a compromise between batch gradient descent and stochastic gradient descent. Instead of using all the data points (as in batch gradient descent) or just one data point (as in stochastic gradient descent) to compute the gradient of the cost function, mini-batch gradient descent uses a subset of the data points.\n",
    "\n",
    "The stochasticity in mini-batch gradient descent comes from the fact that for each update, a random subset (mini-batch) of the training data is used, rather than the entire dataset or a single instance. \n",
    "\n",
    "However, in the provided `mini_batch_gradient_descent()` function below, the mini-batches are not selected randomly but sequentially from the dataset. This is a common practice, but it does not introduce stochasticity."
   ]
  },
  {
   "cell_type": "code",
   "execution_count": 17,
   "metadata": {},
   "outputs": [],
   "source": [
    "def mini_batch_gradient_descent(X, y, alpha, iterations, batch_size):\n",
    "    W1, b1, W2, b2 = init_params()\n",
    "    m = X.shape[1]  # number of examples in the dataset\n",
    "    for i in range(iterations):\n",
    "        for j in range(0, m, batch_size):  # loop over the dataset in mini-batches\n",
    "            X_batch = X[:, j:j+batch_size]\n",
    "            y_batch = y[:, j:j+batch_size]\n",
    "            Z1, A1, Z2, A2 = forward_prop(W1, b1, W2, b2, X_batch)\n",
    "            dW1, db1, dW2, db2 = backward_prop(Z1, A1, Z2, A2, W1, W2, X_batch, y_batch)\n",
    "            W1, b1, W2, b2 = update_params(W1, b1, W2, b2, dW1, db1, dW2, db2, alpha)\n",
    "        if i % 25 == 0:\n",
    "            print(f'\\nIteration: {i}/{iterations}')\n",
    "            predictions = get_predictions(A2)\n",
    "            print(f'Accuracy: {get_accuracy(predictions, y_batch)}')\n",
    "    return W1, b1, W2, b2, get_accuracy(predictions, y)"
   ]
  },
  {
   "cell_type": "markdown",
   "metadata": {},
   "source": [
    "To introduce stochasticity, you would need to shuffle the training data at the beginning of each epoch (iteration over the entire dataset). Here's how you can modify the function to do this:"
   ]
  },
  {
   "cell_type": "code",
   "execution_count": 18,
   "metadata": {},
   "outputs": [],
   "source": [
    "import numpy as np\n",
    "\n",
    "def mini_batch_gradient_descent(X, y, alpha, iterations, batch_size):\n",
    "    W1, b1, W2, b2 = init_params()\n",
    "    m = X.shape[1]  # number of examples in the dataset\n",
    "    indices = np.arange(m)  # indices into the training dataset\n",
    "    for i in range(iterations):\n",
    "        np.random.shuffle(indices)  # shuffle indices at the beginning of each epoch\n",
    "        for j in range(0, m, batch_size):  # loop over the dataset in mini-batches\n",
    "            batch_indices = indices[j:j+batch_size]\n",
    "            X_batch = X[:, batch_indices]\n",
    "            y_batch = y[:, batch_indices]\n",
    "            Z1, A1, Z2, A2 = forward_prop(W1, b1, W2, b2, X_batch)\n",
    "            dW1, db1, dW2, db2 = backward_prop(Z1, A1, Z2, A2, W1, W2, X_batch, y_batch)\n",
    "            W1, b1, W2, b2 = update_params(W1, b1, W2, b2, dW1, db1, dW2, db2, alpha)\n",
    "        if i % 25 == 0:\n",
    "            print(f'\\nIteration: {i}/{iterations}')\n",
    "            predictions = get_predictions(A2)\n",
    "            print(f'Accuracy: {get_accuracy(predictions, y_batch)}')\n",
    "    return W1, b1, W2, b2, get_accuracy(predictions, y)"
   ]
  },
  {
   "cell_type": "markdown",
   "metadata": {},
   "source": [
    "\n",
    "\n",
    "In this modified function, an array of indices into the training dataset is created and shuffled at the beginning of each epoch. The mini-batches are then created by indexing into the shuffled array. This ensures that the mini-batches are different for each epoch, introducing stochasticity into the gradient descent process."
   ]
  },
  {
   "cell_type": "markdown",
   "metadata": {},
   "source": [
    "\n",
    "\n",
    "In this function, the outer loop over `iterations` remains the same, but the inner loop now iterates over mini-batches of the dataset. For each mini-batch, forward propagation, backward propagation, and the parameter update step are performed just on that mini-batch. The accuracy is also calculated for each mini-batch. The final accuracy is calculated on the entire dataset.\n",
    "\n",
    "The `batch_size` parameter controls the size of the mini-batches. A smaller `batch_size` will result in more updates per iteration and can lead to a more accurate model, but it can also increase the computational cost. A larger `batch_size` will result in fewer updates per iteration and can be more computationally efficient, but it might result in a less accurate model. The optimal `batch_size` often depends on the specific problem and dataset, and it may require some experimentation to find."
   ]
  },
  {
   "cell_type": "markdown",
   "metadata": {},
   "source": [
    "### NOTE 4: Batch normalization    "
   ]
  },
  {
   "cell_type": "markdown",
   "metadata": {},
   "source": [
    "[**Batch normalization**](https://en.wikipedia.org/wiki/Batch_normalization) is a technique used to increase the stability of a neural network. It normalizes the output of a previous activation layer by subtracting the batch mean and dividing by the batch standard deviation, thus standardizing the outputs to have zero mean and unit variance. This has the effect of stabilizing the learning process and dramatically reducing the number of training epochs required to train deep networks.\n",
    "\n",
    "Here's how you can modify the `mini_batch_gradient_descent` function to include batch normalization:"
   ]
  },
  {
   "cell_type": "code",
   "execution_count": 19,
   "metadata": {},
   "outputs": [],
   "source": [
    "def mini_batch_gradient_descent_norm(X, y, alpha, iterations, batch_size):\n",
    "    W1, b1, W2, b2 = init_params()\n",
    "    m = X.shape[1]  # number of examples in the dataset\n",
    "    indices = np.arange(m)  # indices into the training dataset\n",
    "    for i in range(iterations):\n",
    "        np.random.shuffle(indices)  # shuffle indices at the beginning of each epoch\n",
    "        for j in range(0, m, batch_size):  # loop over the dataset in mini-batches\n",
    "            batch_indices = indices[j:j+batch_size]\n",
    "            X_batch = X[:, batch_indices]\n",
    "            y_batch = y[:, batch_indices]\n",
    "            Z1, A1, Z2, A2 = forward_prop(W1, b1, W2, b2, X_batch)\n",
    "            \n",
    "            # Batch normalization\n",
    "            A1 = (A1 - np.mean(A1, axis=0)) / np.std(A1, axis=0)\n",
    "            \n",
    "            dW1, db1, dW2, db2 = backward_prop(Z1, A1, Z2, A2, W1, W2, X_batch, y_batch)\n",
    "            W1, b1, W2, b2 = update_params(W1, b1, W2, b2, dW1, db1, dW2, db2, alpha)\n",
    "        if i % 25 == 0:\n",
    "            print(f'\\nIteration: {i}/{iterations}')\n",
    "            predictions = get_predictions(A2)\n",
    "            print(f'Accuracy: {get_accuracy(predictions, y_batch)}')\n",
    "    return W1, b1, W2, b2, get_accuracy(predictions, y)"
   ]
  },
  {
   "cell_type": "markdown",
   "metadata": {},
   "source": [
    "\n",
    "\n",
    "In this modified function, after the forward propagation step, the outputs of the first activation layer `A1` are normalized to have zero mean and unit variance. This is done by subtracting the mean and dividing by the standard deviation, computed across the batch.\n",
    "\n",
    "Note that in a more complete implementation, you would also keep track of a running mean and variance to use for normalization during testing, when you might be making predictions on less than a full batch of data. This is not shown in the simplified example above."
   ]
  },
  {
   "cell_type": "code",
   "execution_count": 23,
   "metadata": {
    "execution": {
     "iopub.execute_input": "2020-11-24T15:33:49.529813Z",
     "iopub.status.busy": "2020-11-24T15:33:49.529067Z",
     "iopub.status.idle": "2020-11-24T15:34:33.915250Z",
     "shell.execute_reply": "2020-11-24T15:34:33.914598Z"
    },
    "papermill": {
     "duration": 44.403186,
     "end_time": "2020-11-24T15:34:33.915380",
     "exception": false,
     "start_time": "2020-11-24T15:33:49.512194",
     "status": "completed"
    },
    "tags": []
   },
   "outputs": [
    {
     "name": "stdout",
     "output_type": "stream",
     "text": [
      "\n",
      "Iteration: 0/500\n",
      "[4 4 4 ... 4 9 9] [4 9 0 ... 2 5 5]\n",
      "Accuracy: 0.106\n",
      "\n",
      "Iteration: 25/500\n",
      "[4 4 0 ... 3 7 4] [4 9 0 ... 2 5 5]\n",
      "Accuracy: 0.226\n",
      "\n",
      "Iteration: 50/500\n",
      "[4 4 0 ... 3 9 0] [4 9 0 ... 2 5 5]\n",
      "Accuracy: 0.339\n",
      "\n",
      "Iteration: 75/500\n",
      "[4 4 0 ... 3 5 0] [4 9 0 ... 2 5 5]\n",
      "Accuracy: 0.442\n",
      "\n",
      "Iteration: 100/500\n",
      "[4 4 0 ... 6 5 6] [4 9 0 ... 2 5 5]\n",
      "Accuracy: 0.535\n",
      "\n",
      "Iteration: 125/500\n",
      "[4 4 0 ... 6 5 6] [4 9 0 ... 2 5 5]\n",
      "Accuracy: 0.612\n",
      "\n",
      "Iteration: 150/500\n",
      "[4 4 0 ... 6 5 6] [4 9 0 ... 2 5 5]\n",
      "Accuracy: 0.662\n",
      "\n",
      "Iteration: 175/500\n",
      "[4 4 0 ... 6 5 0] [4 9 0 ... 2 5 5]\n",
      "Accuracy: 0.699\n",
      "\n",
      "Iteration: 200/500\n",
      "[4 4 0 ... 2 5 5] [4 9 0 ... 2 5 5]\n",
      "Accuracy: 0.727\n",
      "\n",
      "Iteration: 225/500\n",
      "[4 9 0 ... 2 5 5] [4 9 0 ... 2 5 5]\n",
      "Accuracy: 0.75\n",
      "\n",
      "Iteration: 250/500\n",
      "[4 9 0 ... 2 5 5] [4 9 0 ... 2 5 5]\n",
      "Accuracy: 0.768\n",
      "\n",
      "Iteration: 275/500\n",
      "[4 9 0 ... 2 5 5] [4 9 0 ... 2 5 5]\n",
      "Accuracy: 0.782\n",
      "\n",
      "Iteration: 300/500\n",
      "[4 9 0 ... 2 5 5] [4 9 0 ... 2 5 5]\n",
      "Accuracy: 0.794\n",
      "\n",
      "Iteration: 325/500\n",
      "[4 9 0 ... 2 5 5] [4 9 0 ... 2 5 5]\n",
      "Accuracy: 0.803\n",
      "\n",
      "Iteration: 350/500\n",
      "[4 9 0 ... 2 5 5] [4 9 0 ... 2 5 5]\n",
      "Accuracy: 0.811\n",
      "\n",
      "Iteration: 375/500\n",
      "[4 9 0 ... 2 5 5] [4 9 0 ... 2 5 5]\n",
      "Accuracy: 0.818\n",
      "\n",
      "Iteration: 400/500\n",
      "[4 9 0 ... 2 5 5] [4 9 0 ... 2 5 5]\n",
      "Accuracy: 0.825\n",
      "\n",
      "Iteration: 425/500\n",
      "[4 9 0 ... 2 5 5] [4 9 0 ... 2 5 5]\n",
      "Accuracy: 0.83\n",
      "\n",
      "Iteration: 450/500\n",
      "[4 9 0 ... 2 5 5] [4 9 0 ... 2 5 5]\n",
      "Accuracy: 0.834\n",
      "\n",
      "Iteration: 475/500\n",
      "[4 9 0 ... 2 5 5] [4 9 0 ... 2 5 5]\n",
      "Accuracy: 0.838\n",
      "[4 9 0 ... 2 5 5] [4 9 0 ... 2 5 5]\n",
      "CPU times: user 2min 22s, sys: 1min 52s, total: 4min 14s\n",
      "Wall time: 13.1 s\n"
     ]
    }
   ],
   "source": [
    "%%time\n",
    "W1, b1, W2, b2, accuracy = gradient_descent(X_train, y_train, alpha=0.10, iterations=500)"
   ]
  },
  {
   "cell_type": "code",
   "execution_count": 24,
   "metadata": {
    "papermill": {
     "duration": 0.03222,
     "end_time": "2020-11-24T15:34:33.980634",
     "exception": false,
     "start_time": "2020-11-24T15:34:33.948414",
     "status": "completed"
    },
    "tags": []
   },
   "outputs": [
    {
     "name": "stdout",
     "output_type": "stream",
     "text": [
      "~83.8% accuracy on the *training set*.\n"
     ]
    }
   ],
   "source": [
    "print(f'~{accuracy*100}% accuracy on the *training set*.')"
   ]
  },
  {
   "cell_type": "code",
   "execution_count": 25,
   "metadata": {},
   "outputs": [],
   "source": [
    "def make_predictions(X, W1, b1, W2, b2):\n",
    "    _, _, _, A2 = forward_prop(W1, b1, W2, b2, X)\n",
    "    predictions = get_predictions(A2)\n",
    "    return predictions"
   ]
  },
  {
   "cell_type": "code",
   "execution_count": 26,
   "metadata": {
    "execution": {
     "iopub.execute_input": "2020-11-24T15:34:34.058947Z",
     "iopub.status.busy": "2020-11-24T15:34:34.058192Z",
     "iopub.status.idle": "2020-11-24T15:34:34.061542Z",
     "shell.execute_reply": "2020-11-24T15:34:34.060921Z"
    },
    "papermill": {
     "duration": 0.048197,
     "end_time": "2020-11-24T15:34:34.061656",
     "exception": false,
     "start_time": "2020-11-24T15:34:34.013459",
     "status": "completed"
    },
    "tags": []
   },
   "outputs": [],
   "source": [
    "def test_prediction(index, W1, b1, W2, b2):\n",
    "    current_image = X_train[:, index, None]\n",
    "    prediction = make_predictions(X_train[:, index, None], W1, b1, W2, b2)\n",
    "    label = y_train[index]\n",
    "    print(\"Prediction: \", prediction)\n",
    "    print(\"Label: \", label)\n",
    "    \n",
    "    current_image = current_image.reshape((28, 28)) * 255\n",
    "    plt.gray()\n",
    "    plt.imshow(current_image, interpolation='nearest')\n",
    "    plt.show()"
   ]
  },
  {
   "cell_type": "markdown",
   "metadata": {},
   "source": [
    "This Python code defines two functions that are used to make predictions with the trained neural network and to test a single prediction. Here's a breakdown of what each function does:\n",
    "\n",
    "1. `make_predictions(X, W1, b1, W2, b2)`: This function performs forward propagation on the input `X` using the provided weights and biases (`W1`, `b1`, `W2`, `b2`), gets the predictions by calling the `get_predictions` function on the output of the last layer(`A2`), and returns these predictions.\n",
    "\n",
    "2. `test_prediction(index, W1, b1, W2, b2)`: This function tests the neural network's prediction on a single sample from the training set. It gets the current image and its label, makes a prediction using the `make_predictions` function, and prints the prediction and the label. It then reshapes the current image into a 28x28 array (since the images in the MNIST dataset are 28x28 pixels), multiplies it by 255 to undo the normalization, and displays the image using matplotlib's `imshow` function."
   ]
  },
  {
   "cell_type": "markdown",
   "metadata": {
    "papermill": {
     "duration": 0.032382,
     "end_time": "2020-11-24T15:34:34.126664",
     "exception": false,
     "start_time": "2020-11-24T15:34:34.094282",
     "status": "completed"
    },
    "tags": []
   },
   "source": [
    "Let's look at a couple of examples:"
   ]
  },
  {
   "cell_type": "code",
   "execution_count": 27,
   "metadata": {
    "execution": {
     "iopub.execute_input": "2020-11-24T15:34:34.198764Z",
     "iopub.status.busy": "2020-11-24T15:34:34.197926Z",
     "iopub.status.idle": "2020-11-24T15:34:34.858256Z",
     "shell.execute_reply": "2020-11-24T15:34:34.857536Z"
    },
    "papermill": {
     "duration": 0.699008,
     "end_time": "2020-11-24T15:34:34.858375",
     "exception": false,
     "start_time": "2020-11-24T15:34:34.159367",
     "status": "completed"
    },
    "tags": []
   },
   "outputs": [
    {
     "name": "stdout",
     "output_type": "stream",
     "text": [
      "Prediction:  [4]\n",
      "Label:  4\n"
     ]
    },
    {
     "data": {
      "image/png": "[encoded data removed]",
      "text/plain": [
       "<Figure size 640x480 with 1 Axes>"
      ]
     },
     "metadata": {},
     "output_type": "display_data"
    },
    {
     "name": "stdout",
     "output_type": "stream",
     "text": [
      "Prediction:  [9]\n",
      "Label:  9\n"
     ]
    },
    {
     "data": {
      "image/png": "[encoded data removed]",
      "text/plain": [
       "<Figure size 640x480 with 1 Axes>"
      ]
     },
     "metadata": {},
     "output_type": "display_data"
    },
    {
     "name": "stdout",
     "output_type": "stream",
     "text": [
      "Prediction:  [0]\n",
      "Label:  0\n"
     ]
    },
    {
     "data": {
      "image/png": "[encoded data removed]",
      "text/plain": [
       "<Figure size 640x480 with 1 Axes>"
      ]
     },
     "metadata": {},
     "output_type": "display_data"
    },
    {
     "name": "stdout",
     "output_type": "stream",
     "text": [
      "Prediction:  [0]\n",
      "Label:  0\n"
     ]
    },
    {
     "data": {
      "image/png": "[encoded data removed]",
      "text/plain": [
       "<Figure size 640x480 with 1 Axes>"
      ]
     },
     "metadata": {},
     "output_type": "display_data"
    },
    {
     "name": "stdout",
     "output_type": "stream",
     "text": [
      "CPU times: user 455 ms, sys: 451 ms, total: 906 ms\n",
      "Wall time: 352 ms\n"
     ]
    }
   ],
   "source": [
    "%%time\n",
    "test_prediction(0, W1, b1, W2, b2)\n",
    "test_prediction(1, W1, b1, W2, b2)\n",
    "test_prediction(2, W1, b1, W2, b2)\n",
    "test_prediction(3, W1, b1, W2, b2)"
   ]
  },
  {
   "cell_type": "markdown",
   "metadata": {},
   "source": [
    "This Python code is testing the trained neural network's predictions on the first four samples from the training set. Here's a breakdown of what each line does:\n",
    "\n",
    "1. `%%time`: This is a magic command in Jupyter Notebook that times the execution of the specific cell. It will output the time taken to run the cell once it completes.\n",
    "\n",
    "2-5. `test_prediction(0, W1, b1, W2, b2)`, `test_prediction(1, W1, b1, W2, b2)`, `test_prediction(2, W1, b1, W2, b2)`, `test_prediction(3, W1, b1, W2, b2)`: These lines are calling the `test_prediction` function with the indices of the samples to test (0, 1, 2, and 3) and the trained weights and biases (`W1`, `b1`, `W2`, `b2`). The function will print the neural network's prediction and the true label for each sample, and display the corresponding image."
   ]
  },
  {
   "cell_type": "markdown",
   "metadata": {
    "papermill": {
     "duration": 0.037333,
     "end_time": "2020-11-24T15:34:34.933186",
     "exception": false,
     "start_time": "2020-11-24T15:34:34.895853",
     "status": "completed"
    },
    "tags": []
   },
   "source": [
    "#### Finally, let's find the accuracy on the test set:"
   ]
  },
  {
   "cell_type": "code",
   "execution_count": 28,
   "metadata": {
    "execution": {
     "iopub.execute_input": "2020-11-24T15:34:35.013161Z",
     "iopub.status.busy": "2020-11-24T15:34:35.012371Z",
     "iopub.status.idle": "2020-11-24T15:34:35.033284Z",
     "shell.execute_reply": "2020-11-24T15:34:35.032394Z"
    },
    "papermill": {
     "duration": 0.062985,
     "end_time": "2020-11-24T15:34:35.033457",
     "exception": false,
     "start_time": "2020-11-24T15:34:34.970472",
     "status": "completed"
    },
    "tags": []
   },
   "outputs": [
    {
     "name": "stdout",
     "output_type": "stream",
     "text": [
      "[0 0 1 3 2 6 9 3 9 9 9 1 9 5 7 0 3 8 4 3 5 6 9 3 1 6 6 8 4 7 7 4 8 6 6 7 9\n",
      " 8 0 4 6 8 9 9 4 1 8 2 8 3 7 4 4 6 4 9 5 1 7 5 1 8 5 4 1 2 0 1 7 8 4 2 2 7\n",
      " 8 5 6 1 2 3 1 3 7 4 9 4 1 8 4 1 1 3 1 1 1 1 5 1 6 1 1 0 0 0 3 3 6 7 5 6 3\n",
      " 5 2 9 1 3 1 7 4 6 1 1 0 0 1 6 3 2 7 0 3 4 1 2 6 4 9 7 6 4 5 6 8 6 1 6 5 4\n",
      " 9 4 0 3 9 9 9 5 1 1 6 1 8 1 8 7 6 2 3 8 0 7 8 3 7 5 7 7 3 9 9 1 7 8 6 0 2\n",
      " 7 1 5 0 5 1 1 4 3 0 3 3 0 2 0 0 1 0 7 2 2 7 1 9 0 6 7 3 1 3 7 3 9 3 4 9 2\n",
      " 2 6 1 2 3 0 7 0 3 1 6 8 4 3 5 5 7 1 4 6 5 7 7 0 6 6 9 8 7 4 5 7 4 8 9 8 5\n",
      " 6 1 5 3 6 2 9 8 5 1 7 1 4 5 0 7 4 7 1 7 3 4 1 4 5 2 9 1 0 1 6 9 8 7 9 1 5\n",
      " 5 0 0 3 1 5 9 7 3 0 5 9 6 6 3 0 9 6 9 8 9 9 0 8 6 2 2 2 4 4 0 2 7 0 4 6 1\n",
      " 2 8 2 2 4 4 6 1 6 9 4 9 4 6 1 0 9 6 6 0 3 9 8 6 4 8 8 9 7 8 1 4 3 7 1 2 2\n",
      " 5 0 9 4 2 1 3 1 6 0 6 4 8 4 3 5 1 1 1 0 7 7 2 5 0 3 9 1 1 1 7 8 8 9 6 7 8\n",
      " 9 7 4 9 0 9 6 0 5 3 7 1 3 3 5 4 1 3 1 1 2 2 4 5 6 4 7 5 9 3 2 2 1 4 2 1 7\n",
      " 6 4 8 8 8 2 2 6 7 6 1 9 8 4 3 8 8 9 0 0 1 5 6 3 8 9 1 3 4 8 3 7 8 0 4 8 1\n",
      " 4 4 9 6 8 3 8 5 0 1 5 1 5 3 1 4 4 1 8 3 1 2 0 1 9 5 2 9 6 4 3 6 0 9 5 2 0\n",
      " 7 2 7 6 7 8 6 6 5 6 3 4 6 8 6 1 6 0 9 5 7 8 9 8 7 0 5 0 2 7 8 1 9 9 0 5 0\n",
      " 8 8 0 9 4 9 2 8 9 0 1 4 2 4 7 7 6 7 4 6 6 4 5 2 5 2 5 9 5 7 0 6 3 3 9 4 6\n",
      " 8 6 3 7 6 5 3 3 7 1 5 7 6 2 9 7 9 4 3 4 5 5 8 0 4 8 2 2 4 3 9 8 1 4 0 7 1\n",
      " 0 8 2 8 7 9 8 6 3 8 7 5 7 9 6 8 2 7 6 7 1 1 3 7 3 5 6 2 6 0 0 6 7 7 6 9 9\n",
      " 5 1 6 6 4 2 8 9 9 0 4 8 5 5 1 2 1 6 0 5 6 2 1 7 1 5 1 2 7 7 6 3 7 5 2 9 0\n",
      " 7 5 3 1 1 5 5 9 5 2 1 0 1 7 7 2 6 2 6 5 0 0 9 0 9 1 2 9 7 1 3 0 0 9 9 6 6\n",
      " 4 8 9 4 1 6 6 5 1 0 0 7 5 6 6 6 4 0 9 2 7 6 3 5 0 0 1 4 8 3 1 1 5 8 0 2 3\n",
      " 6 1 3 9 1 9 1 4 0 2 8 5 1 3 5 5 0 3 0 9 9 6 1 1 2 3 6 5 1 7 1 1 8 3 1 4 1\n",
      " 4 3 5 6 2 7 6 0 9 9 4 8 5 6 1 7 7 1 4 4 9 9 0 4 1 4 6 1 9 8 3 2 1 4 3 3 4\n",
      " 8 0 9 9 2 0 7 7 5 2 1 7 7 1 7 5 7 0 7 7 6 5 4 9 0 1 2 5 3 6 4 4 3 7 2 5 0\n",
      " 9 1 4 3 4 2 1 2 7 5 1 3 7 1 1 8 9 1 2 1 4 0 0 3 7 6 8 1 1 1 2 4 9 9 4 2 6\n",
      " 6 0 1 2 1 8 4 5 7 7 2 2 1 8 7 4 8 5 5 9 8 0 8 6 2 2 7 5 0 7 9 9 7 5 3 3 4\n",
      " 6 9 5 1 1 2 4 4 0 1 4 6 2 6 7 8 5 4 3 0 2 9 1 8 0 8 1 1 8 7 8 5 3 9 6 9 4\n",
      " 1] [0 0 1 3 6 6 9 3 4 9 9 1 9 5 7 0 3 8 6 3 5 3 9 3 4 6 6 9 4 7 7 4 5 6 6 7 9\n",
      " 8 6 4 6 8 9 9 4 1 9 2 8 3 9 4 4 6 4 8 5 1 7 3 1 8 5 4 1 2 0 1 7 3 4 8 2 7\n",
      " 8 5 6 1 2 3 1 3 7 4 8 4 1 8 4 1 2 3 1 1 1 1 5 1 6 1 1 0 0 0 3 3 2 7 5 6 3\n",
      " 5 2 9 1 5 1 7 4 6 1 1 0 0 1 6 3 9 3 5 3 4 8 3 6 4 9 7 6 9 5 5 9 6 1 6 5 4\n",
      " 9 4 0 3 9 9 9 5 1 1 6 1 8 6 1 7 6 2 3 8 0 7 8 3 2 5 7 7 3 9 9 1 7 8 6 0 3\n",
      " 7 1 5 0 1 2 1 4 3 0 3 3 0 1 0 0 1 0 7 2 7 7 1 9 0 6 7 3 1 3 9 3 9 3 5 9 2\n",
      " 2 6 1 2 3 0 7 0 3 1 6 8 9 3 5 5 9 1 4 6 8 7 7 0 2 6 7 8 7 4 5 3 4 1 9 8 5\n",
      " 6 1 1 5 6 2 9 8 5 1 7 5 4 3 0 3 4 7 1 7 3 9 1 4 8 2 9 1 0 1 6 9 8 7 9 1 5\n",
      " 5 0 0 3 1 5 9 7 3 0 0 9 6 6 5 0 9 6 7 8 9 9 0 8 6 2 2 2 9 4 0 2 7 0 4 6 1\n",
      " 2 8 2 2 9 4 6 1 6 9 6 9 4 6 1 0 9 6 6 0 3 9 8 6 4 8 8 9 7 8 1 4 3 7 1 2 7\n",
      " 5 0 7 4 2 1 3 1 6 0 2 4 8 4 3 3 1 9 1 9 7 4 2 5 9 3 4 1 1 6 7 8 4 9 6 7 8\n",
      " 9 7 4 7 0 9 6 3 5 3 0 1 3 3 5 6 1 3 1 1 2 2 4 5 6 4 7 5 4 3 2 2 1 4 2 1 7\n",
      " 0 4 8 8 8 2 3 6 7 6 1 9 8 4 3 8 8 9 0 0 1 5 6 5 1 9 3 3 4 8 3 7 1 0 4 4 1\n",
      " 4 4 9 6 8 8 8 5 0 1 5 1 5 3 1 4 4 1 8 3 1 2 0 1 9 5 2 9 6 4 3 6 0 9 5 7 0\n",
      " 7 2 4 6 7 8 6 6 5 6 3 4 6 8 6 1 2 0 9 5 7 8 9 5 7 0 5 0 2 7 8 1 9 9 0 0 0\n",
      " 8 8 0 9 4 9 2 3 4 0 1 4 2 9 7 7 6 7 4 6 6 4 5 2 5 2 5 9 5 7 0 6 3 8 8 9 5\n",
      " 5 6 3 7 6 5 3 3 7 1 5 7 6 2 9 7 9 4 3 4 3 3 8 0 4 8 2 2 4 3 4 6 1 4 0 9 1\n",
      " 0 8 2 8 5 9 8 6 3 9 7 5 7 9 6 8 2 7 6 7 1 1 3 7 3 5 6 2 6 0 0 6 7 7 6 9 9\n",
      " 9 1 6 6 2 2 8 9 9 0 9 8 8 5 1 2 1 6 0 5 6 2 1 7 1 5 1 8 7 9 6 3 7 8 2 9 0\n",
      " 8 5 3 1 1 5 5 9 5 3 1 0 1 7 7 2 6 2 2 5 0 0 9 0 7 1 3 9 7 1 3 0 0 5 9 6 6\n",
      " 4 3 7 4 1 6 6 5 1 0 0 7 5 6 6 6 4 0 8 2 9 6 3 5 0 0 1 4 8 3 1 1 3 1 0 2 3\n",
      " 6 1 5 9 1 4 1 6 2 3 8 5 1 2 3 5 0 8 0 9 9 6 1 1 2 3 6 5 1 7 1 1 8 3 1 4 1\n",
      " 6 3 5 6 0 7 6 0 9 9 9 8 5 6 1 7 7 1 4 4 4 9 0 6 1 4 6 1 9 6 3 2 3 4 3 1 4\n",
      " 8 0 9 4 2 7 7 7 9 2 1 7 7 1 7 5 7 0 7 7 6 8 4 9 0 1 2 5 3 6 9 4 9 7 2 5 0\n",
      " 4 1 4 3 4 2 7 2 7 5 1 3 7 1 1 8 9 1 2 1 4 0 0 3 7 6 8 1 1 1 2 4 9 7 4 2 4\n",
      " 6 0 1 2 1 8 9 5 7 5 2 2 1 8 7 4 8 5 5 8 8 0 2 6 2 1 9 5 0 7 9 2 7 5 3 1 9\n",
      " 6 9 5 1 1 2 4 4 0 1 4 6 2 6 7 8 5 4 3 0 2 9 1 3 0 8 1 1 8 7 5 5 3 9 6 9 5\n",
      " 1]\n"
     ]
    },
    {
     "data": {
      "text/html": [
       "<div>\n",
       "<style scoped>\n",
       "    .dataframe tbody tr th:only-of-type {\n",
       "        vertical-align: middle;\n",
       "    }\n",
       "\n",
       "    .dataframe tbody tr th {\n",
       "        vertical-align: top;\n",
       "    }\n",
       "\n",
       "    .dataframe thead th {\n",
       "        text-align: right;\n",
       "    }\n",
       "</style>\n",
       "<table border=\"1\" class=\"dataframe\">\n",
       "  <thead>\n",
       "    <tr style=\"text-align: right;\">\n",
       "      <th></th>\n",
       "      <th>Label</th>\n",
       "      <th>Predicted</th>\n",
       "      <th>Correct</th>\n",
       "    </tr>\n",
       "  </thead>\n",
       "  <tbody>\n",
       "    <tr>\n",
       "      <th>0</th>\n",
       "      <td>0</td>\n",
       "      <td>0</td>\n",
       "      <td>True</td>\n",
       "    </tr>\n",
       "    <tr>\n",
       "      <th>1</th>\n",
       "      <td>0</td>\n",
       "      <td>0</td>\n",
       "      <td>True</td>\n",
       "    </tr>\n",
       "    <tr>\n",
       "      <th>2</th>\n",
       "      <td>1</td>\n",
       "      <td>1</td>\n",
       "      <td>True</td>\n",
       "    </tr>\n",
       "    <tr>\n",
       "      <th>3</th>\n",
       "      <td>3</td>\n",
       "      <td>3</td>\n",
       "      <td>True</td>\n",
       "    </tr>\n",
       "    <tr>\n",
       "      <th>4</th>\n",
       "      <td>6</td>\n",
       "      <td>2</td>\n",
       "      <td>False</td>\n",
       "    </tr>\n",
       "    <tr>\n",
       "      <th>...</th>\n",
       "      <td>...</td>\n",
       "      <td>...</td>\n",
       "      <td>...</td>\n",
       "    </tr>\n",
       "    <tr>\n",
       "      <th>995</th>\n",
       "      <td>9</td>\n",
       "      <td>9</td>\n",
       "      <td>True</td>\n",
       "    </tr>\n",
       "    <tr>\n",
       "      <th>996</th>\n",
       "      <td>6</td>\n",
       "      <td>6</td>\n",
       "      <td>True</td>\n",
       "    </tr>\n",
       "    <tr>\n",
       "      <th>997</th>\n",
       "      <td>9</td>\n",
       "      <td>9</td>\n",
       "      <td>True</td>\n",
       "    </tr>\n",
       "    <tr>\n",
       "      <th>998</th>\n",
       "      <td>5</td>\n",
       "      <td>4</td>\n",
       "      <td>False</td>\n",
       "    </tr>\n",
       "    <tr>\n",
       "      <th>999</th>\n",
       "      <td>1</td>\n",
       "      <td>1</td>\n",
       "      <td>True</td>\n",
       "    </tr>\n",
       "  </tbody>\n",
       "</table>\n",
       "<p>1000 rows × 3 columns</p>\n",
       "</div>"
      ],
      "text/plain": [
       "     Label  Predicted  Correct\n",
       "0        0          0     True\n",
       "1        0          0     True\n",
       "2        1          1     True\n",
       "3        3          3     True\n",
       "4        6          2    False\n",
       "..     ...        ...      ...\n",
       "995      9          9     True\n",
       "996      6          6     True\n",
       "997      9          9     True\n",
       "998      5          4    False\n",
       "999      1          1     True\n",
       "\n",
       "[1000 rows x 3 columns]"
      ]
     },
     "execution_count": 28,
     "metadata": {},
     "output_type": "execute_result"
    }
   ],
   "source": [
    "test_predictions = make_predictions(X_test, W1, b1, W2, b2)\n",
    "acc = get_accuracy(test_predictions, y_test);\n",
    "df = pd.DataFrame({'Label': y_test, 'Predicted': test_predictions})  # Create DataFrame \n",
    "df['Correct'] = df['Label'] == df['Predicted']  # Add 'Correct' column  \n",
    "df"
   ]
  },
  {
   "cell_type": "markdown",
   "metadata": {},
   "source": [
    "This Python code is making predictions on the test set using the trained neural network and then calculating the accuracy of these predictions. Here's a breakdown of what each line does:\n",
    "\n",
    "1. `test_predictions = make_predictions(X_test, W1, b1, W2, b2)`: This line is calling the `make_predictions` function with the test set `X_test` and the trained weights and biases (`W1`, `b1`, `W2`, `b2`). The function performs forward propagation on `X_test` using the provided weights and biases, gets the predictions by calling the `get_predictions` function on the output of the last layer, and returns these predictions.\n",
    "\n",
    "2. `get_accuracy(test_predictions, y_test)`: This line is calling the `get_accuracy` function with the predictions on the test set and the true labels `y_test`. The function calculates the accuracy as the proportion of predictions that exactly match the true labels, and prints this accuracy.\n"
   ]
  },
  {
   "cell_type": "markdown",
   "metadata": {},
   "source": [
    "#### Cheeting, using `scikit-learn` for simplicity:"
   ]
  },
  {
   "cell_type": "code",
   "execution_count": 29,
   "metadata": {},
   "outputs": [
    {
     "name": "stdout",
     "output_type": "stream",
     "text": [
      "True label(rows 0,..., 9) vs. Predicted label (columns 0,..., 9) \n",
      "\n",
      " [[ 87   0   1   0   0   2   1   1   0   0]\n",
      " [  0 132   2   2   0   2   0   0   5   0]\n",
      " [  1   2  68   1   1   0   5   1   1   1]\n",
      " [  1   2   6  75   0   7   1   3   4   0]\n",
      " [  0   1   0   0  78   0   1   2   2   9]\n",
      " [  1   1   0   5   2  72   2   2   4   1]\n",
      " [  1   2   1   0   6   0  98   0   2   0]\n",
      " [  1   1   3   0   0   0   0  89   0   7]\n",
      " [  0   1   2   3   0   5   0   1  64   5]\n",
      " [  2   1   1   1  12   2   0   7   4  80]]\n",
      "\n",
      "              precision    recall  f1-score   support\n",
      "\n",
      "           0       0.93      0.95      0.94        92\n",
      "           1       0.92      0.92      0.92       143\n",
      "           2       0.81      0.84      0.82        81\n",
      "           3       0.86      0.76      0.81        99\n",
      "           4       0.79      0.84      0.81        93\n",
      "           5       0.80      0.80      0.80        90\n",
      "           6       0.91      0.89      0.90       110\n",
      "           7       0.84      0.88      0.86       101\n",
      "           8       0.74      0.79      0.77        81\n",
      "           9       0.78      0.73      0.75       110\n",
      "\n",
      "    accuracy                           0.84      1000\n",
      "   macro avg       0.84      0.84      0.84      1000\n",
      "weighted avg       0.84      0.84      0.84      1000\n",
      "\n"
     ]
    }
   ],
   "source": [
    "from sklearn.metrics import classification_report\n",
    "from sklearn.metrics import confusion_matrix\n",
    "\n",
    "print(f'True label(rows 0,..., 9) vs. Predicted label (columns 0,..., 9) \\n\\n {confusion_matrix(y_test, test_predictions)}\\n')\n",
    "print(classification_report(y_test, test_predictions))"
   ]
  },
  {
   "cell_type": "markdown",
   "metadata": {
    "papermill": {
     "duration": 0.038287,
     "end_time": "2020-11-24T15:34:35.112466",
     "exception": false,
     "start_time": "2020-11-24T15:34:35.074179",
     "status": "completed"
    },
    "tags": []
   },
   "source": [
    "Still ~84% accuracy, so our model generalized from the training data pretty well."
   ]
  },
  {
   "cell_type": "markdown",
   "metadata": {},
   "source": [
    "## A **PyTorch** implementation with one hidden layers\n",
    "Creating a similar neural network using PyTorch involves defining the model architecture, specifying the forward propagation steps, and setting up the training loop, which includes both forward and backward propagation. Let's dive into the PyTorch implementation:"
   ]
  },
  {
   "cell_type": "code",
   "execution_count": 30,
   "metadata": {},
   "outputs": [
    {
     "name": "stdout",
     "output_type": "stream",
     "text": [
      "X_train_torch.shape = torch.Size([41000, 1, 28, 28])\n",
      "y_train_torch.shape = torch.Size([41000])\n",
      "Epoch 1/10, Loss: 0.536\n",
      "Epoch 2/10, Loss: 0.291\n",
      "Epoch 3/10, Loss: 0.313\n",
      "Epoch 4/10, Loss: 0.396\n",
      "Epoch 5/10, Loss: 0.201\n",
      "Epoch 6/10, Loss: 0.171\n",
      "Epoch 7/10, Loss: 0.136\n",
      "Epoch 8/10, Loss: 0.382\n",
      "Epoch 9/10, Loss: 0.361\n",
      "Epoch 10/10, Loss: 0.170\n",
      "\n",
      "Model architecture: SimpleNN(\n",
      "  (flatten): Flatten(start_dim=1, end_dim=-1)\n",
      "  (dense1): Linear(in_features=784, out_features=10, bias=True)\n",
      "  (dense2): Linear(in_features=10, out_features=10, bias=True)\n",
      ")\n"
     ]
    }
   ],
   "source": [
    "import torch\n",
    "import torch.nn as nn\n",
    "import torch.optim as optim\n",
    "import torch.nn.functional as F\n",
    "from torch.utils.data import DataLoader, TensorDataset\n",
    "\n",
    "# Define the neural network architecture\n",
    "class SimpleNN(nn.Module):\n",
    "    def __init__(self):\n",
    "        super(SimpleNN, self).__init__()\n",
    "        self.flatten = nn.Flatten()\n",
    "        self.dense1 = nn.Linear(784, 10)  # First layer (input to hidden)\n",
    "        self.dense2 = nn.Linear(10, 10)   # Second layer (hidden to output)\n",
    "\n",
    "    def forward(self, x):\n",
    "        x = self.flatten(x)\n",
    "        x = F.relu(self.dense1(x))  # ReLU activation for hidden layer\n",
    "        x = self.dense2(x)          # No activation yet for output layer\n",
    "        return x\n",
    "\n",
    "# Create the model\n",
    "model = SimpleNN()\n",
    "\n",
    "# Loss function and optimizer\n",
    "criterion = nn.CrossEntropyLoss()\n",
    "optimizer = optim.Adam(model.parameters(), lr=0.001)\n",
    "\n",
    "# Dummy dataset\n",
    "# num_samples = 1000\n",
    "# X_train = torch.rand(num_samples, 1, 28, 28)  # Simulating 28x28 grayscale images in MNIST\n",
    "# y_train = torch.randint(0, 10, (num_samples,))  # Random labels for 10 classes\n",
    "\n",
    "# Real dataset - in our case from the MNIST database, and convert it to proper tensors\n",
    "X_train_reshape = X_train.T.reshape(-1, 1, 28, 28)  # Reshape to: num_samples, 1 batch size, flattened 28x28 grayscale images\n",
    "X_train_torch = torch.from_numpy(X_train_reshape).float()\n",
    "print(f'X_train_torch.shape = {X_train_torch.shape}')\n",
    "\n",
    "y_train_torch = torch.from_numpy(y_train).long()\n",
    "print(f'y_train_torch.shape = {y_train_torch.shape}')\n",
    "\n",
    "# Create data loader\n",
    "bs = 64 # Batch size\n",
    "train_data = TensorDataset(X_train_torch, y_train_torch) \n",
    "train_loader = DataLoader(train_data, batch_size=bs, shuffle=True)\n",
    "\n",
    "# Training loop\n",
    "num_epochs = 10\n",
    "for epoch in range(num_epochs):\n",
    "    for inputs, labels in train_loader:\n",
    "        optimizer.zero_grad()             # Zero the gradient buffers\n",
    "        outputs = model(inputs)           # Forward pass\n",
    "        loss = criterion(outputs, labels) # Calculate loss\n",
    "        loss.backward()                   # Backward pass\n",
    "        optimizer.step()                  # Update weights\n",
    "\n",
    "    print(f\"Epoch {epoch+1}/{num_epochs}, Loss: {loss.item():.3f}\")\n",
    "\n",
    "\n",
    "# Print the model architecture\n",
    "print(f'\\nModel architecture: {model}')\n",
    "\n"
   ]
  },
  {
   "cell_type": "markdown",
   "metadata": {},
   "source": [
    "This Python script is implementing a simple neural network for a classification task using PyTorch. Here's a breakdown of what each part does:\n",
    "\n",
    "1. **Import necessary libraries**: The script starts by importing the necessary PyTorch modules.\n",
    "\n",
    "2. **Define the neural network architecture**: A simple neural network is defined using the `nn.Module` class from PyTorch. This network has an input layer (`self.dense1`), a hidden layer with ReLU activation function (`F.relu(self.dense1(x))`), and an output layer (`self.dense2`).\n",
    "\n",
    "3. **Create the model**: An instance of the `SimpleNN` class is created. This instance, `model`, is the neural network that will be trained.\n",
    "\n",
    "4. **Define the loss function and optimizer**: The script uses cross-entropy loss (`nn.CrossEntropyLoss()`) as the loss function and the Adam optimizer (`optim.Adam()`) for training the neural network.\n",
    "\n",
    "5. **Prepare the data**: The script reshapes the training data (`X_train`) to match the input shape expected by the neural network and converts it to a PyTorch tensor. It also converts the training labels (`y_train`) to a PyTorch tensor. These tensors are then used to create a `TensorDataset`, which is a dataset wrapping tensors. A `DataLoader` is created for the `TensorDataset` to handle batching of the data.\n",
    "\n",
    "6. **Train the model**: The script then enters a training loop. For each epoch, it iterates over the `DataLoader`, performing a forward pass, calculating the loss, performing a backward pass, and updating the weights of the neural network.\n",
    "\n",
    "7. **Print the model architecture**: Finally, the script prints the architecture of the model.\n"
   ]
  },
  {
   "cell_type": "markdown",
   "metadata": {},
   "source": [
    "###  Make predictions with the trained one-hidden layer PyTorch model"
   ]
  },
  {
   "cell_type": "markdown",
   "metadata": {},
   "source": [
    "To make predictions on an unseen test dataset and report performance metrics, you'll need to:\n",
    "\n",
    "1. Load the unseen dataset (i.e. the X_test and y_test arrays). They are reprocessed in the same way as the training data.\n",
    "3. Pass the data through the model to get predictions.\n",
    "4. Compare the predictions with the true labels to calculate performance metrics.\n",
    "\n",
    "Here's how you can do it:"
   ]
  },
  {
   "cell_type": "code",
   "execution_count": 31,
   "metadata": {},
   "outputs": [
    {
     "name": "stdout",
     "output_type": "stream",
     "text": [
      "X_test_torch.shape = torch.Size([1000, 1, 28, 28])\n",
      "y_test_torch.shape = torch.Size([1000])\n"
     ]
    }
   ],
   "source": [
    "# Real unseen (_dev) dataset - in our case from the MNIST database, and convert it to proper tensors\n",
    "X_test_reshape = X_test.T.reshape(-1, 1, 28, 28)  # Reshape to: num_samples, 1 batch size, flattened 28x28 grayscale images\n",
    "X_test_torch = torch.from_numpy(X_test_reshape).float()\n",
    "print(f'X_test_torch.shape = {X_test_torch.shape}')\n",
    "\n",
    "y_test_torch = torch.from_numpy(y_test).long()\n",
    "print(f'y_test_torch.shape = {y_test_torch.shape}')"
   ]
  },
  {
   "cell_type": "markdown",
   "metadata": {},
   "source": [
    "This Python code is preparing the unseen test dataset for evaluation with a PyTorch model. Here's a breakdown of what each line does:\n",
    "\n",
    "1. `X_test_reshape = X_test.T.reshape(-1, 1, 28, 28)`: This line reshapes the test data `X_test` into a format that can be used with the PyTorch model. The `-1` in the reshape function means that this dimension will be determined based on the size of the other dimensions, so the resulting shape will be `(num_samples, 1, 28, 28)`. This is the shape expected by the PyTorch model: `num_samples` samples, each with 1 channel (because the images are grayscale), and each image is 28x28 pixels.\n",
    "\n",
    "2. `X_test_torch = torch.from_numpy(X_test_reshape).float()`: This line converts the reshaped test data into a PyTorch tensor of type float.\n",
    "\n",
    "3. `print(f'X_test_torch.shape = {X_test_torch.shape}')`: This line prints the shape of the test data tensor. This is useful for debugging and ensuring that the data is in the correct format.\n",
    "\n",
    "4. `y_test_torch = torch.from_numpy(y_dev).long()`: This line converts the test labels `y_test` into a PyTorch tensor of type long. The PyTorch model expects the labels to be in this format.\n",
    "\n",
    "5. `print(f'y_test_torch.shape = {y_test_torch.shape}')`: This line prints the shape of the test labels tensor. This is useful for debugging and ensuring that the labels are in the correct format.\n"
   ]
  },
  {
   "cell_type": "code",
   "execution_count": 32,
   "metadata": {},
   "outputs": [
    {
     "name": "stdout",
     "output_type": "stream",
     "text": [
      "              precision    recall  f1-score   support\n",
      "\n",
      "           0       0.96      0.95      0.95        92\n",
      "           1       0.95      0.94      0.95       143\n",
      "           2       0.91      0.86      0.89        81\n",
      "           3       0.93      0.83      0.88        99\n",
      "           4       0.85      0.95      0.90        93\n",
      "           5       0.89      0.89      0.89        90\n",
      "           6       0.93      0.94      0.93       110\n",
      "           7       0.91      0.92      0.92       101\n",
      "           8       0.86      0.95      0.90        81\n",
      "           9       0.92      0.88      0.90       110\n",
      "\n",
      "    accuracy                           0.91      1000\n",
      "   macro avg       0.91      0.91      0.91      1000\n",
      "weighted avg       0.91      0.91      0.91      1000\n",
      "\n",
      "CPU times: user 24.7 ms, sys: 39.6 ms, total: 64.4 ms\n",
      "Wall time: 10.8 ms\n"
     ]
    }
   ],
   "source": [
    "%%time \n",
    "\n",
    "from sklearn.metrics import classification_report\n",
    "import torch\n",
    "\n",
    "# Load the unseen dataset\n",
    "#test_data = pd.read_csv('data/test.csv')\n",
    "\n",
    "# Preprocess the data\n",
    "#X_test = test_data.drop('label', axis=1).values / 255\n",
    "#y_test = test_data['label'].values\n",
    "#X_test_torch = torch.from_numpy(X_test).float()\n",
    "#y_test_torch = torch.from_numpy(y_test).long()\n",
    "\n",
    "# Make predictions\n",
    "model.eval()  # Set the model to evaluation mode\n",
    "with torch.no_grad():  # Temporarily turn off gradient descent\n",
    "    outputs = model(X_test_torch)\n",
    "    _, predicted = torch.max(outputs, 1)\n",
    "\n",
    "# Calculate performance metrics\n",
    "print(classification_report(y_test_torch, predicted))"
   ]
  },
  {
   "cell_type": "markdown",
   "metadata": {},
   "source": [
    "\n",
    "\n",
    "This script uses the `classification_report` function from `sklearn.metrics` to calculate and print several performance metrics, including precision, recall, f1-score, and support for each class, as well as the overall accuracy of the model.\n",
    "\n",
    "Please note that this script assumes that your dev dataset is in the same format as your training dataset and that it's located at 'data/dev.csv'. If this is not the case, you'll need to adjust the script accordingly."
   ]
  },
  {
   "cell_type": "markdown",
   "metadata": {},
   "source": [
    "\n",
    "\n",
    "In this example, `model` is an instance of the `Net` class, which is a simple feed-forward neural network with one hidden layer. The `forward` method defines the forward pass of the network.\n",
    "\n",
    "In your provided code, `model.eval()` is used to set the model to evaluation mode. This turns off features like dropout and batch normalization that are used during training but not during evaluation.\n",
    "\n",
    "Then, `outputs = model(X_test_torch)` is used to make predictions on the test data. The model's forward pass is called with the test data as input, and it returns the raw, unnormalized scores (also known as logits) for each class.\n",
    "\n",
    "Finally, `_, predicted = torch.max(outputs, 1)` is used to get the predicted class indices. `torch.max()` returns the maximum value of all elements in the `outputs` tensor along the dimension 1 (which represents the class dimension), and its corresponding indices. The underscore `_` is a conventional variable used to store the maximum values, which are not needed in this case. The `predicted` tensor contains the predicted class indices."
   ]
  },
  {
   "cell_type": "markdown",
   "metadata": {},
   "source": [
    "## A PyTorch implementation with two hidden layers\n",
    "\n",
    "Creating a PyTorch model for MNIST classification with the initially specified architecture (2 hiddel layers) involves several steps. The MNIST dataset consists of 28x28 pixel grayscale images of handwritten digits (0-9), which we flatten into a 784-dimensional input vector for feeding into a neural network. The network will have two hidden layers and a final output layer that uses one-hot encoding for the 10 possible classes (digits 0-9). Here's a step-by-step guide to the PyTorch code for this task:\n",
    "\n",
    "Cf. multiple hidden layers in:\n",
    "\n",
    "<img src=\"assets/Waldrop-multiple-hidden-layers.png\" width=720>"
   ]
  },
  {
   "cell_type": "markdown",
   "metadata": {},
   "source": [
    "## Some theory\n",
    "\n",
    "#### - Back-propagation (of errors) in a multi-layer perceptron with multiple hidden layers"
   ]
  },
  {
   "cell_type": "markdown",
   "metadata": {},
   "source": [
    "To derive the back-propagation algorithm for a feed-forward neural network (NN) with two hidden layers, particularly for the MNIST dataset, we will first outline the architecture of the network and the functions involved. The network consists of 784 input nodes (corresponding to the 28x28 pixels of the MNIST images), two hidden layers with an arbitrary number of nodes $ h_1 $ and $ h_2 $ respectively, and 10 output nodes corresponding to the 10 digit classes. The activation functions used are ReLU for the hidden layers and softmax for the output layer.\n",
    "\n",
    "#### Activation functions:\n",
    "Definition of **ReLU** and **softmax** functions:\n",
    "\n",
    "$ \\text{ReLU}(z) = \\max(0, z) $, where $z$ is real number, and $ \\text{softmax}(\\mathbf{z})_i = \\frac{e^{z_i}}{\\sum_{j=1}^{10} e^{z_j}} $, where $\\mathbf{z}$ is a vector of size 10. The range of softmax($\\mathbf{z}$) is (0,1), and the entire output vector sums up to 1, behaving like a probability distribution over 10 classes.\n",
    "\n",
    "### Network Architecture\n",
    "\n",
    "1. **Input Layer**: 784 nodes ($ x_i, i = 1 \\text{ to } 784 $)\n",
    "2. **First Hidden Layer**: $ h_1 $ nodes with ReLU activation ($ z^{[1]} $ and $ a^{[1]} $)\n",
    "3. **Second Hidden Layer**: $ h_2 $ nodes with ReLU activation ($ z^{[2]} $ and $ a^{[2]} $)\n",
    "4. **Output Layer**: 10 nodes with Softmax activation ($ z^{[3]} $ and $ a^{[3]} $)\n",
    "\n",
    "### Forward Propagation\n",
    "\n",
    "1. **First Hidden Layer**:\n",
    "\n",
    "    $ z^{[1]} = W^{[1]}x + b^{[1]} \\\\$\n",
    "\n",
    "    $ a^{[1]} = \\text{ReLU}(z^{[1]}) $\n",
    "\n",
    "2. **Second Hidden Layer**:\n",
    "\n",
    "    $ z^{[2]} = W^{[2]}a^{[1]} + b^{[2]} \\\\$\n",
    "\n",
    "    $ a^{[2]} = \\text{ReLU}(z^{[2]}) $\n",
    "\n",
    "3. **Output Layer**:\n",
    "\n",
    "    $ z^{[3]} = W^{[3]}a^{[2]} + b^{[3]} \\\\$\n",
    "    \n",
    "    $ a^{[3]} = \\text{softmax}(z^{[3]}) $\n",
    "\n",
    "### Back-Propagation\n",
    "\n",
    "The goal of back-propagation is to compute the gradient of the loss function with respect to each weight and bias in the network.<br><br>\n",
    "\n",
    "1. **Loss Function**: Cross-entropy loss is typically used for classification tasks.<br>\n",
    "\n",
    "    $ L(y, \\hat{y}) = - \\sum_{i=1}^{10} y_i \\log(\\hat{y}_i) \\,$, where $ y $ is the true label and $ \\hat{y} = a^{[3]} $ is the predicted output. The loss function is a scalar value. <br><br><br>\n",
    "\n",
    "2. **Output Layer Gradients**:\n",
    "\n",
    "    $ \\frac{\\partial L}{\\partial z^{[3]}} = a^{[3]} - y \\\\ \\\\$\n",
    "\n",
    "    $ \\frac{\\partial L}{\\partial W^{[3]}} = \\frac{\\partial L}{\\partial z^{[3]}} a^{[2]T} \\\\ \\\\ $\n",
    "   \n",
    "    $ \\frac{\\partial L}{\\partial b^{[3]}} = \\frac{\\partial L}{\\partial z^{[3]}} \\\\$ <br><br>\n",
    "\n",
    "3. **Second Hidden Layer Gradients**:\n",
    "\n",
    "    $ \\frac{\\partial L}{\\partial z^{[2]}} = (W^{[3]T} \\frac{\\partial L}{\\partial z^{[3]}}) * g'(z^{[2]}) $, \n",
    "    where $ * $ denotes element-wise multiplication and $ g'(z^{[2]}) $ is the derivative of the ReLU function.\n",
    "    \n",
    "    $ \\frac{\\partial L}{\\partial W^{[2]}} = \\frac{\\partial L}{\\partial z^{[2]}} a^{[1]T} \\\\ \\\\$\n",
    "    \n",
    "    $ \\frac{\\partial L}{\\partial b^{[2]}} = \\frac{\\partial L}{\\partial z^{[2]}} $\n",
    "    <br><br><br>\n",
    "\n",
    "4. **First Hidden Layer Gradients**:\n",
    "\n",
    "    $ \\frac{\\partial L}{\\partial z^{[1]}} = (W^{[2]T} \\frac{\\partial L}{\\partial z^{[2]}}) * g'(z^{[1]}) \\\\ \\\\$\n",
    "    \n",
    "    $ \\frac{\\partial L}{\\partial W^{[1]}} = \\frac{\\partial L}{\\partial z^{[1]}} x^T \\\\ \\\\$\n",
    "\n",
    "    $ \\frac{\\partial L}{\\partial b^{[1]}} = \\frac{\\partial L}{\\partial z^{[1]}} \\\\$\n",
    "\n",
    "### Update Rules\n",
    "\n",
    "The weights and biases are updated using gradient descent: <br>\n",
    "\n",
    "\n",
    "**Weights**:\n",
    "    $ W^{[l]} := W^{[l]} - \\alpha \\frac{\\partial L}{\\partial W^{[l]}}  \\\\ \\\\ $   \n",
    "**Biases**:  $ b^{[l]} := b^{[l]} - \\alpha \\frac{\\partial L}{\\partial b^{[l]}} \\\\ $\n",
    "\n",
    "where $ \\alpha $ is the learning rate.  <br><br>\n",
    "\n"
   ]
  },
  {
   "cell_type": "markdown",
   "metadata": {},
   "source": [
    "#### Specify variables and shapes in forward propagation and backward propagatio"
   ]
  },
  {
   "cell_type": "markdown",
   "metadata": {},
   "source": [
    "Specifying the shapes of variables in both forward and backward propagation helps to clarify the implementation of the neural network.\n",
    "\n",
    "### Forward Propagation\n",
    "\n",
    "- **Input Layer**: \n",
    "  - Input $ X $: Shape $(784, m)$ where $ m $ is the number of examples.\n",
    "\n",
    "- **First Hidden Layer**:\n",
    "  - Weights $ W^{[1]} $: Shape $(h_1, 784)$\n",
    "  - Bias $ b^{[1]} $: Shape $(h_1, 1)$\n",
    "  - Linear combination $ z^{[1]} = W^{[1]}X + b^{[1]} $: Shape $(h_1, m)$\n",
    "  - Activation $ a^{[1]} = \\text{ReLU}(z^{[1]}) $: Shape $(h_1, m)$\n",
    "\n",
    "- **Second Hidden Layer**:\n",
    "  - Weights $ W^{[2]} $: Shape $(h_2, h_1)$\n",
    "  - Bias $ b^{[2]} $: Shape $(h_2, 1)$\n",
    "  - Linear combination $ z^{[2]} = W^{[2]}a^{[1]} + b^{[2]} $: Shape $(h_2, m)$\n",
    "  - Activation $ a^{[2]} = \\text{ReLU}(z^{[2]}) $: Shape $(h_2, m)$\n",
    "\n",
    "- **Output Layer**:\n",
    "  - Weights $ W^{[3]} $: Shape $(10, h_2)$\n",
    "  - Bias $ b^{[3]} $: Shape $(10, 1)$\n",
    "  - Linear combination $ z^{[3]} = W^{[3]}a^{[2]} + b^{[3]} $: Shape $(10, m)$\n",
    "  - Activation $ a^{[3]} = \\text{softmax}(z^{[3]}) $: Shape $(10, m)$\n",
    "\n",
    "### Backward Propagation\n",
    "\n",
    "- **Output Layer**:\n",
    "  - Gradient of loss w.r.t. output $ \\frac{\\partial L}{\\partial z^{[3]}} $: Shape $(10, m)$\n",
    "  - Gradient of loss w.r.t. weights $ \\frac{\\partial L}{\\partial W^{[3]}} $: Shape $(10, h_2)$\n",
    "  - Gradient of loss w.r.t. biases $ \\frac{\\partial L}{\\partial b^{[3]}} $: Shape $(10, 1)$\n",
    "\n",
    "- **Second Hidden Layer**:\n",
    "  - Gradient of loss w.r.t. pre-activation $ \\frac{\\partial L}{\\partial z^{[2]}} $: Shape $(h_2, m)$\n",
    "  - Gradient of loss w.r.t. weights $ \\frac{\\partial L}{\\partial W^{[2]}} $: Shape $(h_2, h_1)$\n",
    "  - Gradient of loss w.r.t. biases $ \\frac{\\partial L}{\\partial b^{[2]}} $: Shape $(h_2, 1)$\n",
    "\n",
    "- **First Hidden Layer**:\n",
    "  - Gradient of loss w.r.t. pre-activation $ \\frac{\\partial L}{\\partial z^{[1]}} $: Shape $(h_1, m)$\n",
    "  - Gradient of loss w.r.t. weights $ \\frac{\\partial L}{\\partial W^{[1]}} $: Shape $(h_1, 784)$\n",
    "  - Gradient of loss w.r.t. biases $ \\frac{\\partial L}{\\partial b^{[1]}} $: Shape $(h_1, 1)$\n",
    "\n",
    "### Update Rules\n",
    "\n",
    "- The weights and biases are updated by subtracting the product of the learning rate and the respective gradients:\n",
    "  - $ W^{[l]} := W^{[l]} - \\alpha \\frac{\\partial L}{\\partial W^{[l]}} $\n",
    "  - $ b^{[l]} := b^{[l]} - \\alpha \\frac{\\partial L}{\\partial b^{[l]}} $\n",
    "\n",
    "This outline should provide a clear understanding of the shapes and flow of data through a neural network designed for the MNIST dataset. Remember, the actual values for $ h_1 $ and $ h_2 $ (the number of nodes in the hidden layers) are design choices that depend on the specific implementation and experimentation."
   ]
  },
  {
   "cell_type": "markdown",
   "metadata": {},
   "source": [
    "### Specifying initial values:"
   ]
  },
  {
   "cell_type": "markdown",
   "metadata": {},
   "source": [
    "To specify the initial values of the variables in a neural network designed for the MNIST dataset, we typically follow certain conventions and best practices. These initial values are crucial as they can significantly impact the convergence and performance of the network.\n",
    "\n",
    "#### Initial Values of Variables\n",
    "\n",
    "- **Input Layer**: \n",
    "  - Input $ X $: Contains the MNIST images. Each image is flattened to a 784-dimensional vector (since MNIST images are 28x28 pixels).\n",
    "\n",
    "- **First Hidden Layer**:\n",
    "  - Weights $ W^{[1]} $: Initialized randomly to break symmetry. Often initialized from a normal distribution with mean 0 and a small standard deviation (e.g., 0.01).\n",
    "  - Bias $ b^{[1]} $: Typically initialized to zero. Shape $(h_1, 1)$, where $ h_1 $ is the number of nodes in the first hidden layer.\n",
    "\n",
    "- **Second Hidden Layer**:\n",
    "  - Weights $ W^{[2]} $: Also initialized randomly, similar to $ W^{[1]} $.\n",
    "  - Bias $ b^{[2]} $: Initialized to zero. Shape $(h_2, 1)$, where $ h_2 $ is the number of nodes in the second hidden layer.\n",
    "\n",
    "- **Output Layer**:\n",
    "  - Weights $ W^{[3]} $: Randomly initialized.\n",
    "  - Bias $ b^{[3]} $: Initialized to zero. Shape $(10, 1)$ since there are 10 output classes.\n",
    "\n",
    "#### Remarks on Initialization\n",
    "\n",
    "- **Random Initialization of Weights**: This is crucial to avoid symmetry during training. If all weights are initialized to the same value, all neurons in a layer will learn the same features, which is not desirable.\n",
    "  \n",
    "- **Zero Initialization of Biases**: Initializing biases to zero is a common practice. Since weights are randomly initialized, this still leads to asymmetry in the learning process.\n",
    "\n",
    "- **Magnitude of Weight Initialization**: The scale of initial weights should be neither too large nor too small. Large weights can cause the activation function to saturate, while too small weights can slow down the learning process. He or Xavier initialization methods are often used to maintain a balance.\n",
    "\n",
    "- **Shape of Weights and Biases**: It's important to ensure the dimensions of weights and biases match the architecture of the network. For example, if the first hidden layer has $ h_1 $ nodes, the shape of $ W^{[1]} $ will be $(h_1, 784)$ and that of $ b^{[1]} $ will be $(h_1, 1)$.\n",
    "\n",
    "- **Specific Values for $ h_1 $ and $ h_2 $**: The number of nodes in the hidden layers $ h_1 $ and $ h_2 $ are hyperparameters that you need to decide based on experimentation and the requirements of your task. A common practice is to start with a smaller number of nodes and increase them based on the performance of the network.\n",
    "\n",
    "In summary, initializing the neural network correctly is a critical step in preparing it for effective training on datasets like MNIST. The choices made here can have significant implications for the learning dynamics and the final performance of the model."
   ]
  },
  {
   "cell_type": "markdown",
   "metadata": {},
   "source": [
    "**This provides a comprehensive overview of the back-propagation process for a neural network with two hidden layers, tailored to the MNIST dataset. It's crucial to implement these equations accurately in your code to train the neural network effectively.**"
   ]
  },
  {
   "cell_type": "markdown",
   "metadata": {},
   "source": [
    "### A PyTorch implementation of a two-hidden layer NN"
   ]
  },
  {
   "cell_type": "markdown",
   "metadata": {},
   "source": [
    "We create a two-hidden layer PyTorch neural network for the MNIST dataset, train it, and then evaluate its performance by displaying metrics, the confusion matrix, and misclassified instances, following these steps:\n",
    "\n",
    "- Define the Neural Network Class\n",
    "- Load and Preprocess the MNIST Data\n",
    "- Instantiate the Model, Loss Function, and Optimizer\n",
    "- Train the Model\n",
    "- Test the Model and Collect Data for Evaluation\n",
    "- Evaluate the Performance"
   ]
  },
  {
   "cell_type": "markdown",
   "metadata": {},
   "source": [
    "### Import necessary libraries"
   ]
  },
  {
   "cell_type": "code",
   "execution_count": 33,
   "metadata": {},
   "outputs": [],
   "source": [
    "import numpy as np\n",
    "from sklearn.metrics import confusion_matrix\n",
    "from sklearn.metrics import classification_report\n",
    "import matplotlib.pyplot as plt\n",
    "import seaborn as sns\n",
    "import torch\n",
    "import torch.nn as nn\n",
    "import torch.nn.functional as F\n",
    "import torch.optim as optim\n",
    "from torchvision import datasets, transforms"
   ]
  },
  {
   "cell_type": "markdown",
   "metadata": {},
   "source": [
    "### 1. Define the Neural Network\n",
    "Here's a class definition for the neural network. It includes an input layer, two hidden layers, and an output layer. The `forward` method defines the sequence of operations for forward propagation."
   ]
  },
  {
   "cell_type": "code",
   "execution_count": 34,
   "metadata": {},
   "outputs": [],
   "source": [
    "class MNISTClassifier(nn.Module):\n",
    "    def __init__(self):\n",
    "        super(MNISTClassifier, self).__init__()\n",
    "        self.fc1 = nn.Linear(784, 128) # First hidden layer with 128 neurons\n",
    "        self.fc2 = nn.Linear(128, 64)  # Second hidden layer with 64 neurons\n",
    "        self.fc3 = nn.Linear(64, 10)   # Output layer with 10 neurons (one for each class)\n",
    "\n",
    "    def forward(self, x):\n",
    "        x = F.relu(self.fc1(x))  # Activation function for first hidden layer\n",
    "        x = F.relu(self.fc2(x))  # Activation function for second hidden layer\n",
    "        x = self.fc3(x)          # No activation needed in the output layer\n",
    "        return x"
   ]
  },
  {
   "cell_type": "markdown",
   "metadata": {},
   "source": [
    "### 2. Load and Preprocess the MNIST Data"
   ]
  },
  {
   "cell_type": "code",
   "execution_count": 35,
   "metadata": {},
   "outputs": [],
   "source": [
    "# MNIST Data loading\n",
    "transform = transforms.Compose([\n",
    "    transforms.ToTensor(),\n",
    "    transforms.Lambda(lambda x: torch.flatten(x))\n",
    "])\n",
    "\n",
    "train_dataset = datasets.MNIST('./data', train=True, download=True, transform=transform)\n",
    "test_dataset = datasets.MNIST('./data', train=False, transform=transform)\n",
    "\n",
    "train_loader = torch.utils.data.DataLoader(train_dataset, batch_size=64, shuffle=True)\n",
    "test_loader = torch.utils.data.DataLoader(test_dataset, batch_size=1000, shuffle=False)\n"
   ]
  },
  {
   "cell_type": "markdown",
   "metadata": {},
   "source": [
    "### 3. Instantiate the Model, Loss Function, and Optimizer"
   ]
  },
  {
   "cell_type": "code",
   "execution_count": 36,
   "metadata": {},
   "outputs": [],
   "source": [
    "model = MNISTClassifier()\n",
    "criterion = nn.CrossEntropyLoss()\n",
    "optimizer = optim.Adam(model.parameters(), lr=0.001)\n"
   ]
  },
  {
   "cell_type": "markdown",
   "metadata": {},
   "source": [
    "### 4. Train the Model\n",
    "Define a function to train the model."
   ]
  },
  {
   "cell_type": "code",
   "execution_count": 37,
   "metadata": {},
   "outputs": [],
   "source": [
    "def train(model, device, train_loader, optimizer, epoch):\n",
    "    model.train()\n",
    "    for batch_idx, (data, target) in enumerate(train_loader):\n",
    "        data, target = data.to(device), target.to(device)\n",
    "        optimizer.zero_grad()\n",
    "        output = model(data)\n",
    "        loss = criterion(output, target)\n",
    "        loss.backward()\n",
    "        optimizer.step()\n"
   ]
  },
  {
   "cell_type": "markdown",
   "metadata": {},
   "source": [
    "### 5. Test the Model and Collect Data for Evaluation\n",
    "Modify the test function to collect misclassified instances and compute the confusion matrix."
   ]
  },
  {
   "cell_type": "code",
   "execution_count": 38,
   "metadata": {},
   "outputs": [],
   "source": [
    "def test_and_collect_misclassified(model, device, test_loader):\n",
    "    model.eval()\n",
    "    test_loss = 0\n",
    "    correct = 0\n",
    "    confusion_matrix_data = np.zeros((10, 10), dtype=int)\n",
    "    misclassified_images = []\n",
    "    misclassified_true_labels = []\n",
    "    misclassified_pred_labels = []\n",
    "\n",
    "    with torch.no_grad():\n",
    "        for data, target in test_loader:\n",
    "            data, target = data.to(device), target.to(device)\n",
    "            output = model(data)\n",
    "            test_loss += criterion(output, target).item()\n",
    "            pred = output.argmax(dim=1, keepdim=True)\n",
    "            correct += pred.eq(target.view_as(pred)).sum().item()\n",
    "\n",
    "            # Confusion matrix and misclassified images\n",
    "            for t, p in zip(target.view_as(pred), pred):\n",
    "                confusion_matrix_data[t.item(), p.item()] += 1\n",
    "\n",
    "            misclassified = (pred != target.view_as(pred)).squeeze()\n",
    "            misclassified_images.extend(data[misclassified].to(device)) # .cpu())\n",
    "            misclassified_true_labels.extend(target[misclassified].to(device)) # .cpu())\n",
    "            misclassified_pred_labels.extend(pred[misclassified].to(device)) # .cpu())\n",
    "\n",
    "    test_loss /= len(test_loader.dataset)\n",
    "    accuracy = 100. * correct / len(test_loader.dataset)\n",
    "    return confusion_matrix_data, misclassified_images, misclassified_true_labels, misclassified_pred_labels, test_loss, accuracy"
   ]
  },
  {
   "cell_type": "markdown",
   "metadata": {},
   "source": [
    "#### 5a. Plot confusion matrix  "
   ]
  },
  {
   "cell_type": "code",
   "execution_count": 39,
   "metadata": {},
   "outputs": [],
   "source": [
    "def plot_confusion_matrix(cm):   # seaborn version\n",
    "    plt.figure(figsize=(8, 8))\n",
    "    sns.heatmap(cm, annot=True, fmt=\"d\", cmap='Blues', cbar=False, annot_kws={\"size\": 16})\n",
    "    plt.title('Confusion Matrix')\n",
    "    plt.ylabel('True labels')\n",
    "    plt.xlabel('Predicted labels')\n",
    "    plt.show()\n",
    "\n",
    "def plot_confusion_matrix_plt(cm):  # matplotlib version\n",
    "    fig, ax = plt.subplots(figsize=(8, 8))\n",
    "    ax.imshow(cm, cmap=plt.cm.Blues)\n",
    "    ax.set_xlabel('Predicted labels')\n",
    "    ax.set_ylabel('True labels')\n",
    "    ax.set_xticks(range(10))\n",
    "    ax.set_yticks(range(10))\n",
    "    ax.set_title('Confusion Matrix')\n",
    "\n",
    "    # Loop over data dimensions and create text annotations\n",
    "    for i in range(10):\n",
    "        for j in range(10):\n",
    "            ax.text(j, i, cm[i, j], ha=\"center\", va=\"center\", color=\"white\" if cm[i, j] > cm.max()/2. else \"black\")\n",
    "    \n",
    "    plt.show()"
   ]
  },
  {
   "cell_type": "markdown",
   "metadata": {},
   "source": [
    "#### 5b. Plot misclassified instances   (5 x 5 grid)"
   ]
  },
  {
   "cell_type": "code",
   "execution_count": 40,
   "metadata": {},
   "outputs": [],
   "source": [
    "def plot_misclassified_images(images, true_labels, pred_labels):\n",
    "    plt.figure(figsize=(10, 10))\n",
    "    for i, (img, true_label, pred_label) in enumerate(zip(images, true_labels, pred_labels)):\n",
    "        plt.subplot(5, 5, i+1)\n",
    "        plt.imshow(img.cpu().numpy().reshape(28, 28), cmap='gray')\n",
    "        plt.title(f'True: {true_label.item()}, Pred: {pred_label.item()}', fontsize=8)\n",
    "        plt.axis('off')\n",
    "    plt.show()"
   ]
  },
  {
   "cell_type": "markdown",
   "metadata": {},
   "source": [
    "#### 5c. View an image in more detail  (28 x28 annotated pixel-grid)"
   ]
  },
  {
   "cell_type": "code",
   "execution_count": 41,
   "metadata": {},
   "outputs": [],
   "source": [
    "def view_an_image_in_more_detail(inp_img, title=None):\n",
    "\n",
    "    img = np.squeeze(inp_img)\n",
    "    fig = plt.figure(figsize = (12,12)) \n",
    "    ax = fig.add_subplot(111)\n",
    "    ax.imshow(img, cmap='gray')\n",
    "    if title:\n",
    "        ax.set_title(title, fontsize=20)\n",
    "    width, height = img.shape\n",
    "    thresh = img.max()/2.5\n",
    "    for x in range(width):\n",
    "        for y in range(height):\n",
    "            val = round(img[x][y],2) if img[x][y] !=0 else 0\n",
    "            ax.annotate(str(val), xy=(y,x),\n",
    "                        horizontalalignment='center',\n",
    "                        verticalalignment='center',\n",
    "                        color='white' if img[x][y]<thresh else 'black')"
   ]
  },
  {
   "cell_type": "markdown",
   "metadata": {},
   "source": [
    "### 6. Evaluate the Performance\n",
    "After training, evaluate the model and display the results"
   ]
  },
  {
   "cell_type": "code",
   "execution_count": 42,
   "metadata": {},
   "outputs": [
    {
     "name": "stdout",
     "output_type": "stream",
     "text": [
      "Epoch 1/10\n",
      "-------------------------------\n",
      "Epoch 2/10\n",
      "-------------------------------\n",
      "Epoch 3/10\n",
      "-------------------------------\n",
      "Epoch 4/10\n",
      "-------------------------------\n",
      "Epoch 5/10\n",
      "-------------------------------\n",
      "Epoch 6/10\n",
      "-------------------------------\n",
      "Epoch 7/10\n",
      "-------------------------------\n",
      "Epoch 8/10\n",
      "-------------------------------\n",
      "Epoch 9/10\n",
      "-------------------------------\n",
      "Epoch 10/10\n",
      "-------------------------------\n",
      "Test Loss: 0.0001, Accuracy: 97.73%\n",
      "CPU times: user 53.7 s, sys: 283 ms, total: 54 s\n",
      "Wall time: 52.7 s\n"
     ]
    }
   ],
   "source": [
    "%%time\n",
    "\n",
    "device = torch.device(\"cuda\" if torch.cuda.is_available() else \"cpu\")\n",
    "model.to(device)\n",
    "\n",
    "# Training loop\n",
    "n_epochs = 10\n",
    "for epoch in range(0, n_epochs):  # Adjust the number of epochs as needed\n",
    "    print(f'Epoch {epoch+1}/{n_epochs}\\n-------------------------------')    \n",
    "    train(model, device, train_loader, optimizer, epoch)\n",
    "\n",
    "# Evaluation\n",
    "confusion_data, misclassified_imgs, true_lbls, pred_lbls, test_loss, accuracy = test_and_collect_misclassified(model, device, test_loader)\n",
    "\n",
    "# Display metrics\n",
    "print(f'Test Loss: {test_loss:.4f}, Accuracy: {accuracy:.2f}%')\n"
   ]
  },
  {
   "cell_type": "code",
   "execution_count": 43,
   "metadata": {},
   "outputs": [
    {
     "name": "stdout",
     "output_type": "stream",
     "text": [
      "              precision    recall  f1-score   support\n",
      "\n",
      "           0       0.99      0.99      0.99       980\n",
      "           1       0.99      0.99      0.99      1135\n",
      "           2       0.97      0.98      0.98      1032\n",
      "           3       0.96      0.98      0.97      1010\n",
      "           4       0.97      0.98      0.98       982\n",
      "           5       0.97      0.97      0.97       892\n",
      "           6       0.99      0.98      0.98       958\n",
      "           7       0.98      0.97      0.98      1028\n",
      "           8       0.97      0.96      0.97       974\n",
      "           9       0.97      0.97      0.97      1009\n",
      "\n",
      "    accuracy                           0.98     10000\n",
      "   macro avg       0.98      0.98      0.98     10000\n",
      "weighted avg       0.98      0.98      0.98     10000\n",
      "\n",
      "CPU times: user 628 ms, sys: 23.9 ms, total: 652 ms\n",
      "Wall time: 655 ms\n"
     ]
    }
   ],
   "source": [
    "%%time \n",
    "\n",
    "# Load the unseen dataset\n",
    "#test_data = pd.read_csv('data/test.csv')\n",
    "\n",
    "# Preprocess the data\n",
    "#X_test = test_data.drop('label', axis=1).values / 255\n",
    "#y_test = test_data['label'].values\n",
    "#X_test_torch = torch.from_numpy(X_test).float()\n",
    "#y_test_torch = torch.from_numpy(y_test).long()\n",
    "\n",
    "X_test_torch = []\n",
    "y_test_torch = []\n",
    "\n",
    "for data, label in test_dataset:\n",
    "    X_test_torch.append(data)\n",
    "    y_test_torch.append(label)\n",
    "\n",
    "# Convert lists to tensors and move to device (cpu or cuda:0)\n",
    "X_test_torch = torch.stack(X_test_torch).to(device)\n",
    "y_test_torch = torch.tensor(y_test_torch).to(device)\n",
    "\n",
    "# Make predictions\n",
    "model.eval()  # Set the model to evaluation mode\n",
    "with torch.no_grad():  # Temporarily turn off gradient descent\n",
    "    outputs = model(X_test_torch)\n",
    "    _, predicted = torch.max(outputs, 1)\n",
    "\n",
    "# Move tensors back to CPU for further processing\n",
    "predicted = predicted.to('cpu')\n",
    "y_test_torch = y_test_torch.to('cpu')\n",
    "\n",
    "# Calculate performance metrics\n",
    "print(classification_report(y_test_torch, predicted))"
   ]
  },
  {
   "cell_type": "code",
   "execution_count": 44,
   "metadata": {},
   "outputs": [
    {
     "data": {
      "image/png": "[encoded data removed]",
      "text/plain": [
       "<Figure size 800x800 with 1 Axes>"
      ]
     },
     "metadata": {},
     "output_type": "display_data"
    },
    {
     "data": {
      "image/png": "[encoded data removed]",
      "text/plain": [
       "<Figure size 1000x1000 with 25 Axes>"
      ]
     },
     "metadata": {},
     "output_type": "display_data"
    }
   ],
   "source": [
    "# Display confusion matrix and misclassified images\n",
    "plot_confusion_matrix_plt(confusion_data)\n",
    "# plot_confusion_matrix(confusion_data)\n",
    "plot_misclassified_images(misclassified_imgs[:25], true_lbls[:25], pred_lbls[:25])"
   ]
  },
  {
   "cell_type": "code",
   "execution_count": 45,
   "metadata": {},
   "outputs": [
    {
     "data": {
      "image/png": "[encoded data removed]",
      "text/plain": [
       "<Figure size 1200x1200 with 1 Axes>"
      ]
     },
     "metadata": {},
     "output_type": "display_data"
    }
   ],
   "source": [
    "inp_img = misclassified_imgs[0].cpu().numpy().reshape(28, 28)\n",
    "txt = 'True: {0}, Pred: {1}'.format(true_lbls[0].item(), pred_lbls[0].item())\n",
    "view_an_image_in_more_detail(inp_img, txt)"
   ]
  },
  {
   "cell_type": "markdown",
   "metadata": {},
   "source": [
    "This code provides a basic structure for an MNIST classifier using PyTorch. \n",
    "It will also provide a visual understanding of your model's performance, showing where it gets confused and what kinds of mistakes it makes. This is particularly useful for fine-tuning and improving your model. You can modify the number of neurons in the hidden layers, the number of epochs, or other parameters to experiment with the network's performance."
   ]
  },
  {
   "cell_type": "markdown",
   "metadata": {},
   "source": []
  }
 ],
 "metadata": {
  "kernelspec": {
   "display_name": "Python 3",
   "language": "python",
   "name": "python3"
  },
  "language_info": {
   "codemirror_mode": {
    "name": "ipython",
    "version": 3
   },
   "file_extension": ".py",
   "mimetype": "text/x-python",
   "name": "python",
   "nbconvert_exporter": "python",
   "pygments_lexer": "ipython3",
   "version": "3.11.7"
  },
  "papermill": {
   "duration": 55.320944,
   "end_time": "2020-11-24T15:34:35.258832",
   "environment_variables": {},
   "exception": null,
   "input_path": "__notebook__.ipynb",
   "output_path": "__notebook__.ipynb",
   "parameters": {},
   "start_time": "2020-11-24T15:33:39.937888",
   "version": "2.1.0"
  }
 },
 "nbformat": 4,
 "nbformat_minor": 4
}
