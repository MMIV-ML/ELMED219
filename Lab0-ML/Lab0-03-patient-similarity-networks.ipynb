{
 "cells": [
  {
   "cell_type": "markdown",
   "metadata": {},
   "source": [
    "Version 2024.01.04 - A. Lundervold"
   ]
  },
  {
   "cell_type": "markdown",
   "metadata": {},
   "source": [
    "[![Google Colab](https://colab.research.google.com/assets/colab-badge.svg)](https://colab.research.google.com/github/MMIV-ML/ELMED219/blob/main/Lab0-ML/Lab0-03-patient-similarity-networks.ipynb)"
   ]
  },
  {
   "cell_type": "markdown",
   "metadata": {},
   "source": [
    "# Patient similarity networks\n",
    "\n"
   ]
  },
  {
   "cell_type": "markdown",
   "metadata": {},
   "source": [
    "### Introduction (IRIS Flower Similarity Network)"
   ]
  },
  {
   "cell_type": "markdown",
   "metadata": {},
   "source": [
    "We will use the famous  IRIS flower dataset with 4 different measurements from each of the 150 flowers. Please make a weighted, undirected graph G=(V, E) where V is the nodes (flowers), and E is the set of edges. The weight of an edge between two nodes is calculated as the similarity between this pair of flowers in terms of the Euclidean distance between their measurements in 4D feature space. The nodes should be colored according to their species: versicolor, setosa, or virginica. Make  Python code using NetworkX and produce a graph showing this \"flower similarity network\", and also make a Pandas data frame representing the adjacency matrix of this graph."
   ]
  },
  {
   "cell_type": "markdown",
   "metadata": {},
   "source": [
    "### Import libraries"
   ]
  },
  {
   "cell_type": "code",
   "execution_count": 18,
   "metadata": {},
   "outputs": [],
   "source": [
    "import numpy as np\n",
    "import pandas as pd\n",
    "import matplotlib.pyplot as plt\n",
    "import sklearn\n",
    "from sklearn.datasets import load_iris\n",
    "import networkx as nx"
   ]
  },
  {
   "cell_type": "markdown",
   "metadata": {},
   "source": [
    "This cell is importing several Python libraries that are commonly used for data analysis and visualization:\n",
    "\n",
    "- `numpy`: This is a library for the Python programming language, adding support for large, multi-dimensional arrays and matrices, along with a large collection of high-level mathematical functions to operate on these arrays.\n",
    "\n",
    "- `pandas`: This is a software library written for the Python programming language for data manipulation and analysis. In particular, it offers data structures and operations for manipulating numerical tables and time series.\n",
    "\n",
    "- `matplotlib.pyplot`: This is a plotting library used for 2D graphics in python programming language. It can be used in python scripts, shell, web application servers and other graphical user interface toolkits.\n",
    "\n",
    "- `sklearn`: This is a machine learning library for the Python programming language. It features various classification, regression and clustering algorithms including support vector machines, random forests, gradient boosting, k-means and DBSCAN, and is designed to interoperate with the Python numerical and scientific libraries NumPy and SciPy.\n",
    "\n",
    "- `sklearn.datasets.load_iris`: This is a function that loads and returns the iris dataset (classification). The iris dataset is a classic and very easy multi-class classification dataset.\n",
    "\n",
    "- `networkx`: This is a Python package for the creation, manipulation, and study of the structure, dynamics, and functions of complex networks."
   ]
  },
  {
   "cell_type": "code",
   "execution_count": 7,
   "metadata": {},
   "outputs": [
    {
     "data": {
      "text/plain": [
       "array(['setosa', 'versicolor', 'virginica'], dtype='<U10')"
      ]
     },
     "execution_count": 7,
     "metadata": {},
     "output_type": "execute_result"
    }
   ],
   "source": [
    "# Load the Iris dataset\n",
    "iris = load_iris()\n",
    "X, y = iris.data, iris.target\n",
    "species = iris.target_names\n",
    "species"
   ]
  },
  {
   "cell_type": "markdown",
   "metadata": {},
   "source": [
    "This Python cell is loading the Iris dataset, which is a popular dataset in machine learning and statistics. It is often used for testing out machine learning algorithms and visualizations. Here's what each line does:\n",
    "\n",
    "1. The comment `# Load the Iris dataset` is just a note for anyone reading the code.\n",
    "2. `iris = load_iris()` calls the `load_iris` function, which is a part of `sklearn.datasets`. This function loads and returns the Iris dataset.\n",
    "3. `X, y = iris.data, iris.target` is unpacking the data and target attributes of the Iris dataset into `X` and `y` respectively. `X` contains the features (sepal length, sepal width, petal length, and petal width) and `y` contains the labels (species of Iris flowers).\n",
    "4. `species = iris.target_names` is getting the names of the species of Iris flowers (setosa, versicolor, virginica) from the `target_names` attribute of the Iris dataset and storing them in `species`.\n",
    "5. `species` is just outputting the value of `species`, which should be an array of the species names."
   ]
  },
  {
   "cell_type": "code",
   "execution_count": 8,
   "metadata": {},
   "outputs": [
    {
     "data": {
      "text/plain": [
       "<networkx.classes.graph.Graph at 0x13a7e5990>"
      ]
     },
     "execution_count": 8,
     "metadata": {},
     "output_type": "execute_result"
    }
   ],
   "source": [
    "# Create a weighted, undirected graph\n",
    "G = nx.Graph()\n",
    "G"
   ]
  },
  {
   "cell_type": "markdown",
   "metadata": {},
   "source": [
    "This Python cell is creating an undirected, weighted graph using the NetworkX library. Here's what each line does:\n",
    "\n",
    "1. The comment `# Create a weighted, undirected graph` is just a note for anyone reading the code.\n",
    "2. `G = nx.Graph()` creates an empty undirected graph and assigns it to the variable `G`. NetworkX's `Graph` class is used to create undirected graphs.\n",
    "3. `G` is just outputting the representation of the graph `G`, which should be an empty graph since no nodes or edges have been added yet."
   ]
  },
  {
   "cell_type": "code",
   "execution_count": 9,
   "metadata": {},
   "outputs": [
    {
     "name": "stdout",
     "output_type": "stream",
     "text": [
      "[(0, {'species': 'setosa'}), (1, {'species': 'setosa'}), (2, {'species': 'setosa'})]\n",
      "[(147, {'species': 'virginica'}), (148, {'species': 'virginica'}), (149, {'species': 'virginica'})]\n"
     ]
    }
   ],
   "source": [
    "# Add nodes with the species (Setosa, Versicolor, Virginica) as an attribute for color (R, G, B)\n",
    "for i in range(len(X)):\n",
    "    G.add_node(i, species=species[y[i]])\n",
    "\n",
    "# List the first 3 nodes with their species\n",
    "print(list(G.nodes(data=True))[:3])\n",
    "\n",
    "# List the last 3 nodes with their species\n",
    "print(list(G.nodes(data=True))[-3:])"
   ]
  },
  {
   "cell_type": "markdown",
   "metadata": {},
   "source": [
    "This Python cell is adding nodes to the graph `G`. Here's what each line does:\n",
    "\n",
    "1. The comment `# Add nodes with the species ... as an attribute for color ...` is just a note for anyone reading the code.\n",
    "2. The `for` loop `for i in range(len(X)):` is iterating over the length of `X`, which is the features of the Iris dataset.\n",
    "3. Inside the loop, `G.add_node(i, species=species[y[i]])` is adding a node to the graph `G` for each feature in `X`. The node is given an attribute `species` which is set to the species of the Iris flower corresponding to the current feature. The species is retrieved from the `species` array using the label from `y` as the index.\n",
    "4. The comment `# List the first 3 nodes with their species` is just a note for anyone reading the code.\n",
    "5. `print(list(G.nodes(data=True))[:3])` is printing the first 3 nodes of the graph `G` along with their attributes. The `data=True` argument means that the node attributes are returned along with the nodes.\n",
    "6. The comment `# List the last 3 nodes with their species` is just a note for anyone reading the code.\n",
    "7. `print(list(G.nodes(data=True))[-3:])` is printing the last 3 nodes of the graph `G` along with their attributes. The `data=True` argument means that the node attributes are returned along with the nodes."
   ]
  },
  {
   "cell_type": "code",
   "execution_count": 10,
   "metadata": {},
   "outputs": [],
   "source": [
    "# Calculate the Euclidean distance between each pair of flowers and add an edge if they are different flowers\n",
    "for i in range(len(X)):\n",
    "    for j in range(i+1, len(X)):\n",
    "        weight = np.linalg.norm(X[i] - X[j])\n",
    "        G.add_edge(i, j, weight=weight)"
   ]
  },
  {
   "cell_type": "markdown",
   "metadata": {},
   "source": [
    "Here's the algorithm described in the cell, converted into Markdown with LaTeX:\n",
    "\n",
    "The algorithm calculates the Euclidean distance between each pair of flowers and adds an edge between them if they are different flowers. The steps are as follows:\n",
    "\n",
    "1. Iterate over each flower `i` in the dataset `X`:\n",
    "\n",
    "    ```markdown\n",
    "    for i in range(len(X)):\n",
    "    ```\n",
    "\n",
    "2. For each flower `i`, iterate over each subsequent flower `j` in the dataset `X`:\n",
    "\n",
    "    ```markdown\n",
    "    for j in range(i+1, len(X)):\n",
    "    ```\n",
    "\n",
    "3. Calculate the Euclidean distance between the feature vectors of flowers `i` and `j`. This is done using the numpy function `np.linalg.norm` on the difference between the two feature vectors:\n",
    "\n",
    "    ```markdown\n",
    "    weight = np.linalg.norm(X[i] - X[j])\n",
    "    ```\n",
    "\n",
    "    The Euclidean distance is calculated as:\n",
    "\n",
    "    $$ \\text{weight} = \\sqrt{\\sum_{k=1}^{n} (X[i][k] - X[j][k])^2} $$\n",
    "\n",
    "    where `n` is the number of features in the feature vectors.\n",
    "\n",
    "4. Add an edge between nodes `i` and `j` in the graph `G`, with the Euclidean distance as the weight of the edge:\n",
    "\n",
    "    ```markdown\n",
    "    G.add_edge(i, j, weight=weight)\n",
    "    ```"
   ]
  },
  {
   "cell_type": "markdown",
   "metadata": {},
   "source": [
    "### YOUR TURN:\n"
   ]
  },
  {
   "cell_type": "markdown",
   "metadata": {},
   "source": [
    "_However, this algorithm using Euclidean distance directly is not the best way to calculate the **similarity** between two flowers (WHY?)_\n",
    "\n",
    "A better way is to use the **normalized inverse Euclidean distance** as the similarity between the two feature vectors.<br> The normalized inverse Euclidean distance is calculated as:\n",
    "\n",
    "$$ \\text{similarity} = \\frac{1}{1 + \\text{weight}} $$\n",
    "\n",
    "where `weight` is the Euclidean distance between the two feature vectors (_WHY?_)\n",
    "\n",
    "_What happens to similarity when the weight is large?_ <br>\n",
    "_What happens to similarity when the weight is small?_"
   ]
  },
  {
   "cell_type": "code",
   "execution_count": 11,
   "metadata": {},
   "outputs": [
    {
     "data": {
      "text/plain": [
       "[(0, 1, {'weight': 0.5385164807134502}),\n",
       " (0, 2, {'weight': 0.509901951359278}),\n",
       " (0, 3, {'weight': 0.648074069840786}),\n",
       " (0, 4, {'weight': 0.1414213562373093}),\n",
       " (0, 5, {'weight': 0.6164414002968979}),\n",
       " (0, 6, {'weight': 0.5196152422706632}),\n",
       " (0, 7, {'weight': 0.17320508075688762}),\n",
       " (0, 8, {'weight': 0.9219544457292882}),\n",
       " (0, 9, {'weight': 0.4690415759823426}),\n",
       " (0, 10, {'weight': 0.37416573867739483})]"
      ]
     },
     "execution_count": 11,
     "metadata": {},
     "output_type": "execute_result"
    }
   ],
   "source": [
    "# List the first 10 edges\n",
    "list(G.edges(data=True))[:10]\n"
   ]
  },
  {
   "cell_type": "markdown",
   "metadata": {},
   "source": [
    "Calculate the normalized inverse Euclidean distance between each pair of flowers and add an edge if they are different flowers"
   ]
  },
  {
   "cell_type": "code",
   "execution_count": 12,
   "metadata": {},
   "outputs": [],
   "source": [
    "# Calculate the normalized inverse Euclidean distance between each pair of flowers and add an edge if they are different flowers\n",
    "for i in range(len(X)):\n",
    "    for j in range(i+1, len(X)):\n",
    "        weight = 1 / (1.0 + (np.linalg.norm(X[i] - X[j])))\n",
    "        G.add_edge(i, j, weight=weight)\n",
    "\n",
    " "
   ]
  },
  {
   "cell_type": "code",
   "execution_count": 13,
   "metadata": {},
   "outputs": [
    {
     "data": {
      "text/plain": [
       "[(0, 1, {'weight': 0.6499767877275348}),\n",
       " (0, 2, {'weight': 0.6622946603252996}),\n",
       " (0, 3, {'weight': 0.6067688451020932}),\n",
       " (0, 4, {'weight': 0.8761006569007048}),\n",
       " (0, 5, {'weight': 0.6186429027469392}),\n",
       " (0, 6, {'weight': 0.6580613119579956}),\n",
       " (0, 7, {'weight': 0.8523658961269199}),\n",
       " (0, 8, {'weight': 0.5203036951380753}),\n",
       " (0, 9, {'weight': 0.6807159282277656}),\n",
       " (0, 10, {'weight': 0.7277142573518669})]"
      ]
     },
     "execution_count": 13,
     "metadata": {},
     "output_type": "execute_result"
    }
   ],
   "source": [
    "# List the first 10 edges\n",
    "list(G.edges(data=True))[:10]"
   ]
  },
  {
   "cell_type": "markdown",
   "metadata": {},
   "source": [
    "### YOUR TURN:"
   ]
  },
  {
   "cell_type": "markdown",
   "metadata": {},
   "source": [
    "_What are the main qualitative differences between edge weights in G using Euclidean distances as a similarity measeure versus using normalized inverse Euclidian distance?_"
   ]
  },
  {
   "cell_type": "markdown",
   "metadata": {},
   "source": [
    "When using Euclidean distances as edge weights in a graph, the weight represents the \"distance\" or dissimilarity between two nodes. A larger weight indicates that the nodes are more dissimilar or further apart.\n",
    "\n",
    "1. **Euclidean Distance**: In this case, a larger weight (distance) means the nodes (data points) are more dissimilar. So, nodes that are very similar (close together in the feature space) will have a small edge weight, and nodes that are very different (far apart in the feature space) will have a large edge weight.\n",
    "\n",
    "2. **Normalized Inverse Euclidean Distance**: In this case, a larger weight means the nodes are more similar. This is because we take the inverse of the Euclidean distance, so a smaller original distance (more similar nodes) results in a larger weight. Normalizing these inverse distances (for example, by scaling them to be between 0 and 1) ensures that the weights are not overly influenced by extreme values or differences in units.\n",
    "\n",
    "In summary, the main qualitative difference is that with Euclidean distances, larger weights represent more dissimilar nodes, while with normalized inverse Euclidean distances, larger weights represent more similar nodes."
   ]
  },
  {
   "cell_type": "markdown",
   "metadata": {},
   "source": [
    "#### Based on the graph, we can see that the Setosa species is very different from the Versicolor and Virginica species."
   ]
  },
  {
   "cell_type": "code",
   "execution_count": 14,
   "metadata": {},
   "outputs": [
    {
     "ename": "NameError",
     "evalue": "name 'weights' is not defined",
     "output_type": "error",
     "traceback": [
      "\u001b[0;31m---------------------------------------------------------------------------\u001b[0m",
      "\u001b[0;31mNameError\u001b[0m                                 Traceback (most recent call last)",
      "Cell \u001b[0;32mIn[14], line 8\u001b[0m\n\u001b[1;32m      5\u001b[0m color_map \u001b[38;5;241m=\u001b[39m [color_dict[G\u001b[38;5;241m.\u001b[39mnodes[node][\u001b[38;5;124m'\u001b[39m\u001b[38;5;124mspecies\u001b[39m\u001b[38;5;124m'\u001b[39m]] \u001b[38;5;28;01mfor\u001b[39;00m node \u001b[38;5;129;01min\u001b[39;00m G\u001b[38;5;241m.\u001b[39mnodes]\n\u001b[1;32m      7\u001b[0m \u001b[38;5;66;03m# Draw nodes with color by species and edges with weights\u001b[39;00m\n\u001b[0;32m----> 8\u001b[0m nx\u001b[38;5;241m.\u001b[39mdraw(G, pos\u001b[38;5;241m=\u001b[39m\u001b[38;5;28;01mNone\u001b[39;00m, node_color\u001b[38;5;241m=\u001b[39mcolor_map, edge_color\u001b[38;5;241m=\u001b[39m\u001b[43mweights\u001b[49m, width\u001b[38;5;241m=\u001b[39m\u001b[38;5;241m1.0\u001b[39m, edge_cmap\u001b[38;5;241m=\u001b[39mplt\u001b[38;5;241m.\u001b[39mcm\u001b[38;5;241m.\u001b[39mBlues, with_labels\u001b[38;5;241m=\u001b[39m\u001b[38;5;28;01mFalse\u001b[39;00m)\n\u001b[1;32m      9\u001b[0m plt\u001b[38;5;241m.\u001b[39mtitle(\u001b[38;5;124m\"\u001b[39m\u001b[38;5;124mIris Flower Similarity Network\u001b[39m\u001b[38;5;124m\"\u001b[39m)\n\u001b[1;32m     10\u001b[0m plt\u001b[38;5;241m.\u001b[39mshow()\n",
      "\u001b[0;31mNameError\u001b[0m: name 'weights' is not defined"
     ]
    }
   ],
   "source": [
    "# Create a dictionary to map species to colors\n",
    "color_dict = {'setosa': 'red', 'versicolor': 'green', 'virginica': 'blue'}\n",
    "\n",
    "# Create a color map with a color for each node in the graph\n",
    "color_map = [color_dict[G.nodes[node]['species']] for node in G.nodes]\n",
    "\n",
    "# Draw nodes with color by species and edges with weights\n",
    "nx.draw(G, pos=None, node_color=color_map, edge_color=weights, width=1.0, edge_cmap=plt.cm.Blues, with_labels=False)\n",
    "plt.title(\"Iris Flower Similarity Network\")\n",
    "plt.show()"
   ]
  },
  {
   "cell_type": "markdown",
   "metadata": {},
   "source": [
    "This Python cell is visualizing the graph `G` using the NetworkX library. Here's what each line does:\n",
    "\n",
    "1. The comment `# Create a dictionary to map species to colors` is just a note for anyone reading the code.\n",
    "2. `color_dict = {'setosa': 'red', 'versicolor': 'green', 'virginica': 'blue'}` creates a dictionary that maps the species names to colors.\n",
    "3. The comment `# Create a color map with a color for each node in the graph` is just a note for anyone reading the code.\n",
    "4. `color_map = [color_dict[G.nodes[node]['species']] for node in G.nodes]` creates a list of colors corresponding to the species of each node in the graph `G`. This list is created by iterating over the nodes in `G` and using the species attribute of each node to get the corresponding color from `color_dict`.\n",
    "5. The comment `# Draw nodes with color by species and edges with weights` is just a note for anyone reading the code.\n",
    "6. `nx.draw(G, pos, node_color=color_map, edge_color=weights, width=1.0, edge_cmap=plt.cm.Blues, with_labels=False)` draws the graph `G` with the positions specified by `pos`, the node colors specified by `color_map`, and the edge colors specified by `weights`. The edge colors are mapped to the Blues colormap, and labels are not drawn for the nodes.\n",
    "7. `plt.title(\"Iris Flower Similarity Network\")` sets the title of the plot to \"Iris Flower Similarity Network\".\n",
    "8. `plt.show()` displays the plot."
   ]
  },
  {
   "cell_type": "markdown",
   "metadata": {},
   "source": [
    "### YOUR TURN:"
   ]
  },
  {
   "cell_type": "markdown",
   "metadata": {},
   "source": [
    "_What is the meaning of the edge colors in the graph?_\n",
    "\n",
    "_What is the pos argument in the nx.draw function?_\n",
    "\n",
    "_What else can you do to improve the visualization of the graph?_"
   ]
  },
  {
   "cell_type": "markdown",
   "metadata": {},
   "source": [
    "- The edge colors represent the weights of the edges. The weights are the normalized inverse Euclidean distances between the feature vectors of the flowers corresponding to the nodes connected by the edges. The colors are mapped to the Blues colormap, so darker colors represent larger weights (more similar nodes) and lighter colors represent smaller weights (more dissimilar nodes).\n",
    "\n"
   ]
  },
  {
   "cell_type": "markdown",
   "metadata": {},
   "source": [
    "- In the provided code, `pos=None` in the `nx.draw()` function call. This means that the positions of the nodes are not explicitly specified and NetworkX will automatically calculate the positions. By default, NetworkX uses the Fruchterman-Reingold force-directed algorithm to compute the node positions. This algorithm treats the edges as springs holding the nodes close, while treating the nodes as repelling objects, and finds a balance of these forces to determine the positions. This often results in a visually pleasing, symmetric layout.<br>\n",
    "If you want to specify your own node positions, you can provide a dictionary to `pos` where the keys are node indices and the values are (x, y) coordinate pairs. For example: `pos = {0: (1, 1), 1: (2, 2)}`."
   ]
  },
  {
   "cell_type": "markdown",
   "metadata": {},
   "source": [
    "- There are several ways to improve the visualization of a graph:\n",
    "\n",
    "1. **Node Size**: You can adjust the size of the nodes based on their degree (number of connections) or other attributes. This can help highlight important nodes.\n",
    "\n",
    "2. **Edge Thickness**: You can adjust the thickness of the edges based on their weight or other attributes. This can help highlight important connections.\n",
    "\n",
    "3. **Color**: You can use color to represent different attributes of the nodes or edges. For example, you could color nodes based on their community or cluster.\n",
    "\n",
    "4. **Layout**: NetworkX provides several layout algorithms that can be used to position the nodes. Different layouts can provide different perspectives on the graph.\n",
    "\n",
    "5. **Labels**: Adding labels to nodes or edges can provide additional information. However, be careful not to clutter the visualization with too many labels.\n",
    "\n",
    "6. **Interactive Visualization**: Libraries like Bokeh or Plotly allow for interactive graph visualizations, where you can zoom, pan, and hover to get more information.\n",
    "\n",
    "7. **3D Visualization**: For complex graphs, a 3D visualization might be helpful. Libraries like PyGraphviz or Plotly can create 3D graph visualizations.\n",
    "\n",
    "Remember, the best way to visualize a graph often depends on the specific characteristics of the graph and what you want to highlight or investigate."
   ]
  },
  {
   "cell_type": "markdown",
   "metadata": {},
   "source": [
    "### The corresponding adjacency matrix as a Pandas data frame"
   ]
  },
  {
   "cell_type": "code",
   "execution_count": 15,
   "metadata": {},
   "outputs": [
    {
     "data": {
      "text/html": [
       "<div>\n",
       "<style scoped>\n",
       "    .dataframe tbody tr th:only-of-type {\n",
       "        vertical-align: middle;\n",
       "    }\n",
       "\n",
       "    .dataframe tbody tr th {\n",
       "        vertical-align: top;\n",
       "    }\n",
       "\n",
       "    .dataframe thead th {\n",
       "        text-align: right;\n",
       "    }\n",
       "</style>\n",
       "<table border=\"1\" class=\"dataframe\">\n",
       "  <thead>\n",
       "    <tr style=\"text-align: right;\">\n",
       "      <th></th>\n",
       "      <th>0</th>\n",
       "      <th>1</th>\n",
       "      <th>2</th>\n",
       "      <th>3</th>\n",
       "      <th>4</th>\n",
       "      <th>5</th>\n",
       "      <th>6</th>\n",
       "      <th>7</th>\n",
       "      <th>8</th>\n",
       "      <th>9</th>\n",
       "      <th>...</th>\n",
       "      <th>140</th>\n",
       "      <th>141</th>\n",
       "      <th>142</th>\n",
       "      <th>143</th>\n",
       "      <th>144</th>\n",
       "      <th>145</th>\n",
       "      <th>146</th>\n",
       "      <th>147</th>\n",
       "      <th>148</th>\n",
       "      <th>149</th>\n",
       "    </tr>\n",
       "  </thead>\n",
       "  <tbody>\n",
       "    <tr>\n",
       "      <th>0</th>\n",
       "      <td>0.000000</td>\n",
       "      <td>0.649977</td>\n",
       "      <td>0.662295</td>\n",
       "      <td>0.606769</td>\n",
       "      <td>0.876101</td>\n",
       "      <td>0.618643</td>\n",
       "      <td>0.658061</td>\n",
       "      <td>0.852366</td>\n",
       "      <td>0.520304</td>\n",
       "      <td>0.680716</td>\n",
       "      <td>...</td>\n",
       "      <td>0.166114</td>\n",
       "      <td>0.177405</td>\n",
       "      <td>0.192000</td>\n",
       "      <td>0.159811</td>\n",
       "      <td>0.162969</td>\n",
       "      <td>0.176865</td>\n",
       "      <td>0.189513</td>\n",
       "      <td>0.183156</td>\n",
       "      <td>0.176966</td>\n",
       "      <td>0.194551</td>\n",
       "    </tr>\n",
       "    <tr>\n",
       "      <th>1</th>\n",
       "      <td>0.649977</td>\n",
       "      <td>0.000000</td>\n",
       "      <td>0.769231</td>\n",
       "      <td>0.750941</td>\n",
       "      <td>0.621784</td>\n",
       "      <td>0.478270</td>\n",
       "      <td>0.662295</td>\n",
       "      <td>0.702117</td>\n",
       "      <td>0.662295</td>\n",
       "      <td>0.852366</td>\n",
       "      <td>...</td>\n",
       "      <td>0.164678</td>\n",
       "      <td>0.175373</td>\n",
       "      <td>0.193016</td>\n",
       "      <td>0.158210</td>\n",
       "      <td>0.161116</td>\n",
       "      <td>0.175439</td>\n",
       "      <td>0.190487</td>\n",
       "      <td>0.181855</td>\n",
       "      <td>0.174885</td>\n",
       "      <td>0.194050</td>\n",
       "    </tr>\n",
       "    <tr>\n",
       "      <th>2</th>\n",
       "      <td>0.662295</td>\n",
       "      <td>0.769231</td>\n",
       "      <td>0.000000</td>\n",
       "      <td>0.803246</td>\n",
       "      <td>0.662295</td>\n",
       "      <td>0.479322</td>\n",
       "      <td>0.790779</td>\n",
       "      <td>0.708060</td>\n",
       "      <td>0.696432</td>\n",
       "      <td>0.759747</td>\n",
       "      <td>...</td>\n",
       "      <td>0.160545</td>\n",
       "      <td>0.170408</td>\n",
       "      <td>0.187450</td>\n",
       "      <td>0.154431</td>\n",
       "      <td>0.157393</td>\n",
       "      <td>0.170528</td>\n",
       "      <td>0.184143</td>\n",
       "      <td>0.176630</td>\n",
       "      <td>0.170978</td>\n",
       "      <td>0.188721</td>\n",
       "    </tr>\n",
       "    <tr>\n",
       "      <th>3</th>\n",
       "      <td>0.606769</td>\n",
       "      <td>0.750941</td>\n",
       "      <td>0.803246</td>\n",
       "      <td>0.000000</td>\n",
       "      <td>0.606769</td>\n",
       "      <td>0.461640</td>\n",
       "      <td>0.750941</td>\n",
       "      <td>0.666667</td>\n",
       "      <td>0.769231</td>\n",
       "      <td>0.759747</td>\n",
       "      <td>...</td>\n",
       "      <td>0.163803</td>\n",
       "      <td>0.173604</td>\n",
       "      <td>0.193150</td>\n",
       "      <td>0.157486</td>\n",
       "      <td>0.160447</td>\n",
       "      <td>0.174049</td>\n",
       "      <td>0.189095</td>\n",
       "      <td>0.180727</td>\n",
       "      <td>0.174852</td>\n",
       "      <td>0.194186</td>\n",
       "    </tr>\n",
       "    <tr>\n",
       "      <th>4</th>\n",
       "      <td>0.876101</td>\n",
       "      <td>0.621784</td>\n",
       "      <td>0.662295</td>\n",
       "      <td>0.606769</td>\n",
       "      <td>0.000000</td>\n",
       "      <td>0.618643</td>\n",
       "      <td>0.685750</td>\n",
       "      <td>0.817256</td>\n",
       "      <td>0.520304</td>\n",
       "      <td>0.653958</td>\n",
       "      <td>...</td>\n",
       "      <td>0.164972</td>\n",
       "      <td>0.175866</td>\n",
       "      <td>0.190615</td>\n",
       "      <td>0.158802</td>\n",
       "      <td>0.161996</td>\n",
       "      <td>0.175406</td>\n",
       "      <td>0.187613</td>\n",
       "      <td>0.181671</td>\n",
       "      <td>0.176097</td>\n",
       "      <td>0.193284</td>\n",
       "    </tr>\n",
       "  </tbody>\n",
       "</table>\n",
       "<p>5 rows × 150 columns</p>\n",
       "</div>"
      ],
      "text/plain": [
       "        0         1         2         3         4         5         6    \\\n",
       "0  0.000000  0.649977  0.662295  0.606769  0.876101  0.618643  0.658061   \n",
       "1  0.649977  0.000000  0.769231  0.750941  0.621784  0.478270  0.662295   \n",
       "2  0.662295  0.769231  0.000000  0.803246  0.662295  0.479322  0.790779   \n",
       "3  0.606769  0.750941  0.803246  0.000000  0.606769  0.461640  0.750941   \n",
       "4  0.876101  0.621784  0.662295  0.606769  0.000000  0.618643  0.685750   \n",
       "\n",
       "        7         8         9    ...       140       141       142       143  \\\n",
       "0  0.852366  0.520304  0.680716  ...  0.166114  0.177405  0.192000  0.159811   \n",
       "1  0.702117  0.662295  0.852366  ...  0.164678  0.175373  0.193016  0.158210   \n",
       "2  0.708060  0.696432  0.759747  ...  0.160545  0.170408  0.187450  0.154431   \n",
       "3  0.666667  0.769231  0.759747  ...  0.163803  0.173604  0.193150  0.157486   \n",
       "4  0.817256  0.520304  0.653958  ...  0.164972  0.175866  0.190615  0.158802   \n",
       "\n",
       "        144       145       146       147       148       149  \n",
       "0  0.162969  0.176865  0.189513  0.183156  0.176966  0.194551  \n",
       "1  0.161116  0.175439  0.190487  0.181855  0.174885  0.194050  \n",
       "2  0.157393  0.170528  0.184143  0.176630  0.170978  0.188721  \n",
       "3  0.160447  0.174049  0.189095  0.180727  0.174852  0.194186  \n",
       "4  0.161996  0.175406  0.187613  0.181671  0.176097  0.193284  \n",
       "\n",
       "[5 rows x 150 columns]"
      ]
     },
     "execution_count": 15,
     "metadata": {},
     "output_type": "execute_result"
    }
   ],
   "source": [
    "# Create the adjacency matrix as a pandas DataFrame\n",
    "adj_matrix = nx.to_pandas_adjacency(G, weight='weight')\n",
    "adj_matrix.head()"
   ]
  },
  {
   "cell_type": "code",
   "execution_count": 16,
   "metadata": {},
   "outputs": [
    {
     "data": {
      "image/png": "[encoded data removed]",
      "text/plain": [
       "<Figure size 480x480 with 2 Axes>"
      ]
     },
     "metadata": {},
     "output_type": "display_data"
    }
   ],
   "source": [
    "# Make an image of the adjacency matrix of the graph\n",
    "plt.matshow(adj_matrix)\n",
    "plt.colorbar()\n",
    "plt.title(\"Adjacency Matrix\")\n",
    "plt.show()"
   ]
  },
  {
   "cell_type": "markdown",
   "metadata": {},
   "source": [
    "The code in the cell is creating a visualization of the adjacency matrix of a graph. The adjacency matrix is a square matrix used to represent a finite graph. The elements of the matrix indicate whether pairs of vertices are adjacent or not in the graph.\n",
    "\n",
    "In the adjacency matrix:\n",
    "\n",
    "- The rows and columns correspond to the nodes in the graph.\n",
    "- The value at the intersection of a row and a column indicates the relationship between the corresponding nodes.\n",
    "- In an unweighted graph, the values are 1 (for an edge) or 0 (for no edge).\n",
    "- In a weighted graph, the values represent the weight of the edge.\n",
    "\n",
    "When visualized with `plt.matshow()`, the adjacency matrix is shown as a grid of colors. Each cell's color represents the value of the corresponding element in the matrix. The color mapping is shown by the colorbar added with `plt.colorbar()`.\n",
    "\n",
    "The title \"Adjacency Matrix\" is added with `plt.title()`, and `plt.show()` is used to display the plot.\n",
    "\n",
    "Interpreting the image:\n",
    "\n",
    "- A cell with a lighter color indicates a higher value, which could mean a stronger relationship between the nodes (in a weighted graph) or simply the presence of an edge (in an unweighted graph).\n",
    "- A cell with a darker color indicates a lower value, which could mean a weaker relationship or the absence of an edge.\n",
    "- The diagonal of the matrix (from top left to bottom right) represents self-loops, i.e., edges from a node to itself. In many graphs, this is typically 0 (no self-loops), so this diagonal is often darker.\n",
    "\n",
    "Remember, the specific interpretation depends on the nature of the graph and the weights (if any)."
   ]
  }
 ],
 "metadata": {
  "kernelspec": {
   "display_name": "elmed219",
   "language": "python",
   "name": "python3"
  },
  "language_info": {
   "codemirror_mode": {
    "name": "ipython",
    "version": 3
   },
   "file_extension": ".py",
   "mimetype": "text/x-python",
   "name": "python",
   "nbconvert_exporter": "python",
   "pygments_lexer": "ipython3",
   "version": "3.11.6"
  }
 },
 "nbformat": 4,
 "nbformat_minor": 2
}
