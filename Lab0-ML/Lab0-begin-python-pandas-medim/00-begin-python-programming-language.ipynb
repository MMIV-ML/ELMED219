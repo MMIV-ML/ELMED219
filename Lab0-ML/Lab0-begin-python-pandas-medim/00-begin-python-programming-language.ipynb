{
 "cells": [
  {
   "cell_type": "markdown",
   "metadata": {},
   "source": [
    "`00-begin-python-programming-language`   (A. Lundervold 2024-01-08)"
   ]
  },
  {
   "cell_type": "markdown",
   "metadata": {},
   "source": [
    "<a href=\"https://colab.research.google.com/github/MMIV-ML/ELMED219/blob/main/Lab0-ML/Lab0-begin-python-pandas-medim/00-begin-python-programming-language.ipynb\">\n",
    "  <img src=\"https://colab.research.google.com/assets/colab-badge.svg\" alt=\"Open In Colab\"/>\n",
    "</a>"
   ]
  },
  {
   "cell_type": "markdown",
   "metadata": {},
   "source": [
    "# Python"
   ]
  },
  {
   "cell_type": "markdown",
   "metadata": {},
   "source": [
    "Python is a dynamic general-purpose programming language, currently on its third major version: Python 3.8. It enjoys widespread adoption in the scientific community, and it is the *de facto* standard computational environment for data science and artificial intelligence, and partly also for computational biomedicine."
   ]
  },
  {
   "cell_type": "markdown",
   "metadata": {},
   "source": [
    "Excerpts from Tim J. Stevens: _The Python Programming Language_ in : A. Hofmann and S. Clokie: [Wilson and Walker's Principles and Techniques of Biochemistry and Molecular Biology](https://www.cambridge.org/core/books/wilson-and-walkers-principles-and-techniques-of-biochemistry-and-molecular-biology/2159004E019DDD87C0A97EE8DB72B79F), 8th edition, Cambridge University Press, 2018.\n",
    "\n",
    "\n",
    "> ... A biologist will often turn to computer programming in situations where the amount or the complexity of data is too much to be senisibly hanled by spreadsheets, and where no other, more specialized, software exists. Often only a relative simple program needs to be written to get something useful from biological data, which would otherwise not be available.\n",
    ">\n",
    "> For biologists, the task of writing a computer program can sometimes seem like a significant barrier, but once the basic programming skills are learned then many possibilities are enabled. [Python](https://www.python.org) is one of the most popular programming languages and is becoming an increasingly attractive options for the biologist. It is a high-level, general-purpose language that is well supported and relatively easy to learn. Also, it has a large number of eternal modules, including many related to mathematics, science and biology. Python is easy to install and runs on almost all kinds of computer system. Presently, Python 3 is the _de facto_ standard.\n",
    ">\n",
    "> Even if you don't intend to use Python in the long-run or for all programming work [in some cases [R](https://www.r-project.org) could be an alternative], it nonetheless serves as a good starting point to learn some of the major principles of many modern computing languages."
   ]
  },
  {
   "cell_type": "markdown",
   "metadata": {},
   "source": [
    "## Learning outcome\n",
    "\n",
    "**Be able to read and construct code related to the core Python language concepts:**\n",
    "\n",
    "- Primitive **datatypes** and **operators** (`integers` and `float` numbers, `+`, `-`, `*`, `/`, `%`, `=`, `==`, `!=`, `<`, `>`, `<=`, `>=`, `&`, `|` operators)\n",
    "- Collections\n",
    "  - **Lists** (adding elements, slicing, list comprehension,  ...)\n",
    "  - **Dictionaries** (key-value maps, dictionary comprehension, ... )\n",
    "  - Sets\n",
    "  - **Looping** over collections\n",
    "- **Branching** and **control** (`if  - elif - else:`,  `for i, x in enumerate(list):`, ... )\n",
    "- **Functions** (`def function_name(parameter1, parameter2, ...parameter_n)` and `return outp1, outp2, ..., outp_m`)"
   ]
  },
  {
   "cell_type": "markdown",
   "metadata": {},
   "source": [
    "This notebook serves as a whirlwind-type introduction to Python. If you already know some Python, feel free to browse down to the first point where you see something unfamiliar or interesting.\n",
    "\n",
    "We are using the `Jupyter Notebook` - for a comprehensive introduction and tutorial see e.g. https://www.datacamp.com/community/tutorials/tutorial-jupyter-notebook and https://www.dataquest.io/blog/jupyter-notebook-tutorial and https://journals.plos.org/ploscompbiol/article?id=10.1371/journal.pcbi.1007007"
   ]
  },
  {
   "cell_type": "markdown",
   "metadata": {},
   "source": [
    "**You are encouraged to experiment with all the code!** <br>\n",
    "\n",
    "NOTE: The original notebook on Github might change over the time, and we recommend that you make a copy of our notebooks before you are editing them. In this respect you might adopt the naming convention my_<'name_of_notebook'>.ipynb, e.g. `my_00-begin-python-programming-language.ipynb`"
   ]
  },
  {
   "cell_type": "markdown",
   "metadata": {},
   "source": [
    "#### Check if Colab\n"
   ]
  },
  {
   "cell_type": "code",
   "execution_count": 1,
   "metadata": {},
   "outputs": [
    {
     "name": "stdout",
     "output_type": "stream",
     "text": [
      "Not running in Google Colab.\n"
     ]
    }
   ],
   "source": [
    "# This is a quick check of whether the notebook is currently running on Google Colaboratory\n",
    "# as that makes some difference for the code below.\n",
    "# We'll do this in every notebook of the course.\n",
    "\n",
    "try:\n",
    "    import google.colab\n",
    "    # If this statement executes without error, you're in a Colab environment.\n",
    "    is_colab = True\n",
    "    print(\"Running in Google Colab.\")\n",
    "except ImportError:\n",
    "    # An ImportError means you're not in a Colab environment.\n",
    "    is_colab = False\n",
    "    print(\"Not running in Google Colab.\")"
   ]
  },
  {
   "cell_type": "markdown",
   "metadata": {},
   "source": [
    "## Primitive datatypes and operators"
   ]
  },
  {
   "cell_type": "markdown",
   "metadata": {},
   "source": [
    "Numbers come in two varieties, integers and floating point\n"
   ]
  },
  {
   "cell_type": "code",
   "execution_count": 2,
   "metadata": {},
   "outputs": [
    {
     "data": {
      "text/plain": [
       "3"
      ]
     },
     "execution_count": 2,
     "metadata": {},
     "output_type": "execute_result"
    }
   ],
   "source": [
    "3"
   ]
  },
  {
   "cell_type": "code",
   "execution_count": 3,
   "metadata": {},
   "outputs": [
    {
     "data": {
      "text/plain": [
       "1.2"
      ]
     },
     "execution_count": 3,
     "metadata": {},
     "output_type": "execute_result"
    }
   ],
   "source": [
    "1.2"
   ]
  },
  {
   "cell_type": "markdown",
   "metadata": {},
   "source": [
    "Math works exactly like you would expect."
   ]
  },
  {
   "cell_type": "code",
   "execution_count": 4,
   "metadata": {},
   "outputs": [
    {
     "data": {
      "text/plain": [
       "5"
      ]
     },
     "execution_count": 4,
     "metadata": {},
     "output_type": "execute_result"
    }
   ],
   "source": [
    "2 + 3"
   ]
  },
  {
   "cell_type": "code",
   "execution_count": 5,
   "metadata": {},
   "outputs": [
    {
     "data": {
      "text/plain": [
       "4"
      ]
     },
     "execution_count": 5,
     "metadata": {},
     "output_type": "execute_result"
    }
   ],
   "source": [
    "6 - 2"
   ]
  },
  {
   "cell_type": "code",
   "execution_count": 6,
   "metadata": {},
   "outputs": [
    {
     "data": {
      "text/plain": [
       "21"
      ]
     },
     "execution_count": 6,
     "metadata": {},
     "output_type": "execute_result"
    }
   ],
   "source": [
    "3 * 7"
   ]
  },
  {
   "cell_type": "markdown",
   "metadata": {},
   "source": [
    "We use `/` for true division and `//` for integer division (floor division)."
   ]
  },
  {
   "cell_type": "code",
   "execution_count": 7,
   "metadata": {},
   "outputs": [
    {
     "data": {
      "text/plain": [
       "7.0"
      ]
     },
     "execution_count": 7,
     "metadata": {},
     "output_type": "execute_result"
    }
   ],
   "source": [
    "21 / 3    # The output is a floating point number, even though the division has no remainder"
   ]
  },
  {
   "cell_type": "code",
   "execution_count": 8,
   "metadata": {},
   "outputs": [
    {
     "data": {
      "text/plain": [
       "7.333333333333333"
      ]
     },
     "execution_count": 8,
     "metadata": {},
     "output_type": "execute_result"
    }
   ],
   "source": [
    "22 / 3"
   ]
  },
  {
   "cell_type": "code",
   "execution_count": 9,
   "metadata": {},
   "outputs": [
    {
     "data": {
      "text/plain": [
       "7"
      ]
     },
     "execution_count": 9,
     "metadata": {},
     "output_type": "execute_result"
    }
   ],
   "source": [
    "21 // 3"
   ]
  },
  {
   "cell_type": "markdown",
   "metadata": {},
   "source": [
    "This cell demonstrates the use of the floor division operator `//` in Python.\n",
    "\n",
    "Here's a breakdown of what this line of code does:\n",
    "\n",
    "**`21 // 3`**: This line performs floor division of `21` by `3`. In Python, the `//` operator performs floor division, which is division that rounds down to the nearest whole number. The result of `21 // 3` is `7`.\n",
    "\n",
    "The cursor is currently on line 0, which is the start of the code block."
   ]
  },
  {
   "cell_type": "code",
   "execution_count": 10,
   "metadata": {},
   "outputs": [
    {
     "data": {
      "text/plain": [
       "7"
      ]
     },
     "execution_count": 10,
     "metadata": {},
     "output_type": "execute_result"
    }
   ],
   "source": [
    "22 // 3"
   ]
  },
  {
   "cell_type": "markdown",
   "metadata": {},
   "source": [
    "The modulo operator (remainder after division) is `%`, and exponentiation is denoted by `**`."
   ]
  },
  {
   "cell_type": "code",
   "execution_count": 11,
   "metadata": {},
   "outputs": [
    {
     "data": {
      "text/plain": [
       "1"
      ]
     },
     "execution_count": 11,
     "metadata": {},
     "output_type": "execute_result"
    }
   ],
   "source": [
    "7 % 3"
   ]
  },
  {
   "cell_type": "markdown",
   "metadata": {},
   "source": [
    "This cell demonstrates the use of the modulus operator `%` in Python.\n",
    "\n",
    "Here's a breakdown of what this line of code does:\n",
    "\n",
    "**`7 % 3`**: This line calculates the remainder of the division of `7` by `3`. In Python, the `%` operator is the modulus operator, which returns the remainder of the division. The result of `7 % 3` is `1`.\n",
    "\n",
    "The cursor is currently on line 0, which is the start of the code block."
   ]
  },
  {
   "cell_type": "code",
   "execution_count": 12,
   "metadata": {},
   "outputs": [
    {
     "data": {
      "text/plain": [
       "8"
      ]
     },
     "execution_count": 12,
     "metadata": {},
     "output_type": "execute_result"
    }
   ],
   "source": [
    "2**3"
   ]
  },
  {
   "cell_type": "markdown",
   "metadata": {},
   "source": [
    "You can of course override operator precedence with parentheses."
   ]
  },
  {
   "cell_type": "code",
   "execution_count": 13,
   "metadata": {},
   "outputs": [
    {
     "data": {
      "text/plain": [
       "7"
      ]
     },
     "execution_count": 13,
     "metadata": {},
     "output_type": "execute_result"
    }
   ],
   "source": [
    "1 + 3 * 2"
   ]
  },
  {
   "cell_type": "code",
   "execution_count": 14,
   "metadata": {},
   "outputs": [
    {
     "data": {
      "text/plain": [
       "8"
      ]
     },
     "execution_count": 14,
     "metadata": {},
     "output_type": "execute_result"
    }
   ],
   "source": [
    "(1 + 3) * 2"
   ]
  },
  {
   "cell_type": "markdown",
   "metadata": {},
   "source": [
    "or, this one: **Can you solve 8÷2(2+2) = ?**  $\\ldots$ going viral in August 2019 (see [Popular Mechanics](https://www.popularmechanics.com/science/math/a28569610/viral-math-problem-2019-solved), [Fox News](https://www.foxnews.com/tech/viral-math-problem-baffles-many-internet), and the [New York Times](https://www.nytimes.com/2019/08/06/science/math-equation-pemdas.html))"
   ]
  },
  {
   "cell_type": "code",
   "execution_count": 15,
   "metadata": {},
   "outputs": [
    {
     "data": {
      "text/plain": [
       "16.0"
      ]
     },
     "execution_count": 15,
     "metadata": {},
     "output_type": "execute_result"
    }
   ],
   "source": [
    "8/2*(2+2)"
   ]
  },
  {
   "cell_type": "code",
   "execution_count": 16,
   "metadata": {},
   "outputs": [
    {
     "data": {
      "text/plain": [
       "16.0"
      ]
     },
     "execution_count": 16,
     "metadata": {},
     "output_type": "execute_result"
    }
   ],
   "source": [
    "(8/2)*(2+2)"
   ]
  },
  {
   "cell_type": "code",
   "execution_count": 17,
   "metadata": {},
   "outputs": [
    {
     "data": {
      "text/plain": [
       "1.0"
      ]
     },
     "execution_count": 17,
     "metadata": {},
     "output_type": "execute_result"
    }
   ],
   "source": [
    "8/(2*(2+2))"
   ]
  },
  {
   "cell_type": "markdown",
   "metadata": {},
   "source": [
    "The two booleans are called `True` and `False` (note the capital letters). The boolean operators are `and`, `or` and `not`."
   ]
  },
  {
   "cell_type": "code",
   "execution_count": 18,
   "metadata": {},
   "outputs": [
    {
     "data": {
      "text/plain": [
       "False"
      ]
     },
     "execution_count": 18,
     "metadata": {},
     "output_type": "execute_result"
    }
   ],
   "source": [
    "not True"
   ]
  },
  {
   "cell_type": "code",
   "execution_count": 19,
   "metadata": {},
   "outputs": [
    {
     "data": {
      "text/plain": [
       "True"
      ]
     },
     "execution_count": 19,
     "metadata": {},
     "output_type": "execute_result"
    }
   ],
   "source": [
    "not False"
   ]
  },
  {
   "cell_type": "code",
   "execution_count": 20,
   "metadata": {},
   "outputs": [
    {
     "data": {
      "text/plain": [
       "False"
      ]
     },
     "execution_count": 20,
     "metadata": {},
     "output_type": "execute_result"
    }
   ],
   "source": [
    "True and False"
   ]
  },
  {
   "cell_type": "code",
   "execution_count": 21,
   "metadata": {},
   "outputs": [
    {
     "data": {
      "text/plain": [
       "True"
      ]
     },
     "execution_count": 21,
     "metadata": {},
     "output_type": "execute_result"
    }
   ],
   "source": [
    "False or True"
   ]
  },
  {
   "cell_type": "markdown",
   "metadata": {},
   "source": [
    "Comparison operators look like they do in most other programming languages: `==` (equal value), `!=` (not equal value), `<` (less than), `>` (greater than), `<=` (less than or equal to), `>=` (greater than or equal to)"
   ]
  },
  {
   "cell_type": "code",
   "execution_count": 22,
   "metadata": {},
   "outputs": [
    {
     "data": {
      "text/plain": [
       "True"
      ]
     },
     "execution_count": 22,
     "metadata": {},
     "output_type": "execute_result"
    }
   ],
   "source": [
    "1 == 1"
   ]
  },
  {
   "cell_type": "code",
   "execution_count": 23,
   "metadata": {},
   "outputs": [
    {
     "data": {
      "text/plain": [
       "True"
      ]
     },
     "execution_count": 23,
     "metadata": {},
     "output_type": "execute_result"
    }
   ],
   "source": [
    "1 == 1.0"
   ]
  },
  {
   "cell_type": "code",
   "execution_count": 24,
   "metadata": {},
   "outputs": [
    {
     "data": {
      "text/plain": [
       "True"
      ]
     },
     "execution_count": 24,
     "metadata": {},
     "output_type": "execute_result"
    }
   ],
   "source": [
    "1 < 10"
   ]
  },
  {
   "cell_type": "code",
   "execution_count": 25,
   "metadata": {},
   "outputs": [
    {
     "data": {
      "text/plain": [
       "False"
      ]
     },
     "execution_count": 25,
     "metadata": {},
     "output_type": "execute_result"
    }
   ],
   "source": [
    "1 > 10"
   ]
  },
  {
   "cell_type": "code",
   "execution_count": 26,
   "metadata": {},
   "outputs": [
    {
     "data": {
      "text/plain": [
       "True"
      ]
     },
     "execution_count": 26,
     "metadata": {},
     "output_type": "execute_result"
    }
   ],
   "source": [
    "2 <= 2"
   ]
  },
  {
   "cell_type": "code",
   "execution_count": 27,
   "metadata": {},
   "outputs": [
    {
     "data": {
      "text/plain": [
       "True"
      ]
     },
     "execution_count": 27,
     "metadata": {},
     "output_type": "execute_result"
    }
   ],
   "source": [
    "2 >= 2"
   ]
  },
  {
   "cell_type": "markdown",
   "metadata": {},
   "source": [
    "One notable feature of Python is that you can chain comparisons."
   ]
  },
  {
   "cell_type": "code",
   "execution_count": 28,
   "metadata": {},
   "outputs": [
    {
     "data": {
      "text/plain": [
       "True"
      ]
     },
     "execution_count": 28,
     "metadata": {},
     "output_type": "execute_result"
    }
   ],
   "source": [
    "-5 != False != True    # Same as (-5 != False) and (False != True)"
   ]
  },
  {
   "cell_type": "markdown",
   "metadata": {},
   "source": [
    "This cell demonstrates the use of the not equal operator `!=` in Python.\n",
    "\n",
    "Here's a breakdown of what this line of code does:\n",
    "\n",
    "**`-5 != False != True`**: This line checks if `-5` is not equal to `False` and if `False` is not equal to `True`. In Python, the `!=` operator checks if two values are not equal. The expression `-5 != False != True` is equivalent to `(-5 != False) and (False != True)`.\n",
    "\n",
    "In Python, `False` is equivalent to `0` and `True` is equivalent to `1`. Therefore, `-5` is not equal to `False` (or `0`), and `False` is not equal to `True` (or `1`). So, both conditions are `True`, and the overall result of the expression is `True`.\n",
    "\n",
    "The cursor is currently on line 0, which is the start of the code block."
   ]
  },
  {
   "cell_type": "code",
   "execution_count": 29,
   "metadata": {},
   "outputs": [
    {
     "data": {
      "text/plain": [
       "True"
      ]
     },
     "execution_count": 29,
     "metadata": {},
     "output_type": "execute_result"
    }
   ],
   "source": [
    "1 < 2 < 3              # Same as (1 < 2) and (2 < 3)"
   ]
  },
  {
   "cell_type": "markdown",
   "metadata": {},
   "source": [
    "Strings of text work as you might expect, too. Both double and single quotation marks are acceptable."
   ]
  },
  {
   "cell_type": "code",
   "execution_count": 30,
   "metadata": {},
   "outputs": [
    {
     "data": {
      "text/plain": [
       "'alpha'"
      ]
     },
     "execution_count": 30,
     "metadata": {},
     "output_type": "execute_result"
    }
   ],
   "source": [
    "\"alpha\""
   ]
  },
  {
   "cell_type": "code",
   "execution_count": 31,
   "metadata": {},
   "outputs": [
    {
     "data": {
      "text/plain": [
       "'beta'"
      ]
     },
     "execution_count": 31,
     "metadata": {},
     "output_type": "execute_result"
    }
   ],
   "source": [
    "'beta'"
   ]
  },
  {
   "cell_type": "markdown",
   "metadata": {},
   "source": [
    "For type conversion, the functions `int`, `float`, `bool` and `str` are your friends."
   ]
  },
  {
   "cell_type": "code",
   "execution_count": 32,
   "metadata": {},
   "outputs": [
    {
     "data": {
      "text/plain": [
       "2"
      ]
     },
     "execution_count": 32,
     "metadata": {},
     "output_type": "execute_result"
    }
   ],
   "source": [
    "int(\"2\")"
   ]
  },
  {
   "cell_type": "code",
   "execution_count": 33,
   "metadata": {},
   "outputs": [
    {
     "data": {
      "text/plain": [
       "5.0"
      ]
     },
     "execution_count": 33,
     "metadata": {},
     "output_type": "execute_result"
    }
   ],
   "source": [
    "float(5)"
   ]
  },
  {
   "cell_type": "code",
   "execution_count": 34,
   "metadata": {},
   "outputs": [
    {
     "data": {
      "text/plain": [
       "False"
      ]
     },
     "execution_count": 34,
     "metadata": {},
     "output_type": "execute_result"
    }
   ],
   "source": [
    "bool(0)"
   ]
  },
  {
   "cell_type": "code",
   "execution_count": 35,
   "metadata": {},
   "outputs": [
    {
     "data": {
      "text/plain": [
       "'15.3'"
      ]
     },
     "execution_count": 35,
     "metadata": {},
     "output_type": "execute_result"
    }
   ],
   "source": [
    "str(15.3)"
   ]
  },
  {
   "cell_type": "markdown",
   "metadata": {},
   "source": [
    "## Collections and mutability"
   ]
  },
  {
   "cell_type": "markdown",
   "metadata": {},
   "source": [
    "The most fundamental type of collection in Python is the *list*. It is an *ordered* collection of an arbitrary number of objects. A list is the Python equivalent of an array, but is resizeable and can contain elements of different types."
   ]
  },
  {
   "cell_type": "code",
   "execution_count": 36,
   "metadata": {},
   "outputs": [
    {
     "name": "stdout",
     "output_type": "stream",
     "text": [
      "[3, 1, 2] 2\n",
      "2\n",
      "[3, 1, 'foo']\n",
      "[3, 1, 'foo', 'bar']\n",
      "bar [3, 1, 'foo']\n"
     ]
    }
   ],
   "source": [
    "xs = [3, 1, 2]    # Create a list\n",
    "print(xs, xs[2])  # Prints \"[3, 1, 2] 2\"\n",
    "print(xs[-1])     # Negative indices count from the end of the list; prints \"2\"\n",
    "xs[2] = 'foo'     # Lists can contain elements of different types\n",
    "print(xs)         # Prints \"[3, 1, 'foo']\"\n",
    "xs.append('bar')  # Add a new element to the end of the list\n",
    "print(xs)         # Prints \"[3, 1, 'foo', 'bar']\"\n",
    "x = xs.pop()      # Remove and return the last element of the list\n",
    "print(x, xs)      # Prints \"bar [3, 1, 'foo']\""
   ]
  },
  {
   "cell_type": "markdown",
   "metadata": {},
   "source": [
    "**Slicing**: In addition to accessing list elements one at a time, Python provides concise syntax to access sublists; this is known as _slicing_:"
   ]
  },
  {
   "cell_type": "code",
   "execution_count": 37,
   "metadata": {},
   "outputs": [
    {
     "name": "stdout",
     "output_type": "stream",
     "text": [
      "[0, 1, 2, 3, 4]\n",
      "[2, 3]\n",
      "[2, 3, 4]\n",
      "[0, 1]\n",
      "[0, 1, 2, 3, 4]\n",
      "[0, 1, 2, 3]\n",
      "[0, 1, 8, 9, 4]\n"
     ]
    }
   ],
   "source": [
    "nums = list(range(5))     # range is a built-in function that creates a list of integers\n",
    "print(nums)               # Prints \"[0, 1, 2, 3, 4]\"\n",
    "print(nums[2:4])          # Get a slice from index 2 to 4 (exclusive); prints \"[2, 3]\"\n",
    "print(nums[2:])           # Get a slice from index 2 to the end; prints \"[2, 3, 4]\"\n",
    "print(nums[:2])           # Get a slice from the start to index 2 (exclusive); prints \"[0, 1]\"\n",
    "print(nums[:])            # Get a slice of the whole list; prints \"[0, 1, 2, 3, 4]\"\n",
    "print(nums[:-1])          # Slice indices can be negative; prints \"[0, 1, 2, 3]\"\n",
    "nums[2:4] = [8, 9]        # Assign a new sublist to a slice\n",
    "print(nums)               # Prints \"[0, 1, 8, 9, 4]\""
   ]
  },
  {
   "cell_type": "markdown",
   "metadata": {},
   "source": [
    "The elements of a list do not have to have the same types."
   ]
  },
  {
   "cell_type": "code",
   "execution_count": 38,
   "metadata": {},
   "outputs": [],
   "source": [
    "mylist = [False, 1, 2.0, \"Three\"]"
   ]
  },
  {
   "cell_type": "markdown",
   "metadata": {},
   "source": [
    "You can access the elements of a list by indexing. The first element has index **ZERO**."
   ]
  },
  {
   "cell_type": "code",
   "execution_count": 39,
   "metadata": {},
   "outputs": [
    {
     "data": {
      "text/plain": [
       "False"
      ]
     },
     "execution_count": 39,
     "metadata": {},
     "output_type": "execute_result"
    }
   ],
   "source": [
    "mylist[0]"
   ]
  },
  {
   "cell_type": "code",
   "execution_count": 40,
   "metadata": {},
   "outputs": [
    {
     "data": {
      "text/plain": [
       "1"
      ]
     },
     "execution_count": 40,
     "metadata": {},
     "output_type": "execute_result"
    }
   ],
   "source": [
    "mylist[1]"
   ]
  },
  {
   "cell_type": "markdown",
   "metadata": {},
   "source": [
    "Negative indices count back from the end of the list."
   ]
  },
  {
   "cell_type": "code",
   "execution_count": 41,
   "metadata": {},
   "outputs": [
    {
     "data": {
      "text/plain": [
       "'Three'"
      ]
     },
     "execution_count": 41,
     "metadata": {},
     "output_type": "execute_result"
    }
   ],
   "source": [
    "mylist[-1]"
   ]
  },
  {
   "cell_type": "markdown",
   "metadata": {},
   "source": [
    "You can use the `len` function to get the number of elements in a list. The previous code could thus have been written like this."
   ]
  },
  {
   "cell_type": "code",
   "execution_count": 42,
   "metadata": {},
   "outputs": [
    {
     "data": {
      "text/plain": [
       "'Three'"
      ]
     },
     "execution_count": 42,
     "metadata": {},
     "output_type": "execute_result"
    }
   ],
   "source": [
    "mylist[len(mylist)-1]"
   ]
  },
  {
   "cell_type": "markdown",
   "metadata": {},
   "source": [
    "To *slice* a list (extract sublists), use a colon to separate starting and ending index. Note that the ending index is exclusive, thus `0:4` contains the indices `0,1,2,3`."
   ]
  },
  {
   "cell_type": "code",
   "execution_count": 43,
   "metadata": {},
   "outputs": [
    {
     "data": {
      "text/plain": [
       "[False, 1]"
      ]
     },
     "execution_count": 43,
     "metadata": {},
     "output_type": "execute_result"
    }
   ],
   "source": [
    "mylist[0:2]"
   ]
  },
  {
   "cell_type": "markdown",
   "metadata": {},
   "source": [
    "Negative indices work here too, and if you omit an index, it defaults to the start or end, respectively."
   ]
  },
  {
   "cell_type": "code",
   "execution_count": 44,
   "metadata": {},
   "outputs": [
    {
     "data": {
      "text/plain": [
       "[False, 1, 2.0]"
      ]
     },
     "execution_count": 44,
     "metadata": {},
     "output_type": "execute_result"
    }
   ],
   "source": [
    "mylist[:-1]"
   ]
  },
  {
   "cell_type": "markdown",
   "metadata": {},
   "source": [
    "An optional third \"argument\" gives the step."
   ]
  },
  {
   "cell_type": "code",
   "execution_count": 45,
   "metadata": {},
   "outputs": [
    {
     "data": {
      "text/plain": [
       "[False, 2.0]"
      ]
     },
     "execution_count": 45,
     "metadata": {},
     "output_type": "execute_result"
    }
   ],
   "source": [
    "mylist[::2]"
   ]
  },
  {
   "cell_type": "markdown",
   "metadata": {},
   "source": [
    "Can you find out how to get the ‘bone’ element, which is located in a nested list, like the following? "
   ]
  },
  {
   "cell_type": "code",
   "execution_count": 46,
   "metadata": {},
   "outputs": [],
   "source": [
    "dog = ['Freddie', 9, True, 1.1, 2001, ['bone', 'little ball']]"
   ]
  },
  {
   "cell_type": "code",
   "execution_count": 47,
   "metadata": {},
   "outputs": [],
   "source": [
    "#Check: dog[5][0]"
   ]
  },
  {
   "cell_type": "markdown",
   "metadata": {},
   "source": [
    "... or the i,j element in the sample matrix where i=1, j=2 (i.e. 27)"
   ]
  },
  {
   "cell_type": "code",
   "execution_count": 48,
   "metadata": {},
   "outputs": [],
   "source": [
    "sample_matrix = [[1, 4, 9], [1, 8, 27], [1, 16, 81]]"
   ]
  },
  {
   "cell_type": "code",
   "execution_count": 49,
   "metadata": {},
   "outputs": [],
   "source": [
    "# Check: sample_matrix[1][2]"
   ]
  },
  {
   "cell_type": "markdown",
   "metadata": {},
   "source": [
    "**Loops**: You can loop over the elements of a list like this:"
   ]
  },
  {
   "cell_type": "code",
   "execution_count": 50,
   "metadata": {},
   "outputs": [
    {
     "name": "stdout",
     "output_type": "stream",
     "text": [
      "cat\n",
      "dog\n",
      "monkey\n"
     ]
    }
   ],
   "source": [
    "animals = ['cat', 'dog', 'monkey']\n",
    "for animal in animals:\n",
    "    print(animal)\n",
    "# Prints \"cat\", \"dog\", \"monkey\", each on its own line."
   ]
  },
  {
   "cell_type": "markdown",
   "metadata": {},
   "source": [
    "If you want access to the index of each element within the body of a loop, use the built-in `enumerate` function:"
   ]
  },
  {
   "cell_type": "code",
   "execution_count": 151,
   "metadata": {},
   "outputs": [
    {
     "name": "stdout",
     "output_type": "stream",
     "text": [
      "#1: cat\n",
      "#1: cat # using f-string syntox\n",
      "#2: dog\n",
      "#2: dog # using f-string syntox\n",
      "#3: monkey\n",
      "#3: monkey # using f-string syntox\n"
     ]
    }
   ],
   "source": [
    "animals = ['cat', 'dog', 'monkey']\n",
    "for idx, animal in enumerate(animals):\n",
    "    print('#%d: %s' % (idx + 1, animal))\n",
    "    print(f'#{idx+1}: {animal} # using f-string syntox')   \n",
    "# Prints \"#1: cat\", \"#2: dog\", \"#3: monkey\", each on its own line"
   ]
  },
  {
   "cell_type": "markdown",
   "metadata": {},
   "source": [
    "This cell is creating a list of animals and then using a `for` loop with the `enumerate` function to iterate over the list and print each animal along with its index (1-based).\n",
    "\n",
    "Here's a breakdown of what each part of the code does:\n",
    "\n",
    "1. **`animals = ['cat', 'dog', 'monkey']`**: This line creates a list of strings, each string representing a different animal.\n",
    "\n",
    "2. **`for idx, animal in enumerate(animals):`**: This line starts a `for` loop that iterates over the `animals` list. The `enumerate` function is used to get both the index (`idx`) and the value (`animal`) of each element in the list. The index is 0-based, so it starts at 0 for the first element.\n",
    "\n",
    "3. **`print('#%d: %s' % (idx + 1, animal))`**: This line prints the 1-based index and the value of the current element. The `%d` and `%s` are placeholders for a decimal (integer) and a string, respectively. The `(idx + 1, animal)` tuple provides the values to substitute into these placeholders.\n",
    "\n",
    "4. **`print(f'#{idx+1}: {animal} # using f-string syntax')`**: This line does the same thing as the previous line, but it uses f-string syntax, which is a more modern and often more readable way to format strings in Python. The `f` before the string indicates that it's an f-string, and the `{}` brackets inside the string are placeholders where expressions can be inserted. In this case, `idx+1` and `animal` are inserted into the string.\n",
    "\n",
    "5. **`# Prints \"#1: cat\", \"#2: dog\", \"#3: monkey\", each on its own line`**: This is a comment that explains what the code does. It's not executed as part of the code.\n",
    "\n",
    "The cursor is currently on line 2, which is the start of the `for` loop."
   ]
  },
  {
   "cell_type": "markdown",
   "metadata": {},
   "source": [
    "**List comprehensions**: When programming, frequently we want to transform one type of data into another. As a simple example, consider the following code that computes square numbers:"
   ]
  },
  {
   "cell_type": "code",
   "execution_count": 52,
   "metadata": {},
   "outputs": [
    {
     "name": "stdout",
     "output_type": "stream",
     "text": [
      "[0, 1, 4, 9, 16]\n"
     ]
    }
   ],
   "source": [
    "nums = [0, 1, 2, 3, 4]\n",
    "squares = []\n",
    "for x in nums:\n",
    "    squares.append(x ** 2)\n",
    "print(squares)   # Prints [0, 1, 4, 9, 16]"
   ]
  },
  {
   "cell_type": "markdown",
   "metadata": {},
   "source": [
    "This cell is creating a list of squares from a list of numbers using a `for` loop.\n",
    "\n",
    "Here's a breakdown of what each part of the code does:\n",
    "\n",
    "1. **`nums = [0, 1, 2, 3, 4]`**: This line creates a list of integers from 0 to 4 and assigns it to the variable `nums`.\n",
    "\n",
    "2. **`squares = []`**: This line initializes an empty list and assigns it to the variable `squares`. This list will be used to store the squares of the numbers in `nums`.\n",
    "\n",
    "3. **`for x in nums:`**: This line starts a `for` loop that iterates over each number `x` in the `nums` list.\n",
    "\n",
    "4. **`squares.append(x ** 2)`**: Inside the loop, this line calculates the square of the current number `x` (using the `**` operator) and appends it to the `squares` list.\n",
    "\n",
    "5. **`print(squares)`**: After the loop has finished, this line prints the `squares` list. The output should be `[0, 1, 4, 9, 16]`, which are the squares of the numbers in the `nums` list.\n",
    "\n",
    "The cursor is currently on line 0, which is the start of the code block."
   ]
  },
  {
   "cell_type": "markdown",
   "metadata": {},
   "source": [
    "You can make this code simpler using a **list comprehension**:"
   ]
  },
  {
   "cell_type": "code",
   "execution_count": 152,
   "metadata": {},
   "outputs": [
    {
     "name": "stdout",
     "output_type": "stream",
     "text": [
      "[0, 1, 4, 9, 16]\n"
     ]
    }
   ],
   "source": [
    "nums = [0, 1, 2, 3, 4]\n",
    "squares = [x ** 2 for x in nums]\n",
    "print(squares)   # Prints [0, 1, 4, 9, 16]"
   ]
  },
  {
   "cell_type": "markdown",
   "metadata": {},
   "source": [
    "This cell is creating a list of squares from a list of numbers using a list comprehension.\n",
    "\n",
    "Here's a breakdown of what each part of the code does:\n",
    "\n",
    "1. **`nums = [0, 1, 2, 3, 4]`**: This line creates a list of integers from 0 to 4 and assigns it to the variable `nums`.\n",
    "\n",
    "2. **`squares = [x ** 2 for x in nums]`**: This line uses a list comprehension to create a new list `squares`. For each number `x` in `nums`, it calculates the square of `x` (using the `**` operator) and includes it in the new list.\n",
    "\n",
    "3. **`print(squares)`**: This line prints the `squares` list. The output should be `[0, 1, 4, 9, 16]`, which are the squares of the numbers in the `nums` list.\n",
    "\n",
    "The cursor is currently on line 0, which is the start of the code block. List comprehensions are a concise way to create lists based on existing lists in Python."
   ]
  },
  {
   "cell_type": "markdown",
   "metadata": {},
   "source": [
    "List comprehensions can also contain conditions:"
   ]
  },
  {
   "cell_type": "code",
   "execution_count": 54,
   "metadata": {},
   "outputs": [
    {
     "name": "stdout",
     "output_type": "stream",
     "text": [
      "[0, 4, 16]\n"
     ]
    }
   ],
   "source": [
    "nums = [0, 1, 2, 3, 4]\n",
    "even_squares = [x ** 2 for x in nums if x % 2 == 0]\n",
    "print(even_squares)  # Prints \"[0, 4, 16]\""
   ]
  },
  {
   "cell_type": "markdown",
   "metadata": {},
   "source": [
    "This cell is creating a list of squares of even numbers from a list of numbers using a list comprehension with a conditional statement.\n",
    "\n",
    "Here's a breakdown of what each part of the code does:\n",
    "\n",
    "1. **`nums = [0, 1, 2, 3, 4]`**: This line creates a list of integers from 0 to 4 and assigns it to the variable `nums`.\n",
    "\n",
    "2. **`even_squares = [x ** 2 for x in nums if x % 2 == 0]`**: This line uses a list comprehension to create a new list `even_squares`. For each number `x` in `nums`, it checks if `x` is even (using the `%` operator to get the remainder of `x` divided by 2). If `x` is even, it calculates the square of `x` (using the `**` operator) and includes it in the new list.\n",
    "\n",
    "3. **`print(even_squares)`**: This line prints the `even_squares` list. The output should be `[0, 4, 16]`, which are the squares of the even numbers in the `nums` list.\n",
    "\n",
    "The cursor is currently on line 0, which is the start of the code block. List comprehensions with conditional statements are a powerful feature of Python that allow you to create new lists based on existing lists with a single line of code."
   ]
  },
  {
   "cell_type": "markdown",
   "metadata": {},
   "source": [
    "Lists are **mutable**. See the following code."
   ]
  },
  {
   "cell_type": "code",
   "execution_count": 55,
   "metadata": {},
   "outputs": [
    {
     "data": {
      "text/plain": [
       "'changed!'"
      ]
     },
     "execution_count": 55,
     "metadata": {},
     "output_type": "execute_result"
    }
   ],
   "source": [
    "a = [0, 1, 2]\n",
    "b = a\n",
    "a[0] = 'changed!'\n",
    "b[0]"
   ]
  },
  {
   "cell_type": "markdown",
   "metadata": {},
   "source": [
    "This cell demonstrates how variable assignment works with mutable objects in Python, such as lists.\n",
    "\n",
    "Here's a breakdown of what each part of the code does:\n",
    "\n",
    "1. **`a = [0, 1, 2]`**: This line creates a list of integers and assigns it to the variable `a`.\n",
    "\n",
    "2. **`b = a`**: This line assigns the list `a` to the variable `b`. Note that this does not create a new list; `a` and `b` now both refer to the same list.\n",
    "\n",
    "3. **`a[0] = 'changed!'`**: This line changes the first element of the list `a` to the string `'changed!'`. Because `a` and `b` refer to the same list, this change also affects `b`.\n",
    "\n",
    "4. **`b[0]`**: This line retrieves the first element of the list `b`. Because `a` and `b` refer to the same list, and the first element of `a` was changed, this will return `'changed!'`.\n",
    "\n",
    "The cursor is currently on line 1, which is the start of the code block."
   ]
  },
  {
   "cell_type": "markdown",
   "metadata": {},
   "source": [
    "This happens because after the line `b = a`, both `b` and `a` point to **the same list in memory**. Therefore, changes made via the name `a` are also reflected under the name `b`. This is sometimes what you want, and sometimes not. If it's not what you want, consider making a *copy* of the list. To do that, use the `list` function."
   ]
  },
  {
   "cell_type": "code",
   "execution_count": 56,
   "metadata": {},
   "outputs": [
    {
     "data": {
      "text/plain": [
       "0"
      ]
     },
     "execution_count": 56,
     "metadata": {},
     "output_type": "execute_result"
    }
   ],
   "source": [
    "a = [0, 1, 2]\n",
    "b = list(a)\n",
    "a[0] = 'changed!'\n",
    "b[0]"
   ]
  },
  {
   "cell_type": "markdown",
   "metadata": {},
   "source": [
    "This cell demonstrates how variable assignment works with mutable objects in Python, such as lists, when using the `list()` function to create a new list.\n",
    "\n",
    "Here's a breakdown of what each part of the code does:\n",
    "\n",
    "1. **`a = [0, 1, 2]`**: This line creates a list of integers and assigns it to the variable `a`.\n",
    "\n",
    "2. **`b = list(a)`**: This line creates a new list that is a copy of `a` and assigns it to the variable `b`. Now, `a` and `b` are two separate lists.\n",
    "\n",
    "3. **`a[0] = 'changed!'`**: This line changes the first element of the list `a` to the string `'changed!'`. Because `a` and `b` are separate lists, this change does not affect `b`.\n",
    "\n",
    "4. **`b[0]`**: This line retrieves the first element of the list `b`. Because `a` and `b` are separate lists, and only `a` was changed, this will return `0`.\n",
    "\n",
    "The cursor is currently on line 0, which is the start of the code block."
   ]
  },
  {
   "cell_type": "markdown",
   "metadata": {},
   "source": [
    "Note that it's the *commas* that make the tuple, not the parentheses."
   ]
  },
  {
   "cell_type": "code",
   "execution_count": 57,
   "metadata": {},
   "outputs": [
    {
     "data": {
      "text/plain": [
       "(0, 1, 2)"
      ]
     },
     "execution_count": 57,
     "metadata": {},
     "output_type": "execute_result"
    }
   ],
   "source": [
    "0, 1, 2"
   ]
  },
  {
   "cell_type": "markdown",
   "metadata": {},
   "source": [
    "Also note that the protection against mutations only extends as far as the elements of the tuple. For example:"
   ]
  },
  {
   "cell_type": "code",
   "execution_count": 58,
   "metadata": {},
   "outputs": [
    {
     "data": {
      "text/plain": [
       "'changed!'"
      ]
     },
     "execution_count": 58,
     "metadata": {},
     "output_type": "execute_result"
    }
   ],
   "source": [
    "a = ([0], 1, 2)\n",
    "b = a\n",
    "a[0][0] = 'changed!'\n",
    "b[0][0]"
   ]
  },
  {
   "cell_type": "markdown",
   "metadata": {},
   "source": [
    "However, the same thing would happen if you made a copy, since the copy is only \"one level deep.\""
   ]
  },
  {
   "cell_type": "code",
   "execution_count": 59,
   "metadata": {},
   "outputs": [
    {
     "data": {
      "text/plain": [
       "'changed!'"
      ]
     },
     "execution_count": 59,
     "metadata": {},
     "output_type": "execute_result"
    }
   ],
   "source": [
    "a = [[0], 1, 2]\n",
    "b = list(a)\n",
    "a[0][0] = 'changed!'\n",
    "b[0][0]"
   ]
  },
  {
   "cell_type": "markdown",
   "metadata": {},
   "source": [
    "### Dictionaries"
   ]
  },
  {
   "cell_type": "markdown",
   "metadata": {},
   "source": [
    "The third major type of collection we will look at is the *dictionary*. Dictionaries are key-value maps where the keys can be (almost) any type of object. The values in a dictionary are accessed by key, not by index, and each key is used only once."
   ]
  },
  {
   "cell_type": "code",
   "execution_count": 60,
   "metadata": {},
   "outputs": [
    {
     "name": "stdout",
     "output_type": "stream",
     "text": [
      "1\n",
      "cute\n",
      "True\n",
      "wet\n",
      "N/A\n",
      "wet\n",
      "N/A\n"
     ]
    }
   ],
   "source": [
    "mydict = {'a': 1, 'b': 2, 'c': 3}    # Create a dictionary with some data\n",
    "print(mydict['a'])                   # Get an entry from a dictionary\n",
    "d = {'cat': 'cute', 'dog': 'furry'}  # Create a new dictionary with some data\n",
    "print(d['cat'])       # Get an entry from a dictionary; prints \"cute\"\n",
    "print('cat' in d)     # Check if a dictionary has a given key; prints \"True\"\n",
    "d['fish'] = 'wet'     # Set an entry in a dictionary\n",
    "print(d['fish'])      # Prints \"wet\"\n",
    "# print(d['monkey'])  # KeyError: 'monkey' not a key of d\n",
    "print(d.get('monkey', 'N/A'))  # Get an element with a default; prints \"N/A\"\n",
    "print(d.get('fish', 'N/A'))    # Get an element with a default; prints \"wet\"\n",
    "del d['fish']         # Remove an element from a dictionary\n",
    "print(d.get('fish', 'N/A')) # \"fish\" is no longer a key; prints \"N/A\""
   ]
  },
  {
   "cell_type": "markdown",
   "metadata": {},
   "source": [
    "This cell demonstrates various operations that can be performed on dictionaries in Python.\n",
    "\n",
    "Here's a breakdown of what each part of the code does:\n",
    "\n",
    "1. **`mydict = {'a': 1, 'b': 2, 'c': 3}`**: This line creates a dictionary with keys `'a'`, `'b'`, and `'c'` and corresponding values `1`, `2`, and `3`.\n",
    "\n",
    "2. **`print(mydict['a'])`**: This line prints the value associated with the key `'a'` in the dictionary `mydict`, which is `1`.\n",
    "\n",
    "3. **`d = {'cat': 'cute', 'dog': 'furry'}`**: This line creates another dictionary `d` with keys `'cat'` and `'dog'` and corresponding values `'cute'` and `'furry'`.\n",
    "\n",
    "4. **`print(d['cat'])`**: This line prints the value associated with the key `'cat'` in the dictionary `d`, which is `'cute'`.\n",
    "\n",
    "5. **`print('cat' in d)`**: This line checks if the key `'cat'` is in the dictionary `d` and prints the result, which is `True`.\n",
    "\n",
    "6. **`d['fish'] = 'wet'`**: This line adds a new key-value pair to the dictionary `d` with key `'fish'` and value `'wet'`.\n",
    "\n",
    "7. **`print(d['fish'])`**: This line prints the value associated with the key `'fish'` in the dictionary `d`, which is `'wet'`.\n",
    "\n",
    "8. **`print(d.get('monkey', 'N/A'))`**: This line tries to get the value associated with the key `'monkey'` in the dictionary `d`. If `'monkey'` is not a key in `d`, it returns the default value `'N/A'`.\n",
    "\n",
    "9. **`print(d.get('fish', 'N/A'))`**: This line gets the value associated with the key `'fish'` in the dictionary `d`, which is `'wet'`.\n",
    "\n",
    "10. **`del d['fish']`**: This line removes the key-value pair with key `'fish'` from the dictionary `d`.\n",
    "\n",
    "11. **`print(d.get('fish', 'N/A'))`**: This line tries to get the value associated with the key `'fish'` in the dictionary `d`. Since `'fish'` has been deleted from `d`, it returns the default value `'N/A'`.\n",
    "\n",
    "The cursor is currently on line 0, which is the start of the code block."
   ]
  },
  {
   "cell_type": "markdown",
   "metadata": {},
   "source": [
    "The following example is a dictionary where the keys are strings (DNA base codes) and the values are numbers (nucleotide masses)."
   ]
  },
  {
   "cell_type": "code",
   "execution_count": 61,
   "metadata": {},
   "outputs": [
    {
     "name": "stdout",
     "output_type": "stream",
     "text": [
      "313.21\n",
      "4\n",
      "dict_keys(['G', 'C', 'A', 'T'])\n",
      "dict_values([329.21, 289.18, 313.21, 314.19])\n"
     ]
    }
   ],
   "source": [
    "d = {\"G\":329.21, \"C\":289.18, \"A\":313.21, \"T\":314.19}\n",
    "print(d['A'])      # 313.21 -  value associated with 'A'\n",
    "print(len(d))      # 4 - number of key:value pairs\n",
    "print(d.keys())    # Just keys 'G', 'A', 'T', 'C'\n",
    "print(d.values())  # Just values 329.21, 313.21, 314.19, 289.18"
   ]
  },
  {
   "cell_type": "markdown",
   "metadata": {},
   "source": [
    "If a key is already present in the dictionary, then a simple assignment of the form `dict[key]=value` is used to change the value associated with that key. If the key was not already present, this kind of assignment will add a new `key:value` pair. Existing keys can not be changed directly, but it is possible to remove a `key:value` pair using `del` and add the same value back again with a different key."
   ]
  },
  {
   "cell_type": "code",
   "execution_count": 62,
   "metadata": {},
   "outputs": [
    {
     "name": "stdout",
     "output_type": "stream",
     "text": [
      "5\n"
     ]
    },
    {
     "data": {
      "text/plain": [
       "{'G': 329.21, 'C': 289.18, 'A': 313.21, 'T': 304.19}"
      ]
     },
     "execution_count": 62,
     "metadata": {},
     "output_type": "execute_result"
    }
   ],
   "source": [
    "d = {\"G\":329.21, \"C\":289.18, \"A\":313.21, \"T\":314.19}\n",
    "d['T'] = 304.19   # Change the value of an existing item\n",
    "d['U'] = 291.08   # Add a new key:value pair\n",
    "print(len(d))     # 5 - dict is larger  \n",
    "del d['U']        # Delete a key and its value from the dictionary\n",
    "d"
   ]
  },
  {
   "cell_type": "markdown",
   "metadata": {},
   "source": [
    "This cell demonstrates various operations that can be performed on dictionaries in Python.\n",
    "\n",
    "Here's a breakdown of what each part of the code does:\n",
    "\n",
    "1. **`d = {\"G\":329.21, \"C\":289.18, \"A\":313.21, \"T\":314.19}`**: This line creates a dictionary `d` with keys `'G'`, `'C'`, `'A'`, and `'T'` and corresponding values `329.21`, `289.18`, `313.21`, and `314.19`.\n",
    "\n",
    "2. **`d['T'] = 304.19`**: This line changes the value associated with the key `'T'` in the dictionary `d` to `304.19`.\n",
    "\n",
    "3. **`d['U'] = 291.08`**: This line adds a new key-value pair to the dictionary `d` with key `'U'` and value `291.08`.\n",
    "\n",
    "4. **`print(len(d))`**: This line prints the number of key-value pairs in the dictionary `d`, which is `5` after the addition of the `'U'` key.\n",
    "\n",
    "5. **`del d['U']`**: This line removes the key-value pair with key `'U'` from the dictionary `d`.\n",
    "\n",
    "6. **`d`**: This line outputs the current state of the dictionary `d`. After the deletion of the `'U'` key, the dictionary should contain the keys `'G'`, `'C'`, `'A'`, and `'T'` with their corresponding values.\n",
    "\n",
    "The cursor is currently on line 0, which is the start of the code block."
   ]
  },
  {
   "cell_type": "markdown",
   "metadata": {},
   "source": [
    "**Loops**: It is easy to iterate over the keys in a dictionary:"
   ]
  },
  {
   "cell_type": "code",
   "execution_count": 153,
   "metadata": {},
   "outputs": [
    {
     "name": "stdout",
     "output_type": "stream",
     "text": [
      "A person has 2 legs\n",
      "A cat has 4 legs\n",
      "A spider has 8 legs\n"
     ]
    }
   ],
   "source": [
    "d = {'person': 2, 'cat': 4, 'spider': 8}\n",
    "for animal in d:\n",
    "    legs = d[animal]\n",
    "    print(f'A {animal} has {legs} legs')\n",
    "# Prints \"A person has 2 legs\", \"A cat has 4 legs\", \"A spider has 8 legs\""
   ]
  },
  {
   "cell_type": "markdown",
   "metadata": {},
   "source": [
    "If you want access to keys and their corresponding values, use the `items` method:"
   ]
  },
  {
   "cell_type": "code",
   "execution_count": 154,
   "metadata": {},
   "outputs": [
    {
     "name": "stdout",
     "output_type": "stream",
     "text": [
      "A person has 2 legs\n",
      "A cat has 4 legs\n",
      "A spider has 8 legs\n"
     ]
    }
   ],
   "source": [
    "d = {'person': 2, 'cat': 4, 'spider': 8}\n",
    "for animal, legs in d.items():\n",
    "    print(f'A {animal} has {legs} legs')\n",
    "# Prints \"A person has 2 legs\", \"A cat has 4 legs\", \"A spider has 8 legs\""
   ]
  },
  {
   "cell_type": "markdown",
   "metadata": {},
   "source": [
    "**Dictionary comprehensions**: These are similar to list comprehensions, but allow you to easily construct dictionaries. For example:"
   ]
  },
  {
   "cell_type": "code",
   "execution_count": 155,
   "metadata": {},
   "outputs": [
    {
     "name": "stdout",
     "output_type": "stream",
     "text": [
      "{0: 0, 2: 4, 4: 16}\n"
     ]
    }
   ],
   "source": [
    "nums = [0, 1, 2, 3, 4]\n",
    "even_num_to_square = {x: x ** 2 for x in nums if x % 2 == 0}\n",
    "print(even_num_to_square)  # Prints \"{0: 0, 2: 4, 4: 16}\""
   ]
  },
  {
   "cell_type": "markdown",
   "metadata": {},
   "source": [
    "Dictionaries, like lists, are mutable."
   ]
  },
  {
   "cell_type": "code",
   "execution_count": 156,
   "metadata": {},
   "outputs": [
    {
     "data": {
      "text/plain": [
       "{'a': 1, 'b': 2, 'c': 3, 'd': 4}"
      ]
     },
     "execution_count": 156,
     "metadata": {},
     "output_type": "execute_result"
    }
   ],
   "source": [
    "mydict = {'a': 1, 'b': 2, 'c': 3}    # Create a dictionary with some data\n",
    "mydict['d'] = 4\n",
    "mydict"
   ]
  },
  {
   "cell_type": "markdown",
   "metadata": {},
   "source": [
    "### Sets"
   ]
  },
  {
   "cell_type": "markdown",
   "metadata": {},
   "source": [
    "The final collection that you might find useful is the *set*. A set is an undordered collection of distinct elements, i.e. objects that ensures no duplicates are possible. As a simple example, consider the following:"
   ]
  },
  {
   "cell_type": "code",
   "execution_count": 67,
   "metadata": {},
   "outputs": [
    {
     "name": "stdout",
     "output_type": "stream",
     "text": [
      "{1, 2, 3}\n",
      "True\n",
      "False\n",
      "True\n",
      "3\n",
      "3\n",
      "2\n"
     ]
    }
   ],
   "source": [
    "myset = {1, 2, 3, 2, 3}   # Duplicates are eliminated\n",
    "print(myset)\n",
    "animals = {'cat', 'dog'}\n",
    "print('cat' in animals)   # Check if an element is in a set; prints \"True\"\n",
    "print('fish' in animals)  # prints \"False\"\n",
    "animals.add('fish')       # Add an element to a set\n",
    "print('fish' in animals)  # Prints \"True\"\n",
    "print(len(animals))       # Number of elements in a set; prints \"3\"\n",
    "animals.add('cat')        # Adding an element that is already in the set does nothing\n",
    "print(len(animals))       # Prints \"3\"\n",
    "animals.remove('cat')     # Remove an element from a set\n",
    "print(len(animals))       # Prints \"2\""
   ]
  },
  {
   "cell_type": "markdown",
   "metadata": {},
   "source": [
    "This cell demonstrates various operations that can be performed on sets in Python.\n",
    "\n",
    "Here's a breakdown of what each part of the code does:\n",
    "\n",
    "1. **`myset = {1, 2, 3, 2, 3}`**: This line creates a set `myset` with elements `1`, `2`, and `3`. Duplicates are automatically eliminated in a set, so the duplicate `2` and `3` are ignored.\n",
    "\n",
    "2. **`print(myset)`**: This line prints the `myset` set, which should output `{1, 2, 3}`.\n",
    "\n",
    "3. **`animals = {'cat', 'dog'}`**: This line creates a set `animals` with elements `'cat'` and `'dog'`.\n",
    "\n",
    "4. **`print('cat' in animals)`**: This line checks if `'cat'` is in the `animals` set and prints the result, which is `True`.\n",
    "\n",
    "5. **`print('fish' in animals)`**: This line checks if `'fish'` is in the `animals` set and prints the result, which is `False`.\n",
    "\n",
    "6. **`animals.add('fish')`**: This line adds `'fish'` to the `animals` set.\n",
    "\n",
    "7. **`print('fish' in animals)`**: This line checks if `'fish'` is now in the `animals` set and prints the result, which is `True`.\n",
    "\n",
    "8. **`print(len(animals))`**: This line prints the number of elements in the `animals` set, which is `3`.\n",
    "\n",
    "9. **`animals.add('cat')`**: This line tries to add `'cat'` to the `animals` set. However, `'cat'` is already in the set, so this operation does nothing.\n",
    "\n",
    "10. **`print(len(animals))`**: This line prints the number of elements in the `animals` set, which is still `3`.\n",
    "\n",
    "11. **`animals.remove('cat')`**: This line removes `'cat'` from the `animals` set.\n",
    "\n",
    "12. **`print(len(animals))`**: This line prints the number of elements in the `animals` set, which is now `2`.\n",
    "\n",
    "The cursor is currently on line 3, which is the `print('cat' in animals)` statement."
   ]
  },
  {
   "cell_type": "markdown",
   "metadata": {},
   "source": [
    "**Loops**: Iterating over a set has the same syntax as iterating over a list; however since sets are unordered, you cannot make assumptions about the order in which you visit the elements of the set:"
   ]
  },
  {
   "cell_type": "code",
   "execution_count": 158,
   "metadata": {},
   "outputs": [
    {
     "name": "stdout",
     "output_type": "stream",
     "text": [
      "#1: fish\n",
      "#2: dog\n",
      "#3: cat\n"
     ]
    }
   ],
   "source": [
    "animals = {'cat', 'dog', 'fish'}\n",
    "for idx, animal in enumerate(animals):\n",
    "    print(f'#{idx+1}: {animal}')\n",
    "# Prints \"#1: fish\", \"#2: dog\", \"#3: cat\""
   ]
  },
  {
   "cell_type": "markdown",
   "metadata": {},
   "source": [
    "**Set comprehensions**: Like lists and dictionaries, we can easily construct sets using set comprehensions:"
   ]
  },
  {
   "cell_type": "code",
   "execution_count": 159,
   "metadata": {},
   "outputs": [
    {
     "name": "stdout",
     "output_type": "stream",
     "text": [
      "{0, 1, 2, 3, 4, 5}\n"
     ]
    }
   ],
   "source": [
    "from math import sqrt\n",
    "nums = {int(sqrt(x)) for x in range(30)}\n",
    "print(nums)  # Prints \"{0, 1, 2, 3, 4, 5}\""
   ]
  },
  {
   "cell_type": "markdown",
   "metadata": {},
   "source": [
    "### Tuples"
   ]
  },
  {
   "cell_type": "markdown",
   "metadata": {},
   "source": [
    "A tuple is an (immutable) ordered list of values. A tuple is in many ways similar to a list; one of the most important differences is that tuples can be used as keys in dictionaries and as elements of sets, while lists cannot. Here is a trivial example:"
   ]
  },
  {
   "cell_type": "code",
   "execution_count": 160,
   "metadata": {},
   "outputs": [
    {
     "name": "stdout",
     "output_type": "stream",
     "text": [
      "<class 'tuple'>\n",
      "5\n",
      "1\n"
     ]
    }
   ],
   "source": [
    "d = {(x, x + 1): x for x in range(10)}  # Create a dictionary with tuple keys\n",
    "t = (5, 6)        # Create a tuple\n",
    "print(type(t))    # Prints \"<class 'tuple'>\"\n",
    "print(d[t])       # Prints \"5\"\n",
    "print(d[(1, 2)])  # Prints \"1\""
   ]
  },
  {
   "cell_type": "markdown",
   "metadata": {},
   "source": [
    "## Working with collections"
   ]
  },
  {
   "cell_type": "markdown",
   "metadata": {},
   "source": [
    "To check whether an object is in a collection, you can use the `in` operator. This is much faster on sets and dictionaries than on lists and tuples."
   ]
  },
  {
   "cell_type": "code",
   "execution_count": 161,
   "metadata": {},
   "outputs": [
    {
     "data": {
      "text/plain": [
       "True"
      ]
     },
     "execution_count": 161,
     "metadata": {},
     "output_type": "execute_result"
    }
   ],
   "source": [
    "1 in [1, 2, 3]"
   ]
  },
  {
   "cell_type": "code",
   "execution_count": 162,
   "metadata": {},
   "outputs": [
    {
     "data": {
      "text/plain": [
       "False"
      ]
     },
     "execution_count": 162,
     "metadata": {},
     "output_type": "execute_result"
    }
   ],
   "source": [
    "4 in (1, 2, 3)"
   ]
  },
  {
   "cell_type": "markdown",
   "metadata": {},
   "source": [
    "On dictionaries, the `in` operator checks whether the object is a *key*, not whether it is a value."
   ]
  },
  {
   "cell_type": "code",
   "execution_count": 163,
   "metadata": {},
   "outputs": [
    {
     "data": {
      "text/plain": [
       "True"
      ]
     },
     "execution_count": 163,
     "metadata": {},
     "output_type": "execute_result"
    }
   ],
   "source": [
    "'a' in {'a': 1}"
   ]
  },
  {
   "cell_type": "code",
   "execution_count": 164,
   "metadata": {},
   "outputs": [
    {
     "data": {
      "text/plain": [
       "False"
      ]
     },
     "execution_count": 164,
     "metadata": {},
     "output_type": "execute_result"
    }
   ],
   "source": [
    "1 in {'a': 1}"
   ]
  },
  {
   "cell_type": "markdown",
   "metadata": {},
   "source": [
    "Instead of writing `not (x in y)` you can write `x not in y`. Thus,"
   ]
  },
  {
   "cell_type": "code",
   "execution_count": 165,
   "metadata": {},
   "outputs": [
    {
     "data": {
      "text/plain": [
       "False"
      ]
     },
     "execution_count": 165,
     "metadata": {},
     "output_type": "execute_result"
    }
   ],
   "source": [
    "'a' not in {'a': 1}"
   ]
  },
  {
   "cell_type": "code",
   "execution_count": 166,
   "metadata": {},
   "outputs": [
    {
     "data": {
      "text/plain": [
       "True"
      ]
     },
     "execution_count": 166,
     "metadata": {},
     "output_type": "execute_result"
    }
   ],
   "source": [
    "1 not in {'a': 1}"
   ]
  },
  {
   "cell_type": "markdown",
   "metadata": {},
   "source": [
    "You can convert between different types of collections using the `list`, `tuple`, `dict` and `set` functions. As discussed before, this is also useful to make copies of collections in the case you might want to change them."
   ]
  },
  {
   "cell_type": "code",
   "execution_count": 167,
   "metadata": {},
   "outputs": [
    {
     "data": {
      "text/plain": [
       "[1, 2, 3]"
      ]
     },
     "execution_count": 167,
     "metadata": {},
     "output_type": "execute_result"
    }
   ],
   "source": [
    "list((1,2,3))"
   ]
  },
  {
   "cell_type": "code",
   "execution_count": 168,
   "metadata": {},
   "outputs": [
    {
     "data": {
      "text/plain": [
       "(1, 2, 3)"
      ]
     },
     "execution_count": 168,
     "metadata": {},
     "output_type": "execute_result"
    }
   ],
   "source": [
    "tuple({1, 2, 3})"
   ]
  },
  {
   "cell_type": "code",
   "execution_count": 169,
   "metadata": {},
   "outputs": [
    {
     "data": {
      "text/plain": [
       "{'a': 1, 'b': 2}"
      ]
     },
     "execution_count": 169,
     "metadata": {},
     "output_type": "execute_result"
    }
   ],
   "source": [
    "dict([('a',1), ('b',2)])"
   ]
  },
  {
   "cell_type": "code",
   "execution_count": 170,
   "metadata": {},
   "outputs": [
    {
     "data": {
      "text/plain": [
       "{'a', 'b'}"
      ]
     },
     "execution_count": 170,
     "metadata": {},
     "output_type": "execute_result"
    }
   ],
   "source": [
    "set(dict([('a',1), ('b',2)]))"
   ]
  },
  {
   "cell_type": "markdown",
   "metadata": {},
   "source": [
    "It is often easier to extract elements from a tuple or a list by *unpacking* it, rather than indexing. This is an elegant mechanism that allows for very nice code. Some examples:"
   ]
  },
  {
   "cell_type": "code",
   "execution_count": 171,
   "metadata": {},
   "outputs": [
    {
     "name": "stdout",
     "output_type": "stream",
     "text": [
      "1 2\n"
     ]
    }
   ],
   "source": [
    "a, b = (1, 2)\n",
    "print(a, b)"
   ]
  },
  {
   "cell_type": "code",
   "execution_count": 172,
   "metadata": {},
   "outputs": [
    {
     "name": "stdout",
     "output_type": "stream",
     "text": [
      "1 2 [3, 4, 5]\n"
     ]
    }
   ],
   "source": [
    "a, b, *rest = (1, 2, 3, 4, 5)\n",
    "print(a, b, rest)"
   ]
  },
  {
   "cell_type": "code",
   "execution_count": 173,
   "metadata": {},
   "outputs": [
    {
     "name": "stdout",
     "output_type": "stream",
     "text": [
      "1 2 []\n"
     ]
    }
   ],
   "source": [
    "a, b, *rest = (1, 2)\n",
    "print(a, b, rest)"
   ]
  },
  {
   "cell_type": "markdown",
   "metadata": {},
   "source": [
    "The collection types have a number of **inbuilt functions** (methods) that are accessed with the **dot syntax**. The functions avaialable to a given collection are restricted to the characteriostics of its type (e.g. sets di not have functions that refer to positional indices). Some examples are:"
   ]
  },
  {
   "cell_type": "code",
   "execution_count": 174,
   "metadata": {},
   "outputs": [
    {
     "name": "stdout",
     "output_type": "stream",
     "text": [
      "x: ['Mon', 'Tue', 'Wed']\n",
      "x: ['Mon', 'Tue', 'Wed']\n",
      "y: ['Fri', 'Sat', 'Sun']\n",
      "x.append(Thu):\t ['Mon', 'Tue', 'Wed', 'Thu']\n",
      "x.extend(y):\t ['Mon', 'Tue', 'Wed', 'Thu', 'Fri', 'Sat', 'Sun']\n",
      "x.sort():\t ['Fri', 'Mon', 'Sat', 'Sun', 'Thu', 'Tue', 'Wed']\n",
      "x.remove(Sun):\t ['Fri', 'Mon', 'Sat', 'Thu', 'Tue', 'Wed']\n",
      "x.index(Sat):\t ['Fri', 'Mon', 'Sat', 'Thu', 'Tue', 'Wed']\n",
      "\n",
      "\n",
      "s: {'G', 'A', 'C', 'T'}\n",
      "t: {'Y', 'R', 'N'}\n",
      "s.add(U):\t {'C', 'G', 'A', 'U', 'T'}\n",
      "s.update(t):\t {'Y', 'C', 'N', 'G', 'A', 'U', 'R', 'T'}\n"
     ]
    }
   ],
   "source": [
    "x = ['Mon', 'Tue', 'Wed'] # A list of strings\n",
    "y = ['Fri', 'Sat', 'Sun'] # And another\n",
    "print('x:', x)\n",
    "print(f'x: {x}')  # f-strings are a new way to format strings in Python 3.6+\n",
    "print('y:', y)\n",
    "x.append('Thu')  # Add a single new item to end\n",
    "print('x.append(''Thu''):\\t', x)\n",
    "x.extend(y)\t   # Extend with items from another collection \n",
    "print('x.extend(y):\\t', x) \n",
    "x.sort()         # Sort contents alphabetically\n",
    "print('x.sort():\\t', x)\n",
    "x.remove('Sun')  # Remove an item\n",
    "print('x.remove(''Sun''):\\t', x)\n",
    "x.index('Sat')   # Positional index of an item\n",
    "print('x.index(''Sat''):\\t', x)\n",
    "print('\\n')\n",
    "s = {'G', 'C', 'A', 'T'}   # A set with 4 strings\n",
    "t = {'N', 'R', 'Y'}\n",
    "print('s:', s)\n",
    "print('t:', t)\n",
    "s.add('U')       # Add a single item (if not present) \n",
    "print('s.add(''U''):\\t', s)\n",
    "s.update(t)      # Add any new items from another collection\n",
    "print('s.update(t):\\t', s)"
   ]
  },
  {
   "cell_type": "markdown",
   "metadata": {},
   "source": [
    "This cell demonstrates various operations that can be performed on lists and sets in Python.\n",
    "\n",
    "Here's a breakdown of what each part of the code does:\n",
    "\n",
    "1. **`x = ['Mon', 'Tue', 'Wed']`** and **`y = ['Fri', 'Sat', 'Sun']`**: These lines create two lists of strings.\n",
    "\n",
    "2. **`x.append('Thu')`**: This line adds the string `'Thu'` to the end of the list `x`.\n",
    "\n",
    "3. **`x.extend(y)`**: This line extends the list `x` with the items from the list `y`.\n",
    "\n",
    "4. **`x.sort()`**: This line sorts the contents of the list `x` alphabetically.\n",
    "\n",
    "5. **`x.remove('Sun')`**: This line removes the string `'Sun'` from the list `x`.\n",
    "\n",
    "6. **`x.index('Sat')`**: This line finds the positional index of the string `'Sat'` in the list `x`.\n",
    "\n",
    "7. **`s = {'G', 'C', 'A', 'T'}`** and **`t = {'N', 'R', 'Y'}`**: These lines create two sets of strings.\n",
    "\n",
    "8. **`s.add('U')`**: This line adds the string `'U'` to the set `s` if it's not already present.\n",
    "\n",
    "9. **`s.update(t)`**: This line adds any new items from the set `t` to the set `s`.\n",
    "\n",
    "The print statements in between these operations print the state of the lists and sets after each operation.\n",
    "\n",
    "The cursor is currently on line 3, which is the `print('x:', x)` statement."
   ]
  },
  {
   "cell_type": "markdown",
   "metadata": {},
   "source": [
    "## Looping over collections"
   ]
  },
  {
   "cell_type": "markdown",
   "metadata": {},
   "source": [
    "The Python `for`-loop runs the same code for each element in a collection. As such it is best compared to the `for each` loops in some other programming languages."
   ]
  },
  {
   "cell_type": "code",
   "execution_count": 175,
   "metadata": {},
   "outputs": [
    {
     "name": "stdout",
     "output_type": "stream",
     "text": [
      "1\n",
      "2\n",
      "3\n"
     ]
    }
   ],
   "source": [
    "for elt in [1, 2, 3]:\n",
    "    print(elt)"
   ]
  },
  {
   "cell_type": "markdown",
   "metadata": {},
   "source": [
    "Note that a block of code in Python is determined by its indentation. Therefore there's a difference between this:"
   ]
  },
  {
   "cell_type": "code",
   "execution_count": 176,
   "metadata": {},
   "outputs": [
    {
     "name": "stdout",
     "output_type": "stream",
     "text": [
      "1\n",
      "Done!\n",
      "2\n",
      "Done!\n",
      "3\n",
      "Done!\n"
     ]
    }
   ],
   "source": [
    "for elt in [1, 2, 3]:\n",
    "    print(elt)\n",
    "    print('Done!')"
   ]
  },
  {
   "cell_type": "markdown",
   "metadata": {},
   "source": [
    "and this:"
   ]
  },
  {
   "cell_type": "markdown",
   "metadata": {},
   "source": [
    "for elt in [1, 2, 3]:\n",
    "    print(elt)\n",
    "print('Done!')"
   ]
  },
  {
   "cell_type": "markdown",
   "metadata": {},
   "source": [
    "Again, looping over a dictionary just gets you the keys."
   ]
  },
  {
   "cell_type": "code",
   "execution_count": 177,
   "metadata": {},
   "outputs": [
    {
     "name": "stdout",
     "output_type": "stream",
     "text": [
      "a\n",
      "b\n"
     ]
    }
   ],
   "source": [
    "for key in {'a': 1, 'b': 2}:\n",
    "    print(key)"
   ]
  },
  {
   "cell_type": "markdown",
   "metadata": {},
   "source": [
    "If you need both the keys and the values, use `.items()`, like this:"
   ]
  },
  {
   "cell_type": "code",
   "execution_count": 178,
   "metadata": {},
   "outputs": [
    {
     "name": "stdout",
     "output_type": "stream",
     "text": [
      "a => 1\n",
      "b => 2\n"
     ]
    }
   ],
   "source": [
    "mydict = {'a': 1, 'b': 2}\n",
    "for key, value in mydict.items():\n",
    "    print(key, '=>', value)"
   ]
  },
  {
   "cell_type": "markdown",
   "metadata": {},
   "source": [
    "This cell demonstrates how to iterate over a dictionary in Python and print its keys and values.\n",
    "\n",
    "Here's a breakdown of what each part of the code does:\n",
    "\n",
    "1. **`mydict = {'a': 1, 'b': 2}`**: This line creates a dictionary `mydict` with keys `'a'` and `'b'` and corresponding values `1` and `2`.\n",
    "\n",
    "2. **`for key, value in mydict.items():`**: This line starts a for loop that iterates over the items in the dictionary `mydict`. The `items()` method returns a view object that displays a list of a dictionary's key-value tuple pairs. On each iteration, the key and value of the current item are assigned to the variables `key` and `value`.\n",
    "\n",
    "3. **`print(key, '=>', value)`**: This line is inside the for loop and is executed on each iteration. It prints the key and value of the current item, separated by `=>`.\n",
    "\n",
    "The cursor is currently on line 0, which is the start of the code block."
   ]
  },
  {
   "cell_type": "markdown",
   "metadata": {},
   "source": [
    "**Note:** This is a special form of unpacking syntax. `mydict.items()` is a collection of tuples. This is equivalent:"
   ]
  },
  {
   "cell_type": "code",
   "execution_count": 179,
   "metadata": {},
   "outputs": [
    {
     "name": "stdout",
     "output_type": "stream",
     "text": [
      "a => 1\n",
      "b => 2\n"
     ]
    }
   ],
   "source": [
    "mydict = {'a': 1, 'b': 2}\n",
    "for item in mydict.items():\n",
    "    key, value = item\n",
    "    print(key, '=>', value)"
   ]
  },
  {
   "cell_type": "markdown",
   "metadata": {},
   "source": [
    "##  Branching and Control code"
   ]
  },
  {
   "cell_type": "markdown",
   "metadata": {},
   "source": [
    "Lines of Python code are generally executed in sequentiual order. There are situations, however, where we wish to deviate from this paradigm, e.g. repeat a section of code several times in a loop, or only execute a block of code under certain conditions."
   ]
  },
  {
   "cell_type": "markdown",
   "metadata": {},
   "source": [
    "In Python, branching is achieved via `if`."
   ]
  },
  {
   "cell_type": "code",
   "execution_count": 180,
   "metadata": {},
   "outputs": [
    {
     "name": "stdout",
     "output_type": "stream",
     "text": [
      "a is 2\n"
     ]
    }
   ],
   "source": [
    "a = 2\n",
    "\n",
    "if a == 2:\n",
    "    print('a is 2')"
   ]
  },
  {
   "cell_type": "markdown",
   "metadata": {},
   "source": [
    "An `if`-branch may have an arbitrary number of \"else if\" branches followed by an optional \"else\". Only one of these branches will be chosen."
   ]
  },
  {
   "cell_type": "code",
   "execution_count": 181,
   "metadata": {},
   "outputs": [
    {
     "name": "stdout",
     "output_type": "stream",
     "text": [
      "a is 3\n"
     ]
    }
   ],
   "source": [
    "a = 3\n",
    "\n",
    "if a == 1:\n",
    "    print('a is 1')\n",
    "elif a == 2:\n",
    "    print('a is 2')\n",
    "elif a == 3:\n",
    "    print('a is 3')\n",
    "else:\n",
    "    print(\"I don't know what a is\")"
   ]
  },
  {
   "cell_type": "code",
   "execution_count": 96,
   "metadata": {},
   "outputs": [
    {
     "name": "stdout",
     "output_type": "stream",
     "text": [
      "Value was doubled\n",
      "Value is: 6\n"
     ]
    }
   ],
   "source": [
    "x = 3\n",
    "if x < -1 or x > 1:    # Run the next indented lines only when true   \n",
    "    x *= 2                \n",
    "    print('Value was doubled')  \n",
    "\n",
    "print('Value is:', x)  # Always executed, not in indented block"
   ]
  },
  {
   "cell_type": "markdown",
   "metadata": {},
   "source": [
    "This cell demonstrates a simple conditional statement in Python.\n",
    "\n",
    "Here's a breakdown of what each part of the code does:\n",
    "\n",
    "1. **`x = 3`**: This line assigns the value `3` to the variable `x`.\n",
    "\n",
    "2. **`if x < -1 or x > 1:`**: This line starts an if statement that checks if `x` is less than `-1` or greater than `1`. If either condition is true, the code in the following indented block is executed.\n",
    "\n",
    "3. **`x *= 2`**: This line is inside the if statement's block. It doubles the value of `x` if the condition in the if statement is true.\n",
    "\n",
    "4. **`print('Value was doubled')`**: This line is also inside the if statement's block. It prints the string `'Value was doubled'` if the condition in the if statement is true.\n",
    "\n",
    "5. **`print('Value is:', x)`**: This line is outside the if statement's block, so it is always executed, regardless of the if statement's condition. It prints the string `'Value is:'` followed by the current value of `x`.\n",
    "\n",
    "The cursor is currently on line 0, which is the start of the code block."
   ]
  },
  {
   "cell_type": "code",
   "execution_count": 182,
   "metadata": {},
   "outputs": [
    {
     "name": "stdout",
     "output_type": "stream",
     "text": [
      "3\n",
      "Positive\n",
      "-5\n",
      "Negative\n"
     ]
    }
   ],
   "source": [
    "x = 3\n",
    "print(x)\n",
    "if x > 0:\n",
    "    print('Positive')\n",
    "elif x < 0:            # Checked if first condition was false\n",
    "    print('Negative')\n",
    "else:                  # If all fails\n",
    "    print('Zero')\n",
    "\n",
    "x = -5\n",
    "print(x)\n",
    "if x > 0:\n",
    "    print('Positive')\n",
    "elif x < 0:            # Checked if first condition was false\n",
    "    print('Negative')\n",
    "else:                  # If all fails\n",
    "    print('Zero')"
   ]
  },
  {
   "cell_type": "markdown",
   "metadata": {},
   "source": [
    "**Repetitive loops** can be created with a `for` statement or a `while` statement, e.g.:"
   ]
  },
  {
   "cell_type": "code",
   "execution_count": 98,
   "metadata": {},
   "outputs": [
    {
     "name": "stdout",
     "output_type": "stream",
     "text": [
      "1\n",
      "4\n",
      "9\n",
      "25\n",
      "36\n"
     ]
    }
   ],
   "source": [
    "total = 0\n",
    "data = [1,4,9,25,36]\n",
    "for x in data:       # x is first 1, then 4, then 9 etc.\n",
    "    print(x)         # Current value of x in this cycle\n",
    "    total += x       # Add current value of x to total"
   ]
  },
  {
   "cell_type": "markdown",
   "metadata": {},
   "source": [
    "It is often convenient to use the `enumerate()` function with a `for` loop. This allows the loop to iterate over both numbers for the items (usually the positional indices) and their actual values, e.g.:"
   ]
  },
  {
   "cell_type": "code",
   "execution_count": 99,
   "metadata": {},
   "outputs": [
    {
     "name": "stdout",
     "output_type": "stream",
     "text": [
      "0 A\n",
      "1 G\n",
      "2 C\n",
      "3 A\n",
      "4 G\n",
      "5 T\n",
      "6 A\n",
      "7 G\n",
      "8 A\n",
      "9 C\n",
      "10 G\n",
      "11 A\n",
      "12 A\n",
      "13 C\n",
      "14 A\n",
      "15 T\n"
     ]
    }
   ],
   "source": [
    "text = 'AGCAGTAGACGAACAT'     # String of characters\n",
    "for i, x in enumerate(text):  # Extract index and character value\n",
    "    print(i, x)               # Print index and value for each cycle"
   ]
  },
  {
   "cell_type": "markdown",
   "metadata": {},
   "source": [
    "A `while` loop repeats a block of code while a certain condition evaluates to be true, e.g.:"
   ]
  },
  {
   "cell_type": "code",
   "execution_count": 100,
   "metadata": {},
   "outputs": [
    {
     "name": "stdout",
     "output_type": "stream",
     "text": [
      "1\n",
      "2\n",
      "4\n",
      "8\n",
      "16\n",
      "32\n",
      "64\n",
      "128\n",
      "256\n",
      "512\n",
      "1024\n"
     ]
    }
   ],
   "source": [
    "x = 1\n",
    "while x < 1000:   # Repeat the indented block while this is true\n",
    "    print(x) \n",
    "    x *= 2        # Double the value\n",
    "\n",
    "print(x)  # 1024 - final value stopped the loop: not less than 1000"
   ]
  },
  {
   "cell_type": "markdown",
   "metadata": {},
   "source": [
    "Loops of both kinds can be skipped, for the remainder of their block, using `continue` and stopped entirley with `break`, e.g.:"
   ]
  },
  {
   "cell_type": "code",
   "execution_count": 101,
   "metadata": {},
   "outputs": [
    {
     "name": "stdout",
     "output_type": "stream",
     "text": [
      "x = 3\n",
      "t = 9\n",
      "x = -1\n",
      "x = 2\n",
      "t = 13\n",
      "x = -5\n",
      "x = 999\n",
      "Final 13\n"
     ]
    }
   ],
   "source": [
    "t = 0\n",
    "data = [3, -1, 2, -5, 999, 9, -2]\n",
    "for x in data:\n",
    "    print('x =', x)\n",
    "    if x < 0:\n",
    "        continue      # Skip the remainder of 'for' loop\n",
    "    elif x == 999:\n",
    "        break         # Quit entirely\n",
    "     \n",
    "    t += x * x        # Otherwise do a calculation\n",
    "    print('t =', t)\n",
    "\n",
    "print('Final',t)"
   ]
  },
  {
   "cell_type": "markdown",
   "metadata": {},
   "source": [
    "### `try:` and `except:`"
   ]
  },
  {
   "cell_type": "markdown",
   "metadata": {},
   "source": [
    "A `try: except` block is used to catch and deal with illegal circumstances. The code in a `try` block is run and if a problem occurs an èxcept` block of code may be run if a particular kind of **error** (a type of Èxception` object) is detected. In this eay we can prevent the program from failing and sinsibly handle an error. If we want, the original error can be retriggered using `raise()`, e.g.:"
   ]
  },
  {
   "cell_type": "code",
   "execution_count": 102,
   "metadata": {},
   "outputs": [
    {
     "name": "stdout",
     "output_type": "stream",
     "text": [
      "divided by zero, continuing\n"
     ]
    }
   ],
   "source": [
    "x = 1\n",
    "y = 0\n",
    "try:                 # Run the following block and check for failure\n",
    "    w = x / y\n",
    "\n",
    "except ZeroDivisionError as err:        # y was zero\n",
    "   print('divided by zero, continuing') # warn, but otherwise ignore\n",
    "\n",
    "except Exception as err:   # Other, unspecified problem\n",
    "    raise(err)             # Trigger the error, do not continue"
   ]
  },
  {
   "cell_type": "markdown",
   "metadata": {},
   "source": [
    "This cell demonstrates how to handle exceptions in Python using a try/except block.\n",
    "\n",
    "Here's a breakdown of what each part of the code does:\n",
    "\n",
    "1. **`x = 1`** and **`y = 0`**: These lines assign the values `1` and `0` to the variables `x` and `y`, respectively.\n",
    "\n",
    "2. **`try:`**: This line starts a try block. The code inside this block is executed, and if any exceptions are raised, they are caught and handled by the subsequent except blocks.\n",
    "\n",
    "3. **`w = x / y`**: This line is inside the try block. It attempts to divide `x` by `y` and assign the result to `w`. Since `y` is `0`, this operation raises a `ZeroDivisionError`.\n",
    "\n",
    "4. **`except ZeroDivisionError as err:`**: This line starts an except block that catches `ZeroDivisionError` exceptions. If a `ZeroDivisionError` is raised in the try block, the code inside this except block is executed.\n",
    "\n",
    "5. **`print('divided by zero, continuing')`**: This line is inside the `ZeroDivisionError` except block. It prints the string `'divided by zero, continuing'` and the program continues to run.\n",
    "\n",
    "6. **`except Exception as err:`**: This line starts an except block that catches all other types of exceptions. If an exception other than `ZeroDivisionError` is raised in the try block, the code inside this except block is executed.\n",
    "\n",
    "7. **`raise(err)`**: This line is inside the `Exception` except block. It re-raises the caught exception, which stops the program and prints a traceback.\n",
    "\n",
    "The cursor is currently on line 2, which is the `y = 0` statement."
   ]
  },
  {
   "cell_type": "markdown",
   "metadata": {},
   "source": [
    "## Functions"
   ]
  },
  {
   "cell_type": "markdown",
   "metadata": {},
   "source": [
    "To define a function in Python, use the `def` keyword. Like this:"
   ]
  },
  {
   "cell_type": "code",
   "execution_count": 103,
   "metadata": {},
   "outputs": [],
   "source": [
    "def say_hello():\n",
    "    print('Hello!')"
   ]
  },
  {
   "cell_type": "markdown",
   "metadata": {},
   "source": [
    "This cell defines a simple function in Python.\n",
    "\n",
    "Here's a breakdown of what each part of the code does:\n",
    "\n",
    "1. **`def say_hello():`**: This line starts the definition of a function named `say_hello`. The parentheses after the function name indicate that this function does not take any arguments.\n",
    "\n",
    "2. **`print('Hello!')`**: This line is inside the function body. When the function is called, it prints the string `'Hello!'`.\n",
    "\n",
    "To call this function, you would use the syntax `say_hello()`. This would output `Hello!`.\n",
    "\n",
    "The cursor is currently on line 0, which is the start of the function definition."
   ]
  },
  {
   "cell_type": "markdown",
   "metadata": {},
   "source": [
    "You can then call the function like this."
   ]
  },
  {
   "cell_type": "code",
   "execution_count": 104,
   "metadata": {},
   "outputs": [
    {
     "name": "stdout",
     "output_type": "stream",
     "text": [
      "Hello!\n"
     ]
    }
   ],
   "source": [
    "say_hello()"
   ]
  },
  {
   "cell_type": "markdown",
   "metadata": {},
   "source": [
    "Like you might expect, functions can take arguments, e.g.:"
   ]
  },
  {
   "cell_type": "code",
   "execution_count": 184,
   "metadata": {},
   "outputs": [
    {
     "name": "stdout",
     "output_type": "stream",
     "text": [
      "Hello Bob\n"
     ]
    }
   ],
   "source": [
    "# Define a function that takes an argument\n",
    "def say_hello(name):\n",
    "    print(f'Hello {name}')\n",
    "    \n",
    "say_hello('Bob')"
   ]
  },
  {
   "cell_type": "code",
   "execution_count": 185,
   "metadata": {},
   "outputs": [
    {
     "name": "stdout",
     "output_type": "stream",
     "text": [
      "negative\n",
      "zero\n",
      "positive\n"
     ]
    }
   ],
   "source": [
    "def sign(x):\n",
    "    if x > 0:\n",
    "        return 'positive'\n",
    "    elif x < 0:\n",
    "        return 'negative'\n",
    "    else:\n",
    "        return 'zero'\n",
    "\n",
    "for x in [-1, 0, 1]:\n",
    "    print(sign(x))\n",
    "# Prints \"negative\", \"zero\", \"positive\""
   ]
  },
  {
   "cell_type": "markdown",
   "metadata": {},
   "source": [
    "They can also return values."
   ]
  },
  {
   "cell_type": "code",
   "execution_count": 107,
   "metadata": {},
   "outputs": [],
   "source": [
    "def get_first_element(collection):\n",
    "    return collection[0]"
   ]
  },
  {
   "cell_type": "markdown",
   "metadata": {},
   "source": [
    "This cell defines a simple function in Python that returns the first element of a given collection.\n",
    "\n",
    "Here's a breakdown of what each part of the code does:\n",
    "\n",
    "1. **`def get_first_element(collection):`**: This line starts the definition of a function named `get_first_element`. This function takes one argument, `collection`, which is expected to be a collection type like a list or a string.\n",
    "\n",
    "2. **`return collection[0]`**: This line is inside the function body. It returns the first element of `collection`. In Python, collections are zero-indexed, so `collection[0]` refers to the first element.\n",
    "\n",
    "To call this function, you would use the syntax `get_first_element(my_collection)`, where `my_collection` is the collection from which you want to get the first element.\n",
    "\n",
    "The cursor is currently on line 0, which is the start of the function definition."
   ]
  },
  {
   "cell_type": "markdown",
   "metadata": {},
   "source": [
    "This function now works with lists, tuples and strings."
   ]
  },
  {
   "cell_type": "code",
   "execution_count": 186,
   "metadata": {},
   "outputs": [
    {
     "data": {
      "text/plain": [
       "5"
      ]
     },
     "execution_count": 186,
     "metadata": {},
     "output_type": "execute_result"
    }
   ],
   "source": [
    "get_first_element([5, 6, 7])"
   ]
  },
  {
   "cell_type": "code",
   "execution_count": 187,
   "metadata": {},
   "outputs": [
    {
     "data": {
      "text/plain": [
       "6"
      ]
     },
     "execution_count": 187,
     "metadata": {},
     "output_type": "execute_result"
    }
   ],
   "source": [
    "get_first_element((6, 7, 8))"
   ]
  },
  {
   "cell_type": "code",
   "execution_count": 188,
   "metadata": {},
   "outputs": [
    {
     "data": {
      "text/plain": [
       "'a'"
      ]
     },
     "execution_count": 188,
     "metadata": {},
     "output_type": "execute_result"
    }
   ],
   "source": [
    "get_first_element('abc')"
   ]
  },
  {
   "cell_type": "markdown",
   "metadata": {},
   "source": [
    "Functions can take multiple arguments too."
   ]
  },
  {
   "cell_type": "code",
   "execution_count": 189,
   "metadata": {},
   "outputs": [
    {
     "data": {
      "text/plain": [
       "'e'"
      ]
     },
     "execution_count": 189,
     "metadata": {},
     "output_type": "execute_result"
    }
   ],
   "source": [
    "def get_an_element(collection, index):\n",
    "    return collection[index]\n",
    "\n",
    "get_an_element('abcdef', 4)"
   ]
  },
  {
   "cell_type": "markdown",
   "metadata": {},
   "source": [
    "When calling a function, you can give named arguments too (also called keyword arguments)."
   ]
  },
  {
   "cell_type": "code",
   "execution_count": 190,
   "metadata": {},
   "outputs": [
    {
     "data": {
      "text/plain": [
       "'e'"
      ]
     },
     "execution_count": 190,
     "metadata": {},
     "output_type": "execute_result"
    }
   ],
   "source": [
    "get_an_element('abcdef', index=4)"
   ]
  },
  {
   "cell_type": "code",
   "execution_count": 191,
   "metadata": {},
   "outputs": [
    {
     "name": "stdout",
     "output_type": "stream",
     "text": [
      "Hello, Bob\n",
      "HELLO, FRED!\n"
     ]
    }
   ],
   "source": [
    "def hello(name, loud=False):\n",
    "    if loud:\n",
    "        print('HELLO, %s!' % name.upper())\n",
    "    else:\n",
    "        print('Hello, %s' % name)\n",
    "\n",
    "hello('Bob') # Prints \"Hello, Bob\"\n",
    "hello('Fred', loud=True)  # Prints \"HELLO, FRED!\""
   ]
  },
  {
   "cell_type": "markdown",
   "metadata": {},
   "source": [
    "When doing so you can even change the order."
   ]
  },
  {
   "cell_type": "code",
   "execution_count": 192,
   "metadata": {},
   "outputs": [
    {
     "data": {
      "text/plain": [
       "'e'"
      ]
     },
     "execution_count": 192,
     "metadata": {},
     "output_type": "execute_result"
    }
   ],
   "source": [
    "get_an_element(index=4, collection='abcdef')"
   ]
  },
  {
   "cell_type": "markdown",
   "metadata": {},
   "source": [
    "However, don't try this."
   ]
  },
  {
   "cell_type": "code",
   "execution_count": 193,
   "metadata": {},
   "outputs": [],
   "source": [
    "# get_an_element(index=4, 'abcdef')"
   ]
  },
  {
   "cell_type": "markdown",
   "metadata": {},
   "source": [
    "You can have arguments with default values, effectively making them optional."
   ]
  },
  {
   "cell_type": "code",
   "execution_count": 194,
   "metadata": {},
   "outputs": [
    {
     "data": {
      "text/plain": [
       "'a'"
      ]
     },
     "execution_count": 194,
     "metadata": {},
     "output_type": "execute_result"
    }
   ],
   "source": [
    "def get_an_element(collection, index=0):\n",
    "    return collection[index]\n",
    "\n",
    "get_an_element('abcdef')"
   ]
  },
  {
   "cell_type": "code",
   "execution_count": 195,
   "metadata": {},
   "outputs": [
    {
     "data": {
      "text/plain": [
       "'e'"
      ]
     },
     "execution_count": 195,
     "metadata": {},
     "output_type": "execute_result"
    }
   ],
   "source": [
    "get_an_element('abcdef', 4)"
   ]
  },
  {
   "cell_type": "markdown",
   "metadata": {},
   "source": [
    "It is customary to use named arguments when providing values for optional parameters, and to use positional arguments otherwise. However, this is merely custom."
   ]
  },
  {
   "cell_type": "code",
   "execution_count": 196,
   "metadata": {},
   "outputs": [
    {
     "data": {
      "text/plain": [
       "'e'"
      ]
     },
     "execution_count": 196,
     "metadata": {},
     "output_type": "execute_result"
    }
   ],
   "source": [
    "get_an_element('abcdef')                        # OK, index has its default value\n",
    "get_an_element('abcdef', index=4)               # OK, override default value of index\n",
    "get_an_element('abcdef', 4)                     # Works, not considered normal\n",
    "get_an_element(collection='abcdef', index=4)    # Works, not considered normal\n",
    "# get_an_element(collection='abcdef', 4)          # Illegal\n",
    "# get_an_element(index=4, 'abcdef')               # Illegal, but also ambiguous"
   ]
  },
  {
   "cell_type": "markdown",
   "metadata": {},
   "source": [
    "You can also write functions that take an arbitrary number of arguments. Here, the asterisk `*` is called the \"splat\" operator."
   ]
  },
  {
   "cell_type": "code",
   "execution_count": 197,
   "metadata": {},
   "outputs": [
    {
     "name": "stdout",
     "output_type": "stream",
     "text": [
      "('a', 'b', 'c')\n"
     ]
    }
   ],
   "source": [
    "def print_all_args(*args):\n",
    "    print(args)\n",
    "\n",
    "print_all_args('a', 'b', 'c')"
   ]
  },
  {
   "cell_type": "markdown",
   "metadata": {},
   "source": [
    "Note that `args` becomes a tuple containing all the arguments. You can also collect keyword arguments into a dictionary with the double-splat operator."
   ]
  },
  {
   "cell_type": "code",
   "execution_count": 198,
   "metadata": {},
   "outputs": [
    {
     "name": "stdout",
     "output_type": "stream",
     "text": [
      "('a', 'b', 'c') {'name': 'Arvid', 'place': 'Seili'}\n"
     ]
    }
   ],
   "source": [
    "def print_all_args(*args, **kwargs):\n",
    "    print(args, kwargs)\n",
    "    \n",
    "print_all_args('a', 'b', 'c', name='Arvid', place='Seili')"
   ]
  },
  {
   "cell_type": "markdown",
   "metadata": {},
   "source": [
    "A combination of actual arguments and splats also work \"as expected\", although it's not always obvious what is expected. :-)"
   ]
  },
  {
   "cell_type": "code",
   "execution_count": 199,
   "metadata": {},
   "outputs": [
    {
     "name": "stdout",
     "output_type": "stream",
     "text": [
      "1 2 6 (3, 4, 5) {'d': 7, 'e': 8}\n"
     ]
    }
   ],
   "source": [
    "def print_all_args(a, b, *args, c=1, **kwargs):\n",
    "    print(a, b, c, args, kwargs)\n",
    "    \n",
    "print_all_args(1, 2, 3, 4, 5, c=6, d=7, e=8)"
   ]
  },
  {
   "cell_type": "markdown",
   "metadata": {},
   "source": [
    "Splatting also works the other way, for example, here's a function that sums three numbers:"
   ]
  },
  {
   "cell_type": "code",
   "execution_count": 200,
   "metadata": {},
   "outputs": [],
   "source": [
    "def sum_three(a, b, c):\n",
    "    return a + b + c"
   ]
  },
  {
   "cell_type": "markdown",
   "metadata": {},
   "source": [
    "We can call it like this:"
   ]
  },
  {
   "cell_type": "code",
   "execution_count": 201,
   "metadata": {},
   "outputs": [
    {
     "data": {
      "text/plain": [
       "18"
      ]
     },
     "execution_count": 201,
     "metadata": {},
     "output_type": "execute_result"
    }
   ],
   "source": [
    "args = [5, 6, 7]\n",
    "sum_three(args[0], args[1], args[2])"
   ]
  },
  {
   "cell_type": "markdown",
   "metadata": {},
   "source": [
    "But this is much more elegant:"
   ]
  },
  {
   "cell_type": "code",
   "execution_count": 202,
   "metadata": {},
   "outputs": [
    {
     "data": {
      "text/plain": [
       "18"
      ]
     },
     "execution_count": 202,
     "metadata": {},
     "output_type": "execute_result"
    }
   ],
   "source": [
    "sum_three(*args)"
   ]
  },
  {
   "cell_type": "markdown",
   "metadata": {},
   "source": [
    "This cell calls a function named `sum_three` with an unspecified number of arguments, denoted by `*args`.\n",
    "\n",
    "Here's a breakdown of what this line of code does:\n",
    "\n",
    "**`sum_three(*args)`**: This line calls a function named `sum_three`. The `*args` syntax in the function call allows you to pass an arbitrary number of arguments to the function. These arguments are received in the function as a tuple.\n",
    "\n",
    "However, without the definition of the `sum_three` function, it's hard to say exactly what this function does. Typically, a function named `sum_three` might be expected to take three arguments and return their sum. But the use of `*args` suggests that this function might be designed to handle a variable number of arguments.\n",
    "\n",
    "The cursor is currently on line 0, which is the start of the code block."
   ]
  },
  {
   "cell_type": "markdown",
   "metadata": {},
   "source": [
    "You can mix splats and normal arguments."
   ]
  },
  {
   "cell_type": "code",
   "execution_count": 206,
   "metadata": {},
   "outputs": [
    {
     "data": {
      "text/plain": [
       "18"
      ]
     },
     "execution_count": 206,
     "metadata": {},
     "output_type": "execute_result"
    }
   ],
   "source": [
    "sum_three(5, *[6, 7])"
   ]
  },
  {
   "cell_type": "code",
   "execution_count": 207,
   "metadata": {},
   "outputs": [
    {
     "data": {
      "text/plain": [
       "18"
      ]
     },
     "execution_count": 207,
     "metadata": {},
     "output_type": "execute_result"
    }
   ],
   "source": [
    "sum_three(*[5], 6, *[7])"
   ]
  },
  {
   "cell_type": "markdown",
   "metadata": {},
   "source": [
    "A similar construction exists for keyword arguments, which requires a dictionary."
   ]
  },
  {
   "cell_type": "code",
   "execution_count": 208,
   "metadata": {},
   "outputs": [
    {
     "data": {
      "text/plain": [
       "18"
      ]
     },
     "execution_count": 208,
     "metadata": {},
     "output_type": "execute_result"
    }
   ],
   "source": [
    "kwargs = {'a': 5, 'b': 6, 'c': 7}\n",
    "sum_three(**kwargs)"
   ]
  },
  {
   "cell_type": "markdown",
   "metadata": {},
   "source": [
    "Combinations of regular arguments, named arguments, splat arguments and double-splat keyword arguments all work, and should produce the expected results. If Python ever produces an error, you are probably just trying to do something that doesn't make sense."
   ]
  },
  {
   "cell_type": "markdown",
   "metadata": {},
   "source": [
    "## Comprehensions and generators"
   ]
  },
  {
   "cell_type": "markdown",
   "metadata": {},
   "source": [
    "*Comprehensions* are very useful to make code cleaner and easier to read. Let us say we have a function that determines whether a number is a prime number. (This function is very inefficient, so don't \"do this at home.\") If there's anything in this function that is unclear, don't worry. We'll get to it."
   ]
  },
  {
   "cell_type": "code",
   "execution_count": 209,
   "metadata": {},
   "outputs": [],
   "source": [
    "import math\n",
    "\n",
    "def is_prime(number):\n",
    "    return number > 1 and all(number % divisor != 0 for divisor in range(2, int(math.sqrt(number) + 1)))"
   ]
  },
  {
   "cell_type": "markdown",
   "metadata": {},
   "source": [
    "Let us say we want to create a list of all primes up to 20. We might be tempted to write code like this. Note the use of the `range` function to loop over integers up to a maximum (like a traditional for-loop) and the `.append()` method for lists."
   ]
  },
  {
   "cell_type": "code",
   "execution_count": 210,
   "metadata": {},
   "outputs": [
    {
     "data": {
      "text/plain": [
       "[2, 3, 5, 7, 11, 13, 17, 19]"
      ]
     },
     "execution_count": 210,
     "metadata": {},
     "output_type": "execute_result"
    }
   ],
   "source": [
    "primes = []                         # Create an empty list of prime numbers\n",
    "for num in range(20):               # range(20) is the collection 0, 1, 2, ..., 19\n",
    "    if is_prime(num):               # Check whether it is a prime number\n",
    "        primes.append(num)          # If so, add it to the list\n",
    "primes"
   ]
  },
  {
   "cell_type": "markdown",
   "metadata": {},
   "source": [
    "While this works, a much more elegant solution is the following."
   ]
  },
  {
   "cell_type": "code",
   "execution_count": 211,
   "metadata": {},
   "outputs": [
    {
     "data": {
      "text/plain": [
       "[2, 3, 5, 7, 11, 13, 17, 19]"
      ]
     },
     "execution_count": 211,
     "metadata": {},
     "output_type": "execute_result"
    }
   ],
   "source": [
    "[num for num in range(20) if is_prime(num)]"
   ]
  },
  {
   "cell_type": "markdown",
   "metadata": {},
   "source": [
    "This is called a *list comprehension*, and it's a thing of beauty. (Take a moment to reflect if you like.) The basic syntax looks like this:\n",
    "\n",
    "`[<something> for <something> in <collection>]`\n",
    "\n",
    "or like this:\n",
    "\n",
    "`[<something> for <something> in <collection> if <condition>]`"
   ]
  },
  {
   "cell_type": "markdown",
   "metadata": {},
   "source": [
    "Note that the condition is optional, therefore we can create a list of the numbers from 0 to 19 like this."
   ]
  },
  {
   "cell_type": "code",
   "execution_count": 212,
   "metadata": {},
   "outputs": [
    {
     "data": {
      "text/plain": [
       "[0, 1, 2, 3, 4, 5, 6, 7, 8, 9, 10, 11, 12, 13, 14, 15, 16, 17, 18, 19]"
      ]
     },
     "execution_count": 212,
     "metadata": {},
     "output_type": "execute_result"
    }
   ],
   "source": [
    "[num for num in range(20)]"
   ]
  },
  {
   "cell_type": "markdown",
   "metadata": {},
   "source": [
    "This cell demonstrates a Python list comprehension, which is a concise way to create lists.\n",
    "\n",
    "Here's a breakdown of what this line of code does:\n",
    "\n",
    "**`[num for num in range(20)]`**: This line creates a list of numbers from `0` to `19`. The `range(20)` function generates a sequence of numbers from `0` to `19`, and the list comprehension iterates over this sequence, adding each number to the list.\n",
    "\n",
    "The result of this list comprehension is `[0, 1, 2, 3, 4, 5, 6, 7, 8, 9, 10, 11, 12, 13, 14, 15, 16, 17, 18, 19]`.\n",
    "\n",
    "The cursor is currently on line 0, which is the start of the code block."
   ]
  },
  {
   "cell_type": "markdown",
   "metadata": {},
   "source": [
    "Or, we could create a list of the *squares* of prime numbers like this:"
   ]
  },
  {
   "cell_type": "code",
   "execution_count": 213,
   "metadata": {},
   "outputs": [
    {
     "data": {
      "text/plain": [
       "[4, 9, 25, 49, 121, 169, 289, 361]"
      ]
     },
     "execution_count": 213,
     "metadata": {},
     "output_type": "execute_result"
    }
   ],
   "source": [
    "[num**2 for num in range(20) if is_prime(num)]"
   ]
  },
  {
   "cell_type": "markdown",
   "metadata": {},
   "source": [
    "You can use comprehensions to create sets too."
   ]
  },
  {
   "cell_type": "code",
   "execution_count": 214,
   "metadata": {},
   "outputs": [
    {
     "data": {
      "text/plain": [
       "{2, 3, 5, 7, 11, 13, 17, 19}"
      ]
     },
     "execution_count": 214,
     "metadata": {},
     "output_type": "execute_result"
    }
   ],
   "source": [
    "{num for num in range(20) if is_prime(num)}"
   ]
  },
  {
   "cell_type": "markdown",
   "metadata": {},
   "source": [
    "Or even dictionaries. What do you think this does?"
   ]
  },
  {
   "cell_type": "code",
   "execution_count": 134,
   "metadata": {},
   "outputs": [],
   "source": [
    "mydict = {num: is_prime(num) for num in range(20)}"
   ]
  },
  {
   "cell_type": "markdown",
   "metadata": {},
   "source": [
    "You might think, then, that this creates a tuple:"
   ]
  },
  {
   "cell_type": "code",
   "execution_count": 135,
   "metadata": {},
   "outputs": [],
   "source": [
    "something = (num for num in range(20) if is_prime(num))"
   ]
  },
  {
   "cell_type": "markdown",
   "metadata": {},
   "source": [
    "However, this is a *generator*. A generator is a collection-like object that only creates output when requested. Therefore no primes have been computed yet. However when we loop over `something` (for example), primes appear."
   ]
  },
  {
   "cell_type": "code",
   "execution_count": 136,
   "metadata": {},
   "outputs": [
    {
     "name": "stdout",
     "output_type": "stream",
     "text": [
      "2\n",
      "3\n",
      "5\n",
      "7\n",
      "11\n",
      "13\n",
      "17\n",
      "19\n"
     ]
    }
   ],
   "source": [
    "for prime in something:\n",
    "    print(prime)"
   ]
  },
  {
   "cell_type": "markdown",
   "metadata": {},
   "source": [
    "If you try to loop over the same generator again, it won't work. They are one-use only."
   ]
  },
  {
   "cell_type": "code",
   "execution_count": 137,
   "metadata": {},
   "outputs": [],
   "source": [
    "for prime in something:\n",
    "    print(prime)           # No output, `something` is empty"
   ]
  },
  {
   "cell_type": "markdown",
   "metadata": {},
   "source": [
    "Looking back at the `is_prime` function again, we find this code:\n",
    "    \n",
    "    (number % divisor != 0 for divisor in range(2, int(math.sqrt(number) + 1)))\n",
    "    \n",
    "This is a generator that runs over all possible divisors to `number`. (The maximal possible divisor is the square root of `number`. We add one because the upper end of a `range` is exclusive, and we convert to an `int` because `range` doesn't work on floating point numbers.)\n",
    "\n",
    "It then checks whether `number` leaves a remainder of zero when divided by `divisor`, i.e. whether `divisor` is an *actual* divisor to `number`. It then produces `False` if is is the case, or `True` if not.\n",
    "\n",
    "A prime number is a number with no proper divisors. Therefore `number` is prime if *all* output of this generator are `True`. The function `all` checks this.\n",
    "\n",
    "    all(number % divisor != 0 for divisor in range(2, int(math.sqrt(number) + 1))))\n",
    "    \n",
    "Python allows you to drop one layer of parentheses if a generator is the only argument to a function, which lets us write\n",
    "\n",
    "    all(x for x in ...)\n",
    "    \n",
    "instead of\n",
    "\n",
    "    all((x for x in ...))"
   ]
  },
  {
   "cell_type": "markdown",
   "metadata": {},
   "source": [
    "## Iterables and itertools"
   ]
  },
  {
   "cell_type": "markdown",
   "metadata": {},
   "source": [
    "In Python, an *iterable* is anything that can be iterated over, in other words anything that fits in a `for`-loop. Lists, tuples, dictionaries, sets and strings are all iterables, but we have seen others too: the return value of the `range` function is iterable, as are generators.\n",
    "\n",
    "The Python ecosystem revolves heavily around iterables, and Python itself has a large amount of tools to work with them, often leading to very elegant code. I will present some of these tools here."
   ]
  },
  {
   "cell_type": "markdown",
   "metadata": {},
   "source": [
    "**WARNING:** With very few exceptions, all functions that return iterables return *generators*. In other words, they don't produce elements unless those elements are consumed by something, such as a `for`-loop. The exceptions are the functions `list`, `tuple`, `dict`, and `set`, which accept an iterable as an argument and then consumes it, returning the elements as a list, tuple, dictionary or set. Therefore, in the following, we will use `list(...)` to show the result of a piece of code. In regular code this would usually not be necessary."
   ]
  },
  {
   "cell_type": "markdown",
   "metadata": {},
   "source": [
    "The `map` function applies a function to each element of an iterable."
   ]
  },
  {
   "cell_type": "code",
   "execution_count": 138,
   "metadata": {},
   "outputs": [
    {
     "data": {
      "text/plain": [
       "[1, 2, 3]"
      ]
     },
     "execution_count": 138,
     "metadata": {},
     "output_type": "execute_result"
    }
   ],
   "source": [
    "list(map(int, ['1', 2.0, 3.1]))"
   ]
  },
  {
   "cell_type": "markdown",
   "metadata": {},
   "source": [
    "This cell demonstrates the use of the `map` function in Python to convert all elements in a list to integers.\n",
    "\n",
    "Here's a breakdown of what this line of code does:\n",
    "\n",
    "**`list(map(int, ['1', 2.0, 3.1]))`**: This line applies the `int` function to each element in the list `['1', 2.0, 3.1]` and returns a new list with the results.\n",
    "\n",
    "- `map` is a built-in Python function that applies a given function to each item of an iterable (like a list) and returns a map object. \n",
    "- `int` is the function being applied to each item. It converts its argument to an integer.\n",
    "- `['1', 2.0, 3.1]` is the iterable. It's a list containing a string, a float, and another float.\n",
    "- `list` converts the map object to a list.\n",
    "\n",
    "The result of this operation is `[1, 2, 3]`. The string `'1'` is converted to the integer `1`, the float `2.0` is converted to the integer `2`, and the float `3.1` is converted to the integer `3` (the decimal part is truncated).\n",
    "\n",
    "The cursor is currently on line 0, which is the start of the code block."
   ]
  },
  {
   "cell_type": "markdown",
   "metadata": {},
   "source": [
    "The `filter` function filters out the items of an iterable which fail a predicate test."
   ]
  },
  {
   "cell_type": "code",
   "execution_count": 139,
   "metadata": {},
   "outputs": [
    {
     "data": {
      "text/plain": [
       "['de', 'fg']"
      ]
     },
     "execution_count": 139,
     "metadata": {},
     "output_type": "execute_result"
    }
   ],
   "source": [
    "def has_length_two(s):\n",
    "    return len(s) == 2\n",
    "\n",
    "list(filter(has_length_two, ['a', 'abc', 'de', 'fg', 'hij']))"
   ]
  },
  {
   "cell_type": "markdown",
   "metadata": {},
   "source": [
    "This cell demonstrates the use of the `filter` function in Python to filter elements in a list based on a condition.\n",
    "\n",
    "Here's a breakdown of what each part of the code does:\n",
    "\n",
    "1. **`def has_length_two(s):`**: This line starts the definition of a function named `has_length_two`. This function takes one argument, `s`, which is expected to be a string.\n",
    "\n",
    "2. **`return len(s) == 2`**: This line is inside the function body. It returns `True` if the length of `s` is `2`, and `False` otherwise.\n",
    "\n",
    "3. **`list(filter(has_length_two, ['a', 'abc', 'de', 'fg', 'hij']))`**: This line applies the `filter` function to the list `['a', 'abc', 'de', 'fg', 'hij']` using the `has_length_two` function as the filtering condition.\n",
    "\n",
    "- `filter` is a built-in Python function that filters the items of an iterable based on a function and returns an iterator. The function is expected to return `True` for the items to be included and `False` for the items to be excluded.\n",
    "- `has_length_two` is the function being used to filter the items. It includes only the items that have a length of `2`.\n",
    "- `['a', 'abc', 'de', 'fg', 'hij']` is the iterable. It's a list of strings.\n",
    "- `list` converts the iterator returned by `filter` to a list.\n",
    "\n",
    "The result of this operation is `['de', 'fg']`. These are the strings in the original list that have a length of `2`.\n",
    "\n",
    "The cursor is currently on line 1, which is the start of the function definition."
   ]
  },
  {
   "cell_type": "markdown",
   "metadata": {},
   "source": [
    "Note that both `map` and `filter` can be expressed with comprehension syntax, and that this sort of syntax is usually considered preferable among Pythonistas."
   ]
  },
  {
   "cell_type": "markdown",
   "metadata": {},
   "source": [
    "The `enumerate` function allows you to iterate over both the elements of a collection *and* their indices at the same time."
   ]
  },
  {
   "cell_type": "code",
   "execution_count": 140,
   "metadata": {},
   "outputs": [
    {
     "name": "stdout",
     "output_type": "stream",
     "text": [
      "0 => a\n",
      "1 => b\n",
      "2 => c\n",
      "3 => d\n"
     ]
    }
   ],
   "source": [
    "for index, value in enumerate('abcd'):\n",
    "    print(index, '=>', value)"
   ]
  },
  {
   "cell_type": "markdown",
   "metadata": {},
   "source": [
    "This cell demonstrates how to use the `enumerate` function in Python to iterate over a string with access to both the index and the value of each character.\n",
    "\n",
    "Here's a breakdown of what each part of the code does:\n",
    "\n",
    "1. **`for index, value in enumerate('abcd'):`**: This line starts a for loop that iterates over the string `'abcd'`. The `enumerate` function returns a tuple containing the index of the current character and the character itself. On each iteration, these values are assigned to the variables `index` and `value`.\n",
    "\n",
    "2. **`print(index, '=>', value)`**: This line is inside the for loop and is executed on each iteration. It prints the index and value of the current character, separated by `=>`.\n",
    "\n",
    "The output of this code would be:\n",
    "\n"
   ]
  },
  {
   "cell_type": "code",
   "execution_count": null,
   "metadata": {
    "vscode": {
     "languageId": ""
    }
   },
   "outputs": [],
   "source": [
    "0 => a\n",
    "1 => b\n",
    "2 => c\n",
    "3 => d"
   ]
  },
  {
   "cell_type": "markdown",
   "metadata": {},
   "source": [
    "\n",
    "\n",
    "The cursor is currently on line 0, which is the start of the code block."
   ]
  },
  {
   "cell_type": "markdown",
   "metadata": {},
   "source": [
    "This is much more elegant than code such as this:"
   ]
  },
  {
   "cell_type": "code",
   "execution_count": 215,
   "metadata": {},
   "outputs": [
    {
     "name": "stdout",
     "output_type": "stream",
     "text": [
      "0 => a\n",
      "1 => b\n",
      "2 => c\n",
      "3 => d\n"
     ]
    }
   ],
   "source": [
    "s = 'abcd'\n",
    "for index in range(len(s)):\n",
    "    print(index, '=>', s[index])"
   ]
  },
  {
   "cell_type": "markdown",
   "metadata": {},
   "source": [
    "The `zip` function lets you iterate over multiple iterables simultaneously, like a zipper."
   ]
  },
  {
   "cell_type": "code",
   "execution_count": 216,
   "metadata": {},
   "outputs": [
    {
     "data": {
      "text/plain": [
       "[('a', 'z'), ('b', 'y'), ('c', 'x'), ('d', 'w')]"
      ]
     },
     "execution_count": 216,
     "metadata": {},
     "output_type": "execute_result"
    }
   ],
   "source": [
    "list(zip('abcd', 'zyxw'))"
   ]
  },
  {
   "cell_type": "markdown",
   "metadata": {},
   "source": [
    "This cell demonstrates the use of the `zip` function in Python to combine two iterables.\n",
    "\n",
    "Here's a breakdown of what this line of code does:\n",
    "\n",
    "**`list(zip('abcd', 'zyxw'))`**: This line uses the `zip` function to combine the strings `'abcd'` and `'zyxw'` into a list of tuples. Each tuple contains one character from each string, with the characters from `'abcd'` as the first elements and the characters from `'zyxw'` as the second elements.\n",
    "\n",
    "- `zip` is a built-in Python function that takes two or more iterables and returns an iterator that generates tuples containing elements from the iterables at corresponding positions.\n",
    "- `'abcd'` and `'zyxw'` are the iterables. They're both strings, which are iterable in Python.\n",
    "- `list` converts the iterator returned by `zip` to a list.\n",
    "\n",
    "The result of this operation is `[('a', 'z'), ('b', 'y'), ('c', 'x'), ('d', 'w')]`.\n",
    "\n",
    "The cursor is currently on line 0, which is the start of the code block."
   ]
  },
  {
   "cell_type": "markdown",
   "metadata": {},
   "source": [
    "`zip` accepts an arbitrary number of iterables. They can even be of different length, and the total length of the iterable will be that of the shortest argument."
   ]
  },
  {
   "cell_type": "code",
   "execution_count": 217,
   "metadata": {},
   "outputs": [
    {
     "data": {
      "text/plain": [
       "[('a', 'z', 'a'), ('b', 'y', 'b'), ('c', 'x', 'c')]"
      ]
     },
     "execution_count": 217,
     "metadata": {},
     "output_type": "execute_result"
    }
   ],
   "source": [
    "list(zip('abcd', 'zyx', 'abcdefghijkl'))"
   ]
  },
  {
   "cell_type": "markdown",
   "metadata": {},
   "source": [
    "The `itertools` module contains much more goodies. Let's try some of them by importing it."
   ]
  },
  {
   "cell_type": "code",
   "execution_count": 218,
   "metadata": {},
   "outputs": [],
   "source": [
    "import itertools as it"
   ]
  },
  {
   "cell_type": "markdown",
   "metadata": {},
   "source": [
    "This cell is importing the `itertools` module from the Python Standard Library and renaming it to `it` for convenience in the code that follows.\n",
    "\n",
    "The `itertools` module includes a set of functions for working with iterable (loopable) data sets. It's particularly useful for efficient looping, as its functions use resources sparingly and can handle large data sets.\n",
    "\n",
    "Here are a few examples of what you can do with `itertools`:\n",
    "\n",
    "- `itertools.count(start, step)`: creates an infinite iterator that starts at `start` and increments by `step`.\n",
    "- `itertools.cycle(iterable)`: creates an infinite iterator cycling through an iterable (like a list or string).\n",
    "- `itertools.repeat(element, times)`: creates an iterator that repeats an element for a specified number of times. If `times` is not specified, it repeats indefinitely.\n",
    "- `itertools.permutations(iterable, r)`: returns successive `r` length permutations of elements in the iterable.\n",
    "- `itertools.combinations(iterable, r)`: returns successive `r` length combinations of elements in the iterable.\n",
    "\n",
    "By importing `itertools` as `it`, you can call these functions like `it.count(start, step)`, `it.cycle(iterable)`, etc."
   ]
  },
  {
   "cell_type": "markdown",
   "metadata": {},
   "source": [
    "The `product` function creates a Cartesian product of several iterables."
   ]
  },
  {
   "cell_type": "code",
   "execution_count": 219,
   "metadata": {},
   "outputs": [
    {
     "data": {
      "text/plain": [
       "[(0, 'a'), (0, 'b'), (1, 'a'), (1, 'b')]"
      ]
     },
     "execution_count": 219,
     "metadata": {},
     "output_type": "execute_result"
    }
   ],
   "source": [
    "list(it.product([0, 1], 'ab'))"
   ]
  },
  {
   "cell_type": "markdown",
   "metadata": {},
   "source": [
    "The `combinations` function returns subsets of a collection."
   ]
  },
  {
   "cell_type": "code",
   "execution_count": 220,
   "metadata": {},
   "outputs": [
    {
     "data": {
      "text/plain": [
       "[('a', 'b'), ('a', 'c'), ('a', 'd'), ('b', 'c'), ('b', 'd'), ('c', 'd')]"
      ]
     },
     "execution_count": 220,
     "metadata": {},
     "output_type": "execute_result"
    }
   ],
   "source": [
    "list(it.combinations('abcd', 2))"
   ]
  },
  {
   "cell_type": "markdown",
   "metadata": {},
   "source": [
    "The `chain` function concatenates several iterables together."
   ]
  },
  {
   "cell_type": "code",
   "execution_count": 221,
   "metadata": {},
   "outputs": [
    {
     "data": {
      "text/plain": [
       "['a', 'b', 'c', 0, 1, 2]"
      ]
     },
     "execution_count": 221,
     "metadata": {},
     "output_type": "execute_result"
    }
   ],
   "source": [
    "list(it.chain('abc', range(3)))"
   ]
  },
  {
   "cell_type": "markdown",
   "metadata": {},
   "source": [
    "The `repeat` function creates an infinite iterable that just outputs a single thing. (Don't try to do `list(repeat(...))` however.)"
   ]
  },
  {
   "cell_type": "code",
   "execution_count": 222,
   "metadata": {},
   "outputs": [
    {
     "data": {
      "text/plain": [
       "repeat(3)"
      ]
     },
     "execution_count": 222,
     "metadata": {},
     "output_type": "execute_result"
    }
   ],
   "source": [
    "it.repeat(3)   # => 3, 3, 3, ..."
   ]
  },
  {
   "cell_type": "markdown",
   "metadata": {},
   "source": [
    "The `cycle` function creates an iterable that cycles through another iterable endlessly."
   ]
  },
  {
   "cell_type": "code",
   "execution_count": 223,
   "metadata": {},
   "outputs": [
    {
     "data": {
      "text/plain": [
       "<itertools.cycle at 0x1100a2700>"
      ]
     },
     "execution_count": 223,
     "metadata": {},
     "output_type": "execute_result"
    }
   ],
   "source": [
    "it.cycle('abc')    # => 'a', 'b', 'c', 'a', 'b', 'c', 'a', 'b', 'c', ..."
   ]
  },
  {
   "cell_type": "markdown",
   "metadata": {},
   "source": [
    "The `count` function creates an iterable that counts up from a given number."
   ]
  },
  {
   "cell_type": "code",
   "execution_count": 224,
   "metadata": {},
   "outputs": [
    {
     "data": {
      "text/plain": [
       "count(0)"
      ]
     },
     "execution_count": 224,
     "metadata": {},
     "output_type": "execute_result"
    }
   ],
   "source": [
    "it.count(0)     # => 0, 1, 2, 3, ..."
   ]
  },
  {
   "cell_type": "markdown",
   "metadata": {},
   "source": [
    "### Classes"
   ]
  },
  {
   "cell_type": "markdown",
   "metadata": {},
   "source": [
    "[Classes](https://docs.python.org/3/tutorial/classes.html) provide a means of bundling data and functionality together. Creating a new class creates a new type of object, allowing new instances of that type to be made. Each class instance can have attributes attached to it for maintaining its state. Class instances can also have methods (defined by its class) for modifying its state.\n",
    "The syntax for defining classes in Python is straightforward:"
   ]
  },
  {
   "cell_type": "code",
   "execution_count": 225,
   "metadata": {},
   "outputs": [
    {
     "name": "stdout",
     "output_type": "stream",
     "text": [
      "Hello, Fred\n",
      "HELLO, FRED!\n"
     ]
    }
   ],
   "source": [
    "class Greeter(object):\n",
    "\n",
    "    # Constructor\n",
    "    def __init__(self, name):\n",
    "        self.name = name  # Create an instance variable\n",
    "\n",
    "    # Instance method\n",
    "    def greet(self, loud=False):\n",
    "        if loud:\n",
    "            print('HELLO, %s!' % self.name.upper())\n",
    "        else:\n",
    "            print('Hello, %s' % self.name)\n",
    "\n",
    "g = Greeter('Fred')  # Construct an instance of the Greeter class\n",
    "g.greet()            # Call an instance method; prints \"Hello, Fred\"\n",
    "g.greet(loud=True)   # Call an instance method; prints \"HELLO, FRED!\""
   ]
  },
  {
   "cell_type": "markdown",
   "metadata": {},
   "source": [
    "This cell defines a Python class named `Greeter` and creates an instance of this class. Here's a breakdown of what each part of the code does:\n",
    "\n",
    "1. **`class Greeter(object):`**: This line defines a new class named `Greeter`. The `(object)` part indicates that `Greeter` is a subclass of `object`, which is the base class for all classes in Python.\n",
    "\n",
    "2. **`def __init__(self, name):`**: This is the constructor method for the `Greeter` class. It's called when you create a new instance of the class. The `self` parameter refers to the instance of the class, and `name` is an additional argument that you pass when creating the instance.\n",
    "\n",
    "3. **`self.name = name`**: This line creates an instance variable named `name`. Each instance of the `Greeter` class will have its own `name` variable.\n",
    "\n",
    "4. **`def greet(self, loud=False):`**: This is an instance method of the `Greeter` class. It takes one optional parameter, `loud`. If `loud` is `True`, the method prints the name in uppercase letters. If `loud` is `False` or not provided, it prints the name in lowercase letters.\n",
    "\n",
    "5. **`g = Greeter('Fred')`**: This line creates a new instance of the `Greeter` class, with the `name` variable set to `'Fred'`.\n",
    "\n",
    "6. **`g.greet()`**: This line calls the `greet` method on the `g` instance of the `Greeter` class. Since no argument is provided for `loud`, it defaults to `False`, and the method prints `'Hello, Fred'`.\n",
    "\n",
    "7. **`g.greet(loud=True)`**: This line also calls the `greet` method on the `g` instance, but this time it passes `True` for the `loud` argument. As a result, the method prints `'HELLO, FRED!'`."
   ]
  },
  {
   "cell_type": "code",
   "execution_count": 226,
   "metadata": {},
   "outputs": [
    {
     "name": "stdout",
     "output_type": "stream",
     "text": [
      "8 10\n",
      "Lisa\n"
     ]
    }
   ],
   "source": [
    "class Person():         # Next indented block is in the class definition\n",
    "\n",
    "  def __init__(self, name, age):  # Values specified when object is made\n",
    "    self.name = name              # Link input values to the object\n",
    "    self.age = age\n",
    "\n",
    "  def get_first_name(self):       # A second, custom function\n",
    "    names = self.name.split()     # self refers to the run-time object\n",
    "    return names[0]               # Give back first word\n",
    "\n",
    "p1 = Person('Lisa Simpson', 8)    # Make object of Person class\n",
    "p2 = Person('Bart Simpson', 10)   # Make another\n",
    "print(p1.age, p2.age)             # Values linked to objects - 8, 10 \n",
    "print(p1.get_first_name())        # Run a linked function - gives 'Lisa'"
   ]
  },
  {
   "cell_type": "markdown",
   "metadata": {},
   "source": [
    "This cell defines a Python class named `Person` and creates two instances of this class.\n",
    "\n",
    "Here's a breakdown of what each part of the code does:\n",
    "\n",
    "1. **`class Person():`**: This line starts the definition of a class named `Person`.\n",
    "\n",
    "2. **`def __init__(self, name, age):`**: This line defines the initializer method for the `Person` class. This method is automatically called when a new instance of the class is created. It takes three arguments: `self`, which is a reference to the instance being created; `name`, which is expected to be a string representing the person's name; and `age`, which is expected to be an integer representing the person's age.\n",
    "\n",
    "3. **`self.name = name`** and **`self.age = age`**: These lines assign the values of `name` and `age` to the `name` and `age` attributes of the instance.\n",
    "\n",
    "4. **`def get_first_name(self):`**: This line defines a method named `get_first_name` that returns the first name of the person. It takes one argument, `self`, which is a reference to the instance on which the method is called.\n",
    "\n",
    "5. **`names = self.name.split()`** and **`return names[0]`**: These lines split the person's name into words and return the first word.\n",
    "\n",
    "6. **`p1 = Person('Lisa Simpson', 8)`** and **`p2 = Person('Bart Simpson', 10)`**: These lines create two instances of the `Person` class. The first instance, `p1`, represents a person named 'Lisa Simpson' who is 8 years old. The second instance, `p2`, represents a person named 'Bart Simpson' who is 10 years old.\n",
    "\n",
    "7. **`print(p1.age, p2.age)`**: This line prints the ages of `p1` and `p2`, which are `8` and `10`, respectively.\n",
    "\n",
    "8. **`print(p1.get_first_name())`**: This line calls the `get_first_name` method on `p1` and prints the result, which is `'Lisa'`.\n",
    "\n",
    "The cursor is currently on line 0, which is the start of the class definition."
   ]
  }
 ],
 "metadata": {
  "kernelspec": {
   "display_name": "elmed219",
   "language": "python",
   "name": "python3"
  },
  "language_info": {
   "codemirror_mode": {
    "name": "ipython",
    "version": 3
   },
   "file_extension": ".py",
   "mimetype": "text/x-python",
   "name": "python",
   "nbconvert_exporter": "python",
   "pygments_lexer": "ipython3",
   "version": "3.11.6"
  },
  "toc": {
   "base_numbering": 1,
   "nav_menu": {},
   "number_sections": true,
   "sideBar": true,
   "skip_h1_title": false,
   "title_cell": "Table of Contents",
   "title_sidebar": "Contents",
   "toc_cell": false,
   "toc_position": {},
   "toc_section_display": "block",
   "toc_window_display": false
  }
 },
 "nbformat": 4,
 "nbformat_minor": 2
}
