{
 "cells": [
  {
   "cell_type": "markdown",
   "metadata": {
    "_cell_guid": "28bff2a8-8e79-4f43-a485-a8a76782009b",
    "_uuid": "73920a22506dcba775f8dcf2f177bf693766f65d"
   },
   "source": [
    "**About Iris Dataset**\n",
    "\n",
    "Best known database to be found in the pattern recognition literature. Data set- Iris flower data set(Donated date - 1988-07-01), also known as Fisher's Iris data set and Anderson's Iris data set b/c Edgar Anderson collected the data. It is multivariate(more than 2 dependent variable) data set Study of three related Iris flowers species. Data set contain 50 sample of each species(Iris-Setosa, Iris-Virginica, Iris-Versicolor)\n",
    "\n",
    "**Features or attributes(4 numeric)-**\n",
    "\n",
    "1. Sepal length in cm\n",
    "2. Sepal width in cm\n",
    "3.  Petal length in cm\n",
    "4. Petal width in cm\n",
    "\n",
    "**More on data set:-**\n",
    "\n",
    "1. One class is linearly separable from the other 2; the latter are NOT linearly separable from each other\n",
    "2. Missing Attributes Values : None"
   ]
  },
  {
   "cell_type": "markdown",
   "metadata": {
    "_cell_guid": "2b7d6ca0-5162-4114-8f2f-4189bd3f9f3b",
    "_uuid": "6bb28e42e8d8b9807ae19d0571f2d3a4e4b3eb50"
   },
   "source": [
    "**Summary Statistics**\n",
    "\n",
    "                    **** Min  Max   Mean    SD      Class Correlation\n",
    "    sepal length:   4.3  7.9   5.84     0.83       0.7826\n",
    "\n",
    "    sepal width:    2.0  4.4   3.05    0.43       -0.4194\n",
    "\n",
    "    petal length:   1.0  6.9   3.76     1.76       0.9490  (high!)\n",
    "\n",
    "    petal width:    0.1  2.5   1.20     0.76       0.9565  (high!)\n",
    "\n",
    "Class Distribution: 33.3% for each of 3 classes."
   ]
  },
  {
   "cell_type": "markdown",
   "metadata": {
    "_cell_guid": "ea115bd7-6350-470a-815d-f435a392770d",
    "_uuid": "8da28a8e201badeb4f531328187cffcd75464c7b"
   },
   "source": [
    "Images of Iris flowers species Iris_setosa -https://en.wikipedia.org/wiki/Iris_setosa\n",
    "\n",
    "Iris_versicolor - [https://en.wikipedia.org/wiki/Iris_versicolor](http://)\n",
    "\n",
    "Iris_virginica - https://en.wikipedia.org/wiki/Iris_virginica\n",
    "\n",
    "How the biologist find the class of species- They use 4 features to find the species of Iris, due to this reason we are using 4 features. This tell us about the importance of domain knowledge\n"
   ]
  },
  {
   "cell_type": "markdown",
   "metadata": {
    "_cell_guid": "e7255ee1-bfcb-4eaa-8348-a7f6fa304844",
    "_uuid": "014b0bcf31ffadffba422db1faa3e5baf3e3f69a"
   },
   "source": [
    "**Objective:-**\n",
    "Classify a new flower as belonging to one of the 3 classes given the 4 features"
   ]
  },
  {
   "cell_type": "markdown",
   "metadata": {
    "_cell_guid": "5927e0b3-5bbb-4b84-aa16-feeaaf3c59fe",
    "_uuid": "a8aedbd04e5153eacbc27cc15b47e2a1ff532b76"
   },
   "source": [
    "**Here we start**"
   ]
  },
  {
   "cell_type": "code",
   "execution_count": 1,
   "metadata": {
    "_cell_guid": "fba61007-015d-41c1-bbad-ca2fdb9af6e4",
    "_uuid": "fb7faca9e3d0e1e1ef217237f7e210c14a8a7c9b"
   },
   "outputs": [
    {
     "name": "stderr",
     "output_type": "stream",
     "text": [
      "ls: ../input: No such file or directory\n"
     ]
    },
    {
     "ename": "CalledProcessError",
     "evalue": "Command '['ls', '../input']' returned non-zero exit status 1.",
     "output_type": "error",
     "traceback": [
      "\u001b[0;31m---------------------------------------------------------------------------\u001b[0m",
      "\u001b[0;31mCalledProcessError\u001b[0m                        Traceback (most recent call last)",
      "Cell \u001b[0;32mIn[1], line 14\u001b[0m\n\u001b[1;32m     10\u001b[0m \u001b[38;5;66;03m# Input data files are available in the \"../input/\" directory.\u001b[39;00m\n\u001b[1;32m     11\u001b[0m \u001b[38;5;66;03m# For example, running this (by clicking run or pressing Shift+Enter) will list the files in the input directory\u001b[39;00m\n\u001b[1;32m     13\u001b[0m \u001b[38;5;28;01mfrom\u001b[39;00m \u001b[38;5;21;01msubprocess\u001b[39;00m \u001b[38;5;28;01mimport\u001b[39;00m check_output\n\u001b[0;32m---> 14\u001b[0m \u001b[38;5;28mprint\u001b[39m(\u001b[43mcheck_output\u001b[49m\u001b[43m(\u001b[49m\u001b[43m[\u001b[49m\u001b[38;5;124;43m\"\u001b[39;49m\u001b[38;5;124;43mls\u001b[39;49m\u001b[38;5;124;43m\"\u001b[39;49m\u001b[43m,\u001b[49m\u001b[43m \u001b[49m\u001b[38;5;124;43m\"\u001b[39;49m\u001b[38;5;124;43m../input\u001b[39;49m\u001b[38;5;124;43m\"\u001b[39;49m\u001b[43m]\u001b[49m\u001b[43m)\u001b[49m\u001b[38;5;241m.\u001b[39mdecode(\u001b[38;5;124m\"\u001b[39m\u001b[38;5;124mutf8\u001b[39m\u001b[38;5;124m\"\u001b[39m))\n\u001b[1;32m     16\u001b[0m \u001b[38;5;66;03m# Any results you write to the current directory are saved as output.\u001b[39;00m\n",
      "File \u001b[0;32m~/opt/anaconda3/envs/elmed219/lib/python3.11/subprocess.py:466\u001b[0m, in \u001b[0;36mcheck_output\u001b[0;34m(timeout, *popenargs, **kwargs)\u001b[0m\n\u001b[1;32m    463\u001b[0m         empty \u001b[38;5;241m=\u001b[39m \u001b[38;5;124mb\u001b[39m\u001b[38;5;124m'\u001b[39m\u001b[38;5;124m'\u001b[39m\n\u001b[1;32m    464\u001b[0m     kwargs[\u001b[38;5;124m'\u001b[39m\u001b[38;5;124minput\u001b[39m\u001b[38;5;124m'\u001b[39m] \u001b[38;5;241m=\u001b[39m empty\n\u001b[0;32m--> 466\u001b[0m \u001b[38;5;28;01mreturn\u001b[39;00m \u001b[43mrun\u001b[49m\u001b[43m(\u001b[49m\u001b[38;5;241;43m*\u001b[39;49m\u001b[43mpopenargs\u001b[49m\u001b[43m,\u001b[49m\u001b[43m \u001b[49m\u001b[43mstdout\u001b[49m\u001b[38;5;241;43m=\u001b[39;49m\u001b[43mPIPE\u001b[49m\u001b[43m,\u001b[49m\u001b[43m \u001b[49m\u001b[43mtimeout\u001b[49m\u001b[38;5;241;43m=\u001b[39;49m\u001b[43mtimeout\u001b[49m\u001b[43m,\u001b[49m\u001b[43m \u001b[49m\u001b[43mcheck\u001b[49m\u001b[38;5;241;43m=\u001b[39;49m\u001b[38;5;28;43;01mTrue\u001b[39;49;00m\u001b[43m,\u001b[49m\n\u001b[1;32m    467\u001b[0m \u001b[43m           \u001b[49m\u001b[38;5;241;43m*\u001b[39;49m\u001b[38;5;241;43m*\u001b[39;49m\u001b[43mkwargs\u001b[49m\u001b[43m)\u001b[49m\u001b[38;5;241m.\u001b[39mstdout\n",
      "File \u001b[0;32m~/opt/anaconda3/envs/elmed219/lib/python3.11/subprocess.py:571\u001b[0m, in \u001b[0;36mrun\u001b[0;34m(input, capture_output, timeout, check, *popenargs, **kwargs)\u001b[0m\n\u001b[1;32m    569\u001b[0m     retcode \u001b[38;5;241m=\u001b[39m process\u001b[38;5;241m.\u001b[39mpoll()\n\u001b[1;32m    570\u001b[0m     \u001b[38;5;28;01mif\u001b[39;00m check \u001b[38;5;129;01mand\u001b[39;00m retcode:\n\u001b[0;32m--> 571\u001b[0m         \u001b[38;5;28;01mraise\u001b[39;00m CalledProcessError(retcode, process\u001b[38;5;241m.\u001b[39margs,\n\u001b[1;32m    572\u001b[0m                                  output\u001b[38;5;241m=\u001b[39mstdout, stderr\u001b[38;5;241m=\u001b[39mstderr)\n\u001b[1;32m    573\u001b[0m \u001b[38;5;28;01mreturn\u001b[39;00m CompletedProcess(process\u001b[38;5;241m.\u001b[39margs, retcode, stdout, stderr)\n",
      "\u001b[0;31mCalledProcessError\u001b[0m: Command '['ls', '../input']' returned non-zero exit status 1."
     ]
    }
   ],
   "source": [
    "# This Python 3 environment comes with many helpful analytics libraries installed\n",
    "# It is defined by the kaggle/python docker image: https://github.com/kaggle/docker-python\n",
    "# For example, here's several helpful packages to load in \n",
    "\n",
    "import numpy as np # linear algebra\n",
    "import pandas as pd # data processing, CSV file I/O (e.g. pd.read_csv)\n",
    "import matplotlib.pyplot as plt # For graphical representation \n",
    "import seaborn as sns # Python visualization library based on matplotlib provides a high-level interface for drawing attractive statistical graphics\n",
    "\n",
    "# Input data files are available in the \"../input/\" directory.\n",
    "# For example, running this (by clicking run or pressing Shift+Enter) will list the files in the input directory\n",
    "\n",
    "from subprocess import check_output\n",
    "print(check_output([\"ls\", \"../input\"]).decode(\"utf8\"))\n",
    "\n",
    "# Any results you write to the current directory are saved as output."
   ]
  },
  {
   "cell_type": "code",
   "execution_count": 2,
   "metadata": {
    "_cell_guid": "e1204efd-2286-4013-8a73-50f8c63b16b8",
    "_uuid": "397fca0b90d2e2157fd30c8eb2f15fcb3bc19794"
   },
   "outputs": [
    {
     "data": {
      "text/html": [
       "<div>\n",
       "<style>\n",
       "    .dataframe thead tr:only-child th {\n",
       "        text-align: right;\n",
       "    }\n",
       "\n",
       "    .dataframe thead th {\n",
       "        text-align: left;\n",
       "    }\n",
       "\n",
       "    .dataframe tbody tr th {\n",
       "        vertical-align: top;\n",
       "    }\n",
       "</style>\n",
       "<table border=\"1\" class=\"dataframe\">\n",
       "  <thead>\n",
       "    <tr style=\"text-align: right;\">\n",
       "      <th></th>\n",
       "      <th>Id</th>\n",
       "      <th>SepalLengthCm</th>\n",
       "      <th>SepalWidthCm</th>\n",
       "      <th>PetalLengthCm</th>\n",
       "      <th>PetalWidthCm</th>\n",
       "      <th>Species</th>\n",
       "    </tr>\n",
       "  </thead>\n",
       "  <tbody>\n",
       "    <tr>\n",
       "      <th>0</th>\n",
       "      <td>1</td>\n",
       "      <td>5.1</td>\n",
       "      <td>3.5</td>\n",
       "      <td>1.4</td>\n",
       "      <td>0.2</td>\n",
       "      <td>Iris-setosa</td>\n",
       "    </tr>\n",
       "    <tr>\n",
       "      <th>1</th>\n",
       "      <td>2</td>\n",
       "      <td>4.9</td>\n",
       "      <td>3.0</td>\n",
       "      <td>1.4</td>\n",
       "      <td>0.2</td>\n",
       "      <td>Iris-setosa</td>\n",
       "    </tr>\n",
       "    <tr>\n",
       "      <th>2</th>\n",
       "      <td>3</td>\n",
       "      <td>4.7</td>\n",
       "      <td>3.2</td>\n",
       "      <td>1.3</td>\n",
       "      <td>0.2</td>\n",
       "      <td>Iris-setosa</td>\n",
       "    </tr>\n",
       "    <tr>\n",
       "      <th>3</th>\n",
       "      <td>4</td>\n",
       "      <td>4.6</td>\n",
       "      <td>3.1</td>\n",
       "      <td>1.5</td>\n",
       "      <td>0.2</td>\n",
       "      <td>Iris-setosa</td>\n",
       "    </tr>\n",
       "    <tr>\n",
       "      <th>4</th>\n",
       "      <td>5</td>\n",
       "      <td>5.0</td>\n",
       "      <td>3.6</td>\n",
       "      <td>1.4</td>\n",
       "      <td>0.2</td>\n",
       "      <td>Iris-setosa</td>\n",
       "    </tr>\n",
       "  </tbody>\n",
       "</table>\n",
       "</div>"
      ],
      "text/plain": [
       "   Id  SepalLengthCm  SepalWidthCm  PetalLengthCm  PetalWidthCm      Species\n",
       "0   1            5.1           3.5            1.4           0.2  Iris-setosa\n",
       "1   2            4.9           3.0            1.4           0.2  Iris-setosa\n",
       "2   3            4.7           3.2            1.3           0.2  Iris-setosa\n",
       "3   4            4.6           3.1            1.5           0.2  Iris-setosa\n",
       "4   5            5.0           3.6            1.4           0.2  Iris-setosa"
      ]
     },
     "execution_count": 2,
     "metadata": {},
     "output_type": "execute_result"
    }
   ],
   "source": [
    "# Load the data set and see first 5 rows\n",
    "a = pd.read_csv('../input/Iris.csv')\n",
    "iris = pd.DataFrame(a)\n",
    "iris.head()"
   ]
  },
  {
   "cell_type": "code",
   "execution_count": 3,
   "metadata": {
    "_cell_guid": "4cd3ff2d-14e4-4a79-a70b-e7b64bd531fe",
    "_uuid": "e6da9a1f608678ae162af4e69d150df367b1e18a"
   },
   "outputs": [
    {
     "data": {
      "text/plain": [
       "(150, 6)"
      ]
     },
     "execution_count": 3,
     "metadata": {},
     "output_type": "execute_result"
    }
   ],
   "source": [
    "# see the shape of data set\n",
    "iris.shape"
   ]
  },
  {
   "cell_type": "code",
   "execution_count": 4,
   "metadata": {
    "_cell_guid": "73fb1972-31fb-457a-b1a7-6a4e1f21dbb5",
    "_uuid": "42a0c7abf82250d648040abe47b0686833cc53ff"
   },
   "outputs": [
    {
     "name": "stdout",
     "output_type": "stream",
     "text": [
      "<class 'pandas.core.frame.DataFrame'>\n",
      "RangeIndex: 150 entries, 0 to 149\n",
      "Data columns (total 6 columns):\n",
      "Id               150 non-null int64\n",
      "SepalLengthCm    150 non-null float64\n",
      "SepalWidthCm     150 non-null float64\n",
      "PetalLengthCm    150 non-null float64\n",
      "PetalWidthCm     150 non-null float64\n",
      "Species          150 non-null object\n",
      "dtypes: float64(4), int64(1), object(1)\n",
      "memory usage: 7.1+ KB\n"
     ]
    }
   ],
   "source": [
    "# More depth on data set like all columns it's data type(along with its count), and memory usage \n",
    "iris.info()"
   ]
  },
  {
   "cell_type": "code",
   "execution_count": 5,
   "metadata": {
    "_cell_guid": "73fe78ca-0eea-4471-a130-c568f746baaa",
    "_uuid": "87e0b5c77a3176c329c7f34a7405c84cf1212871",
    "collapsed": true
   },
   "outputs": [],
   "source": [
    "# We have 6 columns ID, SepalLengthCm, SepalWidthCm, PetalLengthCm, PetalWidthCm, Species\n",
    "# Since column Id is no use so we need to remove it\n",
    "# drop() is Data Frame method, arguments are 1arg- column to remove,\n",
    "# 2arg -  axis(column wise(1) or row wise(0))\n",
    "# 3arg - inplace(True = change should be reflected on data frame) \n",
    "#iris = iris.drop('Id',1, inplace = True)\n",
    "#df.set_index('month')\n",
    "iris.drop('Id', axis = 1, inplace = True)\n"
   ]
  },
  {
   "cell_type": "code",
   "execution_count": 6,
   "metadata": {
    "_cell_guid": "619a463a-6709-4cf2-9b81-2aad0369a368",
    "_uuid": "2bb3f70e21201b9d730f10e9242c506a70aa375c"
   },
   "outputs": [
    {
     "data": {
      "text/html": [
       "<div>\n",
       "<style>\n",
       "    .dataframe thead tr:only-child th {\n",
       "        text-align: right;\n",
       "    }\n",
       "\n",
       "    .dataframe thead th {\n",
       "        text-align: left;\n",
       "    }\n",
       "\n",
       "    .dataframe tbody tr th {\n",
       "        vertical-align: top;\n",
       "    }\n",
       "</style>\n",
       "<table border=\"1\" class=\"dataframe\">\n",
       "  <thead>\n",
       "    <tr style=\"text-align: right;\">\n",
       "      <th></th>\n",
       "      <th>SepalLengthCm</th>\n",
       "      <th>SepalWidthCm</th>\n",
       "      <th>PetalLengthCm</th>\n",
       "      <th>PetalWidthCm</th>\n",
       "      <th>Species</th>\n",
       "    </tr>\n",
       "  </thead>\n",
       "  <tbody>\n",
       "    <tr>\n",
       "      <th>0</th>\n",
       "      <td>5.1</td>\n",
       "      <td>3.5</td>\n",
       "      <td>1.4</td>\n",
       "      <td>0.2</td>\n",
       "      <td>Iris-setosa</td>\n",
       "    </tr>\n",
       "    <tr>\n",
       "      <th>1</th>\n",
       "      <td>4.9</td>\n",
       "      <td>3.0</td>\n",
       "      <td>1.4</td>\n",
       "      <td>0.2</td>\n",
       "      <td>Iris-setosa</td>\n",
       "    </tr>\n",
       "    <tr>\n",
       "      <th>2</th>\n",
       "      <td>4.7</td>\n",
       "      <td>3.2</td>\n",
       "      <td>1.3</td>\n",
       "      <td>0.2</td>\n",
       "      <td>Iris-setosa</td>\n",
       "    </tr>\n",
       "    <tr>\n",
       "      <th>3</th>\n",
       "      <td>4.6</td>\n",
       "      <td>3.1</td>\n",
       "      <td>1.5</td>\n",
       "      <td>0.2</td>\n",
       "      <td>Iris-setosa</td>\n",
       "    </tr>\n",
       "    <tr>\n",
       "      <th>4</th>\n",
       "      <td>5.0</td>\n",
       "      <td>3.6</td>\n",
       "      <td>1.4</td>\n",
       "      <td>0.2</td>\n",
       "      <td>Iris-setosa</td>\n",
       "    </tr>\n",
       "  </tbody>\n",
       "</table>\n",
       "</div>"
      ],
      "text/plain": [
       "   SepalLengthCm  SepalWidthCm  PetalLengthCm  PetalWidthCm      Species\n",
       "0            5.1           3.5            1.4           0.2  Iris-setosa\n",
       "1            4.9           3.0            1.4           0.2  Iris-setosa\n",
       "2            4.7           3.2            1.3           0.2  Iris-setosa\n",
       "3            4.6           3.1            1.5           0.2  Iris-setosa\n",
       "4            5.0           3.6            1.4           0.2  Iris-setosa"
      ]
     },
     "execution_count": 6,
     "metadata": {},
     "output_type": "execute_result"
    }
   ],
   "source": [
    "iris.head()"
   ]
  },
  {
   "cell_type": "markdown",
   "metadata": {
    "_cell_guid": "3afd8407-e723-447f-95a3-1bf92821f4f1",
    "_uuid": "eaad7741196a4fa4b6dd07a9ba7e32c9e8944d1f"
   },
   "source": [
    "**What is data saying ?( Exploratory data analysis). Be a Sherlock Holmes**\n",
    "We will try to find the answer of the following questions with the help of all avilable asset\n",
    "\n",
    "    1. Descriptive statistics\n",
    "\n",
    "    2. Class Distribution (Species counts are balanced or imbalanced)\n",
    "\n",
    "    3. Univariate Plots:- Understand each attribute better.\n",
    "\n",
    "       3.1 Box Plot - Distribution of attribute through their quartiles & find outlier\n",
    "\n",
    "       3.2 Histogram - Distrbution of attribute through their bin, we find the distribution of attribute follow Gaussian or other distributions\n",
    "\n",
    "    4. Multivariate Plots :- Understand the relationships between attributes & species better. (Which attributes contributes a lot in classifying species) 4.0 Scatter Plot - Sepal_Length_Width Vs Species.\n",
    "\n",
    "        4.1 Scatter Plot - Petal_Length_Width Vs Species.\n",
    "\n",
    "        4.2 Scatter Plot of all the attributes\n",
    "\n",
    "        4.3 3D Plot\n",
    "\n",
    "        4.4 Violinplot - Density of the length and width in the species\n",
    "\n",
    "\n"
   ]
  },
  {
   "cell_type": "markdown",
   "metadata": {
    "_cell_guid": "29c73232-9f42-432d-8984-5a67c732b2b4",
    "_uuid": "0a4ab97b4909d8c48105f63bd354b71a90f07eaa"
   },
   "source": [
    "**1. Descriptive statistics**"
   ]
  },
  {
   "cell_type": "code",
   "execution_count": 7,
   "metadata": {
    "_cell_guid": "3046979d-fe7b-4e95-a46c-a96203946046",
    "_uuid": "2358678a2c8627be48e23fd17c68d1ce4332f137"
   },
   "outputs": [
    {
     "data": {
      "text/html": [
       "<div>\n",
       "<style>\n",
       "    .dataframe thead tr:only-child th {\n",
       "        text-align: right;\n",
       "    }\n",
       "\n",
       "    .dataframe thead th {\n",
       "        text-align: left;\n",
       "    }\n",
       "\n",
       "    .dataframe tbody tr th {\n",
       "        vertical-align: top;\n",
       "    }\n",
       "</style>\n",
       "<table border=\"1\" class=\"dataframe\">\n",
       "  <thead>\n",
       "    <tr style=\"text-align: right;\">\n",
       "      <th></th>\n",
       "      <th>SepalLengthCm</th>\n",
       "      <th>SepalWidthCm</th>\n",
       "      <th>PetalLengthCm</th>\n",
       "      <th>PetalWidthCm</th>\n",
       "    </tr>\n",
       "  </thead>\n",
       "  <tbody>\n",
       "    <tr>\n",
       "      <th>count</th>\n",
       "      <td>150.000000</td>\n",
       "      <td>150.000000</td>\n",
       "      <td>150.000000</td>\n",
       "      <td>150.000000</td>\n",
       "    </tr>\n",
       "    <tr>\n",
       "      <th>mean</th>\n",
       "      <td>5.843333</td>\n",
       "      <td>3.054000</td>\n",
       "      <td>3.758667</td>\n",
       "      <td>1.198667</td>\n",
       "    </tr>\n",
       "    <tr>\n",
       "      <th>std</th>\n",
       "      <td>0.828066</td>\n",
       "      <td>0.433594</td>\n",
       "      <td>1.764420</td>\n",
       "      <td>0.763161</td>\n",
       "    </tr>\n",
       "    <tr>\n",
       "      <th>min</th>\n",
       "      <td>4.300000</td>\n",
       "      <td>2.000000</td>\n",
       "      <td>1.000000</td>\n",
       "      <td>0.100000</td>\n",
       "    </tr>\n",
       "    <tr>\n",
       "      <th>25%</th>\n",
       "      <td>5.100000</td>\n",
       "      <td>2.800000</td>\n",
       "      <td>1.600000</td>\n",
       "      <td>0.300000</td>\n",
       "    </tr>\n",
       "    <tr>\n",
       "      <th>50%</th>\n",
       "      <td>5.800000</td>\n",
       "      <td>3.000000</td>\n",
       "      <td>4.350000</td>\n",
       "      <td>1.300000</td>\n",
       "    </tr>\n",
       "    <tr>\n",
       "      <th>75%</th>\n",
       "      <td>6.400000</td>\n",
       "      <td>3.300000</td>\n",
       "      <td>5.100000</td>\n",
       "      <td>1.800000</td>\n",
       "    </tr>\n",
       "    <tr>\n",
       "      <th>max</th>\n",
       "      <td>7.900000</td>\n",
       "      <td>4.400000</td>\n",
       "      <td>6.900000</td>\n",
       "      <td>2.500000</td>\n",
       "    </tr>\n",
       "  </tbody>\n",
       "</table>\n",
       "</div>"
      ],
      "text/plain": [
       "       SepalLengthCm  SepalWidthCm  PetalLengthCm  PetalWidthCm\n",
       "count     150.000000    150.000000     150.000000    150.000000\n",
       "mean        5.843333      3.054000       3.758667      1.198667\n",
       "std         0.828066      0.433594       1.764420      0.763161\n",
       "min         4.300000      2.000000       1.000000      0.100000\n",
       "25%         5.100000      2.800000       1.600000      0.300000\n",
       "50%         5.800000      3.000000       4.350000      1.300000\n",
       "75%         6.400000      3.300000       5.100000      1.800000\n",
       "max         7.900000      4.400000       6.900000      2.500000"
      ]
     },
     "execution_count": 7,
     "metadata": {},
     "output_type": "execute_result"
    }
   ],
   "source": [
    "# Descriptive statistics for whole data set\n",
    "iris.describe()"
   ]
  },
  {
   "cell_type": "code",
   "execution_count": 8,
   "metadata": {
    "_cell_guid": "1a05ee32-d38a-4f9d-9301-325527b31fa0",
    "_uuid": "e3b063ffbcd7dd20181a6067c1daa2a139a4d90a"
   },
   "outputs": [
    {
     "data": {
      "text/html": [
       "<div>\n",
       "<style>\n",
       "    .dataframe thead tr:only-child th {\n",
       "        text-align: right;\n",
       "    }\n",
       "\n",
       "    .dataframe thead th {\n",
       "        text-align: left;\n",
       "    }\n",
       "\n",
       "    .dataframe tbody tr th {\n",
       "        vertical-align: top;\n",
       "    }\n",
       "</style>\n",
       "<table border=\"1\" class=\"dataframe\">\n",
       "  <thead>\n",
       "    <tr style=\"text-align: right;\">\n",
       "      <th></th>\n",
       "      <th>SepalLengthCm</th>\n",
       "      <th>SepalWidthCm</th>\n",
       "      <th>PetalLengthCm</th>\n",
       "      <th>PetalWidthCm</th>\n",
       "    </tr>\n",
       "  </thead>\n",
       "  <tbody>\n",
       "    <tr>\n",
       "      <th>count</th>\n",
       "      <td>50.00000</td>\n",
       "      <td>50.000000</td>\n",
       "      <td>50.000000</td>\n",
       "      <td>50.00000</td>\n",
       "    </tr>\n",
       "    <tr>\n",
       "      <th>mean</th>\n",
       "      <td>5.00600</td>\n",
       "      <td>3.418000</td>\n",
       "      <td>1.464000</td>\n",
       "      <td>0.24400</td>\n",
       "    </tr>\n",
       "    <tr>\n",
       "      <th>std</th>\n",
       "      <td>0.35249</td>\n",
       "      <td>0.381024</td>\n",
       "      <td>0.173511</td>\n",
       "      <td>0.10721</td>\n",
       "    </tr>\n",
       "    <tr>\n",
       "      <th>min</th>\n",
       "      <td>4.30000</td>\n",
       "      <td>2.300000</td>\n",
       "      <td>1.000000</td>\n",
       "      <td>0.10000</td>\n",
       "    </tr>\n",
       "    <tr>\n",
       "      <th>25%</th>\n",
       "      <td>4.80000</td>\n",
       "      <td>3.125000</td>\n",
       "      <td>1.400000</td>\n",
       "      <td>0.20000</td>\n",
       "    </tr>\n",
       "    <tr>\n",
       "      <th>50%</th>\n",
       "      <td>5.00000</td>\n",
       "      <td>3.400000</td>\n",
       "      <td>1.500000</td>\n",
       "      <td>0.20000</td>\n",
       "    </tr>\n",
       "    <tr>\n",
       "      <th>75%</th>\n",
       "      <td>5.20000</td>\n",
       "      <td>3.675000</td>\n",
       "      <td>1.575000</td>\n",
       "      <td>0.30000</td>\n",
       "    </tr>\n",
       "    <tr>\n",
       "      <th>max</th>\n",
       "      <td>5.80000</td>\n",
       "      <td>4.400000</td>\n",
       "      <td>1.900000</td>\n",
       "      <td>0.60000</td>\n",
       "    </tr>\n",
       "  </tbody>\n",
       "</table>\n",
       "</div>"
      ],
      "text/plain": [
       "       SepalLengthCm  SepalWidthCm  PetalLengthCm  PetalWidthCm\n",
       "count       50.00000     50.000000      50.000000      50.00000\n",
       "mean         5.00600      3.418000       1.464000       0.24400\n",
       "std          0.35249      0.381024       0.173511       0.10721\n",
       "min          4.30000      2.300000       1.000000       0.10000\n",
       "25%          4.80000      3.125000       1.400000       0.20000\n",
       "50%          5.00000      3.400000       1.500000       0.20000\n",
       "75%          5.20000      3.675000       1.575000       0.30000\n",
       "max          5.80000      4.400000       1.900000       0.60000"
      ]
     },
     "execution_count": 8,
     "metadata": {},
     "output_type": "execute_result"
    }
   ],
   "source": [
    "# Descriptive statistics for Iris-setosa\n",
    "iris[iris['Species']=='Iris-setosa'].describe()"
   ]
  },
  {
   "cell_type": "code",
   "execution_count": 9,
   "metadata": {
    "_cell_guid": "708d403c-a987-4b43-b7f4-1894387a7cc8",
    "_uuid": "f894b11620b6a2cbf5c1f2b098bd8084af1ef454"
   },
   "outputs": [
    {
     "data": {
      "text/html": [
       "<div>\n",
       "<style>\n",
       "    .dataframe thead tr:only-child th {\n",
       "        text-align: right;\n",
       "    }\n",
       "\n",
       "    .dataframe thead th {\n",
       "        text-align: left;\n",
       "    }\n",
       "\n",
       "    .dataframe tbody tr th {\n",
       "        vertical-align: top;\n",
       "    }\n",
       "</style>\n",
       "<table border=\"1\" class=\"dataframe\">\n",
       "  <thead>\n",
       "    <tr style=\"text-align: right;\">\n",
       "      <th></th>\n",
       "      <th>SepalLengthCm</th>\n",
       "      <th>SepalWidthCm</th>\n",
       "      <th>PetalLengthCm</th>\n",
       "      <th>PetalWidthCm</th>\n",
       "    </tr>\n",
       "  </thead>\n",
       "  <tbody>\n",
       "    <tr>\n",
       "      <th>count</th>\n",
       "      <td>50.000000</td>\n",
       "      <td>50.000000</td>\n",
       "      <td>50.000000</td>\n",
       "      <td>50.000000</td>\n",
       "    </tr>\n",
       "    <tr>\n",
       "      <th>mean</th>\n",
       "      <td>5.936000</td>\n",
       "      <td>2.770000</td>\n",
       "      <td>4.260000</td>\n",
       "      <td>1.326000</td>\n",
       "    </tr>\n",
       "    <tr>\n",
       "      <th>std</th>\n",
       "      <td>0.516171</td>\n",
       "      <td>0.313798</td>\n",
       "      <td>0.469911</td>\n",
       "      <td>0.197753</td>\n",
       "    </tr>\n",
       "    <tr>\n",
       "      <th>min</th>\n",
       "      <td>4.900000</td>\n",
       "      <td>2.000000</td>\n",
       "      <td>3.000000</td>\n",
       "      <td>1.000000</td>\n",
       "    </tr>\n",
       "    <tr>\n",
       "      <th>25%</th>\n",
       "      <td>5.600000</td>\n",
       "      <td>2.525000</td>\n",
       "      <td>4.000000</td>\n",
       "      <td>1.200000</td>\n",
       "    </tr>\n",
       "    <tr>\n",
       "      <th>50%</th>\n",
       "      <td>5.900000</td>\n",
       "      <td>2.800000</td>\n",
       "      <td>4.350000</td>\n",
       "      <td>1.300000</td>\n",
       "    </tr>\n",
       "    <tr>\n",
       "      <th>75%</th>\n",
       "      <td>6.300000</td>\n",
       "      <td>3.000000</td>\n",
       "      <td>4.600000</td>\n",
       "      <td>1.500000</td>\n",
       "    </tr>\n",
       "    <tr>\n",
       "      <th>max</th>\n",
       "      <td>7.000000</td>\n",
       "      <td>3.400000</td>\n",
       "      <td>5.100000</td>\n",
       "      <td>1.800000</td>\n",
       "    </tr>\n",
       "  </tbody>\n",
       "</table>\n",
       "</div>"
      ],
      "text/plain": [
       "       SepalLengthCm  SepalWidthCm  PetalLengthCm  PetalWidthCm\n",
       "count      50.000000     50.000000      50.000000     50.000000\n",
       "mean        5.936000      2.770000       4.260000      1.326000\n",
       "std         0.516171      0.313798       0.469911      0.197753\n",
       "min         4.900000      2.000000       3.000000      1.000000\n",
       "25%         5.600000      2.525000       4.000000      1.200000\n",
       "50%         5.900000      2.800000       4.350000      1.300000\n",
       "75%         6.300000      3.000000       4.600000      1.500000\n",
       "max         7.000000      3.400000       5.100000      1.800000"
      ]
     },
     "execution_count": 9,
     "metadata": {},
     "output_type": "execute_result"
    }
   ],
   "source": [
    "# Descriptive statistics for Iris-versicolor\n",
    "iris[iris['Species']=='Iris-versicolor'].describe()"
   ]
  },
  {
   "cell_type": "code",
   "execution_count": 10,
   "metadata": {
    "_cell_guid": "4a3a8229-ca46-4c59-b92d-1929b1f80e9a",
    "_uuid": "0125ed26ab7560e2a47dd5c3161fa9d33df04d96"
   },
   "outputs": [
    {
     "data": {
      "text/html": [
       "<div>\n",
       "<style>\n",
       "    .dataframe thead tr:only-child th {\n",
       "        text-align: right;\n",
       "    }\n",
       "\n",
       "    .dataframe thead th {\n",
       "        text-align: left;\n",
       "    }\n",
       "\n",
       "    .dataframe tbody tr th {\n",
       "        vertical-align: top;\n",
       "    }\n",
       "</style>\n",
       "<table border=\"1\" class=\"dataframe\">\n",
       "  <thead>\n",
       "    <tr style=\"text-align: right;\">\n",
       "      <th></th>\n",
       "      <th>SepalLengthCm</th>\n",
       "      <th>SepalWidthCm</th>\n",
       "      <th>PetalLengthCm</th>\n",
       "      <th>PetalWidthCm</th>\n",
       "    </tr>\n",
       "  </thead>\n",
       "  <tbody>\n",
       "    <tr>\n",
       "      <th>count</th>\n",
       "      <td>50.00000</td>\n",
       "      <td>50.000000</td>\n",
       "      <td>50.000000</td>\n",
       "      <td>50.00000</td>\n",
       "    </tr>\n",
       "    <tr>\n",
       "      <th>mean</th>\n",
       "      <td>6.58800</td>\n",
       "      <td>2.974000</td>\n",
       "      <td>5.552000</td>\n",
       "      <td>2.02600</td>\n",
       "    </tr>\n",
       "    <tr>\n",
       "      <th>std</th>\n",
       "      <td>0.63588</td>\n",
       "      <td>0.322497</td>\n",
       "      <td>0.551895</td>\n",
       "      <td>0.27465</td>\n",
       "    </tr>\n",
       "    <tr>\n",
       "      <th>min</th>\n",
       "      <td>4.90000</td>\n",
       "      <td>2.200000</td>\n",
       "      <td>4.500000</td>\n",
       "      <td>1.40000</td>\n",
       "    </tr>\n",
       "    <tr>\n",
       "      <th>25%</th>\n",
       "      <td>6.22500</td>\n",
       "      <td>2.800000</td>\n",
       "      <td>5.100000</td>\n",
       "      <td>1.80000</td>\n",
       "    </tr>\n",
       "    <tr>\n",
       "      <th>50%</th>\n",
       "      <td>6.50000</td>\n",
       "      <td>3.000000</td>\n",
       "      <td>5.550000</td>\n",
       "      <td>2.00000</td>\n",
       "    </tr>\n",
       "    <tr>\n",
       "      <th>75%</th>\n",
       "      <td>6.90000</td>\n",
       "      <td>3.175000</td>\n",
       "      <td>5.875000</td>\n",
       "      <td>2.30000</td>\n",
       "    </tr>\n",
       "    <tr>\n",
       "      <th>max</th>\n",
       "      <td>7.90000</td>\n",
       "      <td>3.800000</td>\n",
       "      <td>6.900000</td>\n",
       "      <td>2.50000</td>\n",
       "    </tr>\n",
       "  </tbody>\n",
       "</table>\n",
       "</div>"
      ],
      "text/plain": [
       "       SepalLengthCm  SepalWidthCm  PetalLengthCm  PetalWidthCm\n",
       "count       50.00000     50.000000      50.000000      50.00000\n",
       "mean         6.58800      2.974000       5.552000       2.02600\n",
       "std          0.63588      0.322497       0.551895       0.27465\n",
       "min          4.90000      2.200000       4.500000       1.40000\n",
       "25%          6.22500      2.800000       5.100000       1.80000\n",
       "50%          6.50000      3.000000       5.550000       2.00000\n",
       "75%          6.90000      3.175000       5.875000       2.30000\n",
       "max          7.90000      3.800000       6.900000       2.50000"
      ]
     },
     "execution_count": 10,
     "metadata": {},
     "output_type": "execute_result"
    }
   ],
   "source": [
    "# Descriptive statistics for Iris-virginica\n",
    "iris[iris['Species']=='Iris-virginica'].describe()"
   ]
  },
  {
   "cell_type": "markdown",
   "metadata": {
    "_cell_guid": "cf23fbc1-5b4f-489d-99d7-e8ddfacf8162",
    "_uuid": "43f4875ccf9bbdb97e0ea6c451a399a243c1d9da"
   },
   "source": [
    "**2. Class Distribution (Species counts are balanced or imbalanced)**"
   ]
  },
  {
   "cell_type": "code",
   "execution_count": 11,
   "metadata": {
    "_cell_guid": "dedb0fc9-5e9c-48cb-8bc6-38559db7f4ab",
    "_uuid": "51dd18fd008258ff208ba1049f3c382ffa9cdc74"
   },
   "outputs": [
    {
     "data": {
      "text/plain": [
       "Species\n",
       "Iris-setosa        50\n",
       "Iris-versicolor    50\n",
       "Iris-virginica     50\n",
       "dtype: int64"
      ]
     },
     "execution_count": 11,
     "metadata": {},
     "output_type": "execute_result"
    }
   ],
   "source": [
    "iris.groupby('Species').size()"
   ]
  },
  {
   "cell_type": "markdown",
   "metadata": {
    "_cell_guid": "caf4030e-6b9a-4a78-b75d-69c40ea32ef3",
    "_uuid": "0c44276b7d7344e4fa8e393a484cf013ad10f655"
   },
   "source": [
    ">**3 Univariate Plots :- Understand each attribute better.****"
   ]
  },
  {
   "cell_type": "markdown",
   "metadata": {
    "_cell_guid": "331092e6-2807-4e7f-bdff-695e2076b471",
    "_uuid": "615e70303082fbe898aa7bc4967a000a6a39fd94"
   },
   "source": [
    "    3.1 Box Plot - Distribution of attribute through their quartiles & find outlier"
   ]
  },
  {
   "cell_type": "code",
   "execution_count": 12,
   "metadata": {
    "_cell_guid": "7948e9fb-4dd0-4733-8f20-d699bba81149",
    "_uuid": "aba36c9c5f7127ef83d435d50a4be8528cb86cea"
   },
   "outputs": [
    {
     "data": {
      "image/png": "[encoded data removed]",
      "text/plain": [
       "<matplotlib.figure.Figure at 0x7ff2e3258dd8>"
      ]
     },
     "metadata": {},
     "output_type": "display_data"
    }
   ],
   "source": [
    "# Box and whisker plots(Give idea about distribution of input attributes)\n",
    "iris.plot(kind = 'box', subplots = True, layout = (2, 2), sharex = False, sharey = False)\n",
    "plt.show()"
   ]
  },
  {
   "cell_type": "markdown",
   "metadata": {
    "_cell_guid": "b7560999-dc10-4f07-8702-19404a2d1f1a",
    "_uuid": "2fe0c575d120c26974b8667c5e76c0fb6d7f43f9"
   },
   "source": [
    "    3.2 Histogram - Distrbution of attribute through their bin, we find the distribution of attribute follow Gaussian or other distributions"
   ]
  },
  {
   "cell_type": "code",
   "execution_count": 13,
   "metadata": {
    "_cell_guid": "d9ccfb71-8cde-4e9a-b86d-b062c9515094",
    "_uuid": "a71e7af2c3bbadc2d1b327f0a1981b86b7c1d0ed"
   },
   "outputs": [
    {
     "data": {
      "image/png": "[encoded data removed]",
      "text/plain": [
       "<matplotlib.figure.Figure at 0x7ff2e2e6ab38>"
      ]
     },
     "metadata": {},
     "output_type": "display_data"
    }
   ],
   "source": [
    "# Histograms of distribution of input attributes\n",
    "iris.hist()\n",
    "his = plt.gcf()\n",
    "his.set_size_inches(12, 6)\n",
    "plt.show()"
   ]
  },
  {
   "cell_type": "markdown",
   "metadata": {
    "_cell_guid": "fdad8df4-9cc6-4fc8-b0b8-d455fa4e28f0",
    "_uuid": "f04aec48769c64f7112876f88c06b03e9ed48f44"
   },
   "source": [
    "Histograms shows that two of the input attribute have Gaussian distribution"
   ]
  },
  {
   "cell_type": "markdown",
   "metadata": {
    "_cell_guid": "eef4f125-0d63-4e21-bdc6-7f57dde1d29a",
    "_uuid": "2c52fc2d730deb43d50778bcec09f5e38c204e84"
   },
   "source": [
    "> **4. Multivariate Plots:-**\n",
    " Understand the relationships between attributes & species better. (Which attributes contributes a lot in classifying species)\n",
    " \n",
    "      4.0 Scatter Plot - Sepal_Length_Width Vs Species.\n",
    "      4.1 Scatter Plot - Petal_Length_Width Vs Species.\n",
    "      4.2 Scatter Plot of all the attributes \n",
    "      4.3 3D Plot\n",
    "      4.4 Violinplot - Density of the length and width in the species\n"
   ]
  },
  {
   "cell_type": "markdown",
   "metadata": {
    "_cell_guid": "15554e47-8f94-4fd1-8ded-3b368a96e3db",
    "_uuid": "724385f8a457888a41a096eab9cc8663a6111bf9"
   },
   "source": [
    "    4.0 Scatter Plot - Sepal_Length_Width Vs Species."
   ]
  },
  {
   "cell_type": "code",
   "execution_count": 14,
   "metadata": {
    "_cell_guid": "535a463e-58fa-48f1-939a-68137a8194b2",
    "_uuid": "8a7f3bbd1ec17e4e7a3c952fde4fd1bd87072e17"
   },
   "outputs": [
    {
     "data": {
      "image/png": "[encoded data removed]",
      "text/plain": [
       "<matplotlib.figure.Figure at 0x7ff2e2b6a0b8>"
      ]
     },
     "metadata": {},
     "output_type": "display_data"
    }
   ],
   "source": [
    "sns.set_style('whitegrid')\n",
    "sns.FacetGrid(iris, hue = 'Species', size = 6)\\\n",
    ".map(plt.scatter, 'SepalLengthCm', 'SepalWidthCm')\\\n",
    ".add_legend()\n",
    "plt.show()"
   ]
  },
  {
   "cell_type": "markdown",
   "metadata": {
    "_cell_guid": "a8adbd1b-dee2-4000-8328-e712f726b599",
    "_uuid": "69b01c14c4f64b2b41e7dd0c1b4ce967ba4a95b5"
   },
   "source": [
    "**Observtions:**\n",
    "\n",
    "    1. Using Sepal_Lenght & Sepal_Width features, we can only distinguish Setosa flower from others\n",
    "    2. Seperating Versicolor & Virginica is much harder as they have considerable overlap\n",
    "    3. Hence, Sepal_Lenght & Sepal_Width features only work well for Setosa\n",
    "\n"
   ]
  },
  {
   "cell_type": "markdown",
   "metadata": {
    "_cell_guid": "6bdce81d-3914-4c15-9a50-447774da46d4",
    "_uuid": "478a3aa79138ed920fb3d5555612785b78b860c7"
   },
   "source": [
    "    4.1 Scatter Plot - Petal_Length_Width Vs Species."
   ]
  },
  {
   "cell_type": "code",
   "execution_count": 15,
   "metadata": {
    "_cell_guid": "222bad1d-89a8-464c-adc8-2a163b886e55",
    "_uuid": "54b94b1d5d268837f5958d821e83f0b85e1873ba"
   },
   "outputs": [
    {
     "data": {
      "image/png": "[encoded data removed]",
      "text/plain": [
       "<matplotlib.figure.Figure at 0x7ff2e2c77390>"
      ]
     },
     "metadata": {},
     "output_type": "display_data"
    }
   ],
   "source": [
    "# Second find relationship between Petal length and width vs Species types\n",
    "pet_len_wid = iris[iris.Species == 'Iris-setosa'].plot(kind = 'scatter', x = 'PetalLengthCm', y = 'PetalWidthCm'\n",
    ",color = 'blue', label = 'setosa')\n",
    "iris[iris.Species == 'Iris-versicolor'].plot(kind = 'scatter', x = 'PetalLengthCm', y = 'PetalWidthCm', color = 'red'\n",
    ",label = 'versicolor', ax = pet_len_wid)\n",
    "iris[iris.Species == 'Iris-virginica'].plot(kind = 'scatter', x = 'PetalLengthCm', y = 'PetalWidthCm', color = 'green'\n",
    ",label = 'virginica', ax = pet_len_wid)\n",
    "pet_len_wid.set_xlabel('Petal Length')\n",
    "pet_len_wid.set_ylabel('Petal Width')\n",
    "pet_len_wid.set_title('Petal-Length-Width Vs Species')\n",
    "pet_len_wid = plt.gcf()\n",
    "pet_len_wid.set_size_inches(15, 7)\n",
    "plt.show()"
   ]
  },
  {
   "cell_type": "markdown",
   "metadata": {
    "_cell_guid": "71b6dfcc-12d3-4ea3-9695-59a453aafd75",
    "_uuid": "43369070ca46db1211d947cd438ab763d10dc32a"
   },
   "source": [
    "**Observtions:**\n",
    "  1.   Using Petal_Lenght & Petal_Width features, we can distinguish Setosa, Versicolor & Virginica fairly\n",
    "  2.  There are slightly overlap of Versicolor & Virginica.\n",
    "  3.  Graph shows that Petal (Length and Width) features are best contributor for Iris Species as compare to Sepal (Length and Width)\n",
    "\n"
   ]
  },
  {
   "cell_type": "markdown",
   "metadata": {
    "_cell_guid": "13565287-36b9-47e9-b489-f748d8b42116",
    "_uuid": "0fee95599a804b80fa1ea577df7fc9416ee5ebe7"
   },
   "source": [
    "    4.2 Scatter Plot of all the attributes "
   ]
  },
  {
   "cell_type": "code",
   "execution_count": 16,
   "metadata": {
    "_cell_guid": "381c561d-4a69-40e4-9aff-edd46666c6a2",
    "_uuid": "71305adf032aab7a09233c94a8b36533252f28af"
   },
   "outputs": [
    {
     "data": {
      "image/png": "[encoded data removed]",
      "text/plain": [
       "<matplotlib.figure.Figure at 0x7ff2e2ad3e80>"
      ]
     },
     "metadata": {},
     "output_type": "display_data"
    }
   ],
   "source": [
    "# Scatter plots of all pairs of attributes\n",
    "plt.close()\n",
    "sns.pairplot(iris, hue = 'Species', size = 2, diag_kind = 'kde')\n",
    "plt.show()"
   ]
  },
  {
   "cell_type": "markdown",
   "metadata": {
    "_cell_guid": "b096c791-58fc-4bda-ac74-51e988a6441f",
    "_uuid": "445125fe6264d6ecf5f37a87cdbe372445628786"
   },
   "source": [
    "4.3 3D Plot Plot of iris data set   http://plot.ly/pandas/3d-scatter-plots/"
   ]
  },
  {
   "cell_type": "markdown",
   "metadata": {
    "_cell_guid": "90fff4c4-3420-4ebf-8762-fcc8e1c2f7f6",
    "_uuid": "c7882bf533376df2878726848995f7c66b39f804"
   },
   "source": [
    "4.4 Violinplot - Density of the length and width in the species"
   ]
  },
  {
   "cell_type": "code",
   "execution_count": 17,
   "metadata": {
    "_cell_guid": "c20501ca-3e42-42df-b087-9591464993fd",
    "_uuid": "2837820bf35b9e86c1f0196eba3b6b48a6e5701f"
   },
   "outputs": [
    {
     "data": {
      "image/png": "[encoded data removed]",
      "text/plain": [
       "<matplotlib.figure.Figure at 0x7ff2e23fc5c0>"
      ]
     },
     "metadata": {},
     "output_type": "display_data"
    }
   ],
   "source": [
    "plt.figure(figsize=(15,10))\n",
    "plt.subplot(2,2,1)\n",
    "sns.violinplot(x='Species',y='PetalLengthCm',data=iris)\n",
    "plt.subplot(2,2,2)\n",
    "sns.violinplot(x='Species',y='PetalWidthCm',data=iris)\n",
    "plt.subplot(2,2,3)\n",
    "sns.violinplot(x='Species',y='SepalLengthCm',data=iris)\n",
    "plt.subplot(2,2,4)\n",
    "sns.violinplot(x='Species',y='SepalWidthCm',data=iris)\n",
    "plt.show()"
   ]
  },
  {
   "cell_type": "markdown",
   "metadata": {
    "_cell_guid": "d89d9650-f391-4a0d-84fa-628b5c025719",
    "_uuid": "a4d55dfbf930068d422c31fabadf8a711272dbb5"
   },
   "source": [
    "> ***Machine Learning (Here comes the beauty of machine)***"
   ]
  },
  {
   "cell_type": "markdown",
   "metadata": {
    "_cell_guid": "bcfb2a38-72ea-41ff-a41d-43a17163eeca",
    "_uuid": "179b09542026365c809259423d76525bc9a7e86e"
   },
   "source": [
    "Steps to implement the ML\n",
    "1.  Import Library\n",
    "\n",
    "2. Create Correlation Matrix\n",
    "\n",
    "3. Spliting the Data Set\n",
    "        3.1 Take all the data features\n",
    "        3.2 Take only Sepal Features(Length & Width)\n",
    "        3.3 Take only Petal Features(Length & Width)\n",
    "        3.4 Take all relevant Features from correlation Matrix\n",
    "        \n",
    "4. Evaluate by using 6 different Algorithms(Cross Validation)\n",
    "            4.1 Logistic Regression (LR)\n",
    "            4.2 Linear Discriminant Analysis(LDA)\n",
    "            4.3 K-Nearest Neighbour(KNN)\n",
    "            4.4 Classification and Regression Tree(CART)\n",
    "            4.5 Gaussion Naive Bayes(NB)\n",
    "            4.6 Support Vector Machine\n",
    "            \n",
    "5. Final Evalution (Compare all model according to features selection and accuracy)\n",
    "\n",
    "6. Deep Learning"
   ]
  },
  {
   "cell_type": "markdown",
   "metadata": {
    "_cell_guid": "3e0a5c5a-bd51-463d-9cd0-9cd6d02951e8",
    "_uuid": "71f2b85f12c1de2169ae050aecae7f909c982135"
   },
   "source": [
    "**Import modules**"
   ]
  },
  {
   "cell_type": "code",
   "execution_count": 18,
   "metadata": {
    "_cell_guid": "842cf27e-1e4c-4695-8090-f68320be813a",
    "_uuid": "2e475553d640ef50795fbc9c42528a29f514aea9",
    "collapsed": true
   },
   "outputs": [],
   "source": [
    "# Import modules\n",
    "from sklearn import model_selection\n",
    "from sklearn.metrics import classification_report\n",
    "from sklearn.metrics import confusion_matrix\n",
    "from sklearn.metrics import accuracy_score\n",
    "from sklearn.linear_model import LogisticRegression\n",
    "from sklearn.tree import DecisionTreeClassifier\n",
    "from sklearn.neighbors import KNeighborsClassifier\n",
    "from sklearn.discriminant_analysis import LinearDiscriminantAnalysis\n",
    "from sklearn.naive_bayes import GaussianNB\n",
    "from sklearn.svm import SVC\n",
    "from matplotlib.colors import ListedColormap"
   ]
  },
  {
   "cell_type": "code",
   "execution_count": 19,
   "metadata": {
    "_cell_guid": "a06aa7d9-d8e1-4ca3-8bb6-6ee389174549",
    "_uuid": "13924169fc7b528f7fc29e335101fc2f4e8d03da"
   },
   "outputs": [
    {
     "data": {
      "text/html": [
       "<div>\n",
       "<style>\n",
       "    .dataframe thead tr:only-child th {\n",
       "        text-align: right;\n",
       "    }\n",
       "\n",
       "    .dataframe thead th {\n",
       "        text-align: left;\n",
       "    }\n",
       "\n",
       "    .dataframe tbody tr th {\n",
       "        vertical-align: top;\n",
       "    }\n",
       "</style>\n",
       "<table border=\"1\" class=\"dataframe\">\n",
       "  <thead>\n",
       "    <tr style=\"text-align: right;\">\n",
       "      <th></th>\n",
       "      <th>SepalLengthCm</th>\n",
       "      <th>SepalWidthCm</th>\n",
       "      <th>PetalLengthCm</th>\n",
       "      <th>PetalWidthCm</th>\n",
       "      <th>Species</th>\n",
       "    </tr>\n",
       "  </thead>\n",
       "  <tbody>\n",
       "    <tr>\n",
       "      <th>0</th>\n",
       "      <td>5.1</td>\n",
       "      <td>3.5</td>\n",
       "      <td>1.4</td>\n",
       "      <td>0.2</td>\n",
       "      <td>Iris-setosa</td>\n",
       "    </tr>\n",
       "    <tr>\n",
       "      <th>1</th>\n",
       "      <td>4.9</td>\n",
       "      <td>3.0</td>\n",
       "      <td>1.4</td>\n",
       "      <td>0.2</td>\n",
       "      <td>Iris-setosa</td>\n",
       "    </tr>\n",
       "    <tr>\n",
       "      <th>2</th>\n",
       "      <td>4.7</td>\n",
       "      <td>3.2</td>\n",
       "      <td>1.3</td>\n",
       "      <td>0.2</td>\n",
       "      <td>Iris-setosa</td>\n",
       "    </tr>\n",
       "    <tr>\n",
       "      <th>3</th>\n",
       "      <td>4.6</td>\n",
       "      <td>3.1</td>\n",
       "      <td>1.5</td>\n",
       "      <td>0.2</td>\n",
       "      <td>Iris-setosa</td>\n",
       "    </tr>\n",
       "    <tr>\n",
       "      <th>4</th>\n",
       "      <td>5.0</td>\n",
       "      <td>3.6</td>\n",
       "      <td>1.4</td>\n",
       "      <td>0.2</td>\n",
       "      <td>Iris-setosa</td>\n",
       "    </tr>\n",
       "  </tbody>\n",
       "</table>\n",
       "</div>"
      ],
      "text/plain": [
       "   SepalLengthCm  SepalWidthCm  PetalLengthCm  PetalWidthCm      Species\n",
       "0            5.1           3.5            1.4           0.2  Iris-setosa\n",
       "1            4.9           3.0            1.4           0.2  Iris-setosa\n",
       "2            4.7           3.2            1.3           0.2  Iris-setosa\n",
       "3            4.6           3.1            1.5           0.2  Iris-setosa\n",
       "4            5.0           3.6            1.4           0.2  Iris-setosa"
      ]
     },
     "execution_count": 19,
     "metadata": {},
     "output_type": "execute_result"
    }
   ],
   "source": [
    "# We all ready loaded the data set\n",
    "iris.head()"
   ]
  },
  {
   "cell_type": "markdown",
   "metadata": {
    "_cell_guid": "e9ad67b6-254b-4bdb-94fe-b1c106561ed0",
    "_uuid": "42383a03144d17a04b7bf011d730782ba0e77e17"
   },
   "source": [
    "**Correlation Matrix**"
   ]
  },
  {
   "cell_type": "code",
   "execution_count": 20,
   "metadata": {
    "_cell_guid": "53d65dc3-ccbb-4fb3-ae48-5e4f4dff2f84",
    "_uuid": "d66543d8b647453d4cce351fb3a63b2c51b451d7"
   },
   "outputs": [
    {
     "data": {
      "image/png": "[encoded data removed]",
      "text/plain": [
       "<matplotlib.figure.Figure at 0x7ff2d8055908>"
      ]
     },
     "metadata": {},
     "output_type": "display_data"
    }
   ],
   "source": [
    "plt.figure(figsize=(7,5)) \n",
    "sns.heatmap(iris.corr(),annot=True,cmap='RdYlGn_r') \n",
    "plt.show()"
   ]
  },
  {
   "cell_type": "markdown",
   "metadata": {
    "_cell_guid": "b0ee9557-36dd-41b2-a584-479a750e552e",
    "_uuid": "8c996d574307318230a2d2ec63bb84fb8c4c948f"
   },
   "source": [
    "**Spliting the Data Set**\n",
    "\n"
   ]
  },
  {
   "cell_type": "code",
   "execution_count": 21,
   "metadata": {
    "_cell_guid": "bbdde48c-aeaa-43c2-884c-290226d69011",
    "_uuid": "476be8a5aae1ba0f29b537bf3a10e3f9cd83a19b",
    "collapsed": true
   },
   "outputs": [],
   "source": [
    "test_size = 0.30\n",
    "seed = 7\n",
    "score = 'accuracy'"
   ]
  },
  {
   "cell_type": "code",
   "execution_count": 22,
   "metadata": {
    "_cell_guid": "ec1b7e66-38f8-4034-b065-85ab6fd65620",
    "_uuid": "43fa08852c258bd9c09142b58685b48edd31d632",
    "collapsed": true
   },
   "outputs": [],
   "source": [
    "# Implementation of different ML Algorithms\n",
    "def models(X_train, Y_train,score):\n",
    "    clfs = []\n",
    "    result = []\n",
    "    names = []\n",
    "    clfs.append(('LR', LogisticRegression()))\n",
    "    clfs.append(('LDA', LinearDiscriminantAnalysis()))\n",
    "    clfs.append(('KNN', KNeighborsClassifier()))\n",
    "    clfs.append(('CART', DecisionTreeClassifier()))\n",
    "    clfs.append(('NB', GaussianNB()))\n",
    "    clfs.append(('SVM', SVC()))\n",
    "    for algo_name, clf in clfs:\n",
    "        k_fold = model_selection.KFold(n_splits=10, random_state=seed)\n",
    "        cv_score = model_selection.cross_val_score(clf, X_train, Y_train, cv=k_fold, scoring=score)\n",
    "        #result = \"%s: %f (%f)\" % (algo_name, cv_score.mean(), cv_score.std())\n",
    "        result.append((algo_name,cv_score.mean(), cv_score.std()))\n",
    "        names.append(algo_name)\n",
    "    return (result)"
   ]
  },
  {
   "cell_type": "markdown",
   "metadata": {
    "_cell_guid": "559d465f-eeab-4c55-95c0-dddef8aa372b",
    "_uuid": "7ebc4a318c90b72da01dba5c806e34dafb271004"
   },
   "source": [
    "Take all the data features"
   ]
  },
  {
   "cell_type": "code",
   "execution_count": 23,
   "metadata": {
    "_cell_guid": "fc2cc333-2682-4558-9a94-c10910710a58",
    "_uuid": "e2cbd9c874ae42b979ffc7e6ea89319dbb2d7b72",
    "collapsed": true
   },
   "outputs": [],
   "source": [
    "X_all = iris.iloc[:,:4]\n",
    "Y_all = iris.iloc[:,4] "
   ]
  },
  {
   "cell_type": "code",
   "execution_count": 24,
   "metadata": {
    "_cell_guid": "e313d17e-77be-4294-bf1e-f86008769024",
    "_uuid": "2f3799a3716cfa0266bdcce1851bbba6960d16e0",
    "collapsed": true
   },
   "outputs": [],
   "source": [
    "X_train_all, X_test_all, Y_train_all, Y_test_all = model_selection.train_test_split(X_all, Y_all, test_size=test_size, random_state=seed)"
   ]
  },
  {
   "cell_type": "code",
   "execution_count": 25,
   "metadata": {
    "_cell_guid": "7e331872-ec97-49ba-8d1a-e68768f44ab8",
    "_uuid": "3074d81d18413bb5066fb128e991e381b4a851e7"
   },
   "outputs": [
    {
     "name": "stderr",
     "output_type": "stream",
     "text": [
      "/opt/conda/lib/python3.6/site-packages/sklearn/discriminant_analysis.py:442: UserWarning: The priors do not sum to 1. Renormalizing\n",
      "  UserWarning)\n",
      "/opt/conda/lib/python3.6/site-packages/sklearn/discriminant_analysis.py:442: UserWarning: The priors do not sum to 1. Renormalizing\n",
      "  UserWarning)\n"
     ]
    },
    {
     "data": {
      "text/plain": [
       "[('LR', 0.97090909090909094, 0.044499048183710609),\n",
       " ('LDA', 0.98000000000000009, 0.039999999999999994),\n",
       " ('KNN', 0.98000000000000009, 0.039999999999999994),\n",
       " ('CART', 0.96090909090909093, 0.047941079539764397),\n",
       " ('NB', 0.98090909090909084, 0.038235892445114709),\n",
       " ('SVM', 0.98999999999999999, 0.029999999999999992)]"
      ]
     },
     "execution_count": 25,
     "metadata": {},
     "output_type": "execute_result"
    }
   ],
   "source": [
    "models(X_train_all, Y_train_all, score)"
   ]
  },
  {
   "cell_type": "code",
   "execution_count": 26,
   "metadata": {
    "_cell_guid": "d144431d-3659-4719-a40d-d69bb7e9bb4b",
    "_uuid": "0cd7dabf0223dd652f44ed3150fb50df16aa7e2d"
   },
   "outputs": [
    {
     "name": "stdout",
     "output_type": "stream",
     "text": [
      "0.955555555556\n",
      "[[12  0  0]\n",
      " [ 0 14  2]\n",
      " [ 0  0 17]]\n",
      "                 precision    recall  f1-score   support\n",
      "\n",
      "    Iris-setosa       1.00      1.00      1.00        12\n",
      "Iris-versicolor       1.00      0.88      0.93        16\n",
      " Iris-virginica       0.89      1.00      0.94        17\n",
      "\n",
      "    avg / total       0.96      0.96      0.96        45\n",
      "\n"
     ]
    }
   ],
   "source": [
    "# Evaluation of the Classifier \n",
    "# Predictions on test dataset\n",
    "svm = SVC()\n",
    "svm.fit(X_train_all, Y_train_all)\n",
    "pred = svm.predict(X_test_all)\n",
    "print(accuracy_score(Y_test_all, pred))\n",
    "print(confusion_matrix(Y_test_all, pred))\n",
    "print(classification_report(Y_test_all, pred))"
   ]
  },
  {
   "cell_type": "markdown",
   "metadata": {
    "_cell_guid": "d9ec84be-1c37-4238-a6fa-5363e9f484b2",
    "_uuid": "f38c738e688b51b396aa45ab3ad0067c9dff217b"
   },
   "source": [
    "Take only Sepal Features(Length & Width)"
   ]
  },
  {
   "cell_type": "code",
   "execution_count": 27,
   "metadata": {
    "_cell_guid": "39b79380-a33d-49ab-bdbd-526555e9eaac",
    "_uuid": "f0f0c33c951e9372e3d45a2c44faddafb574a25b",
    "collapsed": true
   },
   "outputs": [],
   "source": [
    "X_sep = iris[['SepalLengthCm','SepalWidthCm']]\n",
    "Y_sep = iris.Species"
   ]
  },
  {
   "cell_type": "code",
   "execution_count": 28,
   "metadata": {
    "_cell_guid": "23b50116-f09f-4095-af00-73ef8ef831cd",
    "_uuid": "35ff40c2d1e43d2d716ea2fac36bcb047f0b9d3c",
    "collapsed": true
   },
   "outputs": [],
   "source": [
    "X_train_sep, X_test_sep, Y_train_sep, Y_test_sep = model_selection.train_test_split(X_sep, Y_sep, test_size=test_size, random_state=seed)"
   ]
  },
  {
   "cell_type": "code",
   "execution_count": 29,
   "metadata": {
    "_cell_guid": "24854902-7ca9-4d14-aafb-0e982d803a94",
    "_uuid": "897ecb1e6a7267e178fab5d3b4bb2571e75e239d"
   },
   "outputs": [
    {
     "name": "stderr",
     "output_type": "stream",
     "text": [
      "/opt/conda/lib/python3.6/site-packages/sklearn/discriminant_analysis.py:442: UserWarning: The priors do not sum to 1. Renormalizing\n",
      "  UserWarning)\n",
      "/opt/conda/lib/python3.6/site-packages/sklearn/discriminant_analysis.py:442: UserWarning: The priors do not sum to 1. Renormalizing\n",
      "  UserWarning)\n"
     ]
    },
    {
     "data": {
      "text/plain": [
       "[('LR', 0.73181818181818181, 0.10796770254751387),\n",
       " ('LDA', 0.80727272727272725, 0.077970115063242071),\n",
       " ('KNN', 0.81999999999999995, 0.084969610513075791),\n",
       " ('CART', 0.72181818181818191, 0.084813845743204413),\n",
       " ('NB', 0.83818181818181814, 0.086702683764119007),\n",
       " ('SVM', 0.84727272727272729, 0.088867995707999539)]"
      ]
     },
     "execution_count": 29,
     "metadata": {},
     "output_type": "execute_result"
    }
   ],
   "source": [
    "models(X_train_sep, Y_train_sep, score)"
   ]
  },
  {
   "cell_type": "code",
   "execution_count": 30,
   "metadata": {
    "_cell_guid": "dbc90a15-78dd-4cde-a2b1-44704d366219",
    "_uuid": "92778611b3d308101eb5ff866fa0f42bdb44eedf"
   },
   "outputs": [
    {
     "name": "stdout",
     "output_type": "stream",
     "text": [
      "0.711111111111\n",
      "[[11  1  0]\n",
      " [ 0 10  6]\n",
      " [ 0  6 11]]\n",
      "                 precision    recall  f1-score   support\n",
      "\n",
      "    Iris-setosa       1.00      0.92      0.96        12\n",
      "Iris-versicolor       0.59      0.62      0.61        16\n",
      " Iris-virginica       0.65      0.65      0.65        17\n",
      "\n",
      "    avg / total       0.72      0.71      0.72        45\n",
      "\n"
     ]
    }
   ],
   "source": [
    "# Evaluation of the Classifier \n",
    "# Predictions on test dataset\n",
    "svm = SVC()\n",
    "svm.fit(X_train_sep, Y_train_sep)\n",
    "pred = svm.predict(X_test_sep)\n",
    "print(accuracy_score(Y_test_sep, pred))\n",
    "print(confusion_matrix(Y_test_sep, pred))\n",
    "print(classification_report(Y_test_sep, pred))"
   ]
  },
  {
   "cell_type": "markdown",
   "metadata": {
    "_cell_guid": "3ce9c721-f65f-4e6c-8c2a-e6fa1b9f25c2",
    "_uuid": "459492c50b1a5efe86e0315dd9aaf3ef645516a0"
   },
   "source": [
    "Take only Petal Features(Length & Width)"
   ]
  },
  {
   "cell_type": "code",
   "execution_count": 31,
   "metadata": {
    "_cell_guid": "580de7a4-b4f7-4991-9d8c-05e4c20182a5",
    "_uuid": "c1b9e9596022ffb0fc71b6e08697df2e4d2f2d8e",
    "collapsed": true
   },
   "outputs": [],
   "source": [
    "X_p = iris[['PetalLengthCm','PetalWidthCm']]\n",
    "Y_p = iris.Species"
   ]
  },
  {
   "cell_type": "code",
   "execution_count": 32,
   "metadata": {
    "_cell_guid": "b1f0eefb-9625-46e0-8e93-519e62ebee1b",
    "_uuid": "1eedfd74934046be226057daa6603b7619262f49",
    "collapsed": true
   },
   "outputs": [],
   "source": [
    "X_train_p, X_test_p, Y_train_p, Y_test_p = model_selection.train_test_split(X_p, Y_p, test_size=test_size, random_state=seed)"
   ]
  },
  {
   "cell_type": "code",
   "execution_count": 33,
   "metadata": {
    "_cell_guid": "cf0d3e09-dcb2-4c34-92a6-beab198c5690",
    "_uuid": "cba65dab9694b7475ce82ac0fd4b6b8adf32534c"
   },
   "outputs": [
    {
     "name": "stderr",
     "output_type": "stream",
     "text": [
      "/opt/conda/lib/python3.6/site-packages/sklearn/discriminant_analysis.py:442: UserWarning: The priors do not sum to 1. Renormalizing\n",
      "  UserWarning)\n",
      "/opt/conda/lib/python3.6/site-packages/sklearn/discriminant_analysis.py:442: UserWarning: The priors do not sum to 1. Renormalizing\n",
      "  UserWarning)\n"
     ]
    },
    {
     "data": {
      "text/plain": [
       "[('LR', 0.86454545454545451, 0.1172304363491477),\n",
       " ('LDA', 0.98090909090909084, 0.038235892445114709),\n",
       " ('KNN', 0.98000000000000009, 0.039999999999999994),\n",
       " ('CART', 0.97000000000000008, 0.045825756949558392),\n",
       " ('NB', 0.98000000000000009, 0.039999999999999994),\n",
       " ('SVM', 0.98999999999999999, 0.029999999999999992)]"
      ]
     },
     "execution_count": 33,
     "metadata": {},
     "output_type": "execute_result"
    }
   ],
   "source": [
    "models(X_train_p, Y_train_p, score)"
   ]
  },
  {
   "cell_type": "code",
   "execution_count": 34,
   "metadata": {
    "_cell_guid": "260d2017-e040-462e-9d61-d3cbcdf909ec",
    "_uuid": "810c795f65171d7b88c65064e81e3c7cec739895"
   },
   "outputs": [
    {
     "name": "stdout",
     "output_type": "stream",
     "text": [
      "0.933333333333\n",
      "[[12  0  0]\n",
      " [ 0 14  2]\n",
      " [ 0  1 16]]\n",
      "                 precision    recall  f1-score   support\n",
      "\n",
      "    Iris-setosa       1.00      1.00      1.00        12\n",
      "Iris-versicolor       0.93      0.88      0.90        16\n",
      " Iris-virginica       0.89      0.94      0.91        17\n",
      "\n",
      "    avg / total       0.93      0.93      0.93        45\n",
      "\n"
     ]
    }
   ],
   "source": [
    "# Evaluation of the Classifier \n",
    "# Predictions on test dataset\n",
    "svm = SVC()\n",
    "svm.fit(X_train_p, Y_train_p)\n",
    "pred = svm.predict(X_test_p)\n",
    "print(accuracy_score(Y_test_p, pred))\n",
    "print(confusion_matrix(Y_test_p, pred))\n",
    "print(classification_report(Y_test_p, pred))"
   ]
  },
  {
   "cell_type": "markdown",
   "metadata": {
    "_cell_guid": "457cd750-ecaa-4214-93cc-076d46defef1",
    "_uuid": "aab3b954e2cf58464a1850b932e9b0c992b10b5f"
   },
   "source": [
    "> Take all relevant Features from correlation Matrix"
   ]
  },
  {
   "cell_type": "code",
   "execution_count": 35,
   "metadata": {
    "_cell_guid": "b16442ed-6e33-4e49-8a85-3e8165e55c51",
    "_uuid": "03cd8bc39a271dbf6634df4ea39854220eb1bb82",
    "collapsed": true
   },
   "outputs": [],
   "source": [
    "X_rel = iris[['PetalWidthCm', 'SepalLengthCm','SepalWidthCm' ]]\n",
    "Y_rel = iris.Species"
   ]
  },
  {
   "cell_type": "code",
   "execution_count": 36,
   "metadata": {
    "_cell_guid": "b527bee2-e2e9-4559-8243-c24281acebbf",
    "_uuid": "c043befe65bd4a82e4ce09d4d8a5f7f45d991e47",
    "collapsed": true
   },
   "outputs": [],
   "source": [
    "X_train_rel, X_test_rel, Y_train_rel, Y_test_rel = model_selection.train_test_split(X_rel, Y_rel, test_size=test_size, random_state=seed)"
   ]
  },
  {
   "cell_type": "code",
   "execution_count": 37,
   "metadata": {
    "_cell_guid": "7acf1820-86d1-4db8-9c7f-c64cbe2dcf79",
    "_uuid": "12973aecb7bc5a9186d1b99605695a68f58b732b"
   },
   "outputs": [
    {
     "name": "stderr",
     "output_type": "stream",
     "text": [
      "/opt/conda/lib/python3.6/site-packages/sklearn/discriminant_analysis.py:442: UserWarning: The priors do not sum to 1. Renormalizing\n",
      "  UserWarning)\n",
      "/opt/conda/lib/python3.6/site-packages/sklearn/discriminant_analysis.py:442: UserWarning: The priors do not sum to 1. Renormalizing\n",
      "  UserWarning)\n"
     ]
    },
    {
     "data": {
      "text/plain": [
       "[('LR', 0.90363636363636368, 0.098350024263989241),\n",
       " ('LDA', 0.98090909090909084, 0.038235892445114709),\n",
       " ('KNN', 0.96090909090909093, 0.06556178084401014),\n",
       " ('CART', 0.95272727272727276, 0.062430126230506887),\n",
       " ('NB', 0.96181818181818168, 0.064769138656570455),\n",
       " ('SVM', 0.98090909090909084, 0.038235892445114709)]"
      ]
     },
     "execution_count": 37,
     "metadata": {},
     "output_type": "execute_result"
    }
   ],
   "source": [
    "models(X_train_rel, Y_train_rel, score)"
   ]
  },
  {
   "cell_type": "code",
   "execution_count": 38,
   "metadata": {
    "_cell_guid": "03778060-341c-423e-96f8-64f2f10a6f02",
    "_uuid": "751d9c5acc0e44293fb91443415655036f9a4458"
   },
   "outputs": [
    {
     "name": "stdout",
     "output_type": "stream",
     "text": [
      "0.911111111111\n",
      "[[12  0  0]\n",
      " [ 0 14  2]\n",
      " [ 0  2 15]]\n",
      "                 precision    recall  f1-score   support\n",
      "\n",
      "    Iris-setosa       1.00      1.00      1.00        12\n",
      "Iris-versicolor       0.88      0.88      0.88        16\n",
      " Iris-virginica       0.88      0.88      0.88        17\n",
      "\n",
      "    avg / total       0.91      0.91      0.91        45\n",
      "\n"
     ]
    }
   ],
   "source": [
    "# Evaluation of the Classifier \n",
    "# Predictions on test dataset\n",
    "svm = SVC()\n",
    "svm.fit(X_train_rel, Y_train_rel)\n",
    "pred = svm.predict(X_test_rel)\n",
    "print(accuracy_score(Y_test_rel, pred))\n",
    "print(confusion_matrix(Y_test_rel, pred))\n",
    "print(classification_report(Y_test_rel, pred))"
   ]
  },
  {
   "cell_type": "markdown",
   "metadata": {
    "_cell_guid": "20695166-d15c-49c7-a634-69bef3bd17d6",
    "_uuid": "d6cc621f3d96743c63a11583b69fc7feb1205a3a"
   },
   "source": [
    "> Take all relevant Features from correlation Matrix"
   ]
  },
  {
   "cell_type": "code",
   "execution_count": 39,
   "metadata": {
    "_cell_guid": "9a6fea7f-8ece-432f-a976-aba7e9801341",
    "_uuid": "76fdeaa997731793133e5dba106f7dc4485beb84",
    "collapsed": true
   },
   "outputs": [],
   "source": [
    "X_rel1 = iris[['PetalLengthCm', 'SepalLengthCm','SepalWidthCm' ]]\n",
    "Y_rel1 = iris.Species"
   ]
  },
  {
   "cell_type": "code",
   "execution_count": 40,
   "metadata": {
    "_cell_guid": "2f8f38e8-fcf7-41b3-9ef0-e5dd54265479",
    "_uuid": "2b6ea7e63e598cd7abec865a91e9595a1610e359",
    "collapsed": true
   },
   "outputs": [],
   "source": [
    "X_train_rel1, X_test_rel1, Y_train_rel1, Y_test_rel1 = model_selection.train_test_split(X_rel1, Y_rel1, test_size=test_size, random_state=seed)"
   ]
  },
  {
   "cell_type": "code",
   "execution_count": 41,
   "metadata": {
    "_cell_guid": "6db9fb32-64e4-472a-aee7-271e4ee7ee44",
    "_uuid": "6afbe5f05c874c4c6581e53c31228549d84df239"
   },
   "outputs": [
    {
     "name": "stderr",
     "output_type": "stream",
     "text": [
      "/opt/conda/lib/python3.6/site-packages/sklearn/discriminant_analysis.py:442: UserWarning: The priors do not sum to 1. Renormalizing\n",
      "  UserWarning)\n",
      "/opt/conda/lib/python3.6/site-packages/sklearn/discriminant_analysis.py:442: UserWarning: The priors do not sum to 1. Renormalizing\n",
      "  UserWarning)\n"
     ]
    },
    {
     "data": {
      "text/plain": [
       "[('LR', 0.90272727272727271, 0.08757995166637339),\n",
       " ('LDA', 0.95999999999999996, 0.066332495807107983),\n",
       " ('KNN', 0.95999999999999996, 0.048989794855663543),\n",
       " ('CART', 0.95090909090909093, 0.066456970481807501),\n",
       " ('NB', 0.91272727272727272, 0.094142497934542685),\n",
       " ('SVM', 0.97000000000000008, 0.045825756949558392)]"
      ]
     },
     "execution_count": 41,
     "metadata": {},
     "output_type": "execute_result"
    }
   ],
   "source": [
    "models(X_train_rel1, Y_train_rel1, score)"
   ]
  },
  {
   "cell_type": "code",
   "execution_count": 42,
   "metadata": {
    "_cell_guid": "a58b2716-7c20-4847-9849-659673610373",
    "_uuid": "16b7271e8a70ecd91ed6d0cc856c6b16beed26e2"
   },
   "outputs": [
    {
     "name": "stdout",
     "output_type": "stream",
     "text": [
      "0.911111111111\n",
      "[[12  0  0]\n",
      " [ 0 15  1]\n",
      " [ 0  3 14]]\n",
      "                 precision    recall  f1-score   support\n",
      "\n",
      "    Iris-setosa       1.00      1.00      1.00        12\n",
      "Iris-versicolor       0.83      0.94      0.88        16\n",
      " Iris-virginica       0.93      0.82      0.87        17\n",
      "\n",
      "    avg / total       0.92      0.91      0.91        45\n",
      "\n"
     ]
    }
   ],
   "source": [
    "# Evaluation of the Classifier \n",
    "# Predictions on test dataset\n",
    "svm = SVC()\n",
    "svm.fit(X_train_rel1, Y_train_rel1)\n",
    "pred = svm.predict(X_test_rel1)\n",
    "print(accuracy_score(Y_test_rel1, pred))\n",
    "print(confusion_matrix(Y_test_rel1, pred))\n",
    "print(classification_report(Y_test_rel1, pred))"
   ]
  },
  {
   "cell_type": "markdown",
   "metadata": {
    "_cell_guid": "f5055e06-0fa3-46ec-b57b-58bfc431dd94",
    "_uuid": "45e9f4beb67a1690b6ca24203448a345c53a1072"
   },
   "source": [
    "# Final Evaluation"
   ]
  },
  {
   "cell_type": "markdown",
   "metadata": {
    "_cell_guid": "d17e72bc-fa7e-4552-80e7-7ecd6bb2f335",
    "_uuid": "691fdab973605a5c1e5cf6cab764fc0d3ac88549"
   },
   "source": [
    "> Note:- Testing dataset size(validation size) is small \n",
    "\n",
    "    Case  Features Use        Best Model    Train Accuracy    Test Accuracy Missclassified\n",
    "\n",
    "      1   All Features in          SVM         .9899           .9555            2classes\n",
    "  \n",
    "      2   Sepal only               SVM         .8472           .7111              12 \n",
    "   \n",
    "      3   Petal only               SVM         .9899           .9333              3\n",
    "  \n",
    "      4   PetalWidth,Sepal(Len,Wid)SVM/LDA     .9809           .9111              4\n",
    "  \n",
    "      5   PetalLen,Sepal(Len,Wid)  SVM         .9700           .9111              4"
   ]
  },
  {
   "cell_type": "markdown",
   "metadata": {
    "_cell_guid": "38758a86-d724-445d-a1e8-71a8cfb4a040",
    "_uuid": "3a08f79f931175c41c2350b1c2abd31e0d16ceb8"
   },
   "source": [
    "**Deep Learning**"
   ]
  },
  {
   "cell_type": "code",
   "execution_count": 43,
   "metadata": {
    "_cell_guid": "faa9d76b-1b32-4f02-b478-67d0c352f47c",
    "_uuid": "57cfde0cc01a9c4b0254264a92d7c3648610f7e3"
   },
   "outputs": [
    {
     "name": "stderr",
     "output_type": "stream",
     "text": [
      "Using TensorFlow backend.\n",
      "/opt/conda/lib/python3.6/importlib/_bootstrap.py:219: RuntimeWarning: compiletime version 3.5 of module 'tensorflow.python.framework.fast_tensor_util' does not match runtime version 3.6\n",
      "  return f(*args, **kwds)\n"
     ]
    }
   ],
   "source": [
    "# MLP with automatic validation set\n",
    "from keras.models import Sequential\n",
    "from keras.layers import Dense\n",
    "from keras.wrappers.scikit_learn import KerasClassifier\n",
    "from keras.utils import np_utils\n",
    "from sklearn.model_selection import cross_val_score\n",
    "from sklearn.model_selection import KFold\n",
    "from sklearn.preprocessing import LabelEncoder\n",
    "from sklearn.pipeline import Pipeline"
   ]
  },
  {
   "cell_type": "code",
   "execution_count": 44,
   "metadata": {
    "_cell_guid": "e9127510-a56a-4730-8b86-4ab7f9de463a",
    "_uuid": "6e1788d84705eb726cd950e84d3ac1d152c2e684",
    "collapsed": true
   },
   "outputs": [],
   "source": [
    "a = pd.read_csv('../input/Iris.csv', header = None)\n",
    "i = pd.DataFrame(a)\n",
    "iris = i.values"
   ]
  },
  {
   "cell_type": "code",
   "execution_count": 45,
   "metadata": {
    "_cell_guid": "c7c80674-837b-4090-a974-31c6f3194605",
    "_uuid": "a09ad6f5a6b023ff26ce186963ad89ea84754802",
    "collapsed": true
   },
   "outputs": [],
   "source": [
    "X = iris[1:, 1:5].astype(float)\n",
    "Y = iris[1:, 5]\n"
   ]
  },
  {
   "cell_type": "code",
   "execution_count": 46,
   "metadata": {
    "_cell_guid": "d520a13d-1285-4d4e-938c-6b162ad85d32",
    "_uuid": "652110f1f01b8833fa9d9c6443e13d15565d3118"
   },
   "outputs": [
    {
     "data": {
      "text/plain": [
       "array([[ 5.1,  3.5,  1.4,  0.2],\n",
       "       [ 4.9,  3. ,  1.4,  0.2],\n",
       "       [ 4.7,  3.2,  1.3,  0.2],\n",
       "       [ 4.6,  3.1,  1.5,  0.2],\n",
       "       [ 5. ,  3.6,  1.4,  0.2]])"
      ]
     },
     "execution_count": 46,
     "metadata": {},
     "output_type": "execute_result"
    }
   ],
   "source": [
    "X[0:5]"
   ]
  },
  {
   "cell_type": "code",
   "execution_count": 47,
   "metadata": {
    "_cell_guid": "3ed06081-d08f-466c-8bd1-7be6f3b2a318",
    "_uuid": "56be268df0e19c1aa2f4e76c84de96c544955cfb"
   },
   "outputs": [
    {
     "data": {
      "text/plain": [
       "array(['Iris-setosa', 'Iris-setosa', 'Iris-setosa', 'Iris-setosa',\n",
       "       'Iris-setosa'], dtype=object)"
      ]
     },
     "execution_count": 47,
     "metadata": {},
     "output_type": "execute_result"
    }
   ],
   "source": [
    "Y[0:5]"
   ]
  },
  {
   "cell_type": "code",
   "execution_count": 48,
   "metadata": {
    "_cell_guid": "285d992d-3ac2-448c-a79d-c9506d458634",
    "_uuid": "d5489e1d04fa5a06ba61a92439c92f1dafc654b0",
    "collapsed": true
   },
   "outputs": [],
   "source": [
    "# Set Seed\n",
    "seed = 7\n",
    "np.random.seed(seed)"
   ]
  },
  {
   "cell_type": "code",
   "execution_count": 49,
   "metadata": {
    "_cell_guid": "89474f16-5929-406e-a8b5-b94c93c79d03",
    "_uuid": "e58428b63da39bce78efcbb216b40adcb1772f91",
    "collapsed": true
   },
   "outputs": [],
   "source": [
    "# Label encode Class (Species)\n",
    "encoder = LabelEncoder()\n",
    "encoder.fit(Y)\n",
    "encoded_Y = encoder.transform(Y)\n",
    "# One Hot Encode\n",
    "y_dummy = np_utils.to_categorical(encoded_Y)"
   ]
  },
  {
   "cell_type": "code",
   "execution_count": 50,
   "metadata": {
    "_cell_guid": "8cb8b6a4-d630-469b-abce-404c62edc7fd",
    "_uuid": "79fcffc66b7f4367af2f45a1bc024e992edfc299",
    "collapsed": true
   },
   "outputs": [],
   "source": [
    "# Deep Learnig Function\n",
    "def deepml_model():\n",
    "    # Model Creation\n",
    "    deepml = Sequential()\n",
    "    deepml.add(Dense(8, input_dim=4, activation='relu'))\n",
    "    deepml.add(Dense(3, activation='softmax'))\n",
    "    # Model Compilation\n",
    "    deepml.compile(loss='categorical_crossentropy', optimizer='adam', metrics=['accuracy'])\n",
    "    return deepml"
   ]
  },
  {
   "cell_type": "code",
   "execution_count": 51,
   "metadata": {
    "_cell_guid": "4e5c27be-79ab-4576-bd9e-ea33a98cdeba",
    "_uuid": "9c2e86806f064cc8e2f8fa8f7ec68d234717b0bd",
    "collapsed": true
   },
   "outputs": [],
   "source": [
    "estimate = KerasClassifier(build_fn=deepml_model, epochs=200, batch_size=5, verbose=0)"
   ]
  },
  {
   "cell_type": "code",
   "execution_count": 52,
   "metadata": {
    "_cell_guid": "c02c3856-bb0b-4405-ad52-93e131e9d343",
    "_uuid": "6589b765cfb1d86798a80144f14acb77ace44bba",
    "collapsed": true
   },
   "outputs": [],
   "source": [
    "k_fold = KFold(n_splits=10, shuffle=True, random_state=seed)"
   ]
  },
  {
   "cell_type": "code",
   "execution_count": 53,
   "metadata": {
    "_cell_guid": "96e60821-66ff-4296-8e25-de20dd0202bd",
    "_uuid": "d74f632afafc92fd4386c41d1f4a20416d8ba8d2"
   },
   "outputs": [
    {
     "name": "stdout",
     "output_type": "stream",
     "text": [
      "Model: 97.33% (4.42%)\n"
     ]
    }
   ],
   "source": [
    "results = cross_val_score(estimate, X, y_dummy, cv=k_fold)\n",
    "print(\"Model: %.2f%% (%.2f%%)\" % (results.mean()*100, results.std()*100))"
   ]
  },
  {
   "cell_type": "code",
   "execution_count": 54,
   "metadata": {
    "_cell_guid": "d428b3a8-ab94-412b-9ee2-72f03e3e2f6e",
    "_uuid": "09405b811e55c3b07850847cc4ef8af34fa8f60c",
    "collapsed": true
   },
   "outputs": [],
   "source": []
  },
  {
   "cell_type": "code",
   "execution_count": 54,
   "metadata": {
    "_cell_guid": "2cd0f109-a62f-4df1-9bd7-60d5ea2cd74b",
    "_uuid": "65ebc80eeff174f7f9ae228aec1aad87c3ec1451",
    "collapsed": true
   },
   "outputs": [],
   "source": []
  }
 ],
 "metadata": {
  "kernelspec": {
   "display_name": "Python 3",
   "language": "python",
   "name": "python3"
  },
  "language_info": {
   "codemirror_mode": {
    "name": "ipython",
    "version": 3
   },
   "file_extension": ".py",
   "mimetype": "text/x-python",
   "name": "python",
   "nbconvert_exporter": "python",
   "pygments_lexer": "ipython3",
   "version": "3.11.6"
  }
 },
 "nbformat": 4,
 "nbformat_minor": 1
}
