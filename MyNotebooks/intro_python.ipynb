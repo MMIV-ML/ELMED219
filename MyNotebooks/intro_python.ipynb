{
 "cells": [
  {
   "cell_type": "markdown",
   "metadata": {},
   "source": [
    "Version 2024-01-09, Ben Bjørsvik\n",
    "\n",
    "\n",
    "# A very, very brief introduction to Python\n",
    "\n",
    "\n",
    "Link to book (_Automate the Boring Stuff with Python_) with exercises: https://automatetheboringstuff.com/#toc\n",
    "\n",
    "<img src=\"https://automatetheboringstuff.com/images/cover_automate2_thumb.jpg\">"
   ]
  },
  {
   "cell_type": "markdown",
   "metadata": {},
   "source": [
    "#### Data types in Python"
   ]
  },
  {
   "cell_type": "markdown",
   "metadata": {},
   "source": [
    "Python has several built-in data types. Here are the most common ones:\n",
    "\n",
    "1. **Numeric Types**: `int`, `float`, `complex`\n",
    "   - `int`: Integer type, e.g., `5`, `10`, `-8`\n",
    "   - `float`: Floating-point type, e.g., `5.0`, `1.6`, `-7.89`\n",
    "   - `complex`: Complex number type, e.g., `3+5j`, `1j`\n",
    "\n",
    "2. **Sequence Types**: `list`, `tuple`, `range`\n",
    "   - `list`: Ordered and mutable collection, e.g., `[1, 'a', 3.5]`\n",
    "   - `tuple`: Ordered and immutable collection, e.g., `(1, 'a', 3.5)`\n",
    "   - `range`: Sequence of numbers, commonly used for looping specific number of times in `for` loops\n",
    "\n",
    "   In Python, an object is said to be mutable if it can be changed after it is created. This means that you can change, add, or remove items after the object is created.\n",
    "\n",
    "Common mutable types in Python include:\n",
    "   - `list`: Lists can have items added, removed, or changed.\n",
    "   - `dict`: Dictionaries can have key-value pairs added, removed, or changed.\n",
    "   - `set`: Sets can have items added or removed.\n",
    "   - `bytearray`: Bytearrays can have bytes added, removed, or changed.\n",
    "\n",
    "    For example, if you have a list `a = [1, 2, 3]`, you can change the first item to 0 with `a[0] = 0`, and `a` will now be `[0, 2, 3]`.\n",
    "\n",
    "    In contrast, an object is said to be immutable if it cannot be changed after it is created. Common immutable types in Python include `int`, `float`, `bool`, `str`, `tuple`, and `frozenset`. For example, if you have a string `s = 'hello'`, you cannot change the first character to 'j'. You would have to create a new string to do that.\n",
    "\n",
    "3. **Text Sequence Type**: `str`\n",
    "   - `str`: String type, e.g., `'hello'`, `\"world\"`\n",
    "\n",
    "4. **Mapping Type**: `dict`\n",
    "   - `dict`: Unordered collection of key-value pairs, e.g., `{'name': 'John', 'age': 30}`\n",
    "\n",
    "5. **Set Types**: `set`, `frozenset`\n",
    "   - `set`: Unordered collection of unique elements, e.g., `{1, 2, 3}`\n",
    "   - `frozenset`: Immutable version of a set\n",
    "\n",
    "6. **Boolean Type**: `bool`\n",
    "   - `bool`: Boolean value, `True` or `False`\n",
    "\n",
    "7. **Binary Types**: `bytes`, `bytearray`, `memoryview`\n",
    "   - `bytes`: Immutable sequence of bytes\n",
    "   - `bytearray`: Mutable sequence of bytes\n",
    "   - `memoryview`: Provides direct read and write access to an object’s byte-oriented data without needing to copy it first\n",
    "\n",
    "You can use the `type()` function to get the data type of any object in Python."
   ]
  },
  {
   "cell_type": "markdown",
   "metadata": {},
   "source": [
    "You can convert a hexadecimal string back to a regular string in Python using the `binascii` module's `unhexlify` function. Here's how you can do it:\n",
    "\n"
   ]
  },
  {
   "cell_type": "code",
   "execution_count": 37,
   "metadata": {},
   "outputs": [
    {
     "data": {
      "text/plain": [
       "'hello world'"
      ]
     },
     "execution_count": 37,
     "metadata": {},
     "output_type": "execute_result"
    }
   ],
   "source": [
    "import binascii\n",
    "\n",
    "def hex_to_str(h):\n",
    "    return binascii.unhexlify(h).decode()\n",
    "\n",
    "hex_to_str('68656c6c6f20776f726c64')  # 'hello world'"
   ]
  },
  {
   "cell_type": "markdown",
   "metadata": {},
   "source": [
    "\n",
    "\n",
    "This code first converts the hexadecimal string to bytes using the `binascii.unhexlify` function, and then decodes the bytes to a string using the `decode` method."
   ]
  },
  {
   "cell_type": "code",
   "execution_count": 38,
   "metadata": {},
   "outputs": [
    {
     "data": {
      "text/plain": [
       "str"
      ]
     },
     "execution_count": 38,
     "metadata": {},
     "output_type": "execute_result"
    }
   ],
   "source": [
    "type(\"hello\")"
   ]
  },
  {
   "cell_type": "code",
   "execution_count": 16,
   "metadata": {},
   "outputs": [
    {
     "data": {
      "text/plain": [
       "int"
      ]
     },
     "execution_count": 16,
     "metadata": {},
     "output_type": "execute_result"
    }
   ],
   "source": [
    "a = 'hello'\n",
    "type(a)\n",
    "b =4.0\n",
    "type(int(b))"
   ]
  },
  {
   "cell_type": "code",
   "execution_count": 17,
   "metadata": {},
   "outputs": [
    {
     "data": {
      "text/plain": [
       "list"
      ]
     },
     "execution_count": 17,
     "metadata": {},
     "output_type": "execute_result"
    }
   ],
   "source": [
    "type([1,2,'a'])"
   ]
  },
  {
   "cell_type": "code",
   "execution_count": 18,
   "metadata": {},
   "outputs": [
    {
     "data": {
      "text/plain": [
       "True"
      ]
     },
     "execution_count": 18,
     "metadata": {},
     "output_type": "execute_result"
    }
   ],
   "source": [
    "'hello' == \"hello\""
   ]
  },
  {
   "cell_type": "code",
   "execution_count": 19,
   "metadata": {},
   "outputs": [
    {
     "data": {
      "text/plain": [
       "b'68656c6c6f20776f726c64'"
      ]
     },
     "execution_count": 19,
     "metadata": {},
     "output_type": "execute_result"
    }
   ],
   "source": [
    "import binascii\n",
    "\n",
    "def str_to_hex(s):\n",
    "    return binascii.hexlify(s.encode())\n",
    "\n",
    "str_to_hex(\"hello world\")"
   ]
  },
  {
   "cell_type": "markdown",
   "metadata": {},
   "source": [
    "You can convert a hexadecimal string back to a regular string in Python using the `binascii` module's `unhexlify` function. Here's how you can do it:\n",
    "\n"
   ]
  },
  {
   "cell_type": "code",
   "execution_count": 20,
   "metadata": {},
   "outputs": [
    {
     "data": {
      "text/plain": [
       "'hello world'"
      ]
     },
     "execution_count": 20,
     "metadata": {},
     "output_type": "execute_result"
    }
   ],
   "source": [
    "import binascii\n",
    "\n",
    "def hex_to_str(h):\n",
    "    return binascii.unhexlify(h).decode()\n",
    "\n",
    "hex_to_str('68656c6c6f20776f726c64')  # 'hello world'"
   ]
  },
  {
   "cell_type": "markdown",
   "metadata": {},
   "source": [
    "\n",
    "\n",
    "This code first converts the hexadecimal string to bytes using the `binascii.unhexlify` function, and then decodes the bytes to a string using the `decode` method."
   ]
  },
  {
   "cell_type": "markdown",
   "metadata": {},
   "source": [
    "In Python, an object is said to be mutable if it can be changed after it is created. This means that you can change, add, or remove items after the object is created.\n",
    "\n",
    "Common mutable types in Python include:\n",
    "- `list`: Lists can have items added, removed, or changed.\n",
    "- `dict`: Dictionaries can have key-value pairs added, removed, or changed.\n",
    "- `set`: Sets can have items added or removed.\n",
    "- `bytearray`: Bytearrays can have bytes added, removed, or changed.\n",
    "\n",
    "For example, if you have a list `a = [1, 2, 3]`, you can change the first item to 0 with `a[0] = 0`, and `a` will now be `[0, 2, 3]`.\n",
    "\n",
    "In contrast, an object is said to be immutable if it cannot be changed after it is created. Common immutable types in Python include `int`, `float`, `bool`, `str`, `tuple`, and `frozenset`. For example, if you have a string `s = 'hello'`, you cannot change the first character to 'j'. You would have to create a new string to do that."
   ]
  },
  {
   "cell_type": "markdown",
   "metadata": {},
   "source": [
    "### Exercises: 1.3, 1.6, 1.7, 1.9 and 1.10  in https://automatetheboringstuff.com/#toc"
   ]
  },
  {
   "cell_type": "markdown",
   "metadata": {},
   "source": [
    "- 3. Name three data types.\n",
    "\n",
    "- 6. What does the variable bacon contain after the following code runs?\n",
    "\n",
    "    ```python\n",
    "    bacon = 20\n",
    "    bacon + 1\n",
    "    ```\n",
    "\n",
    "- 7. What should the following two expressions evaluate to?\n",
    "\n",
    "    ```python\n",
    "    'spam' + 'spamspam'\n",
    "    'spam' * 3\n",
    "    ```\n",
    "\n",
    "- 9. What three functions can be used to get the integer, floating-point number, or string version of a value?\n",
    "\n",
    "- 10. Why does this expression cause an error? How can you fix it?\n",
    "\n",
    "      > 'I have eaten ' + 99 + ' burritos.'"
   ]
  },
  {
   "cell_type": "markdown",
   "metadata": {},
   "source": [
    "In Python, you can use the following functions to convert values into different data types:\n",
    "\n",
    "1. `int()`: This function can be used to convert a value to an integer. For example, `int(3.5)` will return `3`, and `int('5')` will return `5`.\n",
    "\n",
    "2. `float()`: This function can be used to convert a value to a floating-point number. For example, `float(3)` will return `3.0`, and `float('5.5')` will return `5.5`.\n",
    "\n",
    "3. `str()`: This function can be used to convert a value to a string. For example, `str(3)` will return `'3'`, and `str(5.5)` will return `'5.5'`."
   ]
  },
  {
   "cell_type": "markdown",
   "metadata": {},
   "source": [
    "?list"
   ]
  },
  {
   "cell_type": "code",
   "execution_count": 21,
   "metadata": {},
   "outputs": [
    {
     "data": {
      "text/plain": [
       "'spamspamspam'"
      ]
     },
     "execution_count": 21,
     "metadata": {},
     "output_type": "execute_result"
    }
   ],
   "source": [
    "'spam' + 'spamspam'"
   ]
  },
  {
   "cell_type": "code",
   "execution_count": 22,
   "metadata": {},
   "outputs": [
    {
     "data": {
      "text/plain": [
       "'spamspamspam'"
      ]
     },
     "execution_count": 22,
     "metadata": {},
     "output_type": "execute_result"
    }
   ],
   "source": [
    "'spam' * 3"
   ]
  },
  {
   "cell_type": "markdown",
   "metadata": {},
   "source": [
    "## Logical operators and expresions"
   ]
  },
  {
   "cell_type": "markdown",
   "metadata": {},
   "source": [
    "Python has several types of operators. Here are the most common ones:\n",
    "\n",
    "1. **Arithmetic Operators**: Used with numeric values to perform common mathematical operations.\n",
    "   - Addition: `+`\n",
    "   - Subtraction: `-`\n",
    "   - Multiplication: `*`\n",
    "   - Division: `/`\n",
    "   - Modulus: `%`\n",
    "   - Exponentiation: `**`\n",
    "   - Floor division: `//`\n",
    "\n",
    "2. **Assignment Operators**: Used to assign values to variables.\n",
    "   - Assignment: `=`\n",
    "   - Add and assign: `+=`\n",
    "   - Subtract and assign: `-=`\n",
    "   - Multiply and assign: `*=`\n",
    "   - Divide and assign: `/=`\n",
    "   - Modulus and assign: `%=`\n",
    "   - Floor divide and assign: `//=`\n",
    "   - Exponent and assign: `**=`\n",
    "   - Bitwise AND and assign: `&=`\n",
    "   - Bitwise OR and assign: `|=`\n",
    "   - Bitwise XOR and assign: `^=`\n",
    "   - Bitwise right shift and assign: `>>=`\n",
    "   - Bitwise left shift and assign: `<<=`\n",
    "\n",
    "3. **Comparison Operators**: Used to compare two values.\n",
    "   - Equal: `==`\n",
    "   - Not equal: `!=`\n",
    "   - Greater than: `>`\n",
    "   - Less than: `<`\n",
    "   - Greater than or equal to: `>=`\n",
    "   - Less than or equal to: `<=`\n",
    "\n",
    "4. **Logical Operators**: Used to combine conditional statements.\n",
    "   - and: Returns True if both statements are true\n",
    "   - or: Returns True if one of the statements is true\n",
    "   - not: Reverse the result, returns False if the result is true\n",
    "\n",
    "5. **Bitwise Operators**: Used to compare (binary) numbers.\n",
    "   - AND: `&`\n",
    "   - OR: `|`\n",
    "   - XOR: `^`\n",
    "   - NOT: `~`\n",
    "   - Zero fill left shift: `<<`\n",
    "   - Signed right shift: `>>`\n",
    "\n",
    "6. **Identity Operators**: Used to compare the objects, not if they are equal, but if they are actually the same object, with the same memory location.\n",
    "   - is: Returns True if both variables are the same object\n",
    "   - is not: Returns True if both variables are not the same object\n",
    "\n",
    "7. **Membership Operators**: Used to test if a sequence is presented in an object.\n",
    "   - in: Returns True if a sequence with the specified value is present in the object\n",
    "   - not in: Returns True if a sequence with the specified value is not present in the object\n",
    "\n",
    "These operators provide the basic building blocks for constructing more complex expressions in Python."
   ]
  },
  {
   "cell_type": "markdown",
   "metadata": {},
   "source": [
    "### Exercises: 2.1 - 2.6  in https://automatetheboringstuff.com/#toc"
   ]
  },
  {
   "cell_type": "markdown",
   "metadata": {},
   "source": [
    "- 1. What are the two values of the Boolean data type? How do you write them?\n",
    "\n",
    "- 2. What are the three Boolean operators?\n",
    "\n",
    "- 3. Write out the truth tables of each Boolean operator (that is, every possible combination of Boolean values for the operator and what they evaluate to).\n",
    "\n",
    "- 4. What do the following expressions evaluate to?\n",
    "        ```python\n",
    "        (5 > 4) and (3 == 5)\n",
    "        not (5 > 4)\n",
    "        (5 > 4) or (3 == 5)\n",
    "        not ((5 > 4) or (3 == 5))\n",
    "        (True and True) and (True == False)\n",
    "        (not False) or (not True)\n",
    "        ```\n",
    "\n",
    "- 5. What are the six comparison operators?\n",
    "\n",
    "- 6. What is the difference between the equal to operator and the assignment operator?"
   ]
  },
  {
   "cell_type": "markdown",
   "metadata": {},
   "source": [
    "Ansewer to Q5. Comparison operators in Python are used to compare values. It either returns True or False according to the condition. Here are the comparison operators:\n",
    "\n",
    "1. **Equal (`==`)**: If the values of two operands are equal, then the condition becomes true.\n",
    "   ```python\n",
    "   2 == 2  # Returns: True\n",
    "   ```\n",
    "\n",
    "2. **Not Equal (`!=`)**: If values of two operands are not equal, then condition becomes true.\n",
    "   ```python\n",
    "   2 != 2  # Returns: False\n",
    "   ```\n",
    "\n",
    "3. **Greater Than (`>`)**: If the value of left operand is greater than the value of right operand, then condition becomes true.\n",
    "   ```python\n",
    "   3 > 2  # Returns: True\n",
    "   ```\n",
    "\n",
    "4. **Less Than (`<`)**: If the value of left operand is less than the value of right operand, then condition becomes true.\n",
    "   ```python\n",
    "   2 < 3  # Returns: True\n",
    "   ```\n",
    "\n",
    "5. **Greater Than or Equal to (`>=`)**: If the value of left operand is greater than or equal to the value of right operand, then condition becomes true.\n",
    "   ```python\n",
    "   3 >= 2  # Returns: True\n",
    "   ```\n",
    "\n",
    "6. **Less Than or Equal to (`<=`)**: If the value of left operand is less than or equal to the value of right operand, then condition becomes true.\n",
    "   ```python\n",
    "   2 <= 3  # Returns: True\n",
    "   ```\n",
    "\n",
    "These operators are commonly used in control flow statements like `if`, `while`, and `for` loops."
   ]
  },
  {
   "cell_type": "markdown",
   "metadata": {},
   "source": [
    "Answer to Q6. In Python, the equal to operator (`==`) and the assignment operator (`=`) serve two distinct purposes:\n",
    "\n",
    "1. **Equal to Operator (`==`)**: This is a comparison operator. It checks whether the values of two operands are equal or not. If they are equal, the condition becomes true and it returns `True`. Otherwise, it returns `False`.\n",
    "\n",
    "   Example:\n",
    "   ```python\n",
    "   if (2 == 2):\n",
    "       print(\"These values are equal\")\n",
    "   ```\n",
    "   This will output: `These values are equal`\n",
    "\n",
    "2. **Assignment Operator (`=`)**: This is used to assign the value of the right operand to the left operand. The left operand is typically a variable where the right operand's value will be stored.\n",
    "\n",
    "   Example:\n",
    "   ```python\n",
    "   a = 5\n",
    "   ```\n",
    "   This assigns the value `5` to the variable `a`.\n",
    "\n",
    "In summary, `==` is used for comparison, while `=` is used for assignment."
   ]
  },
  {
   "cell_type": "markdown",
   "metadata": {},
   "source": [
    "## Collection of elements - iterables"
   ]
  },
  {
   "cell_type": "code",
   "execution_count": 23,
   "metadata": {},
   "outputs": [
    {
     "name": "stdout",
     "output_type": "stream",
     "text": [
      "5 {1, 'abc', 5} (1, 'abc', 5) [1, 'abc', 5]\n",
      "5 {1, 'abc', 5} (1, 'abc', 5) [1, 'abc', 5, 3]\n",
      "[1, 'abc', 5, 3, 4]\n"
     ]
    },
    {
     "data": {
      "text/plain": [
       "['abc', 5, 3]"
      ]
     },
     "execution_count": 23,
     "metadata": {},
     "output_type": "execute_result"
    }
   ],
   "source": [
    "a=5\n",
    "b={1, a, 'abc'}\n",
    "c=tuple(b)\n",
    "d=list(c)\n",
    "print(a,b,c,d)\n",
    "d.append(3)\n",
    "print(a,b,c,d)\n",
    "d.append(4)\n",
    "print(d)\n",
    "d[1:4]\n"
   ]
  },
  {
   "cell_type": "markdown",
   "metadata": {},
   "source": [
    "Excerices:\n",
    "\n",
    "1. Discuss with your neighbour the difference between the four iterables _sets, tuples, lists_, and _dictionarirs_, and provide examples usecases for each."
   ]
  },
  {
   "cell_type": "markdown",
   "metadata": {},
   "source": [
    "That being said to [GitHub Copilot Chat](https://docs.github.com/en/copilot/github-copilot-chat/about-github-copilot-chat), here's a brief overview of the differences between sets, tuples, lists, and dictionaries in Python, along with some example use cases for each:\n",
    "\n",
    "1. **Lists**: Lists are ordered, mutable collections of items. They are defined by enclosing a comma-separated sequence of items in square brackets `[]`. Lists are great for keeping ordered data and can contain items of different types. They are also useful when you want to add or remove items.\n",
    "\n",
    "   Example use case: Storing a list of student names in a class.\n",
    "   ```python\n",
    "   students = ['John', 'Mary', 'Steve']\n",
    "   ```\n",
    "\n",
    "2. **Tuples**: Tuples are similar to lists in that they can contain items of different types. However, tuples are immutable, meaning you can't add, remove, or change items once the tuple is defined. Tuples are defined by enclosing a comma-separated sequence of items in parentheses `()`.\n",
    "\n",
    "   Example use case: Storing a date (year, month, day), where each component is always in the same position.\n",
    "   ```python\n",
    "   date = (2022, 'January', 1)\n",
    "   ```\n",
    "\n",
    "3. **Sets**: Sets are unordered collections of unique items. They are useful when you want to keep track of a collection of elements, but don't care about their order, don't need duplicates, and don't need to change them. Sets are defined by enclosing a comma-separated sequence of items in curly braces `{}`.\n",
    "\n",
    "   Example use case: Storing a collection of unique tags or categories.\n",
    "   ```python\n",
    "   tags = {'python', 'programming', 'tutorial'}\n",
    "   ```\n",
    "\n",
    "4. **Dictionaries**: Dictionaries are unordered collections of key-value pairs. They are great for when you need a logical association between a key and a value. Dictionaries are defined by enclosing a comma-separated sequence of key-value pairs in curly braces `{}`. The key-value pairs are separated by a colon `:`.\n",
    "\n",
    "   Example use case: Storing student grades where each student name is associated with their grade.\n",
    "   ```python\n",
    "   grades = {'John': 'A', 'Mary': 'B+', 'Steve': 'A'}\n",
    "   ```\n",
    "\n",
    "Remember, the choice of which iterable to use depends on what you're trying to accomplish in your code. Each has its own strengths and weaknesses."
   ]
  },
  {
   "cell_type": "markdown",
   "metadata": {},
   "source": [
    "Sure, here are some examples of set operations in Python:\n",
    "\n"
   ]
  },
  {
   "cell_type": "code",
   "execution_count": 24,
   "metadata": {},
   "outputs": [
    {
     "name": "stdout",
     "output_type": "stream",
     "text": [
      "{1, 2, 3, 4, 5, 6}\n",
      "{3, 4}\n",
      "{1, 2}\n",
      "{1, 2, 5, 6}\n",
      "False\n",
      "False\n",
      "False\n"
     ]
    }
   ],
   "source": [
    "# Define two sets\n",
    "set1 = {1, 2, 3, 4}\n",
    "set2 = {3, 4, 5, 6}\n",
    "\n",
    "# Union: Elements that are in set1 or set2 or both\n",
    "print(set1.union(set2))  # Output: {1, 2, 3, 4, 5, 6}\n",
    "\n",
    "# Intersection: Elements that are in both set1 and set2\n",
    "print(set1.intersection(set2))  # Output: {3, 4}\n",
    "\n",
    "# Difference: Elements that are in set1 but not in set2\n",
    "print(set1.difference(set2))  # Output: {1, 2}\n",
    "\n",
    "# Symmetric Difference: Elements that are in either set1 or set2 but not both\n",
    "print(set1.symmetric_difference(set2))  # Output: {1, 2, 5, 6}\n",
    "\n",
    "# Check if set1 is a subset of set2\n",
    "print(set1.issubset(set2))  # Output: False\n",
    "\n",
    "# Check if set1 is a superset of set2\n",
    "print(set1.issuperset(set2))  # Output: False\n",
    "\n",
    "# Check if set1 and set2 have no elements in common\n",
    "print(set1.isdisjoint(set2))  # Output: False"
   ]
  },
  {
   "cell_type": "markdown",
   "metadata": {},
   "source": [
    "\n",
    "\n",
    "These operations are fundamental to set theory and are very useful in many programming scenarios."
   ]
  },
  {
   "cell_type": "markdown",
   "metadata": {},
   "source": [
    "Sets in Python are mutable, meaning you can add, remove, or change elements after the set is created. Here's an example:\n",
    "\n"
   ]
  },
  {
   "cell_type": "code",
   "execution_count": 25,
   "metadata": {},
   "outputs": [
    {
     "name": "stdout",
     "output_type": "stream",
     "text": [
      "{1, 2, 3}\n",
      "{1, 2, 3, 4}\n",
      "{2, 3, 4}\n"
     ]
    }
   ],
   "source": [
    "s = {1, 2, 3}\n",
    "print(s)  # Output: {1, 2, 3}\n",
    "\n",
    "# Add an element to the set\n",
    "s.add(4)\n",
    "print(s)  # Output: {1, 2, 3, 4}\n",
    "\n",
    "# Remove an element from the set\n",
    "s.remove(1)\n",
    "print(s)  # Output: {2, 3, 4}"
   ]
  },
  {
   "cell_type": "markdown",
   "metadata": {},
   "source": [
    "\n",
    "\n",
    "However, Python also has a concept of \"frozen sets\" which are immutable sets. Once a frozen set is created, you cannot change its content.\n",
    "\n"
   ]
  },
  {
   "cell_type": "code",
   "execution_count": 26,
   "metadata": {},
   "outputs": [
    {
     "name": "stdout",
     "output_type": "stream",
     "text": [
      "frozenset({1, 2, 3})\n"
     ]
    }
   ],
   "source": [
    "fs = frozenset([1, 2, 3])\n",
    "print(fs)  # Output: frozenset({1, 2, 3})\n",
    "\n",
    "# The following would raise an error\n",
    "# fs.add(4)"
   ]
  },
  {
   "cell_type": "markdown",
   "metadata": {},
   "source": [
    "\n",
    "\n",
    "In this case, trying to add an element to the frozen set would raise an `AttributeError` because the `frozenset` object has no attribute 'add'."
   ]
  },
  {
   "cell_type": "markdown",
   "metadata": {},
   "source": [
    "A dictionary in Python is an unordered collection of items. Each item stored in a dictionary has a key and value, making it ideal for storing data structures such as hashmaps.\n",
    "\n",
    "Dictionaries are defined by enclosing a comma-separated list of key-value pairs in curly braces `{}`. A colon `:` separates each key from its associated value.\n",
    "\n",
    "Here's an example of a dictionary:\n",
    "\n"
   ]
  },
  {
   "cell_type": "code",
   "execution_count": 27,
   "metadata": {},
   "outputs": [],
   "source": [
    "person = {\n",
    "    'name': 'John',\n",
    "    'age': 30,\n",
    "    'city': 'New York'\n",
    "}"
   ]
  },
  {
   "cell_type": "markdown",
   "metadata": {},
   "source": [
    "\n",
    "\n",
    "In this dictionary, 'name', 'age', and 'city' are keys, and 'John', 30, and 'New York' are their respective values.\n",
    "\n",
    "You can access the items in a dictionary by referring to its key name:\n",
    "\n"
   ]
  },
  {
   "cell_type": "code",
   "execution_count": 28,
   "metadata": {},
   "outputs": [
    {
     "name": "stdout",
     "output_type": "stream",
     "text": [
      "John\n"
     ]
    }
   ],
   "source": [
    "print(person['name'])  # Output: John"
   ]
  },
  {
   "cell_type": "markdown",
   "metadata": {},
   "source": [
    "\n",
    "\n",
    "You can also change the value of a specific item by referring to its key name:\n",
    "\n"
   ]
  },
  {
   "cell_type": "code",
   "execution_count": 29,
   "metadata": {},
   "outputs": [
    {
     "name": "stdout",
     "output_type": "stream",
     "text": [
      "31\n"
     ]
    }
   ],
   "source": [
    "person['age'] = 31\n",
    "print(person['age'])  # Output: 31"
   ]
  },
  {
   "cell_type": "markdown",
   "metadata": {},
   "source": [
    "\n",
    "\n",
    "New items can be added to the dictionary:\n",
    "\n"
   ]
  },
  {
   "cell_type": "code",
   "execution_count": 30,
   "metadata": {},
   "outputs": [
    {
     "name": "stdout",
     "output_type": "stream",
     "text": [
      "{'name': 'John', 'age': 31, 'city': 'New York', 'profession': 'Engineer'}\n"
     ]
    }
   ],
   "source": [
    "person['profession'] = 'Engineer'\n",
    "print(person)  # Output: {'name': 'John', 'age': 31, 'city': 'New York', 'profession': 'Engineer'}"
   ]
  },
  {
   "cell_type": "markdown",
   "metadata": {},
   "source": [
    "\n",
    "\n",
    "And items can be removed using the `del` keyword:\n",
    "\n"
   ]
  },
  {
   "cell_type": "code",
   "execution_count": 31,
   "metadata": {},
   "outputs": [
    {
     "name": "stdout",
     "output_type": "stream",
     "text": [
      "{'name': 'John', 'age': 31, 'profession': 'Engineer'}\n"
     ]
    }
   ],
   "source": [
    "del person['city']\n",
    "print(person)  # Output: {'name': 'John', 'age': 31, 'profession': 'Engineer'}"
   ]
  },
  {
   "cell_type": "markdown",
   "metadata": {},
   "source": [
    "\n",
    "\n",
    "Dictionaries are very flexible and powerful data structures in Python."
   ]
  },
  {
   "cell_type": "code",
   "execution_count": 32,
   "metadata": {},
   "outputs": [
    {
     "name": "stdout",
     "output_type": "stream",
     "text": [
      "{'ELEMD219': 18, 'BMED365': 15}\n"
     ]
    }
   ],
   "source": [
    "dict_courses = {\n",
    "'ELEMD219': 18,\n",
    "'BMED365': 15\n",
    "}\n",
    "\n",
    "print(dict_courses)"
   ]
  },
  {
   "cell_type": "code",
   "execution_count": 33,
   "metadata": {},
   "outputs": [
    {
     "data": {
      "text/plain": [
       "dict_items([('ELEMD219', 18), ('BMED365', 15)])"
      ]
     },
     "execution_count": 33,
     "metadata": {},
     "output_type": "execute_result"
    }
   ],
   "source": [
    "dict_courses.items()"
   ]
  },
  {
   "cell_type": "markdown",
   "metadata": {},
   "source": [
    "## `for` and `while` loops"
   ]
  },
  {
   "cell_type": "markdown",
   "metadata": {},
   "source": [
    "Discuss the difference between for and while loops. When would you use each?"
   ]
  },
  {
   "cell_type": "markdown",
   "metadata": {},
   "source": [
    "`for` and `while` are two types of loops in Python that allow you to repeat a block of code multiple times. However, they are used in slightly different scenarios:\n",
    "\n",
    "1. **For Loop**: A `for` loop is used for iterating over a sequence (like a list, tuple, dictionary, set, or string) or other iterable objects. It's often used when you want to perform an action a specific number of times, or for each item in a collection.\n",
    "\n",
    "   Example:\n",
    "   ```python\n",
    "   for i in range(5):\n",
    "       print(i)\n",
    "   ```\n",
    "   This will print the numbers 0 through 4.\n",
    "\n",
    "   Use case: You would use a `for` loop when you know the number of iterations in advance. For example, iterating through a fixed list of items, or repeating an action a specific number of times.\n",
    "\n",
    "2. **While Loop**: A `while` loop is used to repeatedly execute a block of code as long as a condition is true. The condition is checked before each iteration.\n",
    "\n",
    "   Example:\n",
    "   ```python\n",
    "   i = 0\n",
    "   while i < 5:\n",
    "       print(i)\n",
    "       i += 1\n",
    "   ```\n",
    "   This will also print the numbers 0 through 4.\n",
    "\n",
    "   Use case: You would use a `while` loop when the number of iterations is not known and depends on some condition. For example, repeating an action until a certain condition is met, like a user input or a specific state of data.\n",
    "\n",
    "In summary, `for` loops are typically used for a set, known number of iterations, whereas `while` loops are used when the number of iterations is unknown or depends on a specific condition."
   ]
  },
  {
   "cell_type": "markdown",
   "metadata": {},
   "source": [
    "Write a program that run indefinitely until the user enters the word \"quit\"."
   ]
  },
  {
   "cell_type": "markdown",
   "metadata": {},
   "source": [
    "Here's a simple Python program that will run indefinitely until the user enters the word \"quit\":\n",
    "\n"
   ]
  },
  {
   "cell_type": "markdown",
   "metadata": {},
   "source": [
    "```python\n",
    "while True:\n",
    "    user_input = input(\"Enter a word (or 'quit' to exit): \")\n",
    "    if user_input.lower() == 'quit':\n",
    "        break\n",
    "```"
   ]
  },
  {
   "cell_type": "markdown",
   "metadata": {},
   "source": [
    "\n",
    "\n",
    "In this program, the `while True:` loop will run indefinitely. Inside the loop, the `input()` function is used to get user input. If the user enters \"quit\", the `break` statement is used to exit the loop. The `lower()` function is used to make the comparison case-insensitive.\n",
    "\n",
    "NOTE: `input()` doeas not work in the Jupyter notebook, use widgets insted."
   ]
  },
  {
   "cell_type": "markdown",
   "metadata": {},
   "source": [
    "To add a prompt to the text input widget, you can set the `description` parameter when creating the widget. Here's how you can modify your code:\n",
    "\n"
   ]
  },
  {
   "cell_type": "code",
   "execution_count": 34,
   "metadata": {},
   "outputs": [
    {
     "data": {
      "application/vnd.jupyter.widget-view+json": {
       "model_id": "930cfb12271748b0bdd0cbf7426a53ae",
       "version_major": 2,
       "version_minor": 0
      },
      "text/plain": [
       "Text(value='', description='\"quit\" word:')"
      ]
     },
     "metadata": {},
     "output_type": "display_data"
    },
    {
     "data": {
      "application/vnd.jupyter.widget-view+json": {
       "model_id": "70ef0bbc6ccd485e9fc2dcfec474aa0d",
       "version_major": 2,
       "version_minor": 0
      },
      "text/plain": [
       "Button(description='Submit', style=ButtonStyle())"
      ]
     },
     "metadata": {},
     "output_type": "display_data"
    }
   ],
   "source": [
    "import ipywidgets as widgets\n",
    "from IPython.display import display\n",
    "\n",
    "def on_button_clicked(b):\n",
    "    if text.value.lower() == 'quit':\n",
    "        print('Exiting...')\n",
    "        # Here you can add code to stop execution\n",
    "        print('You entered:', text.value)\n",
    "    else:\n",
    "        print('You entered:', text.value)\n",
    "\n",
    "text = widgets.Text(description='\"quit\" word:')\n",
    "display(text)\n",
    "\n",
    "button = widgets.Button(description='Submit')\n",
    "button.on_click(on_button_clicked)\n",
    "display(button)"
   ]
  },
  {
   "cell_type": "markdown",
   "metadata": {},
   "source": [
    "\n",
    "Write a short program that print numbers 1 to 10 using a for loop. Then write an equivalent program using a while loop."
   ]
  },
  {
   "cell_type": "markdown",
   "metadata": {},
   "source": [
    "## `if`, `else` and `elif` sentences"
   ]
  },
  {
   "cell_type": "markdown",
   "metadata": {},
   "source": [
    "### Exercise:\n",
    "\n",
    "1. (From [Automate the boring stoff](https://automatetheboringstuff.com/#toc)) Explain the code in exercise 2.8 in the book. "
   ]
  },
  {
   "cell_type": "markdown",
   "metadata": {},
   "source": [
    "- 8. Identify the three blocks in this code:\n",
    "\n",
    "        ```python\n",
    "        spam = 0\n",
    "        if spam == 10:\n",
    "            print('eggs')\n",
    "            if spam > 5:\n",
    "                print('bacon')\n",
    "            else:\n",
    "                print('ham')\n",
    "        print('spam')\n",
    "        print('spam')\n",
    "```"
   ]
  },
  {
   "cell_type": "code",
   "execution_count": 35,
   "metadata": {},
   "outputs": [
    {
     "name": "stdout",
     "output_type": "stream",
     "text": [
      "spam\n"
     ]
    }
   ],
   "source": [
    "spam = 0\n",
    "if spam == 10:\n",
    "    print('eggs')\n",
    "    if spam > 5:\n",
    "        print('bacon')\n",
    "    else:\n",
    "        print('ham')\n",
    "    print('spam')\n",
    "print('spam')"
   ]
  },
  {
   "cell_type": "code",
   "execution_count": 36,
   "metadata": {},
   "outputs": [],
   "source": [
    "a = list(range(10))"
   ]
  },
  {
   "cell_type": "code",
   "execution_count": 37,
   "metadata": {},
   "outputs": [
    {
     "data": {
      "text/plain": [
       "[0, 2, 4, 6, 8, 10, 12, 14, 16, 18]"
      ]
     },
     "execution_count": 37,
     "metadata": {},
     "output_type": "execute_result"
    }
   ],
   "source": [
    "\n",
    "[i*2 for i in a]"
   ]
  },
  {
   "cell_type": "code",
   "execution_count": 38,
   "metadata": {},
   "outputs": [
    {
     "name": "stdout",
     "output_type": "stream",
     "text": [
      "0\n",
      "2\n",
      "4\n",
      "6\n",
      "8\n",
      "10\n",
      "12\n",
      "14\n",
      "16\n",
      "18\n"
     ]
    }
   ],
   "source": [
    "k=0\n",
    "while k < len(a):\n",
    "    print(a[k]*2)\n",
    "    k+=1\n",
    "    "
   ]
  },
  {
   "cell_type": "code",
   "execution_count": 39,
   "metadata": {},
   "outputs": [
    {
     "name": "stdout",
     "output_type": "stream",
     "text": [
      "0 is divisibale by 2\n",
      "2 is divisibale by 2\n",
      "4 is divisibale by 2\n",
      "5 is divisibale by 5\n",
      "6 is divisibale by 2\n",
      "8 is divisibale by 2\n",
      "10 is divisibale by 2\n",
      "12 is divisibale by 2\n",
      "14 is divisibale by 2\n",
      "15 is divisibale by 5\n",
      "16 is divisibale by 2\n",
      "18 is divisibale by 2\n"
     ]
    }
   ],
   "source": [
    "for i in range(20):\n",
    "    if i % 2 == 0:\n",
    "        print(i , \"is divisibale by 2\")\n",
    "    elif i % 5 == 0:\n",
    "        print(i , \"is divisibale by 5\")"
   ]
  },
  {
   "cell_type": "markdown",
   "metadata": {},
   "source": [
    "## Functions"
   ]
  },
  {
   "cell_type": "code",
   "execution_count": 40,
   "metadata": {},
   "outputs": [],
   "source": [
    "def divisible(n):\n",
    "    if n % 2 == 0:\n",
    "        print(n , \"is divisibale by 2\")\n",
    "    elif n % 5 == 0:\n",
    "        print(n , \"is divisibale by 5\")\n",
    "    else:\n",
    "        print(n , \"is not divisibale by 2 or 5\")"
   ]
  },
  {
   "cell_type": "code",
   "execution_count": 41,
   "metadata": {},
   "outputs": [
    {
     "name": "stdout",
     "output_type": "stream",
     "text": [
      "25 is divisibale by 5\n"
     ]
    }
   ],
   "source": [
    "divisible(25)"
   ]
  },
  {
   "cell_type": "code",
   "execution_count": 42,
   "metadata": {},
   "outputs": [],
   "source": [
    "def mysum(a, b=10):\n",
    "    return a + b"
   ]
  },
  {
   "cell_type": "code",
   "execution_count": 43,
   "metadata": {},
   "outputs": [
    {
     "data": {
      "text/plain": [
       "10"
      ]
     },
     "execution_count": 43,
     "metadata": {},
     "output_type": "execute_result"
    }
   ],
   "source": [
    "mysum(5,5)"
   ]
  },
  {
   "cell_type": "code",
   "execution_count": 44,
   "metadata": {},
   "outputs": [
    {
     "name": "stdout",
     "output_type": "stream",
     "text": [
      "allaa\n",
      "0 a 1\n",
      "1 l 1\n",
      "2 l 1\n",
      "3 a 2\n",
      "4 a 3\n"
     ]
    },
    {
     "data": {
      "text/plain": [
       "3"
      ]
     },
     "execution_count": 44,
     "metadata": {},
     "output_type": "execute_result"
    }
   ],
   "source": [
    "s = 'hello'\n",
    "\n",
    "def count_a(s):\n",
    "    print(s)\n",
    "    n_a = 0\n",
    "    for count in range(len(s)):\n",
    "        if s[count] == \"a\":\n",
    "            n_a += 1\n",
    "        print(count, s[count], n_a)\n",
    "    return n_a\n",
    "\n",
    "count_a('allaa')"
   ]
  },
  {
   "cell_type": "code",
   "execution_count": 45,
   "metadata": {},
   "outputs": [
    {
     "name": "stdout",
     "output_type": "stream",
     "text": [
      "a\n",
      "l\n",
      "l\n",
      "a\n",
      "a\n",
      "3\n"
     ]
    }
   ],
   "source": [
    "def count_a(s):\n",
    "    count=0\n",
    "    for char in s:\n",
    "        print(char)\n",
    "        if char == 'a':\n",
    "            count += 1\n",
    "    return count\n",
    "\n",
    "print(count_a('allaa'))  # Output: 3"
   ]
  }
 ],
 "metadata": {
  "kernelspec": {
   "display_name": "elmed219",
   "language": "python",
   "name": "python3"
  },
  "language_info": {
   "codemirror_mode": {
    "name": "ipython",
    "version": 3
   },
   "file_extension": ".py",
   "mimetype": "text/x-python",
   "name": "python",
   "nbconvert_exporter": "python",
   "pygments_lexer": "ipython3",
   "version": "3.11.6"
  }
 },
 "nbformat": 4,
 "nbformat_minor": 2
}
