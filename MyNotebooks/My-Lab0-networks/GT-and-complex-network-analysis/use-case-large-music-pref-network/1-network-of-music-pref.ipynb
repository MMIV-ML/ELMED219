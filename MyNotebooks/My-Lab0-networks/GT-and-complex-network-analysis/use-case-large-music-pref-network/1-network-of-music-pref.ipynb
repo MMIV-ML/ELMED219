{
  "cells": [
    {
      "cell_type": "markdown",
      "metadata": {
        "id": "6hNOG4R-WzBq"
      },
      "source": [
        "# 1. Practical Session: Networks of music preferences \n",
        "\n",
        "#### Using the [Last.fm](http://millionsongdataset.com/) (millionsong) dataset\n",
        "\n"
      ]
    },
    {
      "cell_type": "markdown",
      "metadata": {
        "id": "Z_ngArrjXi5y"
      },
      "source": [
        "For this activity, we will create graphs using [NetworkX](https://networkx.org/) and traditional libraries for scientific computing such as [Pandas](https://pandas.pydata.org/) and [NumPy](https://numpy.org/) (data transformation and processing) plus [Matplotlib](https://matplotlib.org/) (data visualization)."
      ]
    },
    {
      "cell_type": "markdown",
      "metadata": {
        "id": "EYtGa0SzXDtZ"
      },
      "source": [
        "\n",
        "## 1.1. About the dataset\n"
      ]
    },
    {
      "cell_type": "markdown",
      "metadata": {
        "id": "HXIr1lbdXFQ6"
      },
      "source": [
        "We will use a reduced version of the Last.fm dataset publicly available from works `[1-4]`. This dataset contains the recordings of 1000 users from Feb. 2005 until Jun. 2009. This dataset contains the following columns:\n",
        "\n",
        "+ `userid`: User ID (anonymized)\n",
        "+ `timestamp`: Timestamp of the record. The format is `YYYY-MM-DD` followed by `hh:mm:ss`. Example: `2009-04-08T01:57:47Z`.\n",
        "+ `musicbrainz-artist-id`: Artists ID.\n",
        "+ `artist-name`: Artist name.\n",
        "+ `musicbarinz-track-id`: Track ID.\n",
        "+ `track-name`: Track name.\n",
        "\n",
        "For this activity, we will use the `userid`, `timestamp`, `artist-id`, and `artist-name`."
      ]
    },
    {
      "cell_type": "markdown",
      "metadata": {
        "id": "FWL-prl9rb3Q"
      },
      "source": [
        "---"
      ]
    },
    {
      "cell_type": "markdown",
      "metadata": {},
      "source": [
        "### Check your platform"
      ]
    },
    {
      "cell_type": "code",
      "execution_count": 4,
      "metadata": {},
      "outputs": [
        {
          "name": "stdout",
          "output_type": "stream",
          "text": [
            "OK, you are running on MacOS (Darwin Kernel Version 23.2.0: Wed Nov 15 21:54:10 PST 2023; root:xnu-10002.61.3~2/RELEASE_X86_64)\n"
          ]
        }
      ],
      "source": [
        "import platform\n",
        "import os\n",
        "from os.path import expanduser\n",
        "home = expanduser(\"~\")\n",
        "\n",
        "if platform.system() == 'Darwin':\n",
        "    print(f'OK, you are running on MacOS ({platform.version()})')\n",
        "    OVERLEAF_dir = f'{home}/Dropbox/Apps/Overleaf/My_project'\n",
        "    TREE = '/usr/local/bin/tree -L 1'          # MacOS (brew install tree)\n",
        "    MacOS = True\n",
        "    Linux = False\n",
        "if platform.system() == 'Linux':\n",
        "    print(f'OK, you are running on Linux ({platform.version()})')\n",
        "    OVERLEAF_dir = f'{home}/Dropbox/Apps/Overleaf/My_project'\n",
        "    TREE = '/usr/bin/tree -L 4'\n",
        "    Linux = True\n",
        "    MacOS = False\n",
        "if platform.system() == 'Windows':\n",
        "    print(f'OK, but consider to install WSL for Windows10 since you are running on {platform.system()}')\n",
        "    print('Check https://docs.microsoft.com/en-us/windows/wsl/install-win10')\n",
        "    MacOS = False\n",
        "    Linux = False"
      ]
    },
    {
      "cell_type": "markdown",
      "metadata": {},
      "source": [
        "### Check if Colab"
      ]
    },
    {
      "cell_type": "code",
      "execution_count": 5,
      "metadata": {},
      "outputs": [
        {
          "name": "stdout",
          "output_type": "stream",
          "text": [
            "Not running in Google Colab.\n"
          ]
        }
      ],
      "source": [
        "# This is a quick check of whether the notebook is currently running on Google Colaboratory\n",
        "# as that makes some difference for the code below.\n",
        "# We'll do this in every notebook of the course.\n",
        "\n",
        "try:\n",
        "    import google.colab\n",
        "    # If this statement executes without error, you're in a Colab environment.\n",
        "    is_colab = True\n",
        "    print(\"Running in Google Colab.\")\n",
        "except ImportError:\n",
        "    # An ImportError means you're not in a Colab environment.\n",
        "    is_colab = False\n",
        "    print(\"Not running in Google Colab.\")"
      ]
    },
    {
      "cell_type": "markdown",
      "metadata": {
        "id": "Eyahybw3XILD"
      },
      "source": [
        "## 1.2. Objectives and structure of practical session "
      ]
    },
    {
      "cell_type": "markdown",
      "metadata": {
        "id": "n9mkuW8RJ0IW"
      },
      "source": [
        "### 1.2.1. Objectives"
      ]
    },
    {
      "cell_type": "markdown",
      "metadata": {
        "id": "Hp0ZK6wtKtkS"
      },
      "source": [
        "1. Getting to know how to create, visualize, and analyse networks using NetworkX.\n",
        "2. Apply widely used topology and centrality metrics.\n",
        "3. Define networks across time for longitudinal analyses. "
      ]
    },
    {
      "cell_type": "markdown",
      "metadata": {
        "id": "0QTQ5k_bKqBs"
      },
      "source": [
        "### 1.2.2. Structure"
      ]
    },
    {
      "cell_type": "markdown",
      "metadata": {
        "id": "CuEUM5BbX8YR"
      },
      "source": [
        "**Part I : Data Exploration.**\n",
        "\n",
        "Explore, clean, transform, and visualize data for  further analyses.\n",
        "\n"
      ]
    },
    {
      "cell_type": "markdown",
      "metadata": {
        "id": "QDmuTnKxMfy6"
      },
      "source": [
        "**Part II : Analyses of network of artists.**\n",
        "\n",
        "Create, visualize, and analyze a binary Graph $G(V,E)$ such that $V$ correspond to a set of artists found in this dataset (i.e., vertices/nodes). Two artists $v_i$ and $v_j$ are connected by an edge $e_{ij}=(n_i, n_j) \\in E$ if a user listen to both of them in a given time $t \\in T$."
      ]
    },
    {
      "cell_type": "markdown",
      "metadata": {
        "id": "9P2VAVb_MhDL"
      },
      "source": [
        "**Part III : Analyses of evolving networks based on user's preferences.**\n",
        "\n",
        "Create, visualize, and analyze *weighted graphs* $G_t(V, E_t, W_t)$ for every month $t \\in T$ in our dataset. The set of nodes $V$ corresponds to a set of artists from the entire dataset. Two artists $v_{t, i}$ and $v_{t, j}$ are connected by an edge $e_{t,ij}=(n_{t,i}, n_{t,j}) \\in E$ if a user listen to both of them in a given month $t$. Such edges contains a weight $w_{t,ij} \\in W_t$ corresponds to the amount of users that connect both artists $v_{t,i}$ and $v_{t,j}$.\n",
        "\n",
        "Answer to the following questions:\n",
        "+ Is the network topology stable?\n",
        "+ For this group of users, which is the most central artist? Is this most central artist the same if we use other centrality measures?\n",
        "+ Are these centrality measures stable across time?"
      ]
    },
    {
      "cell_type": "markdown",
      "metadata": {
        "id": "2qHFdASgrZVm"
      },
      "source": [
        "---"
      ]
    },
    {
      "cell_type": "markdown",
      "metadata": {
        "id": "XLKrw9bRZ2Jy"
      },
      "source": [
        "## 1.3. Playground"
      ]
    },
    {
      "cell_type": "markdown",
      "metadata": {
        "id": "k_fsg37IXMTo"
      },
      "source": [
        "### 1.3.1. Part 1: Data Exploration"
      ]
    },
    {
      "cell_type": "markdown",
      "metadata": {
        "id": "dZidM0j-ZSsx"
      },
      "source": [
        "**Required packages**"
      ]
    },
    {
      "cell_type": "code",
      "execution_count": 6,
      "metadata": {
        "id": "8qQ_KVflKBxe"
      },
      "outputs": [],
      "source": [
        "import matplotlib.pyplot as plt\n",
        "import networkx as nx\n",
        "import pandas as pd\n",
        "import numpy as np"
      ]
    },
    {
      "cell_type": "markdown",
      "metadata": {
        "id": "ejjhZWaLZdC6"
      },
      "source": [
        "**Reading dataset and data exploration**"
      ]
    },
    {
      "cell_type": "code",
      "execution_count": 7,
      "metadata": {
        "id": "hGfJKGOUJ5cJ"
      },
      "outputs": [],
      "source": [
        "if is_colab:\n",
        "    ! wget https://raw.githubusercontent.com/bsotomayorg/UACh-MIN-Graph_NLP/main/dataset/DS_userid-playlist-record.tsv\n",
        "    df_timestamp = pd.read_csv(\"DS_userid-playlist-record.tsv\", sep='\\t')\n",
        "else:\n",
        "    df_timestamp = pd.read_csv(\"../data/DS_userid-playlist-record.tsv\", sep='\\t')"
      ]
    },
    {
      "cell_type": "code",
      "execution_count": 8,
      "metadata": {
        "id": "rBq1JkjlKENl"
      },
      "outputs": [
        {
          "data": {
            "text/html": [
              "<div>\n",
              "<style scoped>\n",
              "    .dataframe tbody tr th:only-of-type {\n",
              "        vertical-align: middle;\n",
              "    }\n",
              "\n",
              "    .dataframe tbody tr th {\n",
              "        vertical-align: top;\n",
              "    }\n",
              "\n",
              "    .dataframe thead th {\n",
              "        text-align: right;\n",
              "    }\n",
              "</style>\n",
              "<table border=\"1\" class=\"dataframe\">\n",
              "  <thead>\n",
              "    <tr style=\"text-align: right;\">\n",
              "      <th></th>\n",
              "      <th>userid</th>\n",
              "      <th>timestamp</th>\n",
              "      <th>musicbrainz-artist-id</th>\n",
              "      <th>artist-name</th>\n",
              "      <th>musicbrainz-track-id</th>\n",
              "      <th>track-name</th>\n",
              "    </tr>\n",
              "  </thead>\n",
              "  <tbody>\n",
              "    <tr>\n",
              "      <th>0</th>\n",
              "      <td>user_000001</td>\n",
              "      <td>2009-05-04T13:54:10Z</td>\n",
              "      <td>a7f7df4a-77d8-4f12-8acd-5c60c93f4de8</td>\n",
              "      <td>坂本龍一</td>\n",
              "      <td>NaN</td>\n",
              "      <td>Composition 0919 (Live_2009_4_15)</td>\n",
              "    </tr>\n",
              "    <tr>\n",
              "      <th>1</th>\n",
              "      <td>user_000001</td>\n",
              "      <td>2009-05-01T08:24:50Z</td>\n",
              "      <td>a3934f47-c4cc-4e73-8b37-ce41775797d4</td>\n",
              "      <td>Lisa Shaw</td>\n",
              "      <td>NaN</td>\n",
              "      <td>Inside My Love (Extended Mix)</td>\n",
              "    </tr>\n",
              "    <tr>\n",
              "      <th>2</th>\n",
              "      <td>user_000001</td>\n",
              "      <td>2009-04-29T13:00:55Z</td>\n",
              "      <td>495fe320-091e-43eb-9321-54a20e7c3f98</td>\n",
              "      <td>Sneaky Sound System</td>\n",
              "      <td>NaN</td>\n",
              "      <td>Pictures [Radio Edit]/Radio Edit</td>\n",
              "    </tr>\n",
              "    <tr>\n",
              "      <th>3</th>\n",
              "      <td>user_000001</td>\n",
              "      <td>2009-04-26T14:56:08Z</td>\n",
              "      <td>495fe320-091e-43eb-9321-54a20e7c3f98</td>\n",
              "      <td>Sneaky Sound System</td>\n",
              "      <td>a15efe90-1a35-4633-8888-ab4bf879527a</td>\n",
              "      <td>Kansas City</td>\n",
              "    </tr>\n",
              "    <tr>\n",
              "      <th>4</th>\n",
              "      <td>user_000001</td>\n",
              "      <td>2009-04-24T09:58:21Z</td>\n",
              "      <td>NaN</td>\n",
              "      <td>Designed People</td>\n",
              "      <td>NaN</td>\n",
              "      <td>Radio 808 Mars</td>\n",
              "    </tr>\n",
              "    <tr>\n",
              "      <th>...</th>\n",
              "      <td>...</td>\n",
              "      <td>...</td>\n",
              "      <td>...</td>\n",
              "      <td>...</td>\n",
              "      <td>...</td>\n",
              "      <td>...</td>\n",
              "    </tr>\n",
              "    <tr>\n",
              "      <th>191504</th>\n",
              "      <td>user_001000</td>\n",
              "      <td>2008-02-08T07:20:43Z</td>\n",
              "      <td>b7ddce8b-9e5c-46bd-9d33-41b134ce1a7f</td>\n",
              "      <td>Wolf Parade</td>\n",
              "      <td>27dba9c5-27de-4c07-a7bd-f279cacc34d5</td>\n",
              "      <td>I'Ll Believe In Anything</td>\n",
              "    </tr>\n",
              "    <tr>\n",
              "      <th>191505</th>\n",
              "      <td>user_001000</td>\n",
              "      <td>2008-02-07T02:44:35Z</td>\n",
              "      <td>f96627af-7aac-4e16-9245-c5661eb47199</td>\n",
              "      <td>Muchy</td>\n",
              "      <td>30bc57a9-5646-49dd-8870-4cdca33a21f3</td>\n",
              "      <td>Terroromans</td>\n",
              "    </tr>\n",
              "    <tr>\n",
              "      <th>191506</th>\n",
              "      <td>user_001000</td>\n",
              "      <td>2008-02-03T19:40:37Z</td>\n",
              "      <td>e549424e-8a71-4257-acf7-18e798127cae</td>\n",
              "      <td>Katrah-Quey</td>\n",
              "      <td>1d55d748-0867-4c7f-b9ec-39fbb527af86</td>\n",
              "      <td>Double Ingrown Nail June</td>\n",
              "    </tr>\n",
              "    <tr>\n",
              "      <th>191507</th>\n",
              "      <td>user_001000</td>\n",
              "      <td>2008-01-31T21:50:28Z</td>\n",
              "      <td>a74b1b7f-71a5-4011-9441-d0b5e4122711</td>\n",
              "      <td>Radiohead</td>\n",
              "      <td>8618e305-4289-4574-8acc-d5d8ec6b7411</td>\n",
              "      <td>House Of Cards</td>\n",
              "    </tr>\n",
              "    <tr>\n",
              "      <th>191508</th>\n",
              "      <td>user_001000</td>\n",
              "      <td>2008-01-28T05:35:44Z</td>\n",
              "      <td>4b2d6a23-034d-4a29-9bb9-d2462796da4e</td>\n",
              "      <td>Clap Your Hands Say Yeah</td>\n",
              "      <td>30c58760-937e-40dc-8a17-78be5d657b08</td>\n",
              "      <td>Details Of The War</td>\n",
              "    </tr>\n",
              "  </tbody>\n",
              "</table>\n",
              "<p>191509 rows × 6 columns</p>\n",
              "</div>"
            ],
            "text/plain": [
              "             userid             timestamp  \\\n",
              "0       user_000001  2009-05-04T13:54:10Z   \n",
              "1       user_000001  2009-05-01T08:24:50Z   \n",
              "2       user_000001  2009-04-29T13:00:55Z   \n",
              "3       user_000001  2009-04-26T14:56:08Z   \n",
              "4       user_000001  2009-04-24T09:58:21Z   \n",
              "...             ...                   ...   \n",
              "191504  user_001000  2008-02-08T07:20:43Z   \n",
              "191505  user_001000  2008-02-07T02:44:35Z   \n",
              "191506  user_001000  2008-02-03T19:40:37Z   \n",
              "191507  user_001000  2008-01-31T21:50:28Z   \n",
              "191508  user_001000  2008-01-28T05:35:44Z   \n",
              "\n",
              "                       musicbrainz-artist-id               artist-name  \\\n",
              "0       a7f7df4a-77d8-4f12-8acd-5c60c93f4de8                      坂本龍一   \n",
              "1       a3934f47-c4cc-4e73-8b37-ce41775797d4                 Lisa Shaw   \n",
              "2       495fe320-091e-43eb-9321-54a20e7c3f98       Sneaky Sound System   \n",
              "3       495fe320-091e-43eb-9321-54a20e7c3f98       Sneaky Sound System   \n",
              "4                                        NaN           Designed People   \n",
              "...                                      ...                       ...   \n",
              "191504  b7ddce8b-9e5c-46bd-9d33-41b134ce1a7f               Wolf Parade   \n",
              "191505  f96627af-7aac-4e16-9245-c5661eb47199                     Muchy   \n",
              "191506  e549424e-8a71-4257-acf7-18e798127cae               Katrah-Quey   \n",
              "191507  a74b1b7f-71a5-4011-9441-d0b5e4122711                 Radiohead   \n",
              "191508  4b2d6a23-034d-4a29-9bb9-d2462796da4e  Clap Your Hands Say Yeah   \n",
              "\n",
              "                        musicbrainz-track-id  \\\n",
              "0                                        NaN   \n",
              "1                                        NaN   \n",
              "2                                        NaN   \n",
              "3       a15efe90-1a35-4633-8888-ab4bf879527a   \n",
              "4                                        NaN   \n",
              "...                                      ...   \n",
              "191504  27dba9c5-27de-4c07-a7bd-f279cacc34d5   \n",
              "191505  30bc57a9-5646-49dd-8870-4cdca33a21f3   \n",
              "191506  1d55d748-0867-4c7f-b9ec-39fbb527af86   \n",
              "191507  8618e305-4289-4574-8acc-d5d8ec6b7411   \n",
              "191508  30c58760-937e-40dc-8a17-78be5d657b08   \n",
              "\n",
              "                               track-name  \n",
              "0       Composition 0919 (Live_2009_4_15)  \n",
              "1           Inside My Love (Extended Mix)  \n",
              "2        Pictures [Radio Edit]/Radio Edit  \n",
              "3                             Kansas City  \n",
              "4                          Radio 808 Mars  \n",
              "...                                   ...  \n",
              "191504           I'Ll Believe In Anything  \n",
              "191505                        Terroromans  \n",
              "191506           Double Ingrown Nail June  \n",
              "191507                     House Of Cards  \n",
              "191508                 Details Of The War  \n",
              "\n",
              "[191509 rows x 6 columns]"
            ]
          },
          "execution_count": 8,
          "metadata": {},
          "output_type": "execute_result"
        }
      ],
      "source": [
        "df_timestamp"
      ]
    },
    {
      "cell_type": "code",
      "execution_count": null,
      "metadata": {
        "id": "DAg6x8_Sp4oo"
      },
      "outputs": [],
      "source": [
        "# Delete the file if it exists\n",
        "\n",
        "if os.path.exists(\"DS_userid-playlist-record.tsv\"):\n",
        "    os.remove(\"DS_userid-playlist-record.tsv\")"
      ]
    },
    {
      "cell_type": "markdown",
      "metadata": {
        "id": "7AGiTRQwaJha"
      },
      "source": [
        "**Data cleaning**"
      ]
    },
    {
      "cell_type": "markdown",
      "metadata": {
        "id": "xgsj1BSPaLTD"
      },
      "source": [
        "Delete from the dataset such rows that contain `NaN`s."
      ]
    },
    {
      "cell_type": "code",
      "execution_count": null,
      "metadata": {
        "id": "zgN3iYrHp6Vr"
      },
      "outputs": [],
      "source": []
    },
    {
      "cell_type": "markdown",
      "metadata": {
        "id": "l76R4NeVaSNx"
      },
      "source": [
        "Show the amount of unique artist names in the dataset"
      ]
    },
    {
      "cell_type": "code",
      "execution_count": null,
      "metadata": {
        "id": "sSmkAAo2p7hq"
      },
      "outputs": [],
      "source": []
    },
    {
      "cell_type": "markdown",
      "metadata": {
        "id": "UWf7zvZGaW5x"
      },
      "source": [
        "Show the amount of unique users"
      ]
    },
    {
      "cell_type": "code",
      "execution_count": null,
      "metadata": {
        "id": "Y9LD9hfxp9jZ"
      },
      "outputs": [],
      "source": []
    },
    {
      "cell_type": "markdown",
      "metadata": {
        "id": "A3rkhLoLagCp"
      },
      "source": [
        "Show the amount of records (i.e., rows) per yearh and month (`YYYY-MM`) format. Use matlpotlib to create whether a histogram or scatter plot (i.e., x-axis contains the year-month and y-axis the count of records/rows."
      ]
    },
    {
      "cell_type": "code",
      "execution_count": null,
      "metadata": {
        "id": "WFR9_brgp-RI"
      },
      "outputs": [],
      "source": []
    },
    {
      "cell_type": "markdown",
      "metadata": {
        "id": "aerIVx-qa7nx"
      },
      "source": [
        "---"
      ]
    },
    {
      "cell_type": "markdown",
      "metadata": {
        "id": "xoYdqjttXOgZ"
      },
      "source": [
        "### 1.3.2. Part 2: Creation of one single network\n"
      ]
    },
    {
      "cell_type": "markdown",
      "metadata": {
        "id": "5xB1NrKPXRcI"
      },
      "source": [
        "+ Definition of network based of artists based on user's preferences. To this purpose, use the data for only one month. Then, model the solution using a binary graph.\n"
      ]
    },
    {
      "cell_type": "markdown",
      "metadata": {
        "id": "MZkxd_YnbhSU"
      },
      "source": [
        "#### 1.3.2.1. Timestamp selection"
      ]
    },
    {
      "cell_type": "markdown",
      "metadata": {
        "id": "yTf_nPjpMLen"
      },
      "source": [
        "Select only one month (e..g, Jan. 2007)"
      ]
    },
    {
      "cell_type": "code",
      "execution_count": null,
      "metadata": {
        "id": "tUjlgNa5qAix"
      },
      "outputs": [],
      "source": []
    },
    {
      "cell_type": "markdown",
      "metadata": {
        "id": "nK9Y1jiQbzPL"
      },
      "source": [
        "Get the amount of users and artists that are part of the records for the month you selected. This will be used to create the matrix of nodes/vertices and edges (i.e. $V \\times E$)."
      ]
    },
    {
      "cell_type": "code",
      "execution_count": null,
      "metadata": {
        "id": "AYGEX4nLqDMg"
      },
      "outputs": [],
      "source": []
    },
    {
      "cell_type": "markdown",
      "metadata": {
        "id": "5W0I5u_fOp9P"
      },
      "source": [
        "#### 1.3.2.2. Definition of matrix $ V \\times U$"
      ]
    },
    {
      "cell_type": "markdown",
      "metadata": {
        "id": "Zsc4j6ldcOIx"
      },
      "source": [
        "Create a matrix of vertices and edges (i.e. $V \\times U$) such that it stores the set of artists ($V$) that each user ($U$) listened to. \n",
        "\n",
        "Make sure this matrix contains only 0's and 1's as values."
      ]
    },
    {
      "cell_type": "code",
      "execution_count": 8,
      "metadata": {
        "id": "yXOgBybxdRiR"
      },
      "outputs": [
        {
          "ename": "SyntaxError",
          "evalue": "invalid syntax (3200625733.py, line 1)",
          "output_type": "error",
          "traceback": [
            "\u001b[0;36m  Cell \u001b[0;32mIn[8], line 1\u001b[0;36m\u001b[0m\n\u001b[0;31m    V = # number of artists\u001b[0m\n\u001b[0m        ^\u001b[0m\n\u001b[0;31mSyntaxError\u001b[0m\u001b[0;31m:\u001b[0m invalid syntax\n"
          ]
        }
      ],
      "source": [
        "V = # number of artists\n",
        "U = # number of users\n",
        "\n",
        "print(\"V = %i; U = %i\" % (V, U))"
      ]
    },
    {
      "cell_type": "markdown",
      "metadata": {
        "id": "NTN1EqCjdHYq"
      },
      "source": [
        "Populate matrix $V \\times U$ (i.e. `mat_VU`)"
      ]
    },
    {
      "cell_type": "code",
      "execution_count": null,
      "metadata": {
        "id": "UouF_JhCWibn"
      },
      "outputs": [],
      "source": []
    },
    {
      "cell_type": "markdown",
      "metadata": {
        "id": "lv0D0jHudsq6"
      },
      "source": [
        "Check your artists-users matrix by plotting it! \n",
        "\n",
        "You can use `plt.imshow(mat_VU, cmap='Greys_r')` if you want."
      ]
    },
    {
      "cell_type": "code",
      "execution_count": null,
      "metadata": {
        "id": "BJRb2rSuTZRv"
      },
      "outputs": [],
      "source": []
    },
    {
      "cell_type": "markdown",
      "metadata": {
        "id": "4mYqUKZHT1Lf"
      },
      "source": [
        "#### 1.3.2.3. Binary graph's adjacency matrix"
      ]
    },
    {
      "cell_type": "markdown",
      "metadata": {
        "id": "_-A3gnPIek8R"
      },
      "source": [
        "We can define a routine to convert our artist-users matrix into a binary adjacency matrix $A$.\n",
        "\n",
        "In order to do so, we might check whether two artists $v_i$ and $v_j$ were listened to by at least one user.\n",
        "\n",
        "Make sure that the adjacency matrix contains only 0's and 1's! Also, consider that our binary matrix represents an undirected graph. Thus, $A$ is symmetric (and you can reduce the computations to $\\frac{V \\cdot (V-1)}{2}$ operations (Still $\\mathcal{O}(V^2)$ tho)."
      ]
    },
    {
      "cell_type": "code",
      "execution_count": null,
      "metadata": {
        "id": "8LS-Zn5CZfOv"
      },
      "outputs": [],
      "source": []
    },
    {
      "cell_type": "code",
      "execution_count": 9,
      "metadata": {
        "id": "qWlT-gJOfNf6"
      },
      "outputs": [
        {
          "ename": "SyntaxError",
          "evalue": "invalid syntax (1054614534.py, line 1)",
          "output_type": "error",
          "traceback": [
            "\u001b[0;36m  Cell \u001b[0;32mIn[9], line 1\u001b[0;36m\u001b[0m\n\u001b[0;31m    A = # ...\u001b[0m\n\u001b[0m        ^\u001b[0m\n\u001b[0;31mSyntaxError\u001b[0m\u001b[0;31m:\u001b[0m invalid syntax\n"
          ]
        }
      ],
      "source": [
        "A = # ..."
      ]
    },
    {
      "cell_type": "code",
      "execution_count": 10,
      "metadata": {
        "id": "bmqwh7ZEeNX9"
      },
      "outputs": [],
      "source": [
        "# plot it!"
      ]
    },
    {
      "cell_type": "markdown",
      "metadata": {
        "id": "99rnK6hkaHXX"
      },
      "source": [
        "#### 1.3.2.4. Graph Visualization"
      ]
    },
    {
      "cell_type": "markdown",
      "metadata": {
        "id": "7FFpNGXLgCGy"
      },
      "source": [
        "Now, let's create a graph that contains the information have in our adjacency matrix $A$.\n",
        "\n",
        "Using Networkx, we can create a network using the adjacency matrix as input. For example, to create a graph as `G_bin`, we do:"
      ]
    },
    {
      "cell_type": "code",
      "execution_count": null,
      "metadata": {
        "id": "kEBfWuHcqHXI"
      },
      "outputs": [],
      "source": []
    },
    {
      "cell_type": "markdown",
      "metadata": {
        "id": "v1JatZeYgY48"
      },
      "source": [
        "We can use a circular layout as first visualization of our network:"
      ]
    },
    {
      "cell_type": "code",
      "execution_count": null,
      "metadata": {
        "id": "HadtzIpPaaAG"
      },
      "outputs": [],
      "source": []
    },
    {
      "cell_type": "markdown",
      "metadata": {
        "id": "V8uInoqqge1S"
      },
      "source": [
        "To many connections? let's try with the Spring layout:"
      ]
    },
    {
      "cell_type": "code",
      "execution_count": null,
      "metadata": {
        "id": "4ImNLJU7am8p"
      },
      "outputs": [],
      "source": [
        "\n"
      ]
    },
    {
      "cell_type": "markdown",
      "metadata": {
        "id": "Ka9LeWTfgmm7"
      },
      "source": [
        "What can we observe already? Is it a full graph? "
      ]
    },
    {
      "cell_type": "markdown",
      "metadata": {
        "id": "okrrP2hma0NZ"
      },
      "source": [
        "#### 1.3.2.5. Visualization of the largest (main) component"
      ]
    },
    {
      "cell_type": "markdown",
      "metadata": {
        "id": "FyesHenBg4a6"
      },
      "source": [
        "Some networks may be not fully-connected. In this sub-section we will focus our analyses only in the largest component of our graph.\n",
        "\n",
        "In order to do so, we need to detect every connected components as sub-graphs:"
      ]
    },
    {
      "cell_type": "code",
      "execution_count": 11,
      "metadata": {
        "id": "g6w7HvICaZ-P"
      },
      "outputs": [
        {
          "ename": "NameError",
          "evalue": "name 'G_bin' is not defined",
          "output_type": "error",
          "traceback": [
            "\u001b[0;31m---------------------------------------------------------------------------\u001b[0m",
            "\u001b[0;31mNameError\u001b[0m                                 Traceback (most recent call last)",
            "Cell \u001b[0;32mIn[11], line 1\u001b[0m\n\u001b[0;32m----> 1\u001b[0m S_bin \u001b[38;5;241m=\u001b[39m [G_bin\u001b[38;5;241m.\u001b[39msubgraph(c)\u001b[38;5;241m.\u001b[39mcopy() \u001b[38;5;28;01mfor\u001b[39;00m c \u001b[38;5;129;01min\u001b[39;00m nx\u001b[38;5;241m.\u001b[39mconnected_components(\u001b[43mG_bin\u001b[49m)]\n",
            "\u001b[0;31mNameError\u001b[0m: name 'G_bin' is not defined"
          ]
        }
      ],
      "source": [
        "S_bin = [G_bin.subgraph(c).copy() for c in nx.connected_components(G_bin)]"
      ]
    },
    {
      "cell_type": "code",
      "execution_count": null,
      "metadata": {
        "id": "kZFjRS5ybN35"
      },
      "outputs": [],
      "source": [
        "print(\"Number of nodes per component:\")\n",
        "np.array([ len(S_bin[i]) for i in range(len(S_bin))])"
      ]
    },
    {
      "cell_type": "markdown",
      "metadata": {
        "id": "ppLiyovNhMjS"
      },
      "source": [
        "Let's visualize the largest components using circular and spring layouts:"
      ]
    },
    {
      "cell_type": "code",
      "execution_count": null,
      "metadata": {
        "id": "zK168dkcIib8"
      },
      "outputs": [],
      "source": [
        "# computing layouts\n",
        "pos = nx.layout.circular_layout(S_bin[0])\n",
        "pos = nx.spring_layout(S_bin[0], pos=pos, k=0.35, iterations=100, seed=0)"
      ]
    },
    {
      "cell_type": "code",
      "execution_count": null,
      "metadata": {
        "id": "vtOEz-fdJ6Zh"
      },
      "outputs": [],
      "source": [
        "# plot it"
      ]
    },
    {
      "cell_type": "markdown",
      "metadata": {
        "id": "QoiD_LJKcCS_"
      },
      "source": [
        "**Note:** We are considering one month and the connection only needs one shared artist."
      ]
    },
    {
      "cell_type": "markdown",
      "metadata": {
        "id": "IyJVnsH8delo"
      },
      "source": [
        "#### 1.3.2.6. Topology analysis of the largest component"
      ]
    },
    {
      "cell_type": "markdown",
      "metadata": {
        "id": "CCA2JyPshjCL"
      },
      "source": [
        "How is the structure of our largest sub-graph? In this part, we need to compute some topology measures. Specifically, we will compute:\n",
        "+ the network size, \n",
        "+ number of links, \n",
        "+ average degree, \n",
        "+ density, \n",
        "+ average clustering coefficient, \n",
        "+ average number of triangles, and \n",
        "+ average path length."
      ]
    },
    {
      "cell_type": "code",
      "execution_count": 12,
      "metadata": {
        "id": "5Xio9a3FKtdL"
      },
      "outputs": [],
      "source": [
        "def get_topology_values(G):\n",
        "  # input:\n",
        "  # G: Networkx Graph\n",
        "  # out:\n",
        "  # dict (key: metric name, value: metric value)\n",
        "\n",
        "  d_topology_vals = {\n",
        "      \"network_size\" : G.number_of_nodes(),\n",
        "      \"number_of_links\" : G.number_of_edges(),\n",
        "      \"avg_degree\" : np.mean(list(dict(G.degree()).values())),\n",
        "      \"density\" : nx.density(G),\n",
        "      \"accumulated_degeree\" : np.sum(list(dict(G.degree()).values())),\n",
        "      \"avg_clustering_coef\" : nx.average_clustering(G),\n",
        "      \"avg_triangles\" : np.mean(list(nx.triangles(G).values())),\n",
        "      \"avg_path_length\" : nx.average_shortest_path_length(G),\n",
        "  }\n",
        "\n",
        "  return d_topology_vals"
      ]
    },
    {
      "cell_type": "code",
      "execution_count": null,
      "metadata": {
        "id": "iehX7D5WLHRd"
      },
      "outputs": [],
      "source": []
    },
    {
      "cell_type": "markdown",
      "metadata": {
        "id": "PKlCSKVsNF2M"
      },
      "source": [
        "#### 1.3.2.7. Centrality analysis of the largest connected component"
      ]
    },
    {
      "cell_type": "markdown",
      "metadata": {
        "id": "58nLs-odGJOT"
      },
      "source": [
        "In this case, let's analyse the centrality of each node from only the largest connected component. We will use four centrality measures:\n",
        "1. Degree centrality (`nx.degree_centrality()`)\n",
        "2. Betweenness centrality (`nx.betweenness_centrality()`)\n",
        "3. Closeness centrality (`nx.closeness_centrality()`)\n",
        "4. Eigen-vector centrality (`nx.eigenvector_centrality()`)"
      ]
    },
    {
      "cell_type": "markdown",
      "metadata": {
        "id": "GFRqhORkjGBQ"
      },
      "source": [
        "Use the attribute `node_color` of  `nx.draw_networkx_nodes` to color each node based on its centrality value!"
      ]
    },
    {
      "cell_type": "code",
      "execution_count": null,
      "metadata": {
        "id": "N_elBc3WF-d8"
      },
      "outputs": [],
      "source": []
    },
    {
      "cell_type": "markdown",
      "metadata": {
        "id": "Ydk_cHKpjcNS"
      },
      "source": [
        "#### 1.3.2.8. Comparison of centrality distributions"
      ]
    },
    {
      "cell_type": "code",
      "execution_count": null,
      "metadata": {
        "id": "Mq4KrU4HPvkM"
      },
      "outputs": [],
      "source": []
    },
    {
      "cell_type": "markdown",
      "metadata": {
        "id": "12E8jNDvRCZ-"
      },
      "source": [
        "#### 1.3.2.9. Questions\n",
        "\n",
        "1. Which are the set of artists that connect the largest amount of users?\n",
        "2. Which are the sets of artitsts that connect the top 10 artists more importants for connecting users? How to interpret each centrality measure in this case?"
      ]
    },
    {
      "cell_type": "code",
      "execution_count": null,
      "metadata": {
        "id": "_zqjWDc-SA3G"
      },
      "outputs": [],
      "source": []
    },
    {
      "cell_type": "markdown",
      "metadata": {
        "id": "PXFBEIx5SrPs"
      },
      "source": [
        "Depending in the centrality measure we are using we will get different results. Here, the \"importance\" of each artists have changed across metrics. Therefore, we need to consider the definition of each measure depending on what we want to measure from the network. Thus, this will change depending on the problem domain."
      ]
    },
    {
      "cell_type": "code",
      "execution_count": 13,
      "metadata": {
        "id": "kZdGdBCFT9uF"
      },
      "outputs": [],
      "source": [
        "from functools import reduce"
      ]
    },
    {
      "cell_type": "code",
      "execution_count": null,
      "metadata": {
        "id": "v-SpOLEnTmA9"
      },
      "outputs": [],
      "source": [
        "reduce(np.intersect1d, (top_artists_degree, top_artists_betweenness, top_artists_closeness, top_artists_eigenvector))"
      ]
    },
    {
      "cell_type": "markdown",
      "metadata": {
        "id": "yusC_-KLQAmN"
      },
      "source": [
        "**Note:** Remember, when you scale your data, you are changing the *range* of these values. When you normalize your data, you are changing the *shape of the distribution* of your data.\n"
      ]
    },
    {
      "cell_type": "markdown",
      "metadata": {
        "id": "EeCFQzwZiDka"
      },
      "source": [
        "Good! Now that we have some information about the structure of our network, let's study how this evolves across time (i.e. months)."
      ]
    },
    {
      "cell_type": "markdown",
      "metadata": {
        "id": "420gtJmOifKy"
      },
      "source": [
        "----"
      ]
    },
    {
      "cell_type": "markdown",
      "metadata": {
        "id": "-d-DHv4sXS_I"
      },
      "source": [
        "### 1.3.3. Part 3: Complex network analysis across months\n",
        "\t"
      ]
    },
    {
      "cell_type": "markdown",
      "metadata": {
        "id": "-6Er_LXrXVHh"
      },
      "source": [
        "In this section, we want to answer the following questions:\n",
        "+ Study network of artists interconnected by LastFM user's preferences per month. Is the network of artist constantly changing? What are the features (i.e., topology measures) of the each network? Do these result change if we use weighted graphs instead of binary ones?\n",
        "+ Which is the most central artist per month? Is it the same one? Is it the same if we use another centrality measure?\n",
        "+ Which are the most top 3 similar artists of most central one?"
      ]
    },
    {
      "cell_type": "markdown",
      "metadata": {
        "id": "_xRzU3YvI61C"
      },
      "source": [
        "Are these artists connected always in the same way? How their relation change across months? Using our LastFM dataset, we can check that by creating networks per month. We can look at the different topology measures and see whether they remain the same or fluctuate."
      ]
    },
    {
      "cell_type": "markdown",
      "metadata": {
        "id": "87uO6NQrp0Bc"
      },
      "source": [
        "#### 1.3.3.1. Timestamp selection and filtering"
      ]
    },
    {
      "cell_type": "code",
      "execution_count": null,
      "metadata": {
        "id": "N4Q9TvZNhZY2"
      },
      "outputs": [],
      "source": []
    },
    {
      "cell_type": "markdown",
      "metadata": {
        "id": "4QhBJcUgYLMH"
      },
      "source": [
        "For computational costs, let's consider only the first TOP-50 artists for our analyses (i.e., `max_V = 50`).\n"
      ]
    },
    {
      "cell_type": "code",
      "execution_count": null,
      "metadata": {
        "id": "s9gMRCfYYhNt"
      },
      "outputs": [],
      "source": []
    },
    {
      "cell_type": "markdown",
      "metadata": {
        "id": "b85wdejAkhRb"
      },
      "source": [
        "#### 1.3.3.2 Definition of matrix $V \\times U \\times T$"
      ]
    },
    {
      "cell_type": "code",
      "execution_count": null,
      "metadata": {
        "id": "2NXRbqNxfvfd"
      },
      "outputs": [],
      "source": []
    },
    {
      "cell_type": "markdown",
      "metadata": {
        "id": "OfWmJHYslWqi"
      },
      "source": [
        "#### 1.3.3.3. Weighted graph's adjacency matrix per month"
      ]
    },
    {
      "cell_type": "code",
      "execution_count": null,
      "metadata": {
        "id": "WMCP_6R2fHMK"
      },
      "outputs": [],
      "source": []
    },
    {
      "cell_type": "markdown",
      "metadata": {
        "id": "mXzFzFyYljRr"
      },
      "source": [
        "#### 1.3.3.4. Graph visualizations"
      ]
    },
    {
      "cell_type": "markdown",
      "metadata": {
        "id": "quZ5ix6nml46"
      },
      "source": [
        "Visualization pf graphs and adjacency matrices across time"
      ]
    },
    {
      "cell_type": "code",
      "execution_count": null,
      "metadata": {
        "id": "4NqE3QA7lOcm"
      },
      "outputs": [],
      "source": []
    },
    {
      "cell_type": "markdown",
      "metadata": {
        "id": "CDFfK8HylxOq"
      },
      "source": [
        "#### 1.3.3.5. Analysis across time: Changes in networks' topology "
      ]
    },
    {
      "cell_type": "code",
      "execution_count": null,
      "metadata": {
        "id": "BOPvsH2uM3vN"
      },
      "outputs": [],
      "source": []
    },
    {
      "cell_type": "markdown",
      "metadata": {
        "id": "X7USWP0bmGUj"
      },
      "source": [
        "#### 1.3.3.6. Visualization of changes of networks structure"
      ]
    },
    {
      "cell_type": "code",
      "execution_count": null,
      "metadata": {
        "id": "noIfkpJwc-q7"
      },
      "outputs": [],
      "source": []
    },
    {
      "cell_type": "markdown",
      "metadata": {
        "id": "Doq7Zq0XpzcP"
      },
      "source": [
        "#### 1.3.3.7. Centrality analysis across time"
      ]
    },
    {
      "cell_type": "code",
      "execution_count": null,
      "metadata": {
        "id": "f2sxS0JVqFsB"
      },
      "outputs": [],
      "source": []
    },
    {
      "cell_type": "markdown",
      "metadata": {
        "id": "w5J8b4J1jxIS"
      },
      "source": [
        "Top influencial bands for users from LastFM comunnity:"
      ]
    },
    {
      "cell_type": "code",
      "execution_count": null,
      "metadata": {
        "id": "TAI9kfSofT8m"
      },
      "outputs": [],
      "source": []
    },
    {
      "cell_type": "markdown",
      "metadata": {
        "id": "deytHz7Lm2iC"
      },
      "source": [
        "---"
      ]
    },
    {
      "cell_type": "markdown",
      "metadata": {
        "id": "zgdA1Fmn-72l"
      },
      "source": [
        "# References"
      ]
    },
    {
      "cell_type": "markdown",
      "metadata": {
        "id": "fPjeoxb89ey8"
      },
      "source": [
        "[1] Benson, A. R., Kumar, R., & Tomkins, A. (2018, February). A discrete choice model for subset selection. In Proceedings of the eleventh ACM international conference on web search and data mining (pp. 37-45).\n",
        "\n",
        "[2] Celma, O. (2010). Music recommendation and discovery: The long tail, long fail, and long play in the digital music space. Springer Science & Business Media.\n",
        "\n",
        "[3] Lamere, P. The LastFM ArtistTags2007 Data set, 2008. URL http://musicmachinery.com/2010/11/10/lastfm-artisttags2007.\n",
        "\n",
        "[4] Thierry Bertin-Mahieux, Daniel P.W. Ellis, Brian Whitman, and Paul Lamere.  The Million Song Dataset. In Proceedings of the 12th International Society\n",
        "for Music Information Retrieval Conference (ISMIR 2011), 2011. A [[tutorial](http://millionsongdataset.com/sites/default/files/tutorial1.py.txt)] is available as well.\n"
      ]
    },
    {
      "cell_type": "markdown",
      "metadata": {},
      "source": []
    }
  ],
  "metadata": {
    "colab": {
      "provenance": []
    },
    "kernelspec": {
      "display_name": "Python 3",
      "name": "python3"
    },
    "language_info": {
      "codemirror_mode": {
        "name": "ipython",
        "version": 3
      },
      "file_extension": ".py",
      "mimetype": "text/x-python",
      "name": "python",
      "nbconvert_exporter": "python",
      "pygments_lexer": "ipython3",
      "version": "3.11.6"
    }
  },
  "nbformat": 4,
  "nbformat_minor": 0
}
