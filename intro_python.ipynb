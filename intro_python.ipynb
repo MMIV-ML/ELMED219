{
 "cells": [
  {
   "cell_type": "markdown",
   "metadata": {},
   "source": [
    "# A very, very brief introduction to Python"
   ]
  },
  {
   "cell_type": "markdown",
   "metadata": {},
   "source": [
    "## Content\n",
    "\n",
    "* Datatypes and variables\n",
    "* Logical operators and expressions\n",
    "* Collections of elements - iterables\n",
    "* For and while loops\n",
    "* If, else and elif sentences\n",
    "* Functions\n",
    "\n",
    "\n",
    "All exercises on the form $X.Y$ can be found in the digital book [*Automate the boring stuff*](https://automatetheboringstuff.com/#toc), where $X$ is the chapter and $Y$ the exercise number."
   ]
  },
  {
   "cell_type": "markdown",
   "metadata": {},
   "source": [
    "### Datatypes and variables"
   ]
  },
  {
   "cell_type": "code",
   "execution_count": 10,
   "metadata": {},
   "outputs": [
    {
     "data": {
      "text/plain": [
       "True"
      ]
     },
     "execution_count": 10,
     "metadata": {},
     "output_type": "execute_result"
    }
   ],
   "source": [
    "\n",
    "a = \"Hello\"\n",
    "b = 4.0\n",
    "c = int(b)\n",
    "type(c)\n",
    "d = str(b)\n",
    "False == 0"
   ]
  },
  {
   "cell_type": "markdown",
   "metadata": {},
   "source": [
    "Exercises: $1.3, 1.6, 1.7, 1.9$ and $1.10$."
   ]
  },
  {
   "cell_type": "code",
   "execution_count": 21,
   "metadata": {},
   "outputs": [
    {
     "data": {
      "text/plain": [
       "'I have eaten 99 burritos'"
      ]
     },
     "execution_count": 21,
     "metadata": {},
     "output_type": "execute_result"
    }
   ],
   "source": [
    "'I have eaten' + ' 99 ' + 'burritos'"
   ]
  },
  {
   "cell_type": "markdown",
   "metadata": {},
   "source": [
    "### Logical operators and expressions"
   ]
  },
  {
   "cell_type": "markdown",
   "metadata": {},
   "source": [
    "Exercises: $2.1-2.6$"
   ]
  },
  {
   "cell_type": "code",
   "execution_count": 1,
   "metadata": {},
   "outputs": [
    {
     "ename": "NameError",
     "evalue": "name 'a' is not defined",
     "output_type": "error",
     "traceback": [
      "\u001b[0;31m---------------------------------------------------------------------------\u001b[0m",
      "\u001b[0;31mNameError\u001b[0m                                 Traceback (most recent call last)",
      "Cell \u001b[0;32mIn[1], line 1\u001b[0m\n\u001b[0;32m----> 1\u001b[0m \u001b[43ma\u001b[49m \u001b[38;5;241m==\u001b[39m \u001b[38;5;241m5\u001b[39m\n\u001b[1;32m      2\u001b[0m \u001b[38;5;28mprint\u001b[39m(a \u001b[38;5;241m=\u001b[39m \u001b[38;5;241m5\u001b[39m)\n",
      "\u001b[0;31mNameError\u001b[0m: name 'a' is not defined"
     ]
    }
   ],
   "source": [
    "a == 5\n",
    "print(a = 5)"
   ]
  },
  {
   "cell_type": "markdown",
   "metadata": {},
   "source": [
    "### Collections of elements - iterables"
   ]
  },
  {
   "cell_type": "code",
   "execution_count": 14,
   "metadata": {},
   "outputs": [
    {
     "name": "stdout",
     "output_type": "stream",
     "text": [
      "[1, 5, 'abc', 3, 4]\n"
     ]
    },
    {
     "data": {
      "text/plain": [
       "[5, 'abc', 3]"
      ]
     },
     "execution_count": 14,
     "metadata": {},
     "output_type": "execute_result"
    }
   ],
   "source": [
    "a = 5\n",
    "b = {1, a, 'abc'}\n",
    "c = tuple(b)\n",
    "d = list(c)\n",
    "#print(b,c,d)\n",
    "d.append(3)\n",
    "d.append(4)\n",
    "print(d)\n",
    "d[1:4]"
   ]
  },
  {
   "cell_type": "code",
   "execution_count": 17,
   "metadata": {},
   "outputs": [
    {
     "data": {
      "text/plain": [
       "'15'"
      ]
     },
     "execution_count": 17,
     "metadata": {},
     "output_type": "execute_result"
    }
   ],
   "source": [
    "dict_courses = {\n",
    "    'ELMED219':18,\n",
    "    5:'15',\n",
    "    'MEDOD2':200\n",
    "}\n",
    "\n",
    "dict_courses[5]"
   ]
  },
  {
   "cell_type": "code",
   "execution_count": 22,
   "metadata": {},
   "outputs": [
    {
     "data": {
      "text/plain": [
       "[5, 7, 9]"
      ]
     },
     "execution_count": 22,
     "metadata": {},
     "output_type": "execute_result"
    }
   ],
   "source": [
    "list(range(5,11,2))"
   ]
  },
  {
   "cell_type": "markdown",
   "metadata": {},
   "source": [
    "Exercises:\n",
    "\n",
    "1. Discuss with your neighbour the differences between the four iterables *sets, tuples, lists* and *dictionaries*, and provide an example usecase for each."
   ]
  },
  {
   "cell_type": "markdown",
   "metadata": {},
   "source": [
    "### For and while loops"
   ]
  },
  {
   "cell_type": "code",
   "execution_count": 23,
   "metadata": {},
   "outputs": [
    {
     "name": "stdout",
     "output_type": "stream",
     "text": [
      "0\n",
      "2\n",
      "4\n",
      "6\n",
      "8\n",
      "10\n",
      "12\n",
      "14\n",
      "16\n",
      "18\n"
     ]
    }
   ],
   "source": [
    "a = list(range(10))\n",
    "for i in a:\n",
    "    print(i*2)"
   ]
  },
  {
   "cell_type": "code",
   "execution_count": 30,
   "metadata": {},
   "outputs": [
    {
     "name": "stdout",
     "output_type": "stream",
     "text": [
      "0\n",
      "2\n",
      "4\n",
      "6\n",
      "8\n",
      "10\n",
      "12\n",
      "14\n",
      "16\n",
      "18\n"
     ]
    }
   ],
   "source": [
    "counter = 0\n",
    "while counter*2 < 20:\n",
    "    print(counter * 2)\n",
    "    counter += 1"
   ]
  },
  {
   "cell_type": "code",
   "execution_count": 24,
   "metadata": {},
   "outputs": [
    {
     "data": {
      "text/plain": [
       "[0, 2, 4, 6, 8, 10, 12, 14, 16, 18]"
      ]
     },
     "execution_count": 24,
     "metadata": {},
     "output_type": "execute_result"
    }
   ],
   "source": [
    "b = []\n",
    "for i in a:\n",
    "    temp = i * 2\n",
    "    b.append(temp)\n",
    "b"
   ]
  },
  {
   "cell_type": "code",
   "execution_count": 26,
   "metadata": {},
   "outputs": [
    {
     "data": {
      "text/plain": [
       "[0, 2, 4, 6, 8, 10, 12, 14, 16, 18]"
      ]
     },
     "execution_count": 26,
     "metadata": {},
     "output_type": "execute_result"
    }
   ],
   "source": [
    "c = [i*2 for i in a]\n",
    "c"
   ]
  },
  {
   "cell_type": "markdown",
   "metadata": {},
   "source": [
    "Exercises:\n",
    "\n",
    "1. Discuss with your neighbour the differences between a `for` and a `while` loop.\n",
    "\n",
    "3. Write a program that runs indefinitely.\n",
    "\n",
    "2. (From [*Automate the boring stuff*](https://automatetheboringstuff.com/#toc)) Write a short program that prints the numbers $1$ to $10$ using a `for` loop. Then write an equivalent program that prints the numbers $1$ to $10$ using a `while loop`."
   ]
  },
  {
   "cell_type": "markdown",
   "metadata": {},
   "source": [
    "### If, else and elif sentences"
   ]
  },
  {
   "cell_type": "code",
   "execution_count": 34,
   "metadata": {},
   "outputs": [
    {
     "name": "stdout",
     "output_type": "stream",
     "text": [
      "0 is dividible by 2 and 5\n",
      "1 is not dividible by neither 2 nor 5\n",
      "2 is dividible by 2\n",
      "3 is not dividible by neither 2 nor 5\n",
      "4 is dividible by 2\n",
      "5 is dividible by 5\n",
      "6 is dividible by 2\n",
      "7 is not dividible by neither 2 nor 5\n",
      "8 is dividible by 2\n",
      "9 is not dividible by neither 2 nor 5\n",
      "10 is dividible by 2 and 5\n",
      "11 is not dividible by neither 2 nor 5\n",
      "12 is dividible by 2\n",
      "13 is not dividible by neither 2 nor 5\n",
      "14 is dividible by 2\n",
      "15 is dividible by 5\n",
      "16 is dividible by 2\n",
      "17 is not dividible by neither 2 nor 5\n",
      "18 is dividible by 2\n",
      "19 is not dividible by neither 2 nor 5\n",
      "20 is dividible by 2 and 5\n",
      "21 is not dividible by neither 2 nor 5\n",
      "22 is dividible by 2\n",
      "23 is not dividible by neither 2 nor 5\n",
      "24 is dividible by 2\n",
      "25 is dividible by 5\n",
      "26 is dividible by 2\n",
      "27 is not dividible by neither 2 nor 5\n",
      "28 is dividible by 2\n",
      "29 is not dividible by neither 2 nor 5\n",
      "30 is dividible by 2 and 5\n",
      "31 is not dividible by neither 2 nor 5\n",
      "32 is dividible by 2\n",
      "33 is not dividible by neither 2 nor 5\n",
      "34 is dividible by 2\n",
      "35 is dividible by 5\n",
      "36 is dividible by 2\n",
      "37 is not dividible by neither 2 nor 5\n",
      "38 is dividible by 2\n",
      "39 is not dividible by neither 2 nor 5\n",
      "40 is dividible by 2 and 5\n",
      "41 is not dividible by neither 2 nor 5\n",
      "42 is dividible by 2\n",
      "43 is not dividible by neither 2 nor 5\n",
      "44 is dividible by 2\n",
      "45 is dividible by 5\n",
      "46 is dividible by 2\n",
      "47 is not dividible by neither 2 nor 5\n",
      "48 is dividible by 2\n",
      "49 is not dividible by neither 2 nor 5\n",
      "50 is dividible by 2 and 5\n",
      "51 is not dividible by neither 2 nor 5\n",
      "52 is dividible by 2\n",
      "53 is not dividible by neither 2 nor 5\n",
      "54 is dividible by 2\n",
      "55 is dividible by 5\n",
      "56 is dividible by 2\n",
      "57 is not dividible by neither 2 nor 5\n",
      "58 is dividible by 2\n",
      "59 is not dividible by neither 2 nor 5\n",
      "60 is dividible by 2 and 5\n",
      "61 is not dividible by neither 2 nor 5\n",
      "62 is dividible by 2\n",
      "63 is not dividible by neither 2 nor 5\n",
      "64 is dividible by 2\n",
      "65 is dividible by 5\n",
      "66 is dividible by 2\n",
      "67 is not dividible by neither 2 nor 5\n",
      "68 is dividible by 2\n",
      "69 is not dividible by neither 2 nor 5\n",
      "70 is dividible by 2 and 5\n",
      "71 is not dividible by neither 2 nor 5\n",
      "72 is dividible by 2\n",
      "73 is not dividible by neither 2 nor 5\n",
      "74 is dividible by 2\n",
      "75 is dividible by 5\n",
      "76 is dividible by 2\n",
      "77 is not dividible by neither 2 nor 5\n",
      "78 is dividible by 2\n",
      "79 is not dividible by neither 2 nor 5\n",
      "80 is dividible by 2 and 5\n",
      "81 is not dividible by neither 2 nor 5\n",
      "82 is dividible by 2\n",
      "83 is not dividible by neither 2 nor 5\n",
      "84 is dividible by 2\n",
      "85 is dividible by 5\n",
      "86 is dividible by 2\n",
      "87 is not dividible by neither 2 nor 5\n",
      "88 is dividible by 2\n",
      "89 is not dividible by neither 2 nor 5\n",
      "90 is dividible by 2 and 5\n",
      "91 is not dividible by neither 2 nor 5\n",
      "92 is dividible by 2\n",
      "93 is not dividible by neither 2 nor 5\n",
      "94 is dividible by 2\n",
      "95 is dividible by 5\n",
      "96 is dividible by 2\n",
      "97 is not dividible by neither 2 nor 5\n",
      "98 is dividible by 2\n",
      "99 is not dividible by neither 2 nor 5\n"
     ]
    }
   ],
   "source": [
    "for i in range(100):\n",
    "    if i % 2 == 0 and i % 5 == 0:\n",
    "        print(i, \"is dividible by 2 and 5\")\n",
    "    elif i % 2 == 0:\n",
    "        print(i, \"is dividible by 2\")\n",
    "    elif i % 5 == 0:\n",
    "        print(i, \"is dividible by 5\")\n",
    "    else:\n",
    "        print(i,\"is not dividible by neither 2 nor 5\")"
   ]
  },
  {
   "cell_type": "markdown",
   "metadata": {},
   "source": [
    "Exercises:\n",
    "\n",
    "1. (From [*Automate the boring stuff*](https://automatetheboringstuff.com/#toc)) Explaing the code in exercise $2.8$ with your neighbour.\n",
    "\n",
    "2. (From [*Automate the boring stuff*](https://automatetheboringstuff.com/#toc)) $2.9$.\n",
    "\n",
    "3. Write a program that takes an integer $n$ from the user and prints the first $n$ integers if $n$ is an even number. If not, print an error message of your choice."
   ]
  },
  {
   "cell_type": "markdown",
   "metadata": {},
   "source": [
    "### Functions"
   ]
  },
  {
   "cell_type": "code",
   "execution_count": 35,
   "metadata": {},
   "outputs": [
    {
     "name": "stdout",
     "output_type": "stream",
     "text": [
      "0 is dividible by 2 and 5\n",
      "1 is not dividible by neither 2 nor 5\n",
      "2 is dividible by 2\n",
      "3 is not dividible by neither 2 nor 5\n",
      "4 is dividible by 2\n",
      "5 is dividible by 5\n",
      "6 is dividible by 2\n",
      "7 is not dividible by neither 2 nor 5\n",
      "8 is dividible by 2\n",
      "9 is not dividible by neither 2 nor 5\n",
      "10 is dividible by 2 and 5\n",
      "11 is not dividible by neither 2 nor 5\n",
      "12 is dividible by 2\n",
      "13 is not dividible by neither 2 nor 5\n",
      "14 is dividible by 2\n",
      "15 is dividible by 5\n",
      "16 is dividible by 2\n",
      "17 is not dividible by neither 2 nor 5\n",
      "18 is dividible by 2\n",
      "19 is not dividible by neither 2 nor 5\n",
      "20 is dividible by 2 and 5\n",
      "21 is not dividible by neither 2 nor 5\n",
      "22 is dividible by 2\n",
      "23 is not dividible by neither 2 nor 5\n",
      "24 is dividible by 2\n",
      "25 is dividible by 5\n",
      "26 is dividible by 2\n",
      "27 is not dividible by neither 2 nor 5\n",
      "28 is dividible by 2\n",
      "29 is not dividible by neither 2 nor 5\n",
      "30 is dividible by 2 and 5\n",
      "31 is not dividible by neither 2 nor 5\n",
      "32 is dividible by 2\n",
      "33 is not dividible by neither 2 nor 5\n",
      "34 is dividible by 2\n",
      "35 is dividible by 5\n",
      "36 is dividible by 2\n",
      "37 is not dividible by neither 2 nor 5\n",
      "38 is dividible by 2\n",
      "39 is not dividible by neither 2 nor 5\n",
      "40 is dividible by 2 and 5\n",
      "41 is not dividible by neither 2 nor 5\n",
      "42 is dividible by 2\n",
      "43 is not dividible by neither 2 nor 5\n",
      "44 is dividible by 2\n",
      "45 is dividible by 5\n",
      "46 is dividible by 2\n",
      "47 is not dividible by neither 2 nor 5\n",
      "48 is dividible by 2\n",
      "49 is not dividible by neither 2 nor 5\n"
     ]
    }
   ],
   "source": [
    "def dividible(n):\n",
    "    \"\"\" Takes an integer n, evaluates whether the first n integers are individually dividible by either 2 or 5.\n",
    "     Prints the result for each number \"\"\"\n",
    "    \n",
    "    for i in range(n):\n",
    "        if i % 2 == 0 and i % 5 == 0:\n",
    "            print(i, \"is dividible by 2 and 5\")\n",
    "        elif i % 2 == 0:\n",
    "            print(i, \"is dividible by 2\")\n",
    "        elif i % 5 == 0:\n",
    "            print(i, \"is dividible by 5\")\n",
    "        else:\n",
    "            print(i,\"is not dividible by neither 2 nor 5\")\n",
    "\n",
    "dividible(50)"
   ]
  },
  {
   "cell_type": "code",
   "execution_count": 36,
   "metadata": {},
   "outputs": [
    {
     "data": {
      "text/plain": [
       "8"
      ]
     },
     "execution_count": 36,
     "metadata": {},
     "output_type": "execute_result"
    }
   ],
   "source": [
    "def sum(a, b):\n",
    "    return a + b\n",
    "\n",
    "sum(3,5)"
   ]
  },
  {
   "cell_type": "markdown",
   "metadata": {},
   "source": [
    "Exercises:\n",
    "\n",
    "1. Exercise 11 from INF100 exam 2022."
   ]
  },
  {
   "cell_type": "code",
   "execution_count": 40,
   "metadata": {},
   "outputs": [
    {
     "data": {
      "text/plain": [
       "3"
      ]
     },
     "execution_count": 40,
     "metadata": {},
     "output_type": "execute_result"
    }
   ],
   "source": [
    "def count_a(s):\n",
    "    count = 0\n",
    "    for c in s:\n",
    "        if c == \"a\":\n",
    "            count = count + 1 # equal to count += 1\n",
    "    return count\n",
    "\n",
    "count_a('abcdefgaa')"
   ]
  },
  {
   "cell_type": "code",
   "execution_count": null,
   "metadata": {},
   "outputs": [],
   "source": []
  }
 ],
 "metadata": {
  "kernelspec": {
   "display_name": "elmed219-img",
   "language": "python",
   "name": "python3"
  },
  "language_info": {
   "codemirror_mode": {
    "name": "ipython",
    "version": 3
   },
   "file_extension": ".py",
   "mimetype": "text/x-python",
   "name": "python",
   "nbconvert_exporter": "python",
   "pygments_lexer": "ipython3",
   "version": "3.9.0"
  }
 },
 "nbformat": 4,
 "nbformat_minor": 2
}
